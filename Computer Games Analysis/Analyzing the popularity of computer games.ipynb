{
 "cells": [
  {
   "cell_type": "markdown",
   "metadata": {},
   "source": [
    "# **Анализ популярности компьютерных игр**"
   ]
  },
  {
   "cell_type": "markdown",
   "metadata": {},
   "source": [
    "**Описание проекта**"
   ]
  },
  {
   "cell_type": "markdown",
   "metadata": {},
   "source": [
    "Задача проекта - используя исторические данные о продажах компьютерных игр, оценки пользователей и экспертов, жанры и платформы, выявить закономерности, определяющие успешность игры."
   ]
  },
  {
   "cell_type": "markdown",
   "metadata": {},
   "source": [
    "В проекте выявлены параметры, определяющие успешность игры в разных регионах мира. На\n",
    "основании этого подготовлен отчет для магазина компьютерных игр для планирования\n",
    "рекламных кампаний. Проведена предобработка данных, анализ. Выбран актуальный\n",
    "период для анализа. Составлены портреты пользователей каждого региона. Проверены\n",
    "гипотезы: средние пользовательские рейтинги платформ Xbox One и PC одинаковые;\n",
    "средние пользовательские рейтинги жанров Action и Sports разные. При анализе был использован критерий Стьюдента для независимых выборок."
   ]
  },
  {
   "cell_type": "markdown",
   "metadata": {},
   "source": [
    "**Описание данных**"
   ]
  },
  {
   "cell_type": "markdown",
   "metadata": {},
   "source": [
    "- Name — название игры\n",
    "- Platform — платформа\n",
    "- Year_of_Release — год выпуска\n",
    "- Genre — жанр игры\n",
    "- NA_sales — продажи в Северной Америке (миллионы проданных копий)\n",
    "- EU_sales — продажи в Европе (миллионы проданных копий)\n",
    "- JP_sales — продажи в Японии (миллионы проданных копий)\n",
    "- Other_sales — продажи в других странах (миллионы проданных копий)\n",
    "- Critic_Score — оценка критиков (максимум 100)\n",
    "- User_Score — оценка пользователей (максимум 10)\n",
    "- Rating — рейтинг от организации ESRB (англ. Entertainment Software Rating Board). Эта ассоциация определяет рейтинг компьютерных игр и присваивает им подходящую возрастную категорию."
   ]
  },
  {
   "cell_type": "markdown",
   "metadata": {},
   "source": [
    "## Общая информация о данных"
   ]
  },
  {
   "cell_type": "code",
   "execution_count": 1,
   "metadata": {},
   "outputs": [],
   "source": [
    "import pandas as pd\n",
    "import seaborn as sns\n",
    "import numpy as np\n",
    "import matplotlib.pyplot as plt\n",
    "from scipy import stats as st\n",
    "pd.options.mode.chained_assignment = None  # default='warn'"
   ]
  },
  {
   "cell_type": "code",
   "execution_count": 2,
   "metadata": {},
   "outputs": [],
   "source": [
    "games = pd.read_csv('/Users/mariiapolnikova/Desktop/data analysis/games (1).csv')"
   ]
  },
  {
   "cell_type": "code",
   "execution_count": 3,
   "metadata": {},
   "outputs": [
    {
     "data": {
      "text/html": [
       "<div>\n",
       "<style scoped>\n",
       "    .dataframe tbody tr th:only-of-type {\n",
       "        vertical-align: middle;\n",
       "    }\n",
       "\n",
       "    .dataframe tbody tr th {\n",
       "        vertical-align: top;\n",
       "    }\n",
       "\n",
       "    .dataframe thead th {\n",
       "        text-align: right;\n",
       "    }\n",
       "</style>\n",
       "<table border=\"1\" class=\"dataframe\">\n",
       "  <thead>\n",
       "    <tr style=\"text-align: right;\">\n",
       "      <th></th>\n",
       "      <th>Name</th>\n",
       "      <th>Platform</th>\n",
       "      <th>Year_of_Release</th>\n",
       "      <th>Genre</th>\n",
       "      <th>NA_sales</th>\n",
       "      <th>EU_sales</th>\n",
       "      <th>JP_sales</th>\n",
       "      <th>Other_sales</th>\n",
       "      <th>Critic_Score</th>\n",
       "      <th>User_Score</th>\n",
       "      <th>Rating</th>\n",
       "    </tr>\n",
       "  </thead>\n",
       "  <tbody>\n",
       "    <tr>\n",
       "      <th>0</th>\n",
       "      <td>Wii Sports</td>\n",
       "      <td>Wii</td>\n",
       "      <td>2006.0</td>\n",
       "      <td>Sports</td>\n",
       "      <td>41.36</td>\n",
       "      <td>28.96</td>\n",
       "      <td>3.77</td>\n",
       "      <td>8.45</td>\n",
       "      <td>76.0</td>\n",
       "      <td>8</td>\n",
       "      <td>E</td>\n",
       "    </tr>\n",
       "    <tr>\n",
       "      <th>1</th>\n",
       "      <td>Super Mario Bros.</td>\n",
       "      <td>NES</td>\n",
       "      <td>1985.0</td>\n",
       "      <td>Platform</td>\n",
       "      <td>29.08</td>\n",
       "      <td>3.58</td>\n",
       "      <td>6.81</td>\n",
       "      <td>0.77</td>\n",
       "      <td>NaN</td>\n",
       "      <td>NaN</td>\n",
       "      <td>NaN</td>\n",
       "    </tr>\n",
       "    <tr>\n",
       "      <th>2</th>\n",
       "      <td>Mario Kart Wii</td>\n",
       "      <td>Wii</td>\n",
       "      <td>2008.0</td>\n",
       "      <td>Racing</td>\n",
       "      <td>15.68</td>\n",
       "      <td>12.76</td>\n",
       "      <td>3.79</td>\n",
       "      <td>3.29</td>\n",
       "      <td>82.0</td>\n",
       "      <td>8.3</td>\n",
       "      <td>E</td>\n",
       "    </tr>\n",
       "    <tr>\n",
       "      <th>3</th>\n",
       "      <td>Wii Sports Resort</td>\n",
       "      <td>Wii</td>\n",
       "      <td>2009.0</td>\n",
       "      <td>Sports</td>\n",
       "      <td>15.61</td>\n",
       "      <td>10.93</td>\n",
       "      <td>3.28</td>\n",
       "      <td>2.95</td>\n",
       "      <td>80.0</td>\n",
       "      <td>8</td>\n",
       "      <td>E</td>\n",
       "    </tr>\n",
       "    <tr>\n",
       "      <th>4</th>\n",
       "      <td>Pokemon Red/Pokemon Blue</td>\n",
       "      <td>GB</td>\n",
       "      <td>1996.0</td>\n",
       "      <td>Role-Playing</td>\n",
       "      <td>11.27</td>\n",
       "      <td>8.89</td>\n",
       "      <td>10.22</td>\n",
       "      <td>1.00</td>\n",
       "      <td>NaN</td>\n",
       "      <td>NaN</td>\n",
       "      <td>NaN</td>\n",
       "    </tr>\n",
       "  </tbody>\n",
       "</table>\n",
       "</div>"
      ],
      "text/plain": [
       "                       Name Platform  Year_of_Release         Genre  NA_sales  \\\n",
       "0                Wii Sports      Wii           2006.0        Sports     41.36   \n",
       "1         Super Mario Bros.      NES           1985.0      Platform     29.08   \n",
       "2            Mario Kart Wii      Wii           2008.0        Racing     15.68   \n",
       "3         Wii Sports Resort      Wii           2009.0        Sports     15.61   \n",
       "4  Pokemon Red/Pokemon Blue       GB           1996.0  Role-Playing     11.27   \n",
       "\n",
       "   EU_sales  JP_sales  Other_sales  Critic_Score User_Score Rating  \n",
       "0     28.96      3.77         8.45          76.0          8      E  \n",
       "1      3.58      6.81         0.77           NaN        NaN    NaN  \n",
       "2     12.76      3.79         3.29          82.0        8.3      E  \n",
       "3     10.93      3.28         2.95          80.0          8      E  \n",
       "4      8.89     10.22         1.00           NaN        NaN    NaN  "
      ]
     },
     "execution_count": 3,
     "metadata": {},
     "output_type": "execute_result"
    }
   ],
   "source": [
    "games.head()"
   ]
  },
  {
   "cell_type": "code",
   "execution_count": 4,
   "metadata": {},
   "outputs": [
    {
     "data": {
      "text/html": [
       "<div>\n",
       "<style scoped>\n",
       "    .dataframe tbody tr th:only-of-type {\n",
       "        vertical-align: middle;\n",
       "    }\n",
       "\n",
       "    .dataframe tbody tr th {\n",
       "        vertical-align: top;\n",
       "    }\n",
       "\n",
       "    .dataframe thead th {\n",
       "        text-align: right;\n",
       "    }\n",
       "</style>\n",
       "<table border=\"1\" class=\"dataframe\">\n",
       "  <thead>\n",
       "    <tr style=\"text-align: right;\">\n",
       "      <th></th>\n",
       "      <th>Name</th>\n",
       "      <th>Platform</th>\n",
       "      <th>Year_of_Release</th>\n",
       "      <th>Genre</th>\n",
       "      <th>NA_sales</th>\n",
       "      <th>EU_sales</th>\n",
       "      <th>JP_sales</th>\n",
       "      <th>Other_sales</th>\n",
       "      <th>Critic_Score</th>\n",
       "      <th>User_Score</th>\n",
       "      <th>Rating</th>\n",
       "    </tr>\n",
       "  </thead>\n",
       "  <tbody>\n",
       "    <tr>\n",
       "      <th>count</th>\n",
       "      <td>16713</td>\n",
       "      <td>16715</td>\n",
       "      <td>16446.000000</td>\n",
       "      <td>16713</td>\n",
       "      <td>16715.000000</td>\n",
       "      <td>16715.000000</td>\n",
       "      <td>16715.000000</td>\n",
       "      <td>16715.000000</td>\n",
       "      <td>8137.000000</td>\n",
       "      <td>10014</td>\n",
       "      <td>9949</td>\n",
       "    </tr>\n",
       "    <tr>\n",
       "      <th>unique</th>\n",
       "      <td>11559</td>\n",
       "      <td>31</td>\n",
       "      <td>NaN</td>\n",
       "      <td>12</td>\n",
       "      <td>NaN</td>\n",
       "      <td>NaN</td>\n",
       "      <td>NaN</td>\n",
       "      <td>NaN</td>\n",
       "      <td>NaN</td>\n",
       "      <td>96</td>\n",
       "      <td>8</td>\n",
       "    </tr>\n",
       "    <tr>\n",
       "      <th>top</th>\n",
       "      <td>Need for Speed: Most Wanted</td>\n",
       "      <td>PS2</td>\n",
       "      <td>NaN</td>\n",
       "      <td>Action</td>\n",
       "      <td>NaN</td>\n",
       "      <td>NaN</td>\n",
       "      <td>NaN</td>\n",
       "      <td>NaN</td>\n",
       "      <td>NaN</td>\n",
       "      <td>tbd</td>\n",
       "      <td>E</td>\n",
       "    </tr>\n",
       "    <tr>\n",
       "      <th>freq</th>\n",
       "      <td>12</td>\n",
       "      <td>2161</td>\n",
       "      <td>NaN</td>\n",
       "      <td>3369</td>\n",
       "      <td>NaN</td>\n",
       "      <td>NaN</td>\n",
       "      <td>NaN</td>\n",
       "      <td>NaN</td>\n",
       "      <td>NaN</td>\n",
       "      <td>2424</td>\n",
       "      <td>3990</td>\n",
       "    </tr>\n",
       "    <tr>\n",
       "      <th>mean</th>\n",
       "      <td>NaN</td>\n",
       "      <td>NaN</td>\n",
       "      <td>2006.484616</td>\n",
       "      <td>NaN</td>\n",
       "      <td>0.263377</td>\n",
       "      <td>0.145060</td>\n",
       "      <td>0.077617</td>\n",
       "      <td>0.047342</td>\n",
       "      <td>68.967679</td>\n",
       "      <td>NaN</td>\n",
       "      <td>NaN</td>\n",
       "    </tr>\n",
       "    <tr>\n",
       "      <th>std</th>\n",
       "      <td>NaN</td>\n",
       "      <td>NaN</td>\n",
       "      <td>5.877050</td>\n",
       "      <td>NaN</td>\n",
       "      <td>0.813604</td>\n",
       "      <td>0.503339</td>\n",
       "      <td>0.308853</td>\n",
       "      <td>0.186731</td>\n",
       "      <td>13.938165</td>\n",
       "      <td>NaN</td>\n",
       "      <td>NaN</td>\n",
       "    </tr>\n",
       "    <tr>\n",
       "      <th>min</th>\n",
       "      <td>NaN</td>\n",
       "      <td>NaN</td>\n",
       "      <td>1980.000000</td>\n",
       "      <td>NaN</td>\n",
       "      <td>0.000000</td>\n",
       "      <td>0.000000</td>\n",
       "      <td>0.000000</td>\n",
       "      <td>0.000000</td>\n",
       "      <td>13.000000</td>\n",
       "      <td>NaN</td>\n",
       "      <td>NaN</td>\n",
       "    </tr>\n",
       "    <tr>\n",
       "      <th>25%</th>\n",
       "      <td>NaN</td>\n",
       "      <td>NaN</td>\n",
       "      <td>2003.000000</td>\n",
       "      <td>NaN</td>\n",
       "      <td>0.000000</td>\n",
       "      <td>0.000000</td>\n",
       "      <td>0.000000</td>\n",
       "      <td>0.000000</td>\n",
       "      <td>60.000000</td>\n",
       "      <td>NaN</td>\n",
       "      <td>NaN</td>\n",
       "    </tr>\n",
       "    <tr>\n",
       "      <th>50%</th>\n",
       "      <td>NaN</td>\n",
       "      <td>NaN</td>\n",
       "      <td>2007.000000</td>\n",
       "      <td>NaN</td>\n",
       "      <td>0.080000</td>\n",
       "      <td>0.020000</td>\n",
       "      <td>0.000000</td>\n",
       "      <td>0.010000</td>\n",
       "      <td>71.000000</td>\n",
       "      <td>NaN</td>\n",
       "      <td>NaN</td>\n",
       "    </tr>\n",
       "    <tr>\n",
       "      <th>75%</th>\n",
       "      <td>NaN</td>\n",
       "      <td>NaN</td>\n",
       "      <td>2010.000000</td>\n",
       "      <td>NaN</td>\n",
       "      <td>0.240000</td>\n",
       "      <td>0.110000</td>\n",
       "      <td>0.040000</td>\n",
       "      <td>0.030000</td>\n",
       "      <td>79.000000</td>\n",
       "      <td>NaN</td>\n",
       "      <td>NaN</td>\n",
       "    </tr>\n",
       "    <tr>\n",
       "      <th>max</th>\n",
       "      <td>NaN</td>\n",
       "      <td>NaN</td>\n",
       "      <td>2016.000000</td>\n",
       "      <td>NaN</td>\n",
       "      <td>41.360000</td>\n",
       "      <td>28.960000</td>\n",
       "      <td>10.220000</td>\n",
       "      <td>10.570000</td>\n",
       "      <td>98.000000</td>\n",
       "      <td>NaN</td>\n",
       "      <td>NaN</td>\n",
       "    </tr>\n",
       "  </tbody>\n",
       "</table>\n",
       "</div>"
      ],
      "text/plain": [
       "                               Name Platform  Year_of_Release   Genre  \\\n",
       "count                         16713    16715     16446.000000   16713   \n",
       "unique                        11559       31              NaN      12   \n",
       "top     Need for Speed: Most Wanted      PS2              NaN  Action   \n",
       "freq                             12     2161              NaN    3369   \n",
       "mean                            NaN      NaN      2006.484616     NaN   \n",
       "std                             NaN      NaN         5.877050     NaN   \n",
       "min                             NaN      NaN      1980.000000     NaN   \n",
       "25%                             NaN      NaN      2003.000000     NaN   \n",
       "50%                             NaN      NaN      2007.000000     NaN   \n",
       "75%                             NaN      NaN      2010.000000     NaN   \n",
       "max                             NaN      NaN      2016.000000     NaN   \n",
       "\n",
       "            NA_sales      EU_sales      JP_sales   Other_sales  Critic_Score  \\\n",
       "count   16715.000000  16715.000000  16715.000000  16715.000000   8137.000000   \n",
       "unique           NaN           NaN           NaN           NaN           NaN   \n",
       "top              NaN           NaN           NaN           NaN           NaN   \n",
       "freq             NaN           NaN           NaN           NaN           NaN   \n",
       "mean        0.263377      0.145060      0.077617      0.047342     68.967679   \n",
       "std         0.813604      0.503339      0.308853      0.186731     13.938165   \n",
       "min         0.000000      0.000000      0.000000      0.000000     13.000000   \n",
       "25%         0.000000      0.000000      0.000000      0.000000     60.000000   \n",
       "50%         0.080000      0.020000      0.000000      0.010000     71.000000   \n",
       "75%         0.240000      0.110000      0.040000      0.030000     79.000000   \n",
       "max        41.360000     28.960000     10.220000     10.570000     98.000000   \n",
       "\n",
       "       User_Score Rating  \n",
       "count       10014   9949  \n",
       "unique         96      8  \n",
       "top           tbd      E  \n",
       "freq         2424   3990  \n",
       "mean          NaN    NaN  \n",
       "std           NaN    NaN  \n",
       "min           NaN    NaN  \n",
       "25%           NaN    NaN  \n",
       "50%           NaN    NaN  \n",
       "75%           NaN    NaN  \n",
       "max           NaN    NaN  "
      ]
     },
     "execution_count": 4,
     "metadata": {},
     "output_type": "execute_result"
    }
   ],
   "source": [
    "games.describe(include='all')"
   ]
  },
  {
   "cell_type": "code",
   "execution_count": 5,
   "metadata": {},
   "outputs": [
    {
     "name": "stdout",
     "output_type": "stream",
     "text": [
      "<class 'pandas.core.frame.DataFrame'>\n",
      "RangeIndex: 16715 entries, 0 to 16714\n",
      "Data columns (total 11 columns):\n",
      " #   Column           Non-Null Count  Dtype  \n",
      "---  ------           --------------  -----  \n",
      " 0   Name             16713 non-null  object \n",
      " 1   Platform         16715 non-null  object \n",
      " 2   Year_of_Release  16446 non-null  float64\n",
      " 3   Genre            16713 non-null  object \n",
      " 4   NA_sales         16715 non-null  float64\n",
      " 5   EU_sales         16715 non-null  float64\n",
      " 6   JP_sales         16715 non-null  float64\n",
      " 7   Other_sales      16715 non-null  float64\n",
      " 8   Critic_Score     8137 non-null   float64\n",
      " 9   User_Score       10014 non-null  object \n",
      " 10  Rating           9949 non-null   object \n",
      "dtypes: float64(6), object(5)\n",
      "memory usage: 1.4+ MB\n"
     ]
    }
   ],
   "source": [
    "games.info()"
   ]
  },
  {
   "cell_type": "markdown",
   "metadata": {},
   "source": [
    "## Предобработка данных"
   ]
  },
  {
   "cell_type": "markdown",
   "metadata": {},
   "source": [
    "Приведем названия столбцов к нижнему регистру."
   ]
  },
  {
   "cell_type": "code",
   "execution_count": 6,
   "metadata": {},
   "outputs": [],
   "source": [
    "games = games.rename(columns = {'Name': 'name', 'Platform': 'platform',\\\n",
    "                                'Year_of_Release': 'year_of_release', 'Genre': 'genre',\\\n",
    "                               'Other_sales': 'other_sales', 'Critic_Score': 'critic_score',\\\n",
    "                                'User_Score': 'user_score', 'Rating': 'rating'})"
   ]
  },
  {
   "cell_type": "markdown",
   "metadata": {},
   "source": [
    "Преобразуем данные в нужные типы."
   ]
  },
  {
   "cell_type": "markdown",
   "metadata": {},
   "source": [
    "Первым делом необходимо преобразовать год выпуска игры в тип int. Сделать это не получится до тех пор, пока в столбце есть пропуски. Пропусков не так много, поэтому можем удалить данные строки из датасета."
   ]
  },
  {
   "cell_type": "code",
   "execution_count": 7,
   "metadata": {},
   "outputs": [],
   "source": [
    "games = games.dropna(subset=['year_of_release'])\n",
    "games['year_of_release'] = games['year_of_release'].astype('int')"
   ]
  },
  {
   "cell_type": "markdown",
   "metadata": {},
   "source": [
    "Можем также заменить оценку критиков на тип int, но надо убрать пропуски. Скорее всего там, где пропущено значение оценки экспертов, ее просто напросто нет. Заменять данные в этом столбце на среднее/медиану не целесообразно. Поэтому оставим данные того же типа"
   ]
  },
  {
   "cell_type": "code",
   "execution_count": 8,
   "metadata": {},
   "outputs": [
    {
     "data": {
      "text/html": [
       "<div>\n",
       "<style scoped>\n",
       "    .dataframe tbody tr th:only-of-type {\n",
       "        vertical-align: middle;\n",
       "    }\n",
       "\n",
       "    .dataframe tbody tr th {\n",
       "        vertical-align: top;\n",
       "    }\n",
       "\n",
       "    .dataframe thead th {\n",
       "        text-align: right;\n",
       "    }\n",
       "</style>\n",
       "<table border=\"1\" class=\"dataframe\">\n",
       "  <thead>\n",
       "    <tr style=\"text-align: right;\">\n",
       "      <th></th>\n",
       "      <th>name</th>\n",
       "      <th>platform</th>\n",
       "      <th>year_of_release</th>\n",
       "      <th>genre</th>\n",
       "      <th>NA_sales</th>\n",
       "      <th>EU_sales</th>\n",
       "      <th>JP_sales</th>\n",
       "      <th>other_sales</th>\n",
       "      <th>critic_score</th>\n",
       "      <th>user_score</th>\n",
       "      <th>rating</th>\n",
       "    </tr>\n",
       "  </thead>\n",
       "  <tbody>\n",
       "    <tr>\n",
       "      <th>119</th>\n",
       "      <td>Zumba Fitness</td>\n",
       "      <td>Wii</td>\n",
       "      <td>2010</td>\n",
       "      <td>Sports</td>\n",
       "      <td>3.45</td>\n",
       "      <td>2.59</td>\n",
       "      <td>0.0</td>\n",
       "      <td>0.66</td>\n",
       "      <td>NaN</td>\n",
       "      <td>tbd</td>\n",
       "      <td>E</td>\n",
       "    </tr>\n",
       "    <tr>\n",
       "      <th>301</th>\n",
       "      <td>Namco Museum: 50th Anniversary</td>\n",
       "      <td>PS2</td>\n",
       "      <td>2005</td>\n",
       "      <td>Misc</td>\n",
       "      <td>2.08</td>\n",
       "      <td>1.35</td>\n",
       "      <td>0.0</td>\n",
       "      <td>0.54</td>\n",
       "      <td>61.0</td>\n",
       "      <td>tbd</td>\n",
       "      <td>E10+</td>\n",
       "    </tr>\n",
       "    <tr>\n",
       "      <th>520</th>\n",
       "      <td>Zumba Fitness 2</td>\n",
       "      <td>Wii</td>\n",
       "      <td>2011</td>\n",
       "      <td>Sports</td>\n",
       "      <td>1.51</td>\n",
       "      <td>1.03</td>\n",
       "      <td>0.0</td>\n",
       "      <td>0.27</td>\n",
       "      <td>NaN</td>\n",
       "      <td>tbd</td>\n",
       "      <td>T</td>\n",
       "    </tr>\n",
       "    <tr>\n",
       "      <th>645</th>\n",
       "      <td>uDraw Studio</td>\n",
       "      <td>Wii</td>\n",
       "      <td>2010</td>\n",
       "      <td>Misc</td>\n",
       "      <td>1.65</td>\n",
       "      <td>0.57</td>\n",
       "      <td>0.0</td>\n",
       "      <td>0.20</td>\n",
       "      <td>71.0</td>\n",
       "      <td>tbd</td>\n",
       "      <td>E</td>\n",
       "    </tr>\n",
       "    <tr>\n",
       "      <th>718</th>\n",
       "      <td>Just Dance Kids</td>\n",
       "      <td>Wii</td>\n",
       "      <td>2010</td>\n",
       "      <td>Misc</td>\n",
       "      <td>1.52</td>\n",
       "      <td>0.54</td>\n",
       "      <td>0.0</td>\n",
       "      <td>0.18</td>\n",
       "      <td>NaN</td>\n",
       "      <td>tbd</td>\n",
       "      <td>E</td>\n",
       "    </tr>\n",
       "    <tr>\n",
       "      <th>...</th>\n",
       "      <td>...</td>\n",
       "      <td>...</td>\n",
       "      <td>...</td>\n",
       "      <td>...</td>\n",
       "      <td>...</td>\n",
       "      <td>...</td>\n",
       "      <td>...</td>\n",
       "      <td>...</td>\n",
       "      <td>...</td>\n",
       "      <td>...</td>\n",
       "      <td>...</td>\n",
       "    </tr>\n",
       "    <tr>\n",
       "      <th>16695</th>\n",
       "      <td>Planet Monsters</td>\n",
       "      <td>GBA</td>\n",
       "      <td>2001</td>\n",
       "      <td>Action</td>\n",
       "      <td>0.01</td>\n",
       "      <td>0.00</td>\n",
       "      <td>0.0</td>\n",
       "      <td>0.00</td>\n",
       "      <td>67.0</td>\n",
       "      <td>tbd</td>\n",
       "      <td>E</td>\n",
       "    </tr>\n",
       "    <tr>\n",
       "      <th>16697</th>\n",
       "      <td>Bust-A-Move 3000</td>\n",
       "      <td>GC</td>\n",
       "      <td>2003</td>\n",
       "      <td>Puzzle</td>\n",
       "      <td>0.01</td>\n",
       "      <td>0.00</td>\n",
       "      <td>0.0</td>\n",
       "      <td>0.00</td>\n",
       "      <td>53.0</td>\n",
       "      <td>tbd</td>\n",
       "      <td>E</td>\n",
       "    </tr>\n",
       "    <tr>\n",
       "      <th>16698</th>\n",
       "      <td>Mega Brain Boost</td>\n",
       "      <td>DS</td>\n",
       "      <td>2008</td>\n",
       "      <td>Puzzle</td>\n",
       "      <td>0.01</td>\n",
       "      <td>0.00</td>\n",
       "      <td>0.0</td>\n",
       "      <td>0.00</td>\n",
       "      <td>48.0</td>\n",
       "      <td>tbd</td>\n",
       "      <td>E</td>\n",
       "    </tr>\n",
       "    <tr>\n",
       "      <th>16704</th>\n",
       "      <td>Plushees</td>\n",
       "      <td>DS</td>\n",
       "      <td>2008</td>\n",
       "      <td>Simulation</td>\n",
       "      <td>0.01</td>\n",
       "      <td>0.00</td>\n",
       "      <td>0.0</td>\n",
       "      <td>0.00</td>\n",
       "      <td>NaN</td>\n",
       "      <td>tbd</td>\n",
       "      <td>E</td>\n",
       "    </tr>\n",
       "    <tr>\n",
       "      <th>16706</th>\n",
       "      <td>Men in Black II: Alien Escape</td>\n",
       "      <td>GC</td>\n",
       "      <td>2003</td>\n",
       "      <td>Shooter</td>\n",
       "      <td>0.01</td>\n",
       "      <td>0.00</td>\n",
       "      <td>0.0</td>\n",
       "      <td>0.00</td>\n",
       "      <td>NaN</td>\n",
       "      <td>tbd</td>\n",
       "      <td>T</td>\n",
       "    </tr>\n",
       "  </tbody>\n",
       "</table>\n",
       "<p>2376 rows × 11 columns</p>\n",
       "</div>"
      ],
      "text/plain": [
       "                                 name platform  year_of_release       genre  \\\n",
       "119                     Zumba Fitness      Wii             2010      Sports   \n",
       "301    Namco Museum: 50th Anniversary      PS2             2005        Misc   \n",
       "520                   Zumba Fitness 2      Wii             2011      Sports   \n",
       "645                      uDraw Studio      Wii             2010        Misc   \n",
       "718                   Just Dance Kids      Wii             2010        Misc   \n",
       "...                               ...      ...              ...         ...   \n",
       "16695                 Planet Monsters      GBA             2001      Action   \n",
       "16697                Bust-A-Move 3000       GC             2003      Puzzle   \n",
       "16698                Mega Brain Boost       DS             2008      Puzzle   \n",
       "16704                        Plushees       DS             2008  Simulation   \n",
       "16706   Men in Black II: Alien Escape       GC             2003     Shooter   \n",
       "\n",
       "       NA_sales  EU_sales  JP_sales  other_sales  critic_score user_score  \\\n",
       "119        3.45      2.59       0.0         0.66           NaN        tbd   \n",
       "301        2.08      1.35       0.0         0.54          61.0        tbd   \n",
       "520        1.51      1.03       0.0         0.27           NaN        tbd   \n",
       "645        1.65      0.57       0.0         0.20          71.0        tbd   \n",
       "718        1.52      0.54       0.0         0.18           NaN        tbd   \n",
       "...         ...       ...       ...          ...           ...        ...   \n",
       "16695      0.01      0.00       0.0         0.00          67.0        tbd   \n",
       "16697      0.01      0.00       0.0         0.00          53.0        tbd   \n",
       "16698      0.01      0.00       0.0         0.00          48.0        tbd   \n",
       "16704      0.01      0.00       0.0         0.00           NaN        tbd   \n",
       "16706      0.01      0.00       0.0         0.00           NaN        tbd   \n",
       "\n",
       "      rating  \n",
       "119        E  \n",
       "301     E10+  \n",
       "520        T  \n",
       "645        E  \n",
       "718        E  \n",
       "...      ...  \n",
       "16695      E  \n",
       "16697      E  \n",
       "16698      E  \n",
       "16704      E  \n",
       "16706      T  \n",
       "\n",
       "[2376 rows x 11 columns]"
      ]
     },
     "execution_count": 8,
     "metadata": {},
     "output_type": "execute_result"
    }
   ],
   "source": [
    "games[games['user_score']=='tbd']"
   ]
  },
  {
   "cell_type": "markdown",
   "metadata": {},
   "source": [
    "Вероятно, игры, у которых нет пользовательского рейтинга, еще совсем новые. Заменим tbd на nan "
   ]
  },
  {
   "cell_type": "code",
   "execution_count": 9,
   "metadata": {},
   "outputs": [],
   "source": [
    "games.loc[games['user_score'] == 'tbd', 'user_score'] = float('nan')"
   ]
  },
  {
   "cell_type": "code",
   "execution_count": 10,
   "metadata": {},
   "outputs": [],
   "source": [
    "games['user_score'] = games['user_score'].astype('float') # заменим тип данных на float для того,\n",
    "#чтобы можно было проанализировать оценки пользователей"
   ]
  },
  {
   "cell_type": "markdown",
   "metadata": {},
   "source": [
    "Поработаем с оставшимися пропусками"
   ]
  },
  {
   "cell_type": "code",
   "execution_count": 11,
   "metadata": {},
   "outputs": [
    {
     "name": "stdout",
     "output_type": "stream",
     "text": [
      "<class 'pandas.core.frame.DataFrame'>\n",
      "Int64Index: 16446 entries, 0 to 16714\n",
      "Data columns (total 11 columns):\n",
      " #   Column           Non-Null Count  Dtype  \n",
      "---  ------           --------------  -----  \n",
      " 0   name             16444 non-null  object \n",
      " 1   platform         16446 non-null  object \n",
      " 2   year_of_release  16446 non-null  int64  \n",
      " 3   genre            16444 non-null  object \n",
      " 4   NA_sales         16446 non-null  float64\n",
      " 5   EU_sales         16446 non-null  float64\n",
      " 6   JP_sales         16446 non-null  float64\n",
      " 7   other_sales      16446 non-null  float64\n",
      " 8   critic_score     7983 non-null   float64\n",
      " 9   user_score       7463 non-null   float64\n",
      " 10  rating           9768 non-null   object \n",
      "dtypes: float64(6), int64(1), object(4)\n",
      "memory usage: 1.5+ MB\n"
     ]
    }
   ],
   "source": [
    "games.info()"
   ]
  },
  {
   "cell_type": "code",
   "execution_count": 12,
   "metadata": {},
   "outputs": [
    {
     "data": {
      "text/html": [
       "<div>\n",
       "<style scoped>\n",
       "    .dataframe tbody tr th:only-of-type {\n",
       "        vertical-align: middle;\n",
       "    }\n",
       "\n",
       "    .dataframe tbody tr th {\n",
       "        vertical-align: top;\n",
       "    }\n",
       "\n",
       "    .dataframe thead th {\n",
       "        text-align: right;\n",
       "    }\n",
       "</style>\n",
       "<table border=\"1\" class=\"dataframe\">\n",
       "  <thead>\n",
       "    <tr style=\"text-align: right;\">\n",
       "      <th></th>\n",
       "      <th>name</th>\n",
       "      <th>platform</th>\n",
       "      <th>year_of_release</th>\n",
       "      <th>genre</th>\n",
       "      <th>NA_sales</th>\n",
       "      <th>EU_sales</th>\n",
       "      <th>JP_sales</th>\n",
       "      <th>other_sales</th>\n",
       "      <th>critic_score</th>\n",
       "      <th>user_score</th>\n",
       "      <th>rating</th>\n",
       "    </tr>\n",
       "  </thead>\n",
       "  <tbody>\n",
       "    <tr>\n",
       "      <th>659</th>\n",
       "      <td>NaN</td>\n",
       "      <td>GEN</td>\n",
       "      <td>1993</td>\n",
       "      <td>NaN</td>\n",
       "      <td>1.78</td>\n",
       "      <td>0.53</td>\n",
       "      <td>0.00</td>\n",
       "      <td>0.08</td>\n",
       "      <td>NaN</td>\n",
       "      <td>NaN</td>\n",
       "      <td>NaN</td>\n",
       "    </tr>\n",
       "    <tr>\n",
       "      <th>14244</th>\n",
       "      <td>NaN</td>\n",
       "      <td>GEN</td>\n",
       "      <td>1993</td>\n",
       "      <td>NaN</td>\n",
       "      <td>0.00</td>\n",
       "      <td>0.00</td>\n",
       "      <td>0.03</td>\n",
       "      <td>0.00</td>\n",
       "      <td>NaN</td>\n",
       "      <td>NaN</td>\n",
       "      <td>NaN</td>\n",
       "    </tr>\n",
       "  </tbody>\n",
       "</table>\n",
       "</div>"
      ],
      "text/plain": [
       "      name platform  year_of_release genre  NA_sales  EU_sales  JP_sales  \\\n",
       "659    NaN      GEN             1993   NaN      1.78      0.53      0.00   \n",
       "14244  NaN      GEN             1993   NaN      0.00      0.00      0.03   \n",
       "\n",
       "       other_sales  critic_score  user_score rating  \n",
       "659           0.08           NaN         NaN    NaN  \n",
       "14244         0.00           NaN         NaN    NaN  "
      ]
     },
     "execution_count": 12,
     "metadata": {},
     "output_type": "execute_result"
    }
   ],
   "source": [
    "games[games['name'].isna()] "
   ]
  },
  {
   "cell_type": "markdown",
   "metadata": {},
   "source": [
    "Эти строки вообще не имеют данных, можно их спокойно удалять."
   ]
  },
  {
   "cell_type": "code",
   "execution_count": 13,
   "metadata": {},
   "outputs": [],
   "source": [
    "games = games.dropna(subset=['name'])"
   ]
  },
  {
   "cell_type": "markdown",
   "metadata": {},
   "source": [
    "Осталось убрать пропуски в Рейтинге. Так как переменная категориальная, можем просто заменить их на \"не определен\"."
   ]
  },
  {
   "cell_type": "code",
   "execution_count": 14,
   "metadata": {},
   "outputs": [],
   "source": [
    "games['rating'] = games['rating'].fillna('unknown')"
   ]
  },
  {
   "cell_type": "markdown",
   "metadata": {},
   "source": [
    "Посчитаем суммарные продажи во всех регионах и запишем их в отдельный столбец."
   ]
  },
  {
   "cell_type": "code",
   "execution_count": 15,
   "metadata": {},
   "outputs": [],
   "source": [
    "games['total_sales'] = games[['NA_sales','EU_sales','JP_sales', 'other_sales']].sum(axis = 1)"
   ]
  },
  {
   "cell_type": "code",
   "execution_count": 16,
   "metadata": {},
   "outputs": [
    {
     "data": {
      "text/plain": [
       "0"
      ]
     },
     "execution_count": 16,
     "metadata": {},
     "output_type": "execute_result"
    }
   ],
   "source": [
    "games.duplicated().sum() # явных дубликатов нет"
   ]
  },
  {
   "cell_type": "markdown",
   "metadata": {},
   "source": [
    "Поищем неявные дубликаты. "
   ]
  },
  {
   "cell_type": "code",
   "execution_count": 17,
   "metadata": {},
   "outputs": [
    {
     "data": {
      "text/plain": [
       "unknown    6676\n",
       "E          3921\n",
       "T          2905\n",
       "M          1536\n",
       "E10+       1393\n",
       "EC            8\n",
       "K-A           3\n",
       "RP            1\n",
       "AO            1\n",
       "Name: rating, dtype: int64"
      ]
     },
     "execution_count": 17,
     "metadata": {},
     "output_type": "execute_result"
    }
   ],
   "source": [
    "games['rating'].value_counts()"
   ]
  },
  {
   "cell_type": "markdown",
   "metadata": {},
   "source": [
    "Значения К-А и AO, можно заменить на Е, так как это старое название категории Everyone. EC значит, что игры для детей. RP значит, что рейтинг не присвоен, можем заменить на unknown"
   ]
  },
  {
   "cell_type": "code",
   "execution_count": 18,
   "metadata": {},
   "outputs": [],
   "source": [
    "games['rating'] = games['rating'].replace('K-A', 'E')\n",
    "games['rating'] = games['rating'].replace('AO', 'E')\n",
    "games['rating'] = games['rating'].replace('RP', 'unknown')"
   ]
  },
  {
   "cell_type": "markdown",
   "metadata": {},
   "source": [
    "Почти все пропущенные значения в датасете приходятся на столбцы с пользовательской оценкой, оценкой критиков и рейтингом ESRB. Пропуске существует из-за того, что какие-то игры еще не успели поучить оценку, либо слишком старые и оценки просто нет.\\\n",
    "Что касается рейтинга, ESRB является рейтингом Канады и США, поэтому таких оценок в Японии, напримаер, гораздо меньше."
   ]
  },
  {
   "cell_type": "markdown",
   "metadata": {},
   "source": [
    "В результате предобработки данных были исключены строки без данных, а также удалены неявные дубликаты в столбце с рейтингом. Также данные были преобразованы в верные типы и имена столбцов приведены к удобным для исследования."
   ]
  },
  {
   "cell_type": "markdown",
   "metadata": {},
   "source": [
    "## Исследовательский анализ данных"
   ]
  },
  {
   "cell_type": "markdown",
   "metadata": {},
   "source": [
    "Посмотрим, сколько игр выпускалось в разные годы. "
   ]
  },
  {
   "cell_type": "code",
   "execution_count": 19,
   "metadata": {
    "scrolled": true
   },
   "outputs": [
    {
     "data": {
      "image/png": "[encoded data removed]",
      "text/plain": [
       "<Figure size 432x288 with 1 Axes>"
      ]
     },
     "metadata": {
      "needs_background": "light"
     },
     "output_type": "display_data"
    }
   ],
   "source": [
    "games.groupby('year_of_release')['name'].count().plot(kind='bar', title='Количество игр в каждый исследуемый год')\n",
    "plt.ioff()"
   ]
  },
  {
   "cell_type": "markdown",
   "metadata": {},
   "source": [
    "Данных об играх до 1995 года очень мало для анализа."
   ]
  },
  {
   "cell_type": "markdown",
   "metadata": {},
   "source": [
    "Посмотрим, как менялись продажи по платформам. Выберем платформы с наибольшими суммарными продажами и построим распределение по годам. "
   ]
  },
  {
   "cell_type": "code",
   "execution_count": 20,
   "metadata": {},
   "outputs": [],
   "source": [
    "platform_top10 = games.groupby('platform')['total_sales'].sum().sort_values(ascending=False).head(10).index"
   ]
  },
  {
   "cell_type": "code",
   "execution_count": 21,
   "metadata": {},
   "outputs": [
    {
     "data": {
      "image/png": "[encoded data removed]",
      "text/plain": [
       "<Figure size 432x288 with 1 Axes>"
      ]
     },
     "metadata": {
      "needs_background": "light"
     },
     "output_type": "display_data"
    }
   ],
   "source": [
    "games.query('platform in @platform_top10').pivot_table(\n",
    "    index='year_of_release', columns='platform', values='total_sales', aggfunc='sum').plot(\n",
    "    legend=True, title='Изменение продаж для наиболее продаваемых платформ', style='-', )\n",
    "plt.ioff()"
   ]
  },
  {
   "cell_type": "markdown",
   "metadata": {},
   "source": [
    "На графике можно увидеть, что некоторые платформы были популярны достаточно давно, их заменили перевыпущенные более современные улучшенные платформы. Возьмем 5 наиболее продаваемых платформ за последние годы."
   ]
  },
  {
   "cell_type": "code",
   "execution_count": 22,
   "metadata": {},
   "outputs": [
    {
     "data": {
      "image/png": "[encoded data removed]",
      "text/plain": [
       "<Figure size 432x288 with 1 Axes>"
      ]
     },
     "metadata": {
      "needs_background": "light"
     },
     "output_type": "display_data"
    }
   ],
   "source": [
    "games.query('year_of_release >= 2010').pivot_table(\n",
    "    index='year_of_release', columns='platform', values='total_sales', aggfunc='sum').plot(\n",
    "    legend=True, title='Изменение продаж для наиболее продаваемых платформ', style='-', xlim=(2010, 2016))\n",
    "plt.ioff()"
   ]
  },
  {
   "cell_type": "code",
   "execution_count": 23,
   "metadata": {},
   "outputs": [],
   "source": [
    "threshold = 2"
   ]
  },
  {
   "cell_type": "code",
   "execution_count": 24,
   "metadata": {},
   "outputs": [
    {
     "data": {
      "text/plain": [
       "Index(['PS4', '3DS', 'PS3', 'XOne', 'X360'], dtype='object', name='platform')"
      ]
     },
     "execution_count": 24,
     "metadata": {},
     "output_type": "execute_result"
    }
   ],
   "source": [
    "platform_top5 = games.query('year_of_release >= 2013 & total_sales >= @threshold').groupby(\n",
    "    'platform')['total_sales'].sum().sort_values(ascending=False).head().index\n",
    "platform_top5"
   ]
  },
  {
   "cell_type": "markdown",
   "metadata": {},
   "source": [
    "Исходя из того, что нам необходимо проанализировать данные для прогнозирования на 2017 год, возьмем для анализа актуальный период. Посчитаем среднюю продолжительность жизни платформы, проанализировав количество лет, когда продажи игр для платформы привышали 0.5 млн."
   ]
  },
  {
   "cell_type": "code",
   "execution_count": 25,
   "metadata": {},
   "outputs": [],
   "source": [
    "threshold = 0.5"
   ]
  },
  {
   "cell_type": "code",
   "execution_count": 26,
   "metadata": {},
   "outputs": [
    {
     "data": {
      "text/plain": [
       "5.4"
      ]
     },
     "execution_count": 26,
     "metadata": {},
     "output_type": "execute_result"
    }
   ],
   "source": [
    "platform_life = games.query('platform in @platform_top5').groupby(\n",
    "    ['platform','year_of_release'])['total_sales'].mean().reset_index().query(\n",
    "    'total_sales >= @threshold').groupby('platform')['year_of_release'].count().mean()\n",
    "platform_life"
   ]
  },
  {
   "cell_type": "code",
   "execution_count": 27,
   "metadata": {},
   "outputs": [
    {
     "data": {
      "image/png": "[encoded data removed]",
      "text/plain": [
       "<Figure size 432x288 with 2 Axes>"
      ]
     },
     "metadata": {
      "needs_background": "light"
     },
     "output_type": "display_data"
    }
   ],
   "source": [
    "sn = games.query('platform in @platform_top5').pivot_table(\n",
    "    index='platform', columns='year_of_release', values='total_sales', aggfunc='sum')\n",
    "sns.heatmap(sn)\n",
    "plt.ioff()"
   ]
  },
  {
   "cell_type": "code",
   "execution_count": 28,
   "metadata": {},
   "outputs": [],
   "source": [
    "games_focused = games.query(\n",
    "    'platform in @platform_top5 & year_of_release >= 2016-@platform_life/2') \n",
    "#возьмем за актуальный период половину средней продолжительности "
   ]
  },
  {
   "cell_type": "code",
   "execution_count": 29,
   "metadata": {},
   "outputs": [
    {
     "data": {
      "text/plain": [
       "array(['PS4', '3DS', 'XOne', 'PS3', 'X360'], dtype=object)"
      ]
     },
     "execution_count": 29,
     "metadata": {},
     "output_type": "execute_result"
    }
   ],
   "source": [
    "games_focused['platform'].unique() \n",
    "# игры на PS2 не вошли в данный срез, так как последний год выпуска игр на эту платформу 2011"
   ]
  },
  {
   "cell_type": "markdown",
   "metadata": {},
   "source": [
    "Построим график boxplot по глобальным продажам игр в разбивке по платформам."
   ]
  },
  {
   "cell_type": "code",
   "execution_count": 30,
   "metadata": {},
   "outputs": [
    {
     "data": {
      "image/png": "[encoded data removed]",
      "text/plain": [
       "<Figure size 936x576 with 1 Axes>"
      ]
     },
     "metadata": {
      "needs_background": "light"
     },
     "output_type": "display_data"
    }
   ],
   "source": [
    "plt.figure(figsize=(13, 8))\n",
    "(sns.boxplot(data = games_focused, y = 'total_sales', x='platform')\n",
    "    .set(title = 'Продажи по платформам', xlabel = 'Платформы', ylabel = 'Общие продажи', ylim=(0, 3)))\n",
    "\n",
    "plt.show() # построим график с ограничением ylim, чтобы получше разглядеть \"усы\" квартили"
   ]
  },
  {
   "cell_type": "code",
   "execution_count": 31,
   "metadata": {},
   "outputs": [
    {
     "data": {
      "image/png": "[encoded data removed]",
      "text/plain": [
       "<Figure size 936x576 with 1 Axes>"
      ]
     },
     "metadata": {
      "needs_background": "light"
     },
     "output_type": "display_data"
    }
   ],
   "source": [
    "plt.figure(figsize=(13, 8))\n",
    "(sns.boxplot(data = games_focused, y = 'total_sales', x='platform')\n",
    "    .set(title = 'Продажи по платформам', xlabel = 'Платформы', ylabel = 'Общие продажи'))\n",
    "\n",
    "plt.show() # построим график без ограничения ylim, чтобы увидеть выбросы в данных"
   ]
  },
  {
   "cell_type": "markdown",
   "metadata": {},
   "source": [
    "По данным из boxplot можно с точностью сказать, что из 5 рассматриваемых платформ, самые высокие продажи были у PS4 и XONe.\\\n",
    "Медианы у всех рассматриваемых платформ ближе к нижнем квартилю. Следовательно, в исследуемом датасете рассматриваются игры с небольшими продажами и небольшим числом мегапопулярных игр. \\\n",
    "Максимум PS4 и XONe больше чем у остальных платформ, значит есть игры, продажи которых выше. \\\n",
    "Также можем проанализировать количество выбросов. Например, у PS4 естьнесколько очень популярных игр, которые со=ильно выбиваютс по продажам вверх."
   ]
  },
  {
   "cell_type": "markdown",
   "metadata": {},
   "source": [
    "Посмотрим, как влияют на продажи внутри одной из популярных платформ отзывы пользователей и критиков. Построим диаграмму рассеяния."
   ]
  },
  {
   "cell_type": "code",
   "execution_count": 32,
   "metadata": {
    "scrolled": true
   },
   "outputs": [
    {
     "data": {
      "image/png": "[encoded data removed]",
      "text/plain": [
       "<Figure size 432x288 with 1 Axes>"
      ]
     },
     "metadata": {
      "needs_background": "light"
     },
     "output_type": "display_data"
    }
   ],
   "source": [
    "games_focused[games_focused['platform']=='PS4'].plot(x='user_score', y='total_sales', kind='scatter', ylim=(0,3))\n",
    "plt.ioff()"
   ]
  },
  {
   "cell_type": "code",
   "execution_count": 33,
   "metadata": {},
   "outputs": [
    {
     "data": {
      "image/png": "[encoded data removed]",
      "text/plain": [
       "<Figure size 432x288 with 1 Axes>"
      ]
     },
     "metadata": {
      "needs_background": "light"
     },
     "output_type": "display_data"
    }
   ],
   "source": [
    "games_focused[games_focused['platform']=='PS4'].plot(x='critic_score', y='total_sales', kind='scatter', ylim=(0,3))\n",
    "plt.ioff()"
   ]
  },
  {
   "cell_type": "markdown",
   "metadata": {},
   "source": [
    "По графику  можно увидеть, что продаж больше у тех игр PS4, где оценка пользователей выше, но продажи есть и у игр с низкой пользовательской оценкой. Ярче зависимость видна между продажами и оценкой критиков. Там, где оценка меньше 60, высоких продаж нет. "
   ]
  },
  {
   "cell_type": "markdown",
   "metadata": {},
   "source": [
    "Посчитаем корреляцию между отзывами и продажами. Подтвердим графики "
   ]
  },
  {
   "cell_type": "code",
   "execution_count": 34,
   "metadata": {},
   "outputs": [
    {
     "data": {
      "text/plain": [
       "0.40266141068104117"
      ]
     },
     "execution_count": 34,
     "metadata": {},
     "output_type": "execute_result"
    }
   ],
   "source": [
    "games_focused[games_focused['platform']=='PS4']['critic_score'].corr(\n",
    "    games_focused[games_focused['platform']=='PS4']['total_sales'])"
   ]
  },
  {
   "cell_type": "code",
   "execution_count": 35,
   "metadata": {},
   "outputs": [
    {
     "data": {
      "text/plain": [
       "-0.040131589472697266"
      ]
     },
     "execution_count": 35,
     "metadata": {},
     "output_type": "execute_result"
    }
   ],
   "source": [
    "games_focused[games_focused['platform']=='PS4']['user_score'].corr(\n",
    "    games_focused[games_focused['platform']=='PS4']['total_sales'])"
   ]
  },
  {
   "cell_type": "markdown",
   "metadata": {},
   "source": [
    "По коэфициенту корреляции можем сделать вывод, что есть умеренная зависимость между количеством продаж и оценкой критиков. Чем больше оценка, тем выше продажи. А вот с оценкой пользователей и продажами явной связи нет, но утверждать о том, что связи нет совсем нельзя."
   ]
  },
  {
   "cell_type": "code",
   "execution_count": 36,
   "metadata": {},
   "outputs": [
    {
     "data": {
      "text/plain": [
       "0.5257228356581521"
      ]
     },
     "execution_count": 36,
     "metadata": {},
     "output_type": "execute_result"
    }
   ],
   "source": [
    "games_focused[games_focused['platform']=='X360']['critic_score'].corr(\n",
    "    games_focused[games_focused['platform']=='X360']['total_sales'])"
   ]
  },
  {
   "cell_type": "code",
   "execution_count": 37,
   "metadata": {},
   "outputs": [
    {
     "data": {
      "text/plain": [
       "0.44657460493190715"
      ]
     },
     "execution_count": 37,
     "metadata": {},
     "output_type": "execute_result"
    }
   ],
   "source": [
    "games_focused[games_focused['platform']=='PS3']['critic_score'].corr(\n",
    "    games_focused[games_focused['platform']=='PS3']['total_sales'])"
   ]
  },
  {
   "cell_type": "code",
   "execution_count": 38,
   "metadata": {},
   "outputs": [
    {
     "data": {
      "text/plain": [
       "0.31411749286905094"
      ]
     },
     "execution_count": 38,
     "metadata": {},
     "output_type": "execute_result"
    }
   ],
   "source": [
    "games_focused[games_focused['platform']=='3DS']['critic_score'].corr(\n",
    "    games_focused[games_focused['platform']=='3DS']['total_sales'])"
   ]
  },
  {
   "cell_type": "code",
   "execution_count": 39,
   "metadata": {},
   "outputs": [
    {
     "data": {
      "text/plain": [
       "0.428676943703332"
      ]
     },
     "execution_count": 39,
     "metadata": {},
     "output_type": "execute_result"
    }
   ],
   "source": [
    "games_focused[games_focused['platform']=='XOne']['critic_score'].corr(\n",
    "    games_focused[games_focused['platform']=='XOne']['total_sales'])"
   ]
  },
  {
   "cell_type": "markdown",
   "metadata": {},
   "source": [
    "Умеренная зависимость между оценкой критиков и продажами наблюдается и у остальных платформ. \\\n",
    "Корреляция продаж с отзывами критиков выше, чем с отзывами пользователей, так как отзывы пользователей не всегда являются критерием, по которому люди выбирают купить ли игру. Оценка пользователей более субъективная."
   ]
  },
  {
   "cell_type": "markdown",
   "metadata": {},
   "source": [
    "Посмотрим на общее распределение игр по жанрам."
   ]
  },
  {
   "cell_type": "code",
   "execution_count": 40,
   "metadata": {},
   "outputs": [
    {
     "data": {
      "text/plain": [
       "genre\n",
       "Action          175.17\n",
       "Shooter         159.68\n",
       "Sports          105.88\n",
       "Role-Playing     88.95\n",
       "Misc             26.32\n",
       "Fighting         21.55\n",
       "Racing           19.69\n",
       "Adventure        14.47\n",
       "Platform         10.97\n",
       "Simulation        6.49\n",
       "Strategy          1.49\n",
       "Puzzle            0.93\n",
       "Name: total_sales, dtype: float64"
      ]
     },
     "execution_count": 40,
     "metadata": {},
     "output_type": "execute_result"
    }
   ],
   "source": [
    "games_focused.groupby('genre')['total_sales'].sum().sort_values(ascending=False)"
   ]
  },
  {
   "cell_type": "markdown",
   "metadata": {},
   "source": [
    "Самый продаваемый жанр - action. при этом есть наимение популярный жанр - паззлы. Примечательно, что отрыв от других жанров по продажам очень большой. Посмотрим на средние продажи по каждому жанру."
   ]
  },
  {
   "cell_type": "code",
   "execution_count": 41,
   "metadata": {},
   "outputs": [
    {
     "data": {
      "text/plain": [
       "genre\n",
       "Shooter         1.550291\n",
       "Sports          0.778529\n",
       "Role-Playing    0.635357\n",
       "Fighting        0.439796\n",
       "Platform        0.421923\n",
       "Action          0.415095\n",
       "Racing          0.378654\n",
       "Misc            0.350933\n",
       "Simulation      0.282174\n",
       "Adventure       0.152316\n",
       "Puzzle          0.103333\n",
       "Strategy        0.093125\n",
       "Name: total_sales, dtype: float64"
      ]
     },
     "execution_count": 41,
     "metadata": {},
     "output_type": "execute_result"
    }
   ],
   "source": [
    "games_focused.groupby('genre')['total_sales'].mean().sort_values(ascending=False)"
   ]
  },
  {
   "cell_type": "markdown",
   "metadata": {},
   "source": [
    "А вот по средним продажам жанр Action упал аж на шестое место! Теперь в топе остались Shooter, Sports и Role-Playing"
   ]
  },
  {
   "cell_type": "code",
   "execution_count": 42,
   "metadata": {},
   "outputs": [
    {
     "data": {
      "text/plain": [
       "genre\n",
       "Action          422\n",
       "Role-Playing    140\n",
       "Sports          136\n",
       "Shooter         103\n",
       "Adventure        95\n",
       "Misc             75\n",
       "Racing           52\n",
       "Fighting         49\n",
       "Platform         26\n",
       "Simulation       23\n",
       "Strategy         16\n",
       "Puzzle            9\n",
       "Name: name, dtype: int64"
      ]
     },
     "execution_count": 42,
     "metadata": {},
     "output_type": "execute_result"
    }
   ],
   "source": [
    "games_focused.groupby('genre')['name'].count().sort_values(ascending=False)"
   ]
  },
  {
   "cell_type": "markdown",
   "metadata": {},
   "source": [
    "Действительно, самые популярные жанры экшн, спорт и шутеры - самые продаваемые жанры, но и по количеству этих игр заметно больше, чем остальных. Также жанр паззлы представлен в срезе только в одной игре, поэтому продажи в общей таблице такие маленькие. Нельзя сделать вывод, что паззлы сильно непродаваемые, скорее всеготэто просто непопулярный жанр игр. \\\n",
    "В жанре action скорее всего выпущено много игр со средними продажами, именно поэтому он попадает в топ"
   ]
  },
  {
   "cell_type": "markdown",
   "metadata": {},
   "source": [
    "## Портрет пользователя каждого региона"
   ]
  },
  {
   "cell_type": "markdown",
   "metadata": {},
   "source": [
    "Рассмотрим пользователя каждого региона (NA, EU, JP)"
   ]
  },
  {
   "cell_type": "markdown",
   "metadata": {},
   "source": [
    "**Самые популярные платформы (топ-5).**"
   ]
  },
  {
   "cell_type": "markdown",
   "metadata": {},
   "source": [
    "Рассмотрим Северную Америку:"
   ]
  },
  {
   "cell_type": "code",
   "execution_count": 43,
   "metadata": {},
   "outputs": [
    {
     "data": {
      "text/plain": [
       "platform\n",
       "3DS     0.089532\n",
       "PS3     0.087199\n",
       "PS4     0.389963\n",
       "X360    0.111915\n",
       "XOne    0.321390\n",
       "Name: NA_sales, dtype: float64"
      ]
     },
     "execution_count": 43,
     "metadata": {},
     "output_type": "execute_result"
    }
   ],
   "source": [
    "NA_platf = games_focused.groupby('platform')['NA_sales'].sum() / games_focused['NA_sales'].sum()\n",
    "NA_platf"
   ]
  },
  {
   "cell_type": "markdown",
   "metadata": {},
   "source": [
    "Рассмотрим Европу:"
   ]
  },
  {
   "cell_type": "code",
   "execution_count": 44,
   "metadata": {},
   "outputs": [
    {
     "data": {
      "text/plain": [
       "platform\n",
       "3DS     0.069054\n",
       "PS3     0.109407\n",
       "PS4     0.557060\n",
       "X360    0.066355\n",
       "XOne    0.198124\n",
       "Name: EU_sales, dtype: float64"
      ]
     },
     "execution_count": 44,
     "metadata": {},
     "output_type": "execute_result"
    }
   ],
   "source": [
    "EU_platf = games_focused.groupby('platform')['EU_sales'].sum() / games_focused['EU_sales'].sum()\n",
    "EU_platf"
   ]
  },
  {
   "cell_type": "markdown",
   "metadata": {},
   "source": [
    "Рассмотрим Японию:"
   ]
  },
  {
   "cell_type": "code",
   "execution_count": 45,
   "metadata": {},
   "outputs": [
    {
     "data": {
      "text/plain": [
       "platform\n",
       "3DS     0.624153\n",
       "PS3     0.158296\n",
       "PS4     0.211907\n",
       "X360    0.001129\n",
       "XOne    0.004515\n",
       "Name: JP_sales, dtype: float64"
      ]
     },
     "execution_count": 45,
     "metadata": {},
     "output_type": "execute_result"
    }
   ],
   "source": [
    "JP_platf = games_focused.groupby('platform')['JP_sales'].sum() / games_focused['JP_sales'].sum()\n",
    "JP_platf"
   ]
  },
  {
   "cell_type": "code",
   "execution_count": 46,
   "metadata": {},
   "outputs": [
    {
     "data": {
      "image/png": "[encoded data removed]",
      "text/plain": [
       "<Figure size 1440x7200 with 3 Axes>"
      ]
     },
     "metadata": {},
     "output_type": "display_data"
    }
   ],
   "source": [
    "plt.subplots(figsize=(20,100))\n",
    "regions = ['NA', 'EU', 'JP']\n",
    "for i, region in enumerate(regions):\n",
    "    column = '{}_sales'.format(region)\n",
    "    region_platf = games_focused.groupby('platform').agg({column: 'sum'})/games_focused.agg({column: 'sum'})\n",
    "    region_platf.plot(y=column, kind='pie', ax = plt.subplot(1, len(regions), i+1))\n",
    "    plt.title('Игры на платформах в {}'.format(region))"
   ]
  },
  {
   "cell_type": "markdown",
   "metadata": {},
   "source": [
    "В регионе NA самыми популярными были платформы XOne и PS4, они занимают 70% в регионе за выбранный период времени, остальная часть продаж делится между тремя платформами."
   ]
  },
  {
   "cell_type": "markdown",
   "metadata": {},
   "source": [
    "В Европе PS4 заметно превосходит над остальными платформами и занимает больше половины всех продаж. на втором месте стоит xOne"
   ]
  },
  {
   "cell_type": "markdown",
   "metadata": {},
   "source": [
    "В регионе JP на XOne совсем не популярен. За то на 3DS приходится аж 62 процента продаж, заметно больше, чем в других регионах. Остальные продажи приходятся на платформы PS."
   ]
  },
  {
   "cell_type": "markdown",
   "metadata": {},
   "source": [
    "**Самые популярные жанры (топ-5).**"
   ]
  },
  {
   "cell_type": "code",
   "execution_count": 47,
   "metadata": {},
   "outputs": [
    {
     "data": {
      "text/plain": [
       "genre\n",
       "Action          0.256535\n",
       "Adventure       0.020603\n",
       "Fighting        0.036501\n",
       "Misc            0.044252\n",
       "Platform        0.015344\n",
       "Puzzle          0.000475\n",
       "Racing          0.022106\n",
       "Role-Playing    0.120457\n",
       "Shooter         0.296991\n",
       "Simulation      0.005616\n",
       "Sports          0.179578\n",
       "Strategy        0.001542\n",
       "Name: NA_sales, dtype: float64"
      ]
     },
     "execution_count": 47,
     "metadata": {},
     "output_type": "execute_result"
    }
   ],
   "source": [
    "NA_genre = games_focused.groupby('genre')['NA_sales'].sum() / games_focused['NA_sales'].sum()\n",
    "NA_genre"
   ]
  },
  {
   "cell_type": "markdown",
   "metadata": {},
   "source": [
    "В Северной Америке самыми популярными являются экшн и шутер (почти половина от общих продаж), также популярность имеет жанр спорт."
   ]
  },
  {
   "cell_type": "code",
   "execution_count": 48,
   "metadata": {},
   "outputs": [
    {
     "data": {
      "text/plain": [
       "genre\n",
       "Action          0.281828\n",
       "Adventure       0.025017\n",
       "Fighting        0.022147\n",
       "Misc            0.039196\n",
       "Platform        0.019191\n",
       "Puzzle          0.000557\n",
       "Racing          0.048663\n",
       "Role-Playing    0.104695\n",
       "Shooter         0.259553\n",
       "Simulation      0.010110\n",
       "Sports          0.187971\n",
       "Strategy        0.001071\n",
       "Name: EU_sales, dtype: float64"
      ]
     },
     "execution_count": 48,
     "metadata": {},
     "output_type": "execute_result"
    }
   ],
   "source": [
    "EU_genre = games_focused.groupby('genre')['EU_sales'].sum() / games_focused['EU_sales'].sum()\n",
    "EU_genre"
   ]
  },
  {
   "cell_type": "markdown",
   "metadata": {},
   "source": [
    "в Европе распределение продаж по жанрав потчи то же, что и в Северной Америке. Но racing занимает долю больше, что ролевые игры, в отличие от NA"
   ]
  },
  {
   "cell_type": "code",
   "execution_count": 49,
   "metadata": {},
   "outputs": [
    {
     "data": {
      "text/plain": [
       "genre\n",
       "Action          0.335638\n",
       "Adventure       0.024972\n",
       "Fighting        0.069554\n",
       "Misc            0.040914\n",
       "Platform        0.018623\n",
       "Puzzle          0.009312\n",
       "Racing          0.005502\n",
       "Role-Playing    0.369780\n",
       "Shooter         0.046981\n",
       "Simulation      0.032026\n",
       "Sports          0.035835\n",
       "Strategy        0.010863\n",
       "Name: JP_sales, dtype: float64"
      ]
     },
     "execution_count": 49,
     "metadata": {},
     "output_type": "execute_result"
    }
   ],
   "source": [
    "JP_genre = games_focused.groupby('genre')['JP_sales'].sum() / games_focused['JP_sales'].sum()\n",
    "JP_genre"
   ]
  },
  {
   "cell_type": "markdown",
   "metadata": {},
   "source": [
    "В Японии топ жанров отличается от Европы и Америки. После Экшна японцы предпочли ролевые игры и боевики, а только потом шутер и спорт. "
   ]
  },
  {
   "cell_type": "code",
   "execution_count": 50,
   "metadata": {},
   "outputs": [
    {
     "data": {
      "image/png": "[encoded data removed]",
      "text/plain": [
       "<Figure size 1440x7200 with 3 Axes>"
      ]
     },
     "metadata": {},
     "output_type": "display_data"
    }
   ],
   "source": [
    "plt.subplots(figsize=(20,100))\n",
    "regions = ['NA', 'EU', 'JP']\n",
    "for i, region in enumerate(regions):\n",
    "    column = '{}_sales'.format(region)\n",
    "    region_genre = games_focused.groupby('genre').agg({column: 'sum'}) / games_focused.agg({column: 'sum'})\n",
    "    region_genre.plot(y=column, kind='pie', legend=False, ax = plt.subplot(1, len(regions), i+1), normalize=True )\n",
    "    plt.title('Популярные жанры в {}'.format(region))"
   ]
  },
  {
   "cell_type": "markdown",
   "metadata": {},
   "source": [
    "Проверим, влияет ли рейтинг ESRB на продажи в отдельном регионе?"
   ]
  },
  {
   "cell_type": "markdown",
   "metadata": {},
   "source": [
    "Для более понятной оценки заменим обозначения рейтинга на те возрастные ограничения, которым они соответствуют."
   ]
  },
  {
   "cell_type": "code",
   "execution_count": 51,
   "metadata": {
    "scrolled": true
   },
   "outputs": [],
   "source": [
    "ESRB_dict = {'E': 'Для всех', 'M': '> 17 лет', 'T': '13-19 лет', 'E10+': '>10 лет', 'unknown': 'Не известен'}\n",
    "games_focused['ESRB_description'] = games_focused['rating'].map(ESRB_dict)"
   ]
  },
  {
   "cell_type": "code",
   "execution_count": 52,
   "metadata": {},
   "outputs": [
    {
     "data": {
      "text/plain": [
       "ESRB_description\n",
       "13-19 лет      0.136078\n",
       "> 17 лет       0.359157\n",
       ">10 лет        0.099972\n",
       "Для всех       0.167596\n",
       "Не известен    0.237197\n",
       "Name: NA_sales, dtype: float64"
      ]
     },
     "execution_count": 52,
     "metadata": {},
     "output_type": "execute_result"
    }
   ],
   "source": [
    "NA_ESRB = games_focused.groupby('ESRB_description')['NA_sales'].sum() / games_focused['NA_sales'].sum()\n",
    "NA_ESRB"
   ]
  },
  {
   "cell_type": "code",
   "execution_count": 53,
   "metadata": {},
   "outputs": [
    {
     "data": {
      "text/plain": [
       "ESRB_description\n",
       "13-19 лет      0.120288\n",
       "> 17 лет       0.364205\n",
       ">10 лет        0.077622\n",
       "Для всех       0.211875\n",
       "Не известен    0.226011\n",
       "Name: EU_sales, dtype: float64"
      ]
     },
     "execution_count": 53,
     "metadata": {},
     "output_type": "execute_result"
    }
   ],
   "source": [
    "EU_ESRB = games_focused.groupby('ESRB_description')['EU_sales'].sum() / games_focused['EU_sales'].sum()\n",
    "EU_ESRB"
   ]
  },
  {
   "cell_type": "code",
   "execution_count": 54,
   "metadata": {},
   "outputs": [
    {
     "data": {
      "text/plain": [
       "ESRB_description\n",
       "13-19 лет      0.146163\n",
       "> 17 лет       0.099182\n",
       ">10 лет        0.033437\n",
       "Для всех       0.077173\n",
       "Не известен    0.644046\n",
       "Name: JP_sales, dtype: float64"
      ]
     },
     "execution_count": 54,
     "metadata": {},
     "output_type": "execute_result"
    }
   ],
   "source": [
    "JP_ESRB = games_focused.groupby('ESRB_description')['JP_sales'].sum() / games_focused['JP_sales'].sum()\n",
    "JP_ESRB"
   ]
  },
  {
   "cell_type": "code",
   "execution_count": 55,
   "metadata": {},
   "outputs": [
    {
     "data": {
      "image/png": "[encoded data removed]",
      "text/plain": [
       "<Figure size 1440x7200 with 3 Axes>"
      ]
     },
     "metadata": {},
     "output_type": "display_data"
    }
   ],
   "source": [
    "plt.subplots(figsize=(20,100))\n",
    "regions = ['NA', 'EU', 'JP']\n",
    "for i, region in enumerate(regions):\n",
    "    column = '{}_sales'.format(region)\n",
    "    region_ESRB = games_focused.groupby('ESRB_description').agg({column: 'sum'})\n",
    "    region_ESRB.plot(y=column, kind='pie', ax = plt.subplot(1, len(regions), i+1))\n",
    "    plt.title('Влияние ESRB на {}'.format(region))"
   ]
  },
  {
   "cell_type": "markdown",
   "metadata": {},
   "source": [
    "Исходя из графиков выше можно заметить, что продаж больше у игр с рейтингом М как в Америке, так и в Европе. \n",
    "В Японии игр с неопределенным рейтингом очень много, поэтому они занимают чуть ли не половину всех продаж. Тем не менее на остальную половину приходятся игры рейтинга М и Т, их можно сичтать самым продаваемыми."
   ]
  },
  {
   "cell_type": "markdown",
   "metadata": {},
   "source": [
    "## Проверка гипотез"
   ]
  },
  {
   "cell_type": "markdown",
   "metadata": {},
   "source": [
    "**Проверим гипотезу о том, что средние пользовательские рейтинги платформ Xbox One и PC одинаковые**"
   ]
  },
  {
   "cell_type": "markdown",
   "metadata": {},
   "source": [
    "H0: Средний пользовательский рейтинг платформы Xbox One равен среднему пользовательскому рейтингу РС. \\\n",
    "H1: Средний пользовательский рейтинг платформы Xbox One не равен среднему пользовательскому рейтингу РС."
   ]
  },
  {
   "cell_type": "markdown",
   "metadata": {},
   "source": [
    "Данные гипотезы выбраны потому, что нам не важно больше или меньше рейтинг, мы проверяем именно равенство. Также в связи с этим, мы можем выбрать двустороннюю проверку гипотезы о равенстве среднего двух генеральных совокупностей по взятым выборкам"
   ]
  },
  {
   "cell_type": "code",
   "execution_count": 56,
   "metadata": {},
   "outputs": [
    {
     "data": {
      "text/plain": [
       "165      7.9\n",
       "179      5.4\n",
       "242      6.4\n",
       "270      6.2\n",
       "373      4.1\n",
       "        ... \n",
       "16544    6.8\n",
       "16597    6.0\n",
       "16630    8.2\n",
       "16643    6.6\n",
       "16660    6.7\n",
       "Name: user_score, Length: 165, dtype: float64"
      ]
     },
     "execution_count": 56,
     "metadata": {},
     "output_type": "execute_result"
    }
   ],
   "source": [
    "sample_xone = games_focused.query('platform == \"XOne\"')['user_score'].dropna()\n",
    "sample_xone"
   ]
  },
  {
   "cell_type": "code",
   "execution_count": 57,
   "metadata": {},
   "outputs": [
    {
     "data": {
      "text/plain": [
       "Series([], Name: user_score, dtype: float64)"
      ]
     },
     "execution_count": 57,
     "metadata": {},
     "output_type": "execute_result"
    }
   ],
   "source": [
    "sample_ps = games_focused.query('platform == \"PS\"')['user_score'].dropna()\n",
    "sample_ps"
   ]
  },
  {
   "cell_type": "code",
   "execution_count": 58,
   "metadata": {},
   "outputs": [],
   "source": [
    "alpha = .05 # возьмем порог 5%"
   ]
  },
  {
   "cell_type": "code",
   "execution_count": 59,
   "metadata": {},
   "outputs": [
    {
     "data": {
      "text/plain": [
       "nan"
      ]
     },
     "execution_count": 59,
     "metadata": {},
     "output_type": "execute_result"
    }
   ],
   "source": [
    "results = st.ttest_ind(sample_xone, sample_ps, equal_var = False)\n",
    "results.pvalue"
   ]
  },
  {
   "cell_type": "code",
   "execution_count": 60,
   "metadata": {},
   "outputs": [
    {
     "name": "stdout",
     "output_type": "stream",
     "text": [
      "Не отвергаем нулевую гипотезу\n"
     ]
    }
   ],
   "source": [
    "if results.pvalue < alpha:\n",
    "    print('Отвергаем нулевую гипотезу')\n",
    "else:\n",
    "    print('Не отвергаем нулевую гипотезу')"
   ]
  },
  {
   "cell_type": "markdown",
   "metadata": {},
   "source": [
    "Не отвергаем нулевую гипотезу о том, что средний пользовательский рейтинг xone и PS равен."
   ]
  },
  {
   "cell_type": "markdown",
   "metadata": {},
   "source": [
    "**Проверим гипотезу о том, что средние пользовательские рейтинги жанров Action и Sports разные**"
   ]
  },
  {
   "cell_type": "markdown",
   "metadata": {},
   "source": [
    "H0: Средний пользовательский рейтинг игр жанра Action равен среднему пользовательскому рейтингу игр жанра Sports. \\\n",
    "H1: Средний пользовательский рейтинг игр жанра Action не равен среднему пользовательскому рейтингу игр жанра Sports."
   ]
  },
  {
   "cell_type": "markdown",
   "metadata": {},
   "source": [
    "Данные гипотезы выбраны потому, что мы проверяем то, что рейтенги не равны. Соответственно нам важно, подтвердится ли альтернативная гипотеза. Также в связи с этим, мы выберем двустороннюю проверку гипотезы о равенстве среднего двух генеральных совокупностей по взятым выборкам."
   ]
  },
  {
   "cell_type": "code",
   "execution_count": 61,
   "metadata": {},
   "outputs": [],
   "source": [
    "sample_action = games_focused.query('genre == \"Action\"')['user_score'].dropna()\n",
    "sample_sports = games_focused.query('genre == \"Sports\"')['user_score'].dropna()"
   ]
  },
  {
   "cell_type": "code",
   "execution_count": 62,
   "metadata": {},
   "outputs": [
    {
     "data": {
      "text/plain": [
       "5.038289845973773e-12"
      ]
     },
     "execution_count": 62,
     "metadata": {},
     "output_type": "execute_result"
    }
   ],
   "source": [
    "results2 = st.ttest_ind(sample_action, sample_sports, equal_var = False)\n",
    "results2.pvalue"
   ]
  },
  {
   "cell_type": "code",
   "execution_count": 63,
   "metadata": {},
   "outputs": [
    {
     "name": "stdout",
     "output_type": "stream",
     "text": [
      "Отвергаем нулевую гипотезу\n"
     ]
    }
   ],
   "source": [
    "if results2.pvalue < alpha:\n",
    "    print('Отвергаем нулевую гипотезу')\n",
    "else:\n",
    "    print('Не отвергаем нулевую гипотезу')"
   ]
  },
  {
   "cell_type": "markdown",
   "metadata": {},
   "source": [
    "Снова отвергаем нулевую гипотезу. А это значит, что средние пользовательские рейтинги для выбранных жанров статистически значимо различаются."
   ]
  },
  {
   "cell_type": "markdown",
   "metadata": {},
   "source": [
    "## Общий вывод"
   ]
  },
  {
   "cell_type": "markdown",
   "metadata": {},
   "source": [
    "В данном проекте мы исследовали продажи игр различных платформ для планирования рекламных кампаний на 2017 год. \\\n",
    "Мы взяли данные за актуальный период с 2013 по 2016 год и самые популярные на этот момент платформы PS4', '3DS', 'PS3', 'XOne', 'X360'."
   ]
  },
  {
   "cell_type": "markdown",
   "metadata": {},
   "source": [
    "**Анализ корреляций**"
   ]
  },
  {
   "cell_type": "markdown",
   "metadata": {},
   "source": [
    "Из результатов исследования было выяснено, что глобавльные продажи в рассматриваемом промежутке времени у платформ PS4 и XONe были в разы выше других.\\\n",
    "При этом продажи имели прямую зависимость от оценок критиков. У игр, где оценка высокая, продаж было значительно больше. А вот оценка пользователей на продажи явно не влияет."
   ]
  },
  {
   "cell_type": "markdown",
   "metadata": {},
   "source": [
    "**Работа с данными**"
   ]
  },
  {
   "cell_type": "markdown",
   "metadata": {},
   "source": [
    "Самыми популярными платформами для Америки и Европы были PS4 и XOne. При чем в регионе JP XOne совсем не популярен. За то на 3DS приходится аж 62 процента продаж, заметно больше, чем в других регионах."
   ]
  },
  {
   "cell_type": "markdown",
   "metadata": {},
   "source": [
    "Также были исследованы популярные жанры в играх на игровые платформы. В топ самых популярных жанров для Америки и Европы вошли: Action, Shooter, Sports. В Японии топ жанров отличается от Европы и Америки. После Экшна японцы предпочли ролевые игры и боевики, а только потом шутер и спорт. "
   ]
  },
  {
   "cell_type": "markdown",
   "metadata": {},
   "source": [
    "Если смотреть на популярные жанры по регионам, то с точностью можно сказать, что во всех трех исследуемых регионах на первом месте по продажам стоят игры жанра Action. А вот потом в топе идут различия.В Европе распределение продаж по жанрав потчи то же, что и в Северной Америке. Но racing занимает долю больше, что ролевые игры, в отличие от NA \\\n",
    "А вот в Японии на втором месте по популярности стоят ролевые игры (примерно та же доля игр, что и action), после чего Fighting."
   ]
  },
  {
   "cell_type": "markdown",
   "metadata": {},
   "source": [
    "Также было исследовано влияние ESRB на продажи в каждом регионе. Было выявлено, что продаж больше у игр с рейтингом 17+ как в Америке, так и в Европе. \n",
    "В Японии игр с неопределенным рейтингом очень много, поэтому они занимают чуть ли не половину всех продаж. Тем не менее на остальную половину приходятся игры рейтинга 17+ и 13-19 лет, их можно сичтать самым продаваемыми."
   ]
  },
  {
   "cell_type": "markdown",
   "metadata": {},
   "source": [
    "**Проверка гипотез**"
   ]
  },
  {
   "cell_type": "markdown",
   "metadata": {},
   "source": [
    "Была проведена проверка гипотез о том, что средние пользовательские рейтинги платформ Xbox One и PC одинаковые и что средние пользовательские рейтинги жанров Action и Sports разные. \\\n",
    "Первая гипотеза не была опровергнута. Средний рейтинг пользователей платформ Xbox One и PC статистически одинаков в исследуемой выборке. \\\n",
    "Вторая гипотеза подтвердилась. Средние пользовательские рейтинги жанров Action и Sports и правда оказались разные."
   ]
  },
  {
   "cell_type": "markdown",
   "metadata": {},
   "source": [
    "**Рекомендации магазину видеоигр**"
   ]
  },
  {
   "cell_type": "markdown",
   "metadata": {},
   "source": [
    "По выводам, сделанным из исследования, можно порекомендовать магазину видеоигр сконцентрировать свое внимание на платформах Xbox One и PS4, так как это самые популярные платформы в Европе и Америке. Если же магазин продает игры в Японии, то нужно учесть различия и сфокусироваться на платформе 3DS. \\\n",
    "Что касается жанров игр, определенно необходимо уделить внимание играм жанра Action. Далее опять же смотреть в зависимости от региона продаж. В Японии стоит взять также игры жанра Role-Playing, а в Америке и Европе Shooter и Sports."
   ]
  }
 ],
 "metadata": {
  "ExecuteTimeLog": [
   {
    "duration": 53,
    "start_time": "2022-11-26T17:38:09.878Z"
   },
   {
    "duration": 73,
    "start_time": "2022-11-26T17:40:12.546Z"
   },
   {
    "duration": 416,
    "start_time": "2022-11-26T17:42:14.638Z"
   },
   {
    "duration": 94,
    "start_time": "2022-11-26T17:42:33.779Z"
   },
   {
    "duration": 14,
    "start_time": "2022-11-26T17:42:41.175Z"
   },
   {
    "duration": 19,
    "start_time": "2022-11-26T17:45:56.980Z"
   },
   {
    "duration": 4,
    "start_time": "2022-11-26T17:48:58.770Z"
   },
   {
    "duration": 71,
    "start_time": "2022-11-26T17:52:50.239Z"
   },
   {
    "duration": 262,
    "start_time": "2022-11-26T17:53:06.239Z"
   },
   {
    "duration": 4,
    "start_time": "2022-11-26T17:55:38.919Z"
   },
   {
    "duration": 5,
    "start_time": "2022-11-26T17:56:48.333Z"
   },
   {
    "duration": 4,
    "start_time": "2022-11-26T17:59:17.002Z"
   },
   {
    "duration": 14,
    "start_time": "2022-11-26T17:59:21.203Z"
   },
   {
    "duration": 4,
    "start_time": "2022-11-26T18:00:00.768Z"
   },
   {
    "duration": 12,
    "start_time": "2022-11-26T18:01:26.667Z"
   },
   {
    "duration": 5,
    "start_time": "2022-11-26T18:02:10.991Z"
   },
   {
    "duration": 25,
    "start_time": "2022-11-26T18:02:35.192Z"
   },
   {
    "duration": 5,
    "start_time": "2022-11-26T18:07:24.089Z"
   },
   {
    "duration": 7,
    "start_time": "2022-11-26T18:08:54.335Z"
   },
   {
    "duration": 5,
    "start_time": "2022-11-26T18:09:09.097Z"
   },
   {
    "duration": 4,
    "start_time": "2022-11-26T18:17:42.035Z"
   },
   {
    "duration": 192,
    "start_time": "2022-11-26T18:19:56.079Z"
   },
   {
    "duration": 12,
    "start_time": "2022-11-26T18:20:15.743Z"
   },
   {
    "duration": 5,
    "start_time": "2022-11-26T18:20:36.779Z"
   },
   {
    "duration": 4,
    "start_time": "2022-11-26T18:20:55.106Z"
   },
   {
    "duration": 6,
    "start_time": "2022-11-26T18:22:30.218Z"
   },
   {
    "duration": 27,
    "start_time": "2022-11-26T18:22:57.318Z"
   },
   {
    "duration": 6,
    "start_time": "2022-11-26T18:25:41.832Z"
   },
   {
    "duration": 5,
    "start_time": "2022-11-26T18:25:58.027Z"
   },
   {
    "duration": 4,
    "start_time": "2022-11-26T18:26:29.776Z"
   },
   {
    "duration": 4,
    "start_time": "2022-11-26T18:26:42.023Z"
   },
   {
    "duration": 3,
    "start_time": "2022-11-26T18:26:45.814Z"
   },
   {
    "duration": 14,
    "start_time": "2022-11-26T18:26:57.417Z"
   },
   {
    "duration": 4,
    "start_time": "2022-11-26T18:27:58.015Z"
   },
   {
    "duration": 348,
    "start_time": "2022-11-26T18:29:45.337Z"
   },
   {
    "duration": 53,
    "start_time": "2022-11-26T18:29:45.687Z"
   },
   {
    "duration": 20,
    "start_time": "2022-11-26T18:29:45.741Z"
   },
   {
    "duration": 21,
    "start_time": "2022-11-26T18:29:45.763Z"
   },
   {
    "duration": 16,
    "start_time": "2022-11-26T18:29:45.786Z"
   },
   {
    "duration": 27,
    "start_time": "2022-11-26T18:29:45.803Z"
   },
   {
    "duration": 20,
    "start_time": "2022-11-26T18:29:45.831Z"
   },
   {
    "duration": 13,
    "start_time": "2022-11-26T18:29:45.853Z"
   },
   {
    "duration": 37,
    "start_time": "2022-11-26T18:29:45.868Z"
   },
   {
    "duration": 6,
    "start_time": "2022-11-26T18:29:45.907Z"
   },
   {
    "duration": 13,
    "start_time": "2022-11-26T18:29:45.914Z"
   },
   {
    "duration": 21,
    "start_time": "2022-11-26T18:29:45.929Z"
   },
   {
    "duration": 5,
    "start_time": "2022-11-26T18:31:42.571Z"
   },
   {
    "duration": 13,
    "start_time": "2022-11-26T18:31:47.974Z"
   },
   {
    "duration": 368,
    "start_time": "2022-11-26T18:31:55.032Z"
   },
   {
    "duration": 51,
    "start_time": "2022-11-26T18:31:55.402Z"
   },
   {
    "duration": 21,
    "start_time": "2022-11-26T18:31:55.455Z"
   },
   {
    "duration": 21,
    "start_time": "2022-11-26T18:31:55.478Z"
   },
   {
    "duration": 4,
    "start_time": "2022-11-26T18:31:55.502Z"
   },
   {
    "duration": 14,
    "start_time": "2022-11-26T18:31:55.508Z"
   },
   {
    "duration": 10,
    "start_time": "2022-11-26T18:31:55.524Z"
   },
   {
    "duration": 17,
    "start_time": "2022-11-26T18:31:55.535Z"
   },
   {
    "duration": 31,
    "start_time": "2022-11-26T18:31:55.553Z"
   },
   {
    "duration": 5,
    "start_time": "2022-11-26T18:31:55.586Z"
   },
   {
    "duration": 12,
    "start_time": "2022-11-26T18:31:55.593Z"
   },
   {
    "duration": 19,
    "start_time": "2022-11-26T18:31:55.607Z"
   },
   {
    "duration": 30,
    "start_time": "2022-11-26T18:31:55.627Z"
   },
   {
    "duration": 47,
    "start_time": "2022-11-26T18:32:35.291Z"
   },
   {
    "duration": 41,
    "start_time": "2022-11-26T18:34:05.357Z"
   },
   {
    "duration": 50,
    "start_time": "2022-11-26T18:34:10.579Z"
   },
   {
    "duration": 72,
    "start_time": "2022-11-26T18:34:20.127Z"
   },
   {
    "duration": 8,
    "start_time": "2022-11-26T18:34:27.747Z"
   },
   {
    "duration": 9,
    "start_time": "2022-11-26T18:34:33.433Z"
   },
   {
    "duration": 14,
    "start_time": "2022-11-26T18:34:44.799Z"
   },
   {
    "duration": 762,
    "start_time": "2022-11-26T18:35:34.843Z"
   },
   {
    "duration": 31,
    "start_time": "2022-11-26T18:35:37.774Z"
   },
   {
    "duration": 4,
    "start_time": "2022-11-26T18:40:58.917Z"
   },
   {
    "duration": 471,
    "start_time": "2022-11-26T18:41:04.174Z"
   },
   {
    "duration": 55,
    "start_time": "2022-11-26T18:41:04.647Z"
   },
   {
    "duration": 30,
    "start_time": "2022-11-26T18:41:04.705Z"
   },
   {
    "duration": 17,
    "start_time": "2022-11-26T18:41:04.738Z"
   },
   {
    "duration": 4,
    "start_time": "2022-11-26T18:41:04.757Z"
   },
   {
    "duration": 39,
    "start_time": "2022-11-26T18:41:04.763Z"
   },
   {
    "duration": 22,
    "start_time": "2022-11-26T18:41:04.805Z"
   },
   {
    "duration": 15,
    "start_time": "2022-11-26T18:41:04.831Z"
   },
   {
    "duration": 27,
    "start_time": "2022-11-26T18:41:04.849Z"
   },
   {
    "duration": 7,
    "start_time": "2022-11-26T18:41:04.878Z"
   },
   {
    "duration": 19,
    "start_time": "2022-11-26T18:41:04.887Z"
   },
   {
    "duration": 28,
    "start_time": "2022-11-26T18:41:04.908Z"
   },
   {
    "duration": 14,
    "start_time": "2022-11-26T18:41:04.939Z"
   },
   {
    "duration": 12,
    "start_time": "2022-11-26T18:41:04.958Z"
   },
   {
    "duration": 37,
    "start_time": "2022-11-26T18:41:04.971Z"
   },
   {
    "duration": 31,
    "start_time": "2022-11-26T18:41:05.011Z"
   },
   {
    "duration": 431,
    "start_time": "2022-11-26T18:45:19.474Z"
   },
   {
    "duration": 57,
    "start_time": "2022-11-26T18:45:19.908Z"
   },
   {
    "duration": 23,
    "start_time": "2022-11-26T18:45:19.966Z"
   },
   {
    "duration": 33,
    "start_time": "2022-11-26T18:45:19.991Z"
   },
   {
    "duration": 8,
    "start_time": "2022-11-26T18:45:20.026Z"
   },
   {
    "duration": 31,
    "start_time": "2022-11-26T18:45:20.035Z"
   },
   {
    "duration": 32,
    "start_time": "2022-11-26T18:45:20.067Z"
   },
   {
    "duration": 5,
    "start_time": "2022-11-26T18:45:20.101Z"
   },
   {
    "duration": 29,
    "start_time": "2022-11-26T18:45:20.108Z"
   },
   {
    "duration": 34,
    "start_time": "2022-11-26T18:45:20.139Z"
   },
   {
    "duration": 48,
    "start_time": "2022-11-26T18:45:20.175Z"
   },
   {
    "duration": 8,
    "start_time": "2022-11-26T18:45:20.225Z"
   },
   {
    "duration": 14,
    "start_time": "2022-11-26T18:45:20.234Z"
   },
   {
    "duration": 22,
    "start_time": "2022-11-26T18:45:20.250Z"
   },
   {
    "duration": 5,
    "start_time": "2022-11-26T18:52:21.327Z"
   },
   {
    "duration": 18,
    "start_time": "2022-11-26T18:52:25.536Z"
   },
   {
    "duration": 5,
    "start_time": "2022-11-26T18:54:33.252Z"
   },
   {
    "duration": 14,
    "start_time": "2022-11-26T18:54:53.015Z"
   },
   {
    "duration": 5,
    "start_time": "2022-11-26T19:01:12.439Z"
   },
   {
    "duration": 7,
    "start_time": "2022-11-26T19:01:48.815Z"
   },
   {
    "duration": 383,
    "start_time": "2022-11-26T19:03:59.107Z"
   },
   {
    "duration": 53,
    "start_time": "2022-11-26T19:03:59.492Z"
   },
   {
    "duration": 22,
    "start_time": "2022-11-26T19:03:59.547Z"
   },
   {
    "duration": 14,
    "start_time": "2022-11-26T19:03:59.573Z"
   },
   {
    "duration": 7,
    "start_time": "2022-11-26T19:03:59.589Z"
   },
   {
    "duration": 75,
    "start_time": "2022-11-26T19:03:59.598Z"
   },
   {
    "duration": 0,
    "start_time": "2022-11-26T19:03:59.675Z"
   },
   {
    "duration": 0,
    "start_time": "2022-11-26T19:03:59.677Z"
   },
   {
    "duration": 0,
    "start_time": "2022-11-26T19:03:59.678Z"
   },
   {
    "duration": 0,
    "start_time": "2022-11-26T19:03:59.680Z"
   },
   {
    "duration": 0,
    "start_time": "2022-11-26T19:03:59.696Z"
   },
   {
    "duration": 0,
    "start_time": "2022-11-26T19:03:59.698Z"
   },
   {
    "duration": 0,
    "start_time": "2022-11-26T19:03:59.699Z"
   },
   {
    "duration": 0,
    "start_time": "2022-11-26T19:03:59.700Z"
   },
   {
    "duration": 0,
    "start_time": "2022-11-26T19:03:59.702Z"
   },
   {
    "duration": 473,
    "start_time": "2022-11-26T19:04:09.475Z"
   },
   {
    "duration": 55,
    "start_time": "2022-11-26T19:04:09.950Z"
   },
   {
    "duration": 25,
    "start_time": "2022-11-26T19:04:10.007Z"
   },
   {
    "duration": 16,
    "start_time": "2022-11-26T19:04:10.034Z"
   },
   {
    "duration": 5,
    "start_time": "2022-11-26T19:04:10.052Z"
   },
   {
    "duration": 105,
    "start_time": "2022-11-26T19:04:10.059Z"
   },
   {
    "duration": 0,
    "start_time": "2022-11-26T19:04:10.166Z"
   },
   {
    "duration": 0,
    "start_time": "2022-11-26T19:04:10.167Z"
   },
   {
    "duration": 0,
    "start_time": "2022-11-26T19:04:10.168Z"
   },
   {
    "duration": 0,
    "start_time": "2022-11-26T19:04:10.170Z"
   },
   {
    "duration": 0,
    "start_time": "2022-11-26T19:04:10.171Z"
   },
   {
    "duration": 0,
    "start_time": "2022-11-26T19:04:10.172Z"
   },
   {
    "duration": 0,
    "start_time": "2022-11-26T19:04:10.173Z"
   },
   {
    "duration": 0,
    "start_time": "2022-11-26T19:04:10.174Z"
   },
   {
    "duration": 0,
    "start_time": "2022-11-26T19:04:10.175Z"
   },
   {
    "duration": 11,
    "start_time": "2022-11-26T19:05:06.908Z"
   },
   {
    "duration": 418,
    "start_time": "2022-11-26T19:05:19.210Z"
   },
   {
    "duration": 51,
    "start_time": "2022-11-26T19:05:19.630Z"
   },
   {
    "duration": 23,
    "start_time": "2022-11-26T19:05:19.683Z"
   },
   {
    "duration": 32,
    "start_time": "2022-11-26T19:05:19.708Z"
   },
   {
    "duration": 14,
    "start_time": "2022-11-26T19:05:19.742Z"
   },
   {
    "duration": 46,
    "start_time": "2022-11-26T19:05:19.757Z"
   },
   {
    "duration": 46,
    "start_time": "2022-11-26T19:05:19.805Z"
   },
   {
    "duration": 7,
    "start_time": "2022-11-26T19:05:19.853Z"
   },
   {
    "duration": 43,
    "start_time": "2022-11-26T19:05:19.862Z"
   },
   {
    "duration": 42,
    "start_time": "2022-11-26T19:05:19.907Z"
   },
   {
    "duration": 20,
    "start_time": "2022-11-26T19:05:19.951Z"
   },
   {
    "duration": 17,
    "start_time": "2022-11-26T19:05:19.973Z"
   },
   {
    "duration": 8,
    "start_time": "2022-11-26T19:05:19.992Z"
   },
   {
    "duration": 23,
    "start_time": "2022-11-26T19:05:20.003Z"
   },
   {
    "duration": 27,
    "start_time": "2022-11-26T19:05:20.028Z"
   },
   {
    "duration": 6,
    "start_time": "2022-11-26T19:15:31.332Z"
   },
   {
    "duration": 13,
    "start_time": "2022-11-26T19:15:45.539Z"
   },
   {
    "duration": 5,
    "start_time": "2022-11-26T19:18:51.830Z"
   },
   {
    "duration": 401,
    "start_time": "2022-11-26T19:19:04.307Z"
   },
   {
    "duration": 52,
    "start_time": "2022-11-26T19:19:04.710Z"
   },
   {
    "duration": 22,
    "start_time": "2022-11-26T19:19:04.763Z"
   },
   {
    "duration": 20,
    "start_time": "2022-11-26T19:19:04.787Z"
   },
   {
    "duration": 4,
    "start_time": "2022-11-26T19:19:04.809Z"
   },
   {
    "duration": 11,
    "start_time": "2022-11-26T19:19:04.814Z"
   },
   {
    "duration": 20,
    "start_time": "2022-11-26T19:19:04.827Z"
   },
   {
    "duration": 5,
    "start_time": "2022-11-26T19:19:04.848Z"
   },
   {
    "duration": 7,
    "start_time": "2022-11-26T19:19:04.855Z"
   },
   {
    "duration": 43,
    "start_time": "2022-11-26T19:19:04.864Z"
   },
   {
    "duration": 35,
    "start_time": "2022-11-26T19:19:04.909Z"
   },
   {
    "duration": 10,
    "start_time": "2022-11-26T19:19:04.946Z"
   },
   {
    "duration": 16,
    "start_time": "2022-11-26T19:19:04.958Z"
   },
   {
    "duration": 19,
    "start_time": "2022-11-26T19:19:04.977Z"
   },
   {
    "duration": 11,
    "start_time": "2022-11-26T19:19:04.998Z"
   },
   {
    "duration": 10,
    "start_time": "2022-11-26T19:19:05.010Z"
   },
   {
    "duration": 38,
    "start_time": "2022-11-26T19:19:05.022Z"
   },
   {
    "duration": 8,
    "start_time": "2022-11-26T19:26:44.982Z"
   },
   {
    "duration": 7,
    "start_time": "2022-11-26T19:27:05.839Z"
   },
   {
    "duration": 8,
    "start_time": "2022-11-26T19:27:22.411Z"
   },
   {
    "duration": 67,
    "start_time": "2022-11-26T19:27:51.192Z"
   },
   {
    "duration": 17,
    "start_time": "2022-11-26T19:27:54.970Z"
   },
   {
    "duration": 8,
    "start_time": "2022-11-26T19:28:00.368Z"
   },
   {
    "duration": 15,
    "start_time": "2022-11-26T19:28:03.650Z"
   },
   {
    "duration": 16,
    "start_time": "2022-11-26T19:28:34.749Z"
   },
   {
    "duration": 21,
    "start_time": "2022-11-26T19:28:55.942Z"
   },
   {
    "duration": 371,
    "start_time": "2022-11-26T19:29:01.325Z"
   },
   {
    "duration": 53,
    "start_time": "2022-11-26T19:29:01.698Z"
   },
   {
    "duration": 23,
    "start_time": "2022-11-26T19:29:01.753Z"
   },
   {
    "duration": 31,
    "start_time": "2022-11-26T19:29:01.777Z"
   },
   {
    "duration": 10,
    "start_time": "2022-11-26T19:29:01.811Z"
   },
   {
    "duration": 19,
    "start_time": "2022-11-26T19:29:01.823Z"
   },
   {
    "duration": 26,
    "start_time": "2022-11-26T19:29:01.844Z"
   },
   {
    "duration": 20,
    "start_time": "2022-11-26T19:29:01.871Z"
   },
   {
    "duration": 30,
    "start_time": "2022-11-26T19:29:01.893Z"
   },
   {
    "duration": 23,
    "start_time": "2022-11-26T19:29:01.925Z"
   },
   {
    "duration": 17,
    "start_time": "2022-11-26T19:29:01.950Z"
   },
   {
    "duration": 6,
    "start_time": "2022-11-26T19:29:01.969Z"
   },
   {
    "duration": 35,
    "start_time": "2022-11-26T19:29:01.976Z"
   },
   {
    "duration": 28,
    "start_time": "2022-11-26T19:29:02.014Z"
   },
   {
    "duration": 27,
    "start_time": "2022-11-26T19:29:02.043Z"
   },
   {
    "duration": 6,
    "start_time": "2022-11-26T19:29:02.071Z"
   },
   {
    "duration": 11,
    "start_time": "2022-11-26T19:29:02.078Z"
   },
   {
    "duration": 9,
    "start_time": "2022-11-26T19:29:02.091Z"
   },
   {
    "duration": 9,
    "start_time": "2022-11-26T19:31:18.833Z"
   },
   {
    "duration": 6,
    "start_time": "2022-11-26T19:54:00.239Z"
   },
   {
    "duration": 46,
    "start_time": "2022-11-28T18:38:41.469Z"
   },
   {
    "duration": 417,
    "start_time": "2022-11-28T18:38:52.633Z"
   },
   {
    "duration": 92,
    "start_time": "2022-11-28T18:38:53.052Z"
   },
   {
    "duration": 20,
    "start_time": "2022-11-28T18:38:53.145Z"
   },
   {
    "duration": 51,
    "start_time": "2022-11-28T18:38:53.166Z"
   },
   {
    "duration": 16,
    "start_time": "2022-11-28T18:38:53.219Z"
   },
   {
    "duration": 18,
    "start_time": "2022-11-28T18:38:53.237Z"
   },
   {
    "duration": 34,
    "start_time": "2022-11-28T18:38:53.257Z"
   },
   {
    "duration": 29,
    "start_time": "2022-11-28T18:38:53.293Z"
   },
   {
    "duration": 13,
    "start_time": "2022-11-28T18:38:53.324Z"
   },
   {
    "duration": 32,
    "start_time": "2022-11-28T18:38:53.338Z"
   },
   {
    "duration": 29,
    "start_time": "2022-11-28T18:38:53.372Z"
   },
   {
    "duration": 16,
    "start_time": "2022-11-28T18:38:53.402Z"
   },
   {
    "duration": 25,
    "start_time": "2022-11-28T18:38:53.420Z"
   },
   {
    "duration": 24,
    "start_time": "2022-11-28T18:38:53.447Z"
   },
   {
    "duration": 31,
    "start_time": "2022-11-28T18:38:53.472Z"
   },
   {
    "duration": 18,
    "start_time": "2022-11-28T18:38:53.504Z"
   },
   {
    "duration": 19,
    "start_time": "2022-11-28T18:38:53.524Z"
   },
   {
    "duration": 484,
    "start_time": "2022-11-28T18:38:53.544Z"
   },
   {
    "duration": 3,
    "start_time": "2022-11-28T18:40:55.333Z"
   },
   {
    "duration": 48,
    "start_time": "2022-11-28T18:40:59.870Z"
   },
   {
    "duration": 295,
    "start_time": "2022-11-28T18:41:50.436Z"
   },
   {
    "duration": 6,
    "start_time": "2022-11-28T18:43:30.135Z"
   },
   {
    "duration": 216,
    "start_time": "2022-11-28T18:43:31.547Z"
   },
   {
    "duration": 8,
    "start_time": "2022-11-28T18:43:44.033Z"
   },
   {
    "duration": 285,
    "start_time": "2022-11-28T18:43:45.483Z"
   },
   {
    "duration": 5,
    "start_time": "2022-11-28T18:46:51.394Z"
   },
   {
    "duration": 258,
    "start_time": "2022-11-28T18:47:00.400Z"
   },
   {
    "duration": 11,
    "start_time": "2022-11-28T18:49:54.284Z"
   },
   {
    "duration": 8,
    "start_time": "2022-11-28T18:50:04.675Z"
   },
   {
    "duration": 16,
    "start_time": "2022-11-28T18:50:14.913Z"
   },
   {
    "duration": 360,
    "start_time": "2022-11-28T19:10:41.477Z"
   },
   {
    "duration": 53,
    "start_time": "2022-11-28T19:10:41.839Z"
   },
   {
    "duration": 21,
    "start_time": "2022-11-28T19:10:41.894Z"
   },
   {
    "duration": 24,
    "start_time": "2022-11-28T19:10:41.916Z"
   },
   {
    "duration": 5,
    "start_time": "2022-11-28T19:10:41.944Z"
   },
   {
    "duration": 27,
    "start_time": "2022-11-28T19:10:41.951Z"
   },
   {
    "duration": 38,
    "start_time": "2022-11-28T19:10:41.980Z"
   },
   {
    "duration": 7,
    "start_time": "2022-11-28T19:10:42.020Z"
   },
   {
    "duration": 27,
    "start_time": "2022-11-28T19:10:42.029Z"
   },
   {
    "duration": 22,
    "start_time": "2022-11-28T19:10:42.058Z"
   },
   {
    "duration": 13,
    "start_time": "2022-11-28T19:10:42.082Z"
   },
   {
    "duration": 7,
    "start_time": "2022-11-28T19:10:42.096Z"
   },
   {
    "duration": 13,
    "start_time": "2022-11-28T19:10:42.105Z"
   },
   {
    "duration": 22,
    "start_time": "2022-11-28T19:10:42.121Z"
   },
   {
    "duration": 31,
    "start_time": "2022-11-28T19:10:42.145Z"
   },
   {
    "duration": 9,
    "start_time": "2022-11-28T19:10:42.178Z"
   },
   {
    "duration": 18,
    "start_time": "2022-11-28T19:10:42.189Z"
   },
   {
    "duration": 610,
    "start_time": "2022-11-28T19:10:42.209Z"
   },
   {
    "duration": 3,
    "start_time": "2022-11-28T19:10:42.821Z"
   },
   {
    "duration": 9,
    "start_time": "2022-11-28T19:10:42.826Z"
   },
   {
    "duration": 6,
    "start_time": "2022-11-28T19:22:37.587Z"
   },
   {
    "duration": 84,
    "start_time": "2022-11-28T19:22:56.678Z"
   },
   {
    "duration": 11,
    "start_time": "2022-11-28T19:24:41.350Z"
   },
   {
    "duration": 5,
    "start_time": "2022-11-28T19:24:45.120Z"
   },
   {
    "duration": 6,
    "start_time": "2022-11-28T19:24:52.807Z"
   },
   {
    "duration": 5,
    "start_time": "2022-11-28T19:25:08.233Z"
   },
   {
    "duration": 10,
    "start_time": "2022-11-28T19:25:44.019Z"
   },
   {
    "duration": 11,
    "start_time": "2022-11-28T19:26:10.286Z"
   },
   {
    "duration": 9,
    "start_time": "2022-11-28T19:26:24.134Z"
   },
   {
    "duration": 14,
    "start_time": "2022-11-28T19:26:57.634Z"
   },
   {
    "duration": 43,
    "start_time": "2022-11-28T19:27:07.091Z"
   },
   {
    "duration": 3,
    "start_time": "2022-11-28T19:27:13.234Z"
   },
   {
    "duration": 20,
    "start_time": "2022-11-28T19:27:14.785Z"
   },
   {
    "duration": 31,
    "start_time": "2022-11-28T19:27:59.451Z"
   },
   {
    "duration": 22,
    "start_time": "2022-11-28T19:28:05.619Z"
   },
   {
    "duration": 298,
    "start_time": "2022-11-28T19:28:38.515Z"
   },
   {
    "duration": 8,
    "start_time": "2022-11-28T19:28:44.082Z"
   },
   {
    "duration": 284,
    "start_time": "2022-11-28T19:28:58.134Z"
   },
   {
    "duration": 383,
    "start_time": "2022-11-28T19:29:06.166Z"
   },
   {
    "duration": 54,
    "start_time": "2022-11-28T19:29:06.551Z"
   },
   {
    "duration": 20,
    "start_time": "2022-11-28T19:29:06.607Z"
   },
   {
    "duration": 14,
    "start_time": "2022-11-28T19:29:06.629Z"
   },
   {
    "duration": 5,
    "start_time": "2022-11-28T19:29:06.646Z"
   },
   {
    "duration": 22,
    "start_time": "2022-11-28T19:29:06.653Z"
   },
   {
    "duration": 38,
    "start_time": "2022-11-28T19:29:06.677Z"
   },
   {
    "duration": 22,
    "start_time": "2022-11-28T19:29:06.717Z"
   },
   {
    "duration": 27,
    "start_time": "2022-11-28T19:29:06.740Z"
   },
   {
    "duration": 22,
    "start_time": "2022-11-28T19:29:06.770Z"
   },
   {
    "duration": 34,
    "start_time": "2022-11-28T19:29:06.796Z"
   },
   {
    "duration": 9,
    "start_time": "2022-11-28T19:29:06.832Z"
   },
   {
    "duration": 12,
    "start_time": "2022-11-28T19:29:06.843Z"
   },
   {
    "duration": 17,
    "start_time": "2022-11-28T19:29:06.858Z"
   },
   {
    "duration": 19,
    "start_time": "2022-11-28T19:29:06.877Z"
   },
   {
    "duration": 11,
    "start_time": "2022-11-28T19:29:06.898Z"
   },
   {
    "duration": 18,
    "start_time": "2022-11-28T19:29:06.910Z"
   },
   {
    "duration": 570,
    "start_time": "2022-11-28T19:29:06.930Z"
   },
   {
    "duration": 5,
    "start_time": "2022-11-28T19:29:07.502Z"
   },
   {
    "duration": 100,
    "start_time": "2022-11-28T19:29:07.509Z"
   },
   {
    "duration": 0,
    "start_time": "2022-11-28T19:29:07.611Z"
   },
   {
    "duration": 0,
    "start_time": "2022-11-28T19:29:07.613Z"
   },
   {
    "duration": 303,
    "start_time": "2022-11-28T19:29:56.605Z"
   },
   {
    "duration": 2,
    "start_time": "2022-11-28T19:29:59.401Z"
   },
   {
    "duration": 19,
    "start_time": "2022-11-28T19:30:00.835Z"
   },
   {
    "duration": 300,
    "start_time": "2022-11-28T19:30:56.675Z"
   },
   {
    "duration": 2,
    "start_time": "2022-11-28T19:31:00.075Z"
   },
   {
    "duration": 160,
    "start_time": "2022-11-28T19:31:03.733Z"
   },
   {
    "duration": 20,
    "start_time": "2022-11-28T19:31:56.859Z"
   },
   {
    "duration": 5,
    "start_time": "2022-11-28T19:32:12.510Z"
   },
   {
    "duration": 31,
    "start_time": "2022-11-28T19:32:13.217Z"
   },
   {
    "duration": 31,
    "start_time": "2022-11-28T19:33:18.775Z"
   },
   {
    "duration": 5,
    "start_time": "2022-11-28T19:33:21.193Z"
   },
   {
    "duration": 378,
    "start_time": "2022-11-28T19:33:22.460Z"
   },
   {
    "duration": 3,
    "start_time": "2022-11-28T19:33:26.139Z"
   },
   {
    "duration": 29,
    "start_time": "2022-11-28T19:33:30.964Z"
   },
   {
    "duration": 8,
    "start_time": "2022-11-28T19:34:07.387Z"
   },
   {
    "duration": 356,
    "start_time": "2022-11-28T19:34:07.833Z"
   },
   {
    "duration": 3,
    "start_time": "2022-11-28T19:34:09.707Z"
   },
   {
    "duration": 25,
    "start_time": "2022-11-28T19:34:10.245Z"
   },
   {
    "duration": 20,
    "start_time": "2022-11-28T19:37:35.869Z"
   },
   {
    "duration": 16,
    "start_time": "2022-11-28T19:39:55.768Z"
   },
   {
    "duration": 4,
    "start_time": "2022-11-28T19:40:34.287Z"
   },
   {
    "duration": 22,
    "start_time": "2022-11-28T19:40:35.806Z"
   },
   {
    "duration": 4,
    "start_time": "2022-11-28T19:40:52.459Z"
   },
   {
    "duration": 19,
    "start_time": "2022-11-28T19:40:52.984Z"
   },
   {
    "duration": 3,
    "start_time": "2022-11-28T19:40:57.556Z"
   },
   {
    "duration": 3,
    "start_time": "2022-11-28T19:41:53.186Z"
   },
   {
    "duration": 16,
    "start_time": "2022-11-28T19:41:54.201Z"
   },
   {
    "duration": 3,
    "start_time": "2022-11-28T19:41:56.881Z"
   },
   {
    "duration": 15,
    "start_time": "2022-11-28T19:41:57.906Z"
   },
   {
    "duration": 3,
    "start_time": "2022-11-28T19:42:06.867Z"
   },
   {
    "duration": 14,
    "start_time": "2022-11-28T19:43:47.452Z"
   },
   {
    "duration": 2,
    "start_time": "2022-11-28T19:44:09.774Z"
   },
   {
    "duration": 20,
    "start_time": "2022-11-28T19:44:10.135Z"
   },
   {
    "duration": 7,
    "start_time": "2022-11-28T19:45:32.459Z"
   },
   {
    "duration": 3,
    "start_time": "2022-11-28T19:45:33.317Z"
   },
   {
    "duration": 14,
    "start_time": "2022-11-28T19:45:36.664Z"
   },
   {
    "duration": 7,
    "start_time": "2022-11-28T19:45:48.615Z"
   },
   {
    "duration": 13,
    "start_time": "2022-11-28T19:45:49.582Z"
   },
   {
    "duration": 6,
    "start_time": "2022-11-28T19:46:04.159Z"
   },
   {
    "duration": 13,
    "start_time": "2022-11-28T19:46:04.604Z"
   },
   {
    "duration": 319,
    "start_time": "2022-11-28T19:46:17.060Z"
   },
   {
    "duration": 48,
    "start_time": "2022-11-28T19:46:31.138Z"
   },
   {
    "duration": 302,
    "start_time": "2022-11-28T19:46:43.052Z"
   },
   {
    "duration": 308,
    "start_time": "2022-11-28T19:46:57.950Z"
   },
   {
    "duration": 317,
    "start_time": "2022-11-28T19:47:01.013Z"
   },
   {
    "duration": 7,
    "start_time": "2022-11-28T19:47:15.503Z"
   },
   {
    "duration": 328,
    "start_time": "2022-11-28T19:47:16.228Z"
   },
   {
    "duration": 5,
    "start_time": "2022-11-28T19:47:21.270Z"
   },
   {
    "duration": 307,
    "start_time": "2022-11-28T19:47:21.654Z"
   },
   {
    "duration": 3,
    "start_time": "2022-11-28T19:47:23.668Z"
   },
   {
    "duration": 19,
    "start_time": "2022-11-28T19:47:24.134Z"
   },
   {
    "duration": 6,
    "start_time": "2022-11-28T19:47:24.658Z"
   },
   {
    "duration": 363,
    "start_time": "2022-11-28T19:47:25.529Z"
   },
   {
    "duration": 328,
    "start_time": "2022-11-28T19:48:18.628Z"
   },
   {
    "duration": 6,
    "start_time": "2022-11-28T19:50:07.012Z"
   },
   {
    "duration": 248,
    "start_time": "2022-11-28T19:50:07.581Z"
   },
   {
    "duration": 14,
    "start_time": "2022-11-28T19:50:15.597Z"
   },
   {
    "duration": 8,
    "start_time": "2022-11-28T19:50:26.477Z"
   },
   {
    "duration": 287,
    "start_time": "2022-11-28T19:50:30.000Z"
   },
   {
    "duration": 29,
    "start_time": "2022-11-28T19:51:27.776Z"
   },
   {
    "duration": 31,
    "start_time": "2022-11-28T19:54:22.296Z"
   },
   {
    "duration": 97,
    "start_time": "2022-11-28T19:54:36.321Z"
   },
   {
    "duration": 11,
    "start_time": "2022-11-28T19:56:14.245Z"
   },
   {
    "duration": 12,
    "start_time": "2022-11-28T19:57:45.328Z"
   },
   {
    "duration": 12,
    "start_time": "2022-11-28T19:58:07.989Z"
   },
   {
    "duration": 10,
    "start_time": "2022-11-28T19:58:17.686Z"
   },
   {
    "duration": 5,
    "start_time": "2022-11-28T20:01:38.776Z"
   },
   {
    "duration": 6,
    "start_time": "2022-11-28T20:01:43.121Z"
   },
   {
    "duration": 27,
    "start_time": "2022-11-28T20:01:44.976Z"
   },
   {
    "duration": 16,
    "start_time": "2022-11-28T20:01:53.898Z"
   },
   {
    "duration": 7,
    "start_time": "2022-11-28T20:02:42.880Z"
   },
   {
    "duration": 22,
    "start_time": "2022-11-28T20:02:43.657Z"
   },
   {
    "duration": 24,
    "start_time": "2022-11-28T20:02:47.080Z"
   },
   {
    "duration": 7,
    "start_time": "2022-11-28T20:03:03.459Z"
   },
   {
    "duration": 36,
    "start_time": "2022-11-28T20:03:06.849Z"
   },
   {
    "duration": 7,
    "start_time": "2022-11-28T20:03:40.083Z"
   },
   {
    "duration": 7,
    "start_time": "2022-11-28T20:03:49.737Z"
   },
   {
    "duration": 3,
    "start_time": "2022-11-28T20:03:50.977Z"
   },
   {
    "duration": 14,
    "start_time": "2022-11-28T20:03:51.588Z"
   },
   {
    "duration": 7,
    "start_time": "2022-11-28T20:03:52.592Z"
   },
   {
    "duration": 20,
    "start_time": "2022-11-28T20:03:53.850Z"
   },
   {
    "duration": 374,
    "start_time": "2022-11-28T20:04:42.686Z"
   },
   {
    "duration": 53,
    "start_time": "2022-11-28T20:04:43.062Z"
   },
   {
    "duration": 20,
    "start_time": "2022-11-28T20:04:43.117Z"
   },
   {
    "duration": 19,
    "start_time": "2022-11-28T20:04:43.138Z"
   },
   {
    "duration": 5,
    "start_time": "2022-11-28T20:04:43.159Z"
   },
   {
    "duration": 16,
    "start_time": "2022-11-28T20:04:43.165Z"
   },
   {
    "duration": 21,
    "start_time": "2022-11-28T20:04:43.183Z"
   },
   {
    "duration": 5,
    "start_time": "2022-11-28T20:04:43.206Z"
   },
   {
    "duration": 23,
    "start_time": "2022-11-28T20:04:43.212Z"
   },
   {
    "duration": 16,
    "start_time": "2022-11-28T20:04:43.238Z"
   },
   {
    "duration": 16,
    "start_time": "2022-11-28T20:04:43.256Z"
   },
   {
    "duration": 6,
    "start_time": "2022-11-28T20:04:43.273Z"
   },
   {
    "duration": 12,
    "start_time": "2022-11-28T20:04:43.281Z"
   },
   {
    "duration": 20,
    "start_time": "2022-11-28T20:04:43.294Z"
   },
   {
    "duration": 29,
    "start_time": "2022-11-28T20:04:43.316Z"
   },
   {
    "duration": 6,
    "start_time": "2022-11-28T20:04:43.347Z"
   },
   {
    "duration": 10,
    "start_time": "2022-11-28T20:04:43.355Z"
   },
   {
    "duration": 523,
    "start_time": "2022-11-28T20:04:43.366Z"
   },
   {
    "duration": 7,
    "start_time": "2022-11-28T20:04:43.891Z"
   },
   {
    "duration": 16,
    "start_time": "2022-11-28T20:04:43.900Z"
   },
   {
    "duration": 32,
    "start_time": "2022-11-28T20:04:43.918Z"
   },
   {
    "duration": 10,
    "start_time": "2022-11-28T20:04:43.951Z"
   },
   {
    "duration": 36,
    "start_time": "2022-11-28T20:04:43.962Z"
   },
   {
    "duration": 406,
    "start_time": "2022-11-28T20:05:16.844Z"
   },
   {
    "duration": 55,
    "start_time": "2022-11-28T20:05:17.252Z"
   },
   {
    "duration": 21,
    "start_time": "2022-11-28T20:05:17.309Z"
   },
   {
    "duration": 26,
    "start_time": "2022-11-28T20:05:17.332Z"
   },
   {
    "duration": 27,
    "start_time": "2022-11-28T20:05:17.360Z"
   },
   {
    "duration": 34,
    "start_time": "2022-11-28T20:05:17.389Z"
   },
   {
    "duration": 44,
    "start_time": "2022-11-28T20:05:17.424Z"
   },
   {
    "duration": 5,
    "start_time": "2022-11-28T20:05:17.470Z"
   },
   {
    "duration": 25,
    "start_time": "2022-11-28T20:05:17.477Z"
   },
   {
    "duration": 54,
    "start_time": "2022-11-28T20:05:17.505Z"
   },
   {
    "duration": 22,
    "start_time": "2022-11-28T20:05:17.561Z"
   },
   {
    "duration": 30,
    "start_time": "2022-11-28T20:05:17.585Z"
   },
   {
    "duration": 19,
    "start_time": "2022-11-28T20:05:17.617Z"
   },
   {
    "duration": 12,
    "start_time": "2022-11-28T20:05:17.637Z"
   },
   {
    "duration": 32,
    "start_time": "2022-11-28T20:05:17.650Z"
   },
   {
    "duration": 13,
    "start_time": "2022-11-28T20:05:17.684Z"
   },
   {
    "duration": 21,
    "start_time": "2022-11-28T20:05:17.698Z"
   },
   {
    "duration": 528,
    "start_time": "2022-11-28T20:05:17.720Z"
   },
   {
    "duration": 8,
    "start_time": "2022-11-28T20:05:18.249Z"
   },
   {
    "duration": 25,
    "start_time": "2022-11-28T20:05:18.258Z"
   },
   {
    "duration": 33,
    "start_time": "2022-11-28T20:05:18.285Z"
   },
   {
    "duration": 7,
    "start_time": "2022-11-28T20:05:18.320Z"
   },
   {
    "duration": 47,
    "start_time": "2022-11-28T20:05:18.329Z"
   },
   {
    "duration": 9,
    "start_time": "2022-11-28T20:05:38.956Z"
   },
   {
    "duration": 7,
    "start_time": "2022-11-28T20:06:03.711Z"
   },
   {
    "duration": 6,
    "start_time": "2022-11-28T20:06:15.918Z"
   },
   {
    "duration": 4,
    "start_time": "2022-11-28T20:06:16.636Z"
   },
   {
    "duration": 5,
    "start_time": "2022-11-28T20:11:50.644Z"
   },
   {
    "duration": 7,
    "start_time": "2022-11-28T20:12:27.332Z"
   },
   {
    "duration": 5,
    "start_time": "2022-11-28T20:12:28.839Z"
   },
   {
    "duration": 23,
    "start_time": "2022-11-28T20:12:35.312Z"
   },
   {
    "duration": 13,
    "start_time": "2022-11-28T20:12:45.105Z"
   },
   {
    "duration": 3,
    "start_time": "2022-11-28T20:14:28.848Z"
   },
   {
    "duration": 1319,
    "start_time": "2022-11-28T20:15:54.316Z"
   },
   {
    "duration": 204,
    "start_time": "2022-11-28T20:16:56.834Z"
   },
   {
    "duration": 9,
    "start_time": "2022-11-28T20:17:41.622Z"
   },
   {
    "duration": 9,
    "start_time": "2022-11-28T20:17:50.718Z"
   },
   {
    "duration": 9,
    "start_time": "2022-11-28T20:18:54.116Z"
   },
   {
    "duration": 150,
    "start_time": "2022-11-28T20:25:12.247Z"
   },
   {
    "duration": 143,
    "start_time": "2022-11-28T20:27:15.962Z"
   },
   {
    "duration": 7,
    "start_time": "2022-11-28T20:27:32.961Z"
   },
   {
    "duration": 6,
    "start_time": "2022-11-28T20:27:48.994Z"
   },
   {
    "duration": 6,
    "start_time": "2022-11-28T20:28:11.072Z"
   },
   {
    "duration": 3,
    "start_time": "2022-11-28T20:28:13.727Z"
   },
   {
    "duration": 15,
    "start_time": "2022-11-28T20:28:14.205Z"
   },
   {
    "duration": 8,
    "start_time": "2022-11-28T20:28:14.884Z"
   },
   {
    "duration": 5,
    "start_time": "2022-11-28T20:28:15.683Z"
   },
   {
    "duration": 156,
    "start_time": "2022-11-28T20:28:58.141Z"
   },
   {
    "duration": 144,
    "start_time": "2022-11-28T20:29:17.161Z"
   },
   {
    "duration": 214,
    "start_time": "2022-11-28T20:29:34.213Z"
   },
   {
    "duration": 143,
    "start_time": "2022-11-28T20:29:43.229Z"
   },
   {
    "duration": 24,
    "start_time": "2022-11-28T20:31:09.369Z"
   },
   {
    "duration": 7,
    "start_time": "2022-11-28T20:31:20.972Z"
   },
   {
    "duration": 5,
    "start_time": "2022-11-28T20:31:22.229Z"
   },
   {
    "duration": 124,
    "start_time": "2022-11-28T20:31:23.792Z"
   },
   {
    "duration": 6,
    "start_time": "2022-11-28T20:33:44.764Z"
   },
   {
    "duration": 5,
    "start_time": "2022-11-28T20:33:45.327Z"
   },
   {
    "duration": 7,
    "start_time": "2022-11-28T20:33:55.131Z"
   },
   {
    "duration": 5,
    "start_time": "2022-11-28T20:33:55.693Z"
   },
   {
    "duration": 23,
    "start_time": "2022-11-28T20:34:58.041Z"
   },
   {
    "duration": 14,
    "start_time": "2022-11-28T20:35:14.796Z"
   },
   {
    "duration": 37,
    "start_time": "2022-11-28T20:35:55.094Z"
   },
   {
    "duration": 13,
    "start_time": "2022-11-28T20:36:21.190Z"
   },
   {
    "duration": 12,
    "start_time": "2022-11-28T20:36:27.217Z"
   },
   {
    "duration": 23,
    "start_time": "2022-11-28T20:36:30.561Z"
   },
   {
    "duration": 18,
    "start_time": "2022-11-28T20:36:38.562Z"
   },
   {
    "duration": 16,
    "start_time": "2022-11-28T20:36:56.695Z"
   },
   {
    "duration": 5,
    "start_time": "2022-11-28T20:37:56.899Z"
   },
   {
    "duration": 126,
    "start_time": "2022-11-28T20:38:00.391Z"
   },
   {
    "duration": 140,
    "start_time": "2022-11-28T20:43:27.565Z"
   },
   {
    "duration": 154,
    "start_time": "2022-11-28T20:45:33.313Z"
   },
   {
    "duration": 16,
    "start_time": "2022-11-28T20:49:48.032Z"
   },
   {
    "duration": 7,
    "start_time": "2022-11-28T20:51:21.048Z"
   },
   {
    "duration": 6,
    "start_time": "2022-11-28T20:51:33.158Z"
   },
   {
    "duration": 68,
    "start_time": "2022-11-28T20:54:14.370Z"
   },
   {
    "duration": 5,
    "start_time": "2022-11-28T20:54:20.724Z"
   },
   {
    "duration": 6,
    "start_time": "2022-11-28T20:54:25.522Z"
   },
   {
    "duration": 662,
    "start_time": "2022-11-28T20:58:59.609Z"
   },
   {
    "duration": 53,
    "start_time": "2022-11-28T20:59:00.273Z"
   },
   {
    "duration": 19,
    "start_time": "2022-11-28T20:59:00.328Z"
   },
   {
    "duration": 24,
    "start_time": "2022-11-28T20:59:00.349Z"
   },
   {
    "duration": 13,
    "start_time": "2022-11-28T20:59:00.377Z"
   },
   {
    "duration": 22,
    "start_time": "2022-11-28T20:59:00.392Z"
   },
   {
    "duration": 38,
    "start_time": "2022-11-28T20:59:00.416Z"
   },
   {
    "duration": 5,
    "start_time": "2022-11-28T20:59:00.455Z"
   },
   {
    "duration": 27,
    "start_time": "2022-11-28T20:59:00.461Z"
   },
   {
    "duration": 33,
    "start_time": "2022-11-28T20:59:00.490Z"
   },
   {
    "duration": 68,
    "start_time": "2022-11-28T20:59:00.525Z"
   },
   {
    "duration": 26,
    "start_time": "2022-11-28T20:59:00.595Z"
   },
   {
    "duration": 27,
    "start_time": "2022-11-28T20:59:00.623Z"
   },
   {
    "duration": 26,
    "start_time": "2022-11-28T20:59:00.652Z"
   },
   {
    "duration": 27,
    "start_time": "2022-11-28T20:59:00.680Z"
   },
   {
    "duration": 6,
    "start_time": "2022-11-28T20:59:00.709Z"
   },
   {
    "duration": 16,
    "start_time": "2022-11-28T20:59:00.717Z"
   },
   {
    "duration": 323,
    "start_time": "2022-11-28T20:59:00.735Z"
   },
   {
    "duration": 9,
    "start_time": "2022-11-28T20:59:01.060Z"
   },
   {
    "duration": 39,
    "start_time": "2022-11-28T20:59:01.070Z"
   },
   {
    "duration": 35,
    "start_time": "2022-11-28T20:59:01.111Z"
   },
   {
    "duration": 15,
    "start_time": "2022-11-28T20:59:01.148Z"
   },
   {
    "duration": 30,
    "start_time": "2022-11-28T20:59:01.165Z"
   },
   {
    "duration": 173,
    "start_time": "2022-11-28T20:59:01.198Z"
   },
   {
    "duration": 152,
    "start_time": "2022-11-28T20:59:01.373Z"
   },
   {
    "duration": 10,
    "start_time": "2022-11-28T20:59:01.527Z"
   },
   {
    "duration": 13,
    "start_time": "2022-11-28T20:59:01.539Z"
   },
   {
    "duration": 7,
    "start_time": "2022-11-28T21:06:33.777Z"
   },
   {
    "duration": 6,
    "start_time": "2022-11-28T21:06:41.658Z"
   },
   {
    "duration": 7,
    "start_time": "2022-11-28T21:10:11.619Z"
   },
   {
    "duration": 6,
    "start_time": "2022-11-28T21:10:30.537Z"
   },
   {
    "duration": 6,
    "start_time": "2022-11-28T21:10:53.760Z"
   },
   {
    "duration": 5,
    "start_time": "2022-11-28T21:15:19.915Z"
   },
   {
    "duration": 7,
    "start_time": "2022-11-28T21:15:30.593Z"
   },
   {
    "duration": 8,
    "start_time": "2022-11-28T21:16:06.711Z"
   },
   {
    "duration": 9,
    "start_time": "2022-11-28T21:19:22.389Z"
   },
   {
    "duration": 48,
    "start_time": "2022-11-28T21:20:24.773Z"
   },
   {
    "duration": 45,
    "start_time": "2022-11-29T18:43:21.391Z"
   },
   {
    "duration": 812,
    "start_time": "2022-11-29T18:43:34.646Z"
   },
   {
    "duration": 185,
    "start_time": "2022-11-29T18:43:35.460Z"
   },
   {
    "duration": 21,
    "start_time": "2022-11-29T18:43:35.647Z"
   },
   {
    "duration": 24,
    "start_time": "2022-11-29T18:43:35.670Z"
   },
   {
    "duration": 15,
    "start_time": "2022-11-29T18:43:35.697Z"
   },
   {
    "duration": 44,
    "start_time": "2022-11-29T18:43:35.714Z"
   },
   {
    "duration": 24,
    "start_time": "2022-11-29T18:43:35.760Z"
   },
   {
    "duration": 5,
    "start_time": "2022-11-29T18:43:35.785Z"
   },
   {
    "duration": 37,
    "start_time": "2022-11-29T18:43:35.792Z"
   },
   {
    "duration": 36,
    "start_time": "2022-11-29T18:43:35.831Z"
   },
   {
    "duration": 20,
    "start_time": "2022-11-29T18:43:35.869Z"
   },
   {
    "duration": 31,
    "start_time": "2022-11-29T18:43:35.891Z"
   },
   {
    "duration": 33,
    "start_time": "2022-11-29T18:43:35.924Z"
   },
   {
    "duration": 9,
    "start_time": "2022-11-29T18:43:35.960Z"
   },
   {
    "duration": 37,
    "start_time": "2022-11-29T18:43:35.973Z"
   },
   {
    "duration": 28,
    "start_time": "2022-11-29T18:43:36.012Z"
   },
   {
    "duration": 27,
    "start_time": "2022-11-29T18:43:36.042Z"
   },
   {
    "duration": 296,
    "start_time": "2022-11-29T18:43:36.071Z"
   },
   {
    "duration": 10,
    "start_time": "2022-11-29T18:43:36.369Z"
   },
   {
    "duration": 39,
    "start_time": "2022-11-29T18:43:36.381Z"
   },
   {
    "duration": 62,
    "start_time": "2022-11-29T18:43:36.421Z"
   },
   {
    "duration": 25,
    "start_time": "2022-11-29T18:43:36.485Z"
   },
   {
    "duration": 8,
    "start_time": "2022-11-29T18:43:36.512Z"
   },
   {
    "duration": 167,
    "start_time": "2022-11-29T18:43:36.521Z"
   },
   {
    "duration": 139,
    "start_time": "2022-11-29T18:43:36.690Z"
   },
   {
    "duration": 7,
    "start_time": "2022-11-29T18:43:36.832Z"
   },
   {
    "duration": 32,
    "start_time": "2022-11-29T18:43:36.841Z"
   },
   {
    "duration": 32,
    "start_time": "2022-11-29T18:43:36.875Z"
   },
   {
    "duration": 39,
    "start_time": "2022-11-29T18:43:36.909Z"
   },
   {
    "duration": 29,
    "start_time": "2022-11-29T18:43:36.950Z"
   },
   {
    "duration": 33,
    "start_time": "2022-11-29T18:43:36.980Z"
   },
   {
    "duration": 20,
    "start_time": "2022-11-29T18:43:37.014Z"
   },
   {
    "duration": 42,
    "start_time": "2022-11-29T18:43:37.036Z"
   },
   {
    "duration": 70,
    "start_time": "2022-11-29T18:43:37.080Z"
   },
   {
    "duration": 3,
    "start_time": "2022-11-29T18:43:46.729Z"
   },
   {
    "duration": 7,
    "start_time": "2022-11-29T18:50:35.864Z"
   },
   {
    "duration": 67,
    "start_time": "2022-11-29T18:53:11.350Z"
   },
   {
    "duration": 8,
    "start_time": "2022-11-29T18:53:15.412Z"
   },
   {
    "duration": 8,
    "start_time": "2022-11-29T18:53:19.421Z"
   },
   {
    "duration": 9,
    "start_time": "2022-11-29T18:53:26.108Z"
   },
   {
    "duration": 7,
    "start_time": "2022-11-29T18:53:30.128Z"
   },
   {
    "duration": 5,
    "start_time": "2022-11-29T18:53:40.186Z"
   },
   {
    "duration": 6,
    "start_time": "2022-11-29T18:54:47.580Z"
   },
   {
    "duration": 12,
    "start_time": "2022-11-29T18:57:06.288Z"
   },
   {
    "duration": 7,
    "start_time": "2022-11-29T18:58:07.143Z"
   },
   {
    "duration": 11,
    "start_time": "2022-11-29T18:58:09.615Z"
   },
   {
    "duration": 7,
    "start_time": "2022-11-29T18:58:30.200Z"
   },
   {
    "duration": 7,
    "start_time": "2022-11-29T18:59:00.112Z"
   },
   {
    "duration": 13,
    "start_time": "2022-11-29T18:59:34.848Z"
   },
   {
    "duration": 10,
    "start_time": "2022-11-29T18:59:57.689Z"
   },
   {
    "duration": 7,
    "start_time": "2022-11-29T19:00:03.589Z"
   },
   {
    "duration": 71,
    "start_time": "2022-11-29T19:01:15.794Z"
   },
   {
    "duration": 19,
    "start_time": "2022-11-29T19:01:38.690Z"
   },
   {
    "duration": 8,
    "start_time": "2022-11-29T19:01:58.892Z"
   },
   {
    "duration": 8,
    "start_time": "2022-11-29T19:02:29.390Z"
   },
   {
    "duration": 5,
    "start_time": "2022-11-29T19:02:33.228Z"
   },
   {
    "duration": 66,
    "start_time": "2022-11-29T19:02:35.222Z"
   },
   {
    "duration": 9,
    "start_time": "2022-11-29T19:04:50.838Z"
   },
   {
    "duration": 7,
    "start_time": "2022-11-29T19:05:56.612Z"
   },
   {
    "duration": 124,
    "start_time": "2022-11-29T19:06:01.053Z"
   },
   {
    "duration": 5,
    "start_time": "2022-11-29T19:06:46.357Z"
   },
   {
    "duration": 7,
    "start_time": "2022-11-29T19:07:05.781Z"
   },
   {
    "duration": 76,
    "start_time": "2022-11-29T19:07:26.715Z"
   },
   {
    "duration": 82,
    "start_time": "2022-11-29T19:08:27.792Z"
   },
   {
    "duration": 6,
    "start_time": "2022-11-29T19:08:42.992Z"
   },
   {
    "duration": 7,
    "start_time": "2022-11-29T19:09:13.032Z"
   },
   {
    "duration": 72,
    "start_time": "2022-11-29T19:09:30.507Z"
   },
   {
    "duration": 7,
    "start_time": "2022-11-29T19:13:54.992Z"
   },
   {
    "duration": 9,
    "start_time": "2022-11-29T19:14:12.896Z"
   },
   {
    "duration": 7,
    "start_time": "2022-11-29T19:14:30.716Z"
   },
   {
    "duration": 7,
    "start_time": "2022-11-29T19:16:10.224Z"
   },
   {
    "duration": 6,
    "start_time": "2022-11-29T19:16:14.172Z"
   },
   {
    "duration": 28,
    "start_time": "2022-11-29T19:17:10.985Z"
   },
   {
    "duration": 5,
    "start_time": "2022-11-29T19:17:23.809Z"
   },
   {
    "duration": 10,
    "start_time": "2022-11-29T19:17:24.470Z"
   },
   {
    "duration": 72,
    "start_time": "2022-11-29T19:17:43.790Z"
   },
   {
    "duration": 6,
    "start_time": "2022-11-29T19:26:39.358Z"
   },
   {
    "duration": 8,
    "start_time": "2022-11-29T19:26:51.028Z"
   },
   {
    "duration": 6,
    "start_time": "2022-11-29T19:26:56.052Z"
   },
   {
    "duration": 125,
    "start_time": "2022-11-29T19:26:57.853Z"
   },
   {
    "duration": 6,
    "start_time": "2022-11-29T19:27:38.442Z"
   },
   {
    "duration": 8,
    "start_time": "2022-11-29T19:28:00.503Z"
   },
   {
    "duration": 114,
    "start_time": "2022-11-29T19:28:19.321Z"
   },
   {
    "duration": 6,
    "start_time": "2022-11-29T19:29:56.826Z"
   },
   {
    "duration": 9,
    "start_time": "2022-11-29T19:30:05.186Z"
   },
   {
    "duration": 7,
    "start_time": "2022-11-29T19:30:27.272Z"
   },
   {
    "duration": 111,
    "start_time": "2022-11-29T19:30:42.493Z"
   },
   {
    "duration": 11,
    "start_time": "2022-11-29T19:34:53.762Z"
   },
   {
    "duration": 10,
    "start_time": "2022-11-29T19:35:41.529Z"
   },
   {
    "duration": 9,
    "start_time": "2022-11-29T19:35:56.634Z"
   },
   {
    "duration": 9,
    "start_time": "2022-11-29T19:36:40.692Z"
   },
   {
    "duration": 4,
    "start_time": "2022-11-29T19:37:15.275Z"
   },
   {
    "duration": 9,
    "start_time": "2022-11-29T19:37:17.340Z"
   },
   {
    "duration": 658,
    "start_time": "2022-11-29T19:37:25.505Z"
   },
   {
    "duration": 55,
    "start_time": "2022-11-29T19:37:26.165Z"
   },
   {
    "duration": 19,
    "start_time": "2022-11-29T19:37:26.221Z"
   },
   {
    "duration": 16,
    "start_time": "2022-11-29T19:37:26.242Z"
   },
   {
    "duration": 4,
    "start_time": "2022-11-29T19:37:26.260Z"
   },
   {
    "duration": 15,
    "start_time": "2022-11-29T19:37:26.266Z"
   },
   {
    "duration": 23,
    "start_time": "2022-11-29T19:37:26.283Z"
   },
   {
    "duration": 5,
    "start_time": "2022-11-29T19:37:26.308Z"
   },
   {
    "duration": 8,
    "start_time": "2022-11-29T19:37:26.315Z"
   },
   {
    "duration": 16,
    "start_time": "2022-11-29T19:37:26.325Z"
   },
   {
    "duration": 43,
    "start_time": "2022-11-29T19:37:26.342Z"
   },
   {
    "duration": 8,
    "start_time": "2022-11-29T19:37:26.386Z"
   },
   {
    "duration": 8,
    "start_time": "2022-11-29T19:37:26.395Z"
   },
   {
    "duration": 8,
    "start_time": "2022-11-29T19:37:26.405Z"
   },
   {
    "duration": 18,
    "start_time": "2022-11-29T19:37:26.415Z"
   },
   {
    "duration": 6,
    "start_time": "2022-11-29T19:37:26.435Z"
   },
   {
    "duration": 9,
    "start_time": "2022-11-29T19:37:26.442Z"
   },
   {
    "duration": 317,
    "start_time": "2022-11-29T19:37:26.477Z"
   },
   {
    "duration": 10,
    "start_time": "2022-11-29T19:37:26.795Z"
   },
   {
    "duration": 5,
    "start_time": "2022-11-29T19:37:26.807Z"
   },
   {
    "duration": 19,
    "start_time": "2022-11-29T19:37:26.814Z"
   },
   {
    "duration": 8,
    "start_time": "2022-11-29T19:37:26.835Z"
   },
   {
    "duration": 9,
    "start_time": "2022-11-29T19:37:26.845Z"
   },
   {
    "duration": 174,
    "start_time": "2022-11-29T19:37:26.856Z"
   },
   {
    "duration": 162,
    "start_time": "2022-11-29T19:37:27.032Z"
   },
   {
    "duration": 7,
    "start_time": "2022-11-29T19:37:27.196Z"
   },
   {
    "duration": 18,
    "start_time": "2022-11-29T19:37:27.205Z"
   },
   {
    "duration": 9,
    "start_time": "2022-11-29T19:37:27.227Z"
   },
   {
    "duration": 11,
    "start_time": "2022-11-29T19:37:27.238Z"
   },
   {
    "duration": 18,
    "start_time": "2022-11-29T19:37:27.251Z"
   },
   {
    "duration": 8,
    "start_time": "2022-11-29T19:37:27.278Z"
   },
   {
    "duration": 30,
    "start_time": "2022-11-29T19:37:27.288Z"
   },
   {
    "duration": 28,
    "start_time": "2022-11-29T19:37:27.319Z"
   },
   {
    "duration": 36,
    "start_time": "2022-11-29T19:37:27.349Z"
   },
   {
    "duration": 116,
    "start_time": "2022-11-29T19:37:27.387Z"
   },
   {
    "duration": 7,
    "start_time": "2022-11-29T19:37:27.504Z"
   },
   {
    "duration": 28,
    "start_time": "2022-11-29T19:37:27.512Z"
   },
   {
    "duration": 151,
    "start_time": "2022-11-29T19:37:27.542Z"
   },
   {
    "duration": 6,
    "start_time": "2022-11-29T19:37:27.695Z"
   },
   {
    "duration": 23,
    "start_time": "2022-11-29T19:37:27.703Z"
   },
   {
    "duration": 93,
    "start_time": "2022-11-29T19:37:27.727Z"
   },
   {
    "duration": 4,
    "start_time": "2022-11-29T19:37:27.822Z"
   },
   {
    "duration": 113,
    "start_time": "2022-11-29T19:37:27.828Z"
   },
   {
    "duration": 0,
    "start_time": "2022-11-29T19:37:27.942Z"
   },
   {
    "duration": 0,
    "start_time": "2022-11-29T19:37:27.943Z"
   },
   {
    "duration": 0,
    "start_time": "2022-11-29T19:37:27.944Z"
   },
   {
    "duration": 0,
    "start_time": "2022-11-29T19:37:27.945Z"
   },
   {
    "duration": 0,
    "start_time": "2022-11-29T19:37:27.946Z"
   },
   {
    "duration": 0,
    "start_time": "2022-11-29T19:37:27.948Z"
   },
   {
    "duration": 0,
    "start_time": "2022-11-29T19:37:27.949Z"
   },
   {
    "duration": 11,
    "start_time": "2022-11-29T19:38:33.158Z"
   },
   {
    "duration": 5,
    "start_time": "2022-11-29T19:38:52.997Z"
   },
   {
    "duration": 9,
    "start_time": "2022-11-29T19:43:29.256Z"
   },
   {
    "duration": 9,
    "start_time": "2022-11-29T19:43:51.466Z"
   },
   {
    "duration": 3,
    "start_time": "2022-11-29T19:43:54.160Z"
   },
   {
    "duration": 1200,
    "start_time": "2022-11-29T19:43:54.643Z"
   },
   {
    "duration": 87,
    "start_time": "2022-11-29T19:45:41.980Z"
   },
   {
    "duration": 3,
    "start_time": "2022-11-29T19:45:46.572Z"
   },
   {
    "duration": 3,
    "start_time": "2022-11-29T19:45:50.584Z"
   },
   {
    "duration": 4,
    "start_time": "2022-11-29T19:45:51.115Z"
   },
   {
    "duration": 1227,
    "start_time": "2022-11-29T19:46:13.417Z"
   },
   {
    "duration": 1052,
    "start_time": "2022-11-29T19:46:34.883Z"
   },
   {
    "duration": 9,
    "start_time": "2022-11-29T19:48:24.056Z"
   },
   {
    "duration": 8,
    "start_time": "2022-11-29T19:48:30.218Z"
   },
   {
    "duration": 66,
    "start_time": "2022-11-29T19:48:44.175Z"
   },
   {
    "duration": 7,
    "start_time": "2022-11-29T19:48:46.821Z"
   },
   {
    "duration": 638,
    "start_time": "2022-11-29T19:48:54.099Z"
   },
   {
    "duration": 51,
    "start_time": "2022-11-29T19:48:54.739Z"
   },
   {
    "duration": 21,
    "start_time": "2022-11-29T19:48:54.792Z"
   },
   {
    "duration": 14,
    "start_time": "2022-11-29T19:48:54.816Z"
   },
   {
    "duration": 4,
    "start_time": "2022-11-29T19:48:54.831Z"
   },
   {
    "duration": 17,
    "start_time": "2022-11-29T19:48:54.836Z"
   },
   {
    "duration": 31,
    "start_time": "2022-11-29T19:48:54.855Z"
   },
   {
    "duration": 5,
    "start_time": "2022-11-29T19:48:54.887Z"
   },
   {
    "duration": 22,
    "start_time": "2022-11-29T19:48:54.894Z"
   },
   {
    "duration": 22,
    "start_time": "2022-11-29T19:48:54.919Z"
   },
   {
    "duration": 17,
    "start_time": "2022-11-29T19:48:54.943Z"
   },
   {
    "duration": 13,
    "start_time": "2022-11-29T19:48:54.962Z"
   },
   {
    "duration": 9,
    "start_time": "2022-11-29T19:48:54.976Z"
   },
   {
    "duration": 8,
    "start_time": "2022-11-29T19:48:54.986Z"
   },
   {
    "duration": 18,
    "start_time": "2022-11-29T19:48:54.996Z"
   },
   {
    "duration": 7,
    "start_time": "2022-11-29T19:48:55.016Z"
   },
   {
    "duration": 11,
    "start_time": "2022-11-29T19:48:55.024Z"
   },
   {
    "duration": 285,
    "start_time": "2022-11-29T19:48:55.036Z"
   },
   {
    "duration": 9,
    "start_time": "2022-11-29T19:48:55.323Z"
   },
   {
    "duration": 8,
    "start_time": "2022-11-29T19:48:55.334Z"
   },
   {
    "duration": 19,
    "start_time": "2022-11-29T19:48:55.344Z"
   },
   {
    "duration": 8,
    "start_time": "2022-11-29T19:48:55.377Z"
   },
   {
    "duration": 8,
    "start_time": "2022-11-29T19:48:55.387Z"
   },
   {
    "duration": 144,
    "start_time": "2022-11-29T19:48:55.397Z"
   },
   {
    "duration": 150,
    "start_time": "2022-11-29T19:48:55.543Z"
   },
   {
    "duration": 9,
    "start_time": "2022-11-29T19:48:55.694Z"
   },
   {
    "duration": 24,
    "start_time": "2022-11-29T19:48:55.704Z"
   },
   {
    "duration": 9,
    "start_time": "2022-11-29T19:48:55.731Z"
   },
   {
    "duration": 16,
    "start_time": "2022-11-29T19:48:55.741Z"
   },
   {
    "duration": 28,
    "start_time": "2022-11-29T19:48:55.759Z"
   },
   {
    "duration": 10,
    "start_time": "2022-11-29T19:48:55.789Z"
   },
   {
    "duration": 7,
    "start_time": "2022-11-29T19:48:55.800Z"
   },
   {
    "duration": 7,
    "start_time": "2022-11-29T19:48:55.809Z"
   },
   {
    "duration": 10,
    "start_time": "2022-11-29T19:48:55.818Z"
   },
   {
    "duration": 96,
    "start_time": "2022-11-29T19:48:55.830Z"
   },
   {
    "duration": 6,
    "start_time": "2022-11-29T19:48:55.928Z"
   },
   {
    "duration": 10,
    "start_time": "2022-11-29T19:48:55.936Z"
   },
   {
    "duration": 141,
    "start_time": "2022-11-29T19:48:55.948Z"
   },
   {
    "duration": 6,
    "start_time": "2022-11-29T19:48:56.091Z"
   },
   {
    "duration": 9,
    "start_time": "2022-11-29T19:48:56.098Z"
   },
   {
    "duration": 89,
    "start_time": "2022-11-29T19:48:56.108Z"
   },
   {
    "duration": 7,
    "start_time": "2022-11-29T19:48:56.198Z"
   },
   {
    "duration": 11,
    "start_time": "2022-11-29T19:48:56.207Z"
   },
   {
    "duration": 99,
    "start_time": "2022-11-29T19:48:56.220Z"
   },
   {
    "duration": 9,
    "start_time": "2022-11-29T19:48:56.321Z"
   },
   {
    "duration": 8,
    "start_time": "2022-11-29T19:48:56.332Z"
   },
   {
    "duration": 169,
    "start_time": "2022-11-29T19:48:56.342Z"
   },
   {
    "duration": 7,
    "start_time": "2022-11-29T19:48:56.512Z"
   },
   {
    "duration": 12,
    "start_time": "2022-11-29T19:48:56.520Z"
   },
   {
    "duration": 154,
    "start_time": "2022-11-29T19:48:56.533Z"
   },
   {
    "duration": 7,
    "start_time": "2022-11-29T19:49:53.368Z"
   },
   {
    "duration": 121,
    "start_time": "2022-11-29T19:49:54.168Z"
   },
   {
    "duration": 626,
    "start_time": "2022-11-29T19:50:00.676Z"
   },
   {
    "duration": 53,
    "start_time": "2022-11-29T19:50:01.304Z"
   },
   {
    "duration": 16,
    "start_time": "2022-11-29T19:50:01.359Z"
   },
   {
    "duration": 27,
    "start_time": "2022-11-29T19:50:01.377Z"
   },
   {
    "duration": 9,
    "start_time": "2022-11-29T19:50:01.405Z"
   },
   {
    "duration": 19,
    "start_time": "2022-11-29T19:50:01.416Z"
   },
   {
    "duration": 21,
    "start_time": "2022-11-29T19:50:01.437Z"
   },
   {
    "duration": 5,
    "start_time": "2022-11-29T19:50:01.459Z"
   },
   {
    "duration": 28,
    "start_time": "2022-11-29T19:50:01.465Z"
   },
   {
    "duration": 30,
    "start_time": "2022-11-29T19:50:01.496Z"
   },
   {
    "duration": 16,
    "start_time": "2022-11-29T19:50:01.527Z"
   },
   {
    "duration": 24,
    "start_time": "2022-11-29T19:50:01.544Z"
   },
   {
    "duration": 23,
    "start_time": "2022-11-29T19:50:01.570Z"
   },
   {
    "duration": 25,
    "start_time": "2022-11-29T19:50:01.595Z"
   },
   {
    "duration": 27,
    "start_time": "2022-11-29T19:50:01.622Z"
   },
   {
    "duration": 13,
    "start_time": "2022-11-29T19:50:01.650Z"
   },
   {
    "duration": 24,
    "start_time": "2022-11-29T19:50:01.664Z"
   },
   {
    "duration": 269,
    "start_time": "2022-11-29T19:50:01.690Z"
   },
   {
    "duration": 7,
    "start_time": "2022-11-29T19:50:01.960Z"
   },
   {
    "duration": 31,
    "start_time": "2022-11-29T19:50:01.968Z"
   },
   {
    "duration": 36,
    "start_time": "2022-11-29T19:50:02.001Z"
   },
   {
    "duration": 26,
    "start_time": "2022-11-29T19:50:02.039Z"
   },
   {
    "duration": 38,
    "start_time": "2022-11-29T19:50:02.066Z"
   },
   {
    "duration": 144,
    "start_time": "2022-11-29T19:50:02.106Z"
   },
   {
    "duration": 129,
    "start_time": "2022-11-29T19:50:02.252Z"
   },
   {
    "duration": 7,
    "start_time": "2022-11-29T19:50:02.383Z"
   },
   {
    "duration": 13,
    "start_time": "2022-11-29T19:50:02.391Z"
   },
   {
    "duration": 8,
    "start_time": "2022-11-29T19:50:02.408Z"
   },
   {
    "duration": 14,
    "start_time": "2022-11-29T19:50:02.418Z"
   },
   {
    "duration": 10,
    "start_time": "2022-11-29T19:50:02.434Z"
   },
   {
    "duration": 31,
    "start_time": "2022-11-29T19:50:02.445Z"
   },
   {
    "duration": 14,
    "start_time": "2022-11-29T19:50:02.478Z"
   },
   {
    "duration": 11,
    "start_time": "2022-11-29T19:50:02.493Z"
   },
   {
    "duration": 8,
    "start_time": "2022-11-29T19:50:02.505Z"
   },
   {
    "duration": 73,
    "start_time": "2022-11-29T19:50:02.514Z"
   },
   {
    "duration": 6,
    "start_time": "2022-11-29T19:50:02.588Z"
   },
   {
    "duration": 13,
    "start_time": "2022-11-29T19:50:02.595Z"
   },
   {
    "duration": 126,
    "start_time": "2022-11-29T19:50:02.609Z"
   },
   {
    "duration": 6,
    "start_time": "2022-11-29T19:50:02.737Z"
   },
   {
    "duration": 9,
    "start_time": "2022-11-29T19:50:02.744Z"
   },
   {
    "duration": 86,
    "start_time": "2022-11-29T19:50:02.755Z"
   },
   {
    "duration": 7,
    "start_time": "2022-11-29T19:50:02.843Z"
   },
   {
    "duration": 31,
    "start_time": "2022-11-29T19:50:02.851Z"
   },
   {
    "duration": 124,
    "start_time": "2022-11-29T19:50:02.884Z"
   },
   {
    "duration": 6,
    "start_time": "2022-11-29T19:50:03.010Z"
   },
   {
    "duration": 13,
    "start_time": "2022-11-29T19:50:03.017Z"
   },
   {
    "duration": 127,
    "start_time": "2022-11-29T19:50:03.031Z"
   },
   {
    "duration": 6,
    "start_time": "2022-11-29T19:50:03.159Z"
   },
   {
    "duration": 16,
    "start_time": "2022-11-29T19:50:03.166Z"
   },
   {
    "duration": 120,
    "start_time": "2022-11-29T19:50:03.184Z"
   },
   {
    "duration": 16,
    "start_time": "2022-11-29T19:51:45.685Z"
   },
   {
    "duration": 14,
    "start_time": "2022-11-29T19:58:33.555Z"
   },
   {
    "duration": 13,
    "start_time": "2022-11-29T19:58:53.253Z"
   },
   {
    "duration": 13,
    "start_time": "2022-11-29T19:59:08.757Z"
   },
   {
    "duration": 7,
    "start_time": "2022-11-29T20:00:42.378Z"
   },
   {
    "duration": 8,
    "start_time": "2022-11-29T20:01:20.605Z"
   },
   {
    "duration": 8,
    "start_time": "2022-11-29T20:01:47.267Z"
   },
   {
    "duration": 55,
    "start_time": "2022-11-30T07:09:58.937Z"
   },
   {
    "duration": 783,
    "start_time": "2022-11-30T07:10:06.584Z"
   },
   {
    "duration": 466,
    "start_time": "2022-11-30T07:10:07.369Z"
   },
   {
    "duration": 18,
    "start_time": "2022-11-30T07:10:07.836Z"
   },
   {
    "duration": 23,
    "start_time": "2022-11-30T07:10:07.855Z"
   },
   {
    "duration": 13,
    "start_time": "2022-11-30T07:10:07.880Z"
   },
   {
    "duration": 32,
    "start_time": "2022-11-30T07:10:07.894Z"
   },
   {
    "duration": 20,
    "start_time": "2022-11-30T07:10:07.928Z"
   },
   {
    "duration": 9,
    "start_time": "2022-11-30T07:10:07.950Z"
   },
   {
    "duration": 10,
    "start_time": "2022-11-30T07:10:07.961Z"
   },
   {
    "duration": 24,
    "start_time": "2022-11-30T07:10:07.973Z"
   },
   {
    "duration": 14,
    "start_time": "2022-11-30T07:10:07.998Z"
   },
   {
    "duration": 13,
    "start_time": "2022-11-30T07:10:08.013Z"
   },
   {
    "duration": 18,
    "start_time": "2022-11-30T07:10:08.027Z"
   },
   {
    "duration": 17,
    "start_time": "2022-11-30T07:10:08.048Z"
   },
   {
    "duration": 29,
    "start_time": "2022-11-30T07:10:08.067Z"
   },
   {
    "duration": 7,
    "start_time": "2022-11-30T07:10:08.097Z"
   },
   {
    "duration": 21,
    "start_time": "2022-11-30T07:10:08.106Z"
   },
   {
    "duration": 272,
    "start_time": "2022-11-30T07:10:08.129Z"
   },
   {
    "duration": 7,
    "start_time": "2022-11-30T07:10:08.403Z"
   },
   {
    "duration": 23,
    "start_time": "2022-11-30T07:10:08.411Z"
   },
   {
    "duration": 27,
    "start_time": "2022-11-30T07:10:08.436Z"
   },
   {
    "duration": 18,
    "start_time": "2022-11-30T07:10:08.465Z"
   },
   {
    "duration": 28,
    "start_time": "2022-11-30T07:10:08.485Z"
   },
   {
    "duration": 152,
    "start_time": "2022-11-30T07:10:08.514Z"
   },
   {
    "duration": 135,
    "start_time": "2022-11-30T07:10:08.668Z"
   },
   {
    "duration": 7,
    "start_time": "2022-11-30T07:10:08.804Z"
   },
   {
    "duration": 14,
    "start_time": "2022-11-30T07:10:08.812Z"
   },
   {
    "duration": 11,
    "start_time": "2022-11-30T07:10:08.827Z"
   },
   {
    "duration": 10,
    "start_time": "2022-11-30T07:10:08.839Z"
   },
   {
    "duration": 9,
    "start_time": "2022-11-30T07:10:08.851Z"
   },
   {
    "duration": 24,
    "start_time": "2022-11-30T07:10:08.862Z"
   },
   {
    "duration": 9,
    "start_time": "2022-11-30T07:10:08.888Z"
   },
   {
    "duration": 13,
    "start_time": "2022-11-30T07:10:08.899Z"
   },
   {
    "duration": 11,
    "start_time": "2022-11-30T07:10:08.913Z"
   },
   {
    "duration": 82,
    "start_time": "2022-11-30T07:10:08.925Z"
   },
   {
    "duration": 7,
    "start_time": "2022-11-30T07:10:09.008Z"
   },
   {
    "duration": 13,
    "start_time": "2022-11-30T07:10:09.016Z"
   },
   {
    "duration": 135,
    "start_time": "2022-11-30T07:10:09.031Z"
   },
   {
    "duration": 8,
    "start_time": "2022-11-30T07:10:09.177Z"
   },
   {
    "duration": 19,
    "start_time": "2022-11-30T07:10:09.187Z"
   },
   {
    "duration": 83,
    "start_time": "2022-11-30T07:10:09.211Z"
   },
   {
    "duration": 6,
    "start_time": "2022-11-30T07:10:09.295Z"
   },
   {
    "duration": 28,
    "start_time": "2022-11-30T07:10:09.303Z"
   },
   {
    "duration": 120,
    "start_time": "2022-11-30T07:10:09.332Z"
   },
   {
    "duration": 7,
    "start_time": "2022-11-30T07:10:09.453Z"
   },
   {
    "duration": 20,
    "start_time": "2022-11-30T07:10:09.462Z"
   },
   {
    "duration": 116,
    "start_time": "2022-11-30T07:10:09.483Z"
   },
   {
    "duration": 7,
    "start_time": "2022-11-30T07:10:09.600Z"
   },
   {
    "duration": 11,
    "start_time": "2022-11-30T07:10:09.608Z"
   },
   {
    "duration": 126,
    "start_time": "2022-11-30T07:10:09.620Z"
   },
   {
    "duration": 7,
    "start_time": "2022-11-30T07:10:09.748Z"
   },
   {
    "duration": 21,
    "start_time": "2022-11-30T07:10:09.757Z"
   },
   {
    "duration": 7,
    "start_time": "2022-11-30T07:10:09.780Z"
   },
   {
    "duration": 196,
    "start_time": "2022-11-30T07:10:09.788Z"
   },
   {
    "duration": 240,
    "start_time": "2022-11-30T07:10:17.390Z"
   },
   {
    "duration": 265,
    "start_time": "2022-11-30T07:11:44.320Z"
   },
   {
    "duration": 134,
    "start_time": "2022-11-30T07:13:37.377Z"
   },
   {
    "duration": 762,
    "start_time": "2022-11-30T07:13:52.625Z"
   },
   {
    "duration": 452,
    "start_time": "2022-11-30T07:15:08.642Z"
   },
   {
    "duration": 112,
    "start_time": "2022-11-30T08:17:24.834Z"
   },
   {
    "duration": 68,
    "start_time": "2022-11-30T08:17:30.100Z"
   },
   {
    "duration": 78,
    "start_time": "2022-11-30T08:17:34.962Z"
   },
   {
    "duration": 61,
    "start_time": "2022-11-30T08:17:38.274Z"
   },
   {
    "duration": 126,
    "start_time": "2022-11-30T08:17:42.882Z"
   },
   {
    "duration": 119,
    "start_time": "2022-11-30T08:17:46.291Z"
   },
   {
    "duration": 244,
    "start_time": "2022-11-30T08:17:54.322Z"
   },
   {
    "duration": 116,
    "start_time": "2022-11-30T08:18:06.226Z"
   },
   {
    "duration": 193,
    "start_time": "2022-11-30T08:18:12.195Z"
   },
   {
    "duration": 69,
    "start_time": "2022-11-30T08:32:14.369Z"
   },
   {
    "duration": 71,
    "start_time": "2022-11-30T08:44:11.441Z"
   },
   {
    "duration": 447,
    "start_time": "2022-11-30T08:44:16.720Z"
   },
   {
    "duration": 6,
    "start_time": "2022-11-30T08:46:04.051Z"
   },
   {
    "duration": 7,
    "start_time": "2022-11-30T08:46:08.962Z"
   },
   {
    "duration": 17,
    "start_time": "2022-11-30T08:47:52.450Z"
   },
   {
    "duration": 14,
    "start_time": "2022-11-30T08:48:15.538Z"
   },
   {
    "duration": 8,
    "start_time": "2022-11-30T08:49:36.308Z"
   },
   {
    "duration": 15,
    "start_time": "2022-11-30T08:49:54.005Z"
   },
   {
    "duration": 5,
    "start_time": "2022-11-30T08:50:01.380Z"
   },
   {
    "duration": 6,
    "start_time": "2022-11-30T08:50:11.923Z"
   },
   {
    "duration": 9,
    "start_time": "2022-11-30T08:50:20.756Z"
   },
   {
    "duration": 9,
    "start_time": "2022-11-30T08:50:49.637Z"
   },
   {
    "duration": 5,
    "start_time": "2022-11-30T08:51:08.648Z"
   },
   {
    "duration": 5,
    "start_time": "2022-11-30T08:51:16.917Z"
   },
   {
    "duration": 11,
    "start_time": "2022-11-30T08:57:08.970Z"
   },
   {
    "duration": 10,
    "start_time": "2022-11-30T08:57:17.929Z"
   },
   {
    "duration": 2,
    "start_time": "2022-11-30T08:58:08.921Z"
   },
   {
    "duration": 4,
    "start_time": "2022-11-30T08:58:22.714Z"
   },
   {
    "duration": 4,
    "start_time": "2022-11-30T09:00:58.172Z"
   },
   {
    "duration": 4,
    "start_time": "2022-11-30T09:11:35.623Z"
   },
   {
    "duration": 3,
    "start_time": "2022-11-30T09:11:56.824Z"
   },
   {
    "duration": 137,
    "start_time": "2022-11-30T11:05:19.470Z"
   },
   {
    "duration": 9,
    "start_time": "2022-11-30T11:08:19.314Z"
   },
   {
    "duration": 7,
    "start_time": "2022-11-30T11:08:27.905Z"
   },
   {
    "duration": 8,
    "start_time": "2022-11-30T11:08:45.538Z"
   },
   {
    "duration": 5,
    "start_time": "2022-11-30T11:09:12.688Z"
   },
   {
    "duration": 3,
    "start_time": "2022-11-30T11:09:20.019Z"
   },
   {
    "duration": 3,
    "start_time": "2022-11-30T11:10:30.515Z"
   },
   {
    "duration": 1090,
    "start_time": "2022-11-30T11:10:59.602Z"
   },
   {
    "duration": 52,
    "start_time": "2022-11-30T11:11:00.694Z"
   },
   {
    "duration": 18,
    "start_time": "2022-11-30T11:11:00.747Z"
   },
   {
    "duration": 57,
    "start_time": "2022-11-30T11:11:00.767Z"
   },
   {
    "duration": 19,
    "start_time": "2022-11-30T11:11:00.826Z"
   },
   {
    "duration": 24,
    "start_time": "2022-11-30T11:11:00.846Z"
   },
   {
    "duration": 47,
    "start_time": "2022-11-30T11:11:00.871Z"
   },
   {
    "duration": 19,
    "start_time": "2022-11-30T11:11:00.919Z"
   },
   {
    "duration": 20,
    "start_time": "2022-11-30T11:11:00.939Z"
   },
   {
    "duration": 34,
    "start_time": "2022-11-30T11:11:00.961Z"
   },
   {
    "duration": 22,
    "start_time": "2022-11-30T11:11:00.997Z"
   },
   {
    "duration": 33,
    "start_time": "2022-11-30T11:11:01.022Z"
   },
   {
    "duration": 30,
    "start_time": "2022-11-30T11:11:01.057Z"
   },
   {
    "duration": 41,
    "start_time": "2022-11-30T11:11:01.089Z"
   },
   {
    "duration": 36,
    "start_time": "2022-11-30T11:11:01.132Z"
   },
   {
    "duration": 27,
    "start_time": "2022-11-30T11:11:01.169Z"
   },
   {
    "duration": 43,
    "start_time": "2022-11-30T11:11:01.197Z"
   },
   {
    "duration": 261,
    "start_time": "2022-11-30T11:11:01.242Z"
   },
   {
    "duration": 6,
    "start_time": "2022-11-30T11:11:01.505Z"
   },
   {
    "duration": 5,
    "start_time": "2022-11-30T11:11:01.512Z"
   },
   {
    "duration": 16,
    "start_time": "2022-11-30T11:11:01.518Z"
   },
   {
    "duration": 6,
    "start_time": "2022-11-30T11:11:01.535Z"
   },
   {
    "duration": 13,
    "start_time": "2022-11-30T11:11:01.542Z"
   },
   {
    "duration": 135,
    "start_time": "2022-11-30T11:11:01.557Z"
   },
   {
    "duration": 125,
    "start_time": "2022-11-30T11:11:01.693Z"
   },
   {
    "duration": 7,
    "start_time": "2022-11-30T11:11:01.819Z"
   },
   {
    "duration": 13,
    "start_time": "2022-11-30T11:11:01.827Z"
   },
   {
    "duration": 16,
    "start_time": "2022-11-30T11:11:01.843Z"
   },
   {
    "duration": 8,
    "start_time": "2022-11-30T11:11:01.861Z"
   },
   {
    "duration": 5,
    "start_time": "2022-11-30T11:11:01.878Z"
   },
   {
    "duration": 23,
    "start_time": "2022-11-30T11:11:01.885Z"
   },
   {
    "duration": 20,
    "start_time": "2022-11-30T11:11:01.909Z"
   },
   {
    "duration": 27,
    "start_time": "2022-11-30T11:11:01.930Z"
   },
   {
    "duration": 13,
    "start_time": "2022-11-30T11:11:01.958Z"
   },
   {
    "duration": 75,
    "start_time": "2022-11-30T11:11:01.973Z"
   },
   {
    "duration": 5,
    "start_time": "2022-11-30T11:11:02.050Z"
   },
   {
    "duration": 17,
    "start_time": "2022-11-30T11:11:02.056Z"
   },
   {
    "duration": 86,
    "start_time": "2022-11-30T11:11:02.074Z"
   },
   {
    "duration": 6,
    "start_time": "2022-11-30T11:11:02.161Z"
   },
   {
    "duration": 18,
    "start_time": "2022-11-30T11:11:02.168Z"
   },
   {
    "duration": 67,
    "start_time": "2022-11-30T11:11:02.187Z"
   },
   {
    "duration": 6,
    "start_time": "2022-11-30T11:11:02.255Z"
   },
   {
    "duration": 16,
    "start_time": "2022-11-30T11:11:02.262Z"
   },
   {
    "duration": 120,
    "start_time": "2022-11-30T11:11:02.280Z"
   },
   {
    "duration": 5,
    "start_time": "2022-11-30T11:11:02.402Z"
   },
   {
    "duration": 11,
    "start_time": "2022-11-30T11:11:02.409Z"
   },
   {
    "duration": 109,
    "start_time": "2022-11-30T11:11:02.422Z"
   },
   {
    "duration": 6,
    "start_time": "2022-11-30T11:11:02.533Z"
   },
   {
    "duration": 11,
    "start_time": "2022-11-30T11:11:02.540Z"
   },
   {
    "duration": 120,
    "start_time": "2022-11-30T11:11:02.552Z"
   },
   {
    "duration": 8,
    "start_time": "2022-11-30T11:11:02.673Z"
   },
   {
    "duration": 6,
    "start_time": "2022-11-30T11:11:02.683Z"
   },
   {
    "duration": 11,
    "start_time": "2022-11-30T11:11:02.690Z"
   },
   {
    "duration": 560,
    "start_time": "2022-11-30T11:11:02.702Z"
   },
   {
    "duration": 14,
    "start_time": "2022-11-30T11:11:03.263Z"
   },
   {
    "duration": 8,
    "start_time": "2022-11-30T11:11:03.280Z"
   },
   {
    "duration": 6,
    "start_time": "2022-11-30T11:11:03.289Z"
   },
   {
    "duration": 6,
    "start_time": "2022-11-30T11:11:03.297Z"
   },
   {
    "duration": 6,
    "start_time": "2022-11-30T11:11:03.305Z"
   },
   {
    "duration": 10,
    "start_time": "2022-11-30T11:11:03.313Z"
   },
   {
    "duration": 4,
    "start_time": "2022-11-30T11:11:03.324Z"
   },
   {
    "duration": 10,
    "start_time": "2022-11-30T11:11:03.330Z"
   },
   {
    "duration": 89,
    "start_time": "2022-11-30T18:00:21.736Z"
   },
   {
    "duration": 74,
    "start_time": "2022-11-30T18:21:50.516Z"
   },
   {
    "duration": 70,
    "start_time": "2022-11-30T18:23:04.132Z"
   },
   {
    "duration": 1334,
    "start_time": "2022-11-30T18:25:22.904Z"
   },
   {
    "duration": 445,
    "start_time": "2022-11-30T18:25:24.240Z"
   },
   {
    "duration": 21,
    "start_time": "2022-11-30T18:25:24.687Z"
   },
   {
    "duration": 15,
    "start_time": "2022-11-30T18:25:24.710Z"
   },
   {
    "duration": 5,
    "start_time": "2022-11-30T18:25:24.728Z"
   },
   {
    "duration": 21,
    "start_time": "2022-11-30T18:25:24.734Z"
   },
   {
    "duration": 23,
    "start_time": "2022-11-30T18:25:24.757Z"
   },
   {
    "duration": 6,
    "start_time": "2022-11-30T18:25:24.782Z"
   },
   {
    "duration": 12,
    "start_time": "2022-11-30T18:25:24.791Z"
   },
   {
    "duration": 24,
    "start_time": "2022-11-30T18:25:24.805Z"
   },
   {
    "duration": 32,
    "start_time": "2022-11-30T18:25:24.830Z"
   },
   {
    "duration": 7,
    "start_time": "2022-11-30T18:25:24.864Z"
   },
   {
    "duration": 6,
    "start_time": "2022-11-30T18:25:24.873Z"
   },
   {
    "duration": 6,
    "start_time": "2022-11-30T18:25:24.883Z"
   },
   {
    "duration": 18,
    "start_time": "2022-11-30T18:25:24.891Z"
   },
   {
    "duration": 44,
    "start_time": "2022-11-30T18:25:24.910Z"
   },
   {
    "duration": 6,
    "start_time": "2022-11-30T18:25:24.956Z"
   },
   {
    "duration": 346,
    "start_time": "2022-11-30T18:25:24.964Z"
   },
   {
    "duration": 10,
    "start_time": "2022-11-30T18:25:25.312Z"
   },
   {
    "duration": 12,
    "start_time": "2022-11-30T18:25:25.324Z"
   },
   {
    "duration": 34,
    "start_time": "2022-11-30T18:25:25.338Z"
   },
   {
    "duration": 11,
    "start_time": "2022-11-30T18:25:25.374Z"
   },
   {
    "duration": 7,
    "start_time": "2022-11-30T18:25:25.387Z"
   },
   {
    "duration": 172,
    "start_time": "2022-11-30T18:25:25.396Z"
   },
   {
    "duration": 150,
    "start_time": "2022-11-30T18:25:25.570Z"
   },
   {
    "duration": 8,
    "start_time": "2022-11-30T18:25:25.721Z"
   },
   {
    "duration": 36,
    "start_time": "2022-11-30T18:25:25.730Z"
   },
   {
    "duration": 11,
    "start_time": "2022-11-30T18:25:25.769Z"
   },
   {
    "duration": 13,
    "start_time": "2022-11-30T18:25:25.787Z"
   },
   {
    "duration": 11,
    "start_time": "2022-11-30T18:25:25.802Z"
   },
   {
    "duration": 22,
    "start_time": "2022-11-30T18:25:25.815Z"
   },
   {
    "duration": 31,
    "start_time": "2022-11-30T18:25:25.838Z"
   },
   {
    "duration": 18,
    "start_time": "2022-11-30T18:25:25.871Z"
   },
   {
    "duration": 16,
    "start_time": "2022-11-30T18:25:25.891Z"
   },
   {
    "duration": 91,
    "start_time": "2022-11-30T18:25:25.910Z"
   },
   {
    "duration": 7,
    "start_time": "2022-11-30T18:25:26.003Z"
   },
   {
    "duration": 15,
    "start_time": "2022-11-30T18:25:26.012Z"
   },
   {
    "duration": 85,
    "start_time": "2022-11-30T18:25:26.029Z"
   },
   {
    "duration": 6,
    "start_time": "2022-11-30T18:25:26.116Z"
   },
   {
    "duration": 12,
    "start_time": "2022-11-30T18:25:26.124Z"
   },
   {
    "duration": 85,
    "start_time": "2022-11-30T18:25:26.153Z"
   },
   {
    "duration": 8,
    "start_time": "2022-11-30T18:25:26.251Z"
   },
   {
    "duration": 15,
    "start_time": "2022-11-30T18:25:26.260Z"
   },
   {
    "duration": 154,
    "start_time": "2022-11-30T18:25:26.277Z"
   },
   {
    "duration": 8,
    "start_time": "2022-11-30T18:25:26.433Z"
   },
   {
    "duration": 22,
    "start_time": "2022-11-30T18:25:26.442Z"
   },
   {
    "duration": 147,
    "start_time": "2022-11-30T18:25:26.467Z"
   },
   {
    "duration": 6,
    "start_time": "2022-11-30T18:25:26.616Z"
   },
   {
    "duration": 27,
    "start_time": "2022-11-30T18:25:26.623Z"
   },
   {
    "duration": 146,
    "start_time": "2022-11-30T18:25:26.652Z"
   },
   {
    "duration": 9,
    "start_time": "2022-11-30T18:25:26.800Z"
   },
   {
    "duration": 36,
    "start_time": "2022-11-30T18:25:26.811Z"
   },
   {
    "duration": 22,
    "start_time": "2022-11-30T18:25:26.849Z"
   },
   {
    "duration": 638,
    "start_time": "2022-11-30T18:25:26.874Z"
   },
   {
    "duration": 10,
    "start_time": "2022-11-30T18:25:27.515Z"
   },
   {
    "duration": 27,
    "start_time": "2022-11-30T18:25:27.527Z"
   },
   {
    "duration": 3,
    "start_time": "2022-11-30T18:25:27.556Z"
   },
   {
    "duration": 7,
    "start_time": "2022-11-30T18:25:27.561Z"
   },
   {
    "duration": 8,
    "start_time": "2022-11-30T18:25:27.570Z"
   },
   {
    "duration": 13,
    "start_time": "2022-11-30T18:25:27.580Z"
   },
   {
    "duration": 6,
    "start_time": "2022-11-30T18:25:27.595Z"
   },
   {
    "duration": 19,
    "start_time": "2022-11-30T18:25:27.603Z"
   },
   {
    "duration": 1172,
    "start_time": "2022-12-01T06:17:23.063Z"
   },
   {
    "duration": 55,
    "start_time": "2022-12-01T06:17:24.237Z"
   },
   {
    "duration": 20,
    "start_time": "2022-12-01T06:17:24.294Z"
   },
   {
    "duration": 20,
    "start_time": "2022-12-01T06:17:24.316Z"
   },
   {
    "duration": 5,
    "start_time": "2022-12-01T06:17:24.356Z"
   },
   {
    "duration": 10,
    "start_time": "2022-12-01T06:17:25.044Z"
   },
   {
    "duration": 24,
    "start_time": "2022-12-01T06:17:25.388Z"
   },
   {
    "duration": 5,
    "start_time": "2022-12-01T06:17:25.724Z"
   },
   {
    "duration": 5,
    "start_time": "2022-12-01T06:17:26.067Z"
   },
   {
    "duration": 16,
    "start_time": "2022-12-01T06:17:26.429Z"
   },
   {
    "duration": 15,
    "start_time": "2022-12-01T06:17:26.598Z"
   },
   {
    "duration": 8,
    "start_time": "2022-12-01T06:17:26.955Z"
   },
   {
    "duration": 5,
    "start_time": "2022-12-01T06:17:27.275Z"
   },
   {
    "duration": 5,
    "start_time": "2022-12-01T06:17:27.836Z"
   },
   {
    "duration": 16,
    "start_time": "2022-12-01T06:17:28.189Z"
   },
   {
    "duration": 109,
    "start_time": "2022-12-01T06:17:28.684Z"
   },
   {
    "duration": 44,
    "start_time": "2022-12-01T06:17:40.047Z"
   },
   {
    "duration": 1450,
    "start_time": "2022-12-01T06:33:41.666Z"
   },
   {
    "duration": 65,
    "start_time": "2022-12-01T06:33:43.118Z"
   },
   {
    "duration": 19,
    "start_time": "2022-12-01T06:33:43.184Z"
   },
   {
    "duration": 25,
    "start_time": "2022-12-01T06:33:43.206Z"
   },
   {
    "duration": 28,
    "start_time": "2022-12-01T06:33:43.234Z"
   },
   {
    "duration": 16,
    "start_time": "2022-12-01T06:33:43.265Z"
   },
   {
    "duration": 24,
    "start_time": "2022-12-01T06:33:43.283Z"
   },
   {
    "duration": 11,
    "start_time": "2022-12-01T06:33:43.309Z"
   },
   {
    "duration": 17,
    "start_time": "2022-12-01T06:33:43.322Z"
   },
   {
    "duration": 29,
    "start_time": "2022-12-01T06:33:43.343Z"
   },
   {
    "duration": 22,
    "start_time": "2022-12-01T06:33:43.374Z"
   },
   {
    "duration": 7,
    "start_time": "2022-12-01T06:33:43.398Z"
   },
   {
    "duration": 7,
    "start_time": "2022-12-01T06:33:43.408Z"
   },
   {
    "duration": 6,
    "start_time": "2022-12-01T06:33:43.417Z"
   },
   {
    "duration": 65,
    "start_time": "2022-12-01T06:33:43.425Z"
   },
   {
    "duration": 10,
    "start_time": "2022-12-01T06:33:43.492Z"
   },
   {
    "duration": 7,
    "start_time": "2022-12-01T06:33:43.504Z"
   },
   {
    "duration": 374,
    "start_time": "2022-12-01T06:33:43.513Z"
   },
   {
    "duration": 7,
    "start_time": "2022-12-01T06:33:43.889Z"
   },
   {
    "duration": 4,
    "start_time": "2022-12-01T06:33:43.898Z"
   },
   {
    "duration": 19,
    "start_time": "2022-12-01T06:33:43.904Z"
   },
   {
    "duration": 8,
    "start_time": "2022-12-01T06:33:43.925Z"
   },
   {
    "duration": 21,
    "start_time": "2022-12-01T06:33:43.956Z"
   },
   {
    "duration": 147,
    "start_time": "2022-12-01T06:33:43.979Z"
   },
   {
    "duration": 176,
    "start_time": "2022-12-01T06:33:44.128Z"
   },
   {
    "duration": 7,
    "start_time": "2022-12-01T06:33:44.306Z"
   },
   {
    "duration": 20,
    "start_time": "2022-12-01T06:33:44.315Z"
   },
   {
    "duration": 17,
    "start_time": "2022-12-01T06:33:44.339Z"
   },
   {
    "duration": 34,
    "start_time": "2022-12-01T06:33:44.357Z"
   },
   {
    "duration": 22,
    "start_time": "2022-12-01T06:33:44.393Z"
   },
   {
    "duration": 18,
    "start_time": "2022-12-01T06:33:44.418Z"
   },
   {
    "duration": 47,
    "start_time": "2022-12-01T06:33:44.438Z"
   },
   {
    "duration": 24,
    "start_time": "2022-12-01T06:33:44.487Z"
   },
   {
    "duration": 34,
    "start_time": "2022-12-01T06:33:44.513Z"
   },
   {
    "duration": 147,
    "start_time": "2022-12-01T06:33:44.550Z"
   },
   {
    "duration": 10,
    "start_time": "2022-12-01T06:33:44.700Z"
   },
   {
    "duration": 40,
    "start_time": "2022-12-01T06:33:44.712Z"
   },
   {
    "duration": 159,
    "start_time": "2022-12-01T06:33:44.757Z"
   },
   {
    "duration": 9,
    "start_time": "2022-12-01T06:33:44.919Z"
   },
   {
    "duration": 30,
    "start_time": "2022-12-01T06:33:44.931Z"
   },
   {
    "duration": 174,
    "start_time": "2022-12-01T06:33:44.965Z"
   },
   {
    "duration": 14,
    "start_time": "2022-12-01T06:33:45.141Z"
   },
   {
    "duration": 21,
    "start_time": "2022-12-01T06:33:45.157Z"
   },
   {
    "duration": 144,
    "start_time": "2022-12-01T06:33:45.181Z"
   },
   {
    "duration": 9,
    "start_time": "2022-12-01T06:33:45.328Z"
   },
   {
    "duration": 25,
    "start_time": "2022-12-01T06:33:45.339Z"
   },
   {
    "duration": 150,
    "start_time": "2022-12-01T06:33:45.369Z"
   },
   {
    "duration": 9,
    "start_time": "2022-12-01T06:33:45.522Z"
   },
   {
    "duration": 24,
    "start_time": "2022-12-01T06:33:45.534Z"
   },
   {
    "duration": 149,
    "start_time": "2022-12-01T06:33:45.561Z"
   },
   {
    "duration": 7,
    "start_time": "2022-12-01T06:33:45.713Z"
   },
   {
    "duration": 16,
    "start_time": "2022-12-01T06:33:45.722Z"
   },
   {
    "duration": 8,
    "start_time": "2022-12-01T06:33:45.761Z"
   },
   {
    "duration": 706,
    "start_time": "2022-12-01T06:33:45.771Z"
   },
   {
    "duration": 19,
    "start_time": "2022-12-01T06:33:46.483Z"
   },
   {
    "duration": 11,
    "start_time": "2022-12-01T06:33:46.504Z"
   },
   {
    "duration": 3,
    "start_time": "2022-12-01T06:33:46.517Z"
   },
   {
    "duration": 9,
    "start_time": "2022-12-01T06:33:46.522Z"
   },
   {
    "duration": 28,
    "start_time": "2022-12-01T06:33:46.533Z"
   },
   {
    "duration": 13,
    "start_time": "2022-12-01T06:33:46.581Z"
   },
   {
    "duration": 10,
    "start_time": "2022-12-01T06:33:46.596Z"
   },
   {
    "duration": 9,
    "start_time": "2022-12-01T06:33:46.607Z"
   },
   {
    "duration": 48,
    "start_time": "2022-12-02T09:44:58.554Z"
   },
   {
    "duration": 1279,
    "start_time": "2022-12-02T09:45:05.066Z"
   },
   {
    "duration": 195,
    "start_time": "2022-12-02T09:45:06.347Z"
   },
   {
    "duration": 19,
    "start_time": "2022-12-02T09:45:06.544Z"
   },
   {
    "duration": 18,
    "start_time": "2022-12-02T09:45:06.565Z"
   },
   {
    "duration": 32,
    "start_time": "2022-12-02T09:45:06.585Z"
   },
   {
    "duration": 4,
    "start_time": "2022-12-02T09:45:06.619Z"
   },
   {
    "duration": 28,
    "start_time": "2022-12-02T09:45:06.625Z"
   },
   {
    "duration": 53,
    "start_time": "2022-12-02T09:45:06.654Z"
   },
   {
    "duration": 5,
    "start_time": "2022-12-02T09:45:06.708Z"
   },
   {
    "duration": 32,
    "start_time": "2022-12-02T09:45:06.716Z"
   },
   {
    "duration": 42,
    "start_time": "2022-12-02T09:45:06.750Z"
   },
   {
    "duration": 30,
    "start_time": "2022-12-02T09:45:06.794Z"
   },
   {
    "duration": 12,
    "start_time": "2022-12-02T09:45:06.826Z"
   },
   {
    "duration": 13,
    "start_time": "2022-12-02T09:45:06.840Z"
   },
   {
    "duration": 31,
    "start_time": "2022-12-02T09:45:06.855Z"
   },
   {
    "duration": 23,
    "start_time": "2022-12-02T09:45:06.888Z"
   },
   {
    "duration": 32,
    "start_time": "2022-12-02T09:45:06.913Z"
   },
   {
    "duration": 12,
    "start_time": "2022-12-02T09:45:06.946Z"
   },
   {
    "duration": 343,
    "start_time": "2022-12-02T09:45:06.960Z"
   },
   {
    "duration": 9,
    "start_time": "2022-12-02T09:45:07.305Z"
   },
   {
    "duration": 24,
    "start_time": "2022-12-02T09:45:07.316Z"
   },
   {
    "duration": 37,
    "start_time": "2022-12-02T09:45:07.342Z"
   },
   {
    "duration": 29,
    "start_time": "2022-12-02T09:45:07.380Z"
   },
   {
    "duration": 22,
    "start_time": "2022-12-02T09:45:07.410Z"
   },
   {
    "duration": 130,
    "start_time": "2022-12-02T09:45:07.434Z"
   },
   {
    "duration": 133,
    "start_time": "2022-12-02T09:45:07.565Z"
   },
   {
    "duration": 6,
    "start_time": "2022-12-02T09:45:07.701Z"
   },
   {
    "duration": 7,
    "start_time": "2022-12-02T09:45:07.710Z"
   },
   {
    "duration": 19,
    "start_time": "2022-12-02T09:45:07.719Z"
   },
   {
    "duration": 8,
    "start_time": "2022-12-02T09:45:07.740Z"
   },
   {
    "duration": 8,
    "start_time": "2022-12-02T09:45:07.750Z"
   },
   {
    "duration": 16,
    "start_time": "2022-12-02T09:45:07.759Z"
   },
   {
    "duration": 8,
    "start_time": "2022-12-02T09:45:07.777Z"
   },
   {
    "duration": 8,
    "start_time": "2022-12-02T09:45:07.786Z"
   },
   {
    "duration": 9,
    "start_time": "2022-12-02T09:45:07.795Z"
   },
   {
    "duration": 98,
    "start_time": "2022-12-02T09:45:07.805Z"
   },
   {
    "duration": 7,
    "start_time": "2022-12-02T09:45:07.905Z"
   },
   {
    "duration": 28,
    "start_time": "2022-12-02T09:45:07.914Z"
   },
   {
    "duration": 79,
    "start_time": "2022-12-02T09:45:07.944Z"
   },
   {
    "duration": 15,
    "start_time": "2022-12-02T09:45:08.026Z"
   },
   {
    "duration": 12,
    "start_time": "2022-12-02T09:45:08.042Z"
   },
   {
    "duration": 83,
    "start_time": "2022-12-02T09:45:08.056Z"
   },
   {
    "duration": 8,
    "start_time": "2022-12-02T09:45:08.141Z"
   },
   {
    "duration": 37,
    "start_time": "2022-12-02T09:45:08.151Z"
   },
   {
    "duration": 149,
    "start_time": "2022-12-02T09:45:08.189Z"
   },
   {
    "duration": 6,
    "start_time": "2022-12-02T09:45:08.339Z"
   },
   {
    "duration": 28,
    "start_time": "2022-12-02T09:45:08.346Z"
   },
   {
    "duration": 128,
    "start_time": "2022-12-02T09:45:08.376Z"
   },
   {
    "duration": 6,
    "start_time": "2022-12-02T09:45:08.506Z"
   },
   {
    "duration": 24,
    "start_time": "2022-12-02T09:45:08.513Z"
   },
   {
    "duration": 127,
    "start_time": "2022-12-02T09:45:08.538Z"
   },
   {
    "duration": 8,
    "start_time": "2022-12-02T09:45:08.666Z"
   },
   {
    "duration": 8,
    "start_time": "2022-12-02T09:45:08.675Z"
   },
   {
    "duration": 10,
    "start_time": "2022-12-02T09:45:08.685Z"
   },
   {
    "duration": 652,
    "start_time": "2022-12-02T09:45:08.697Z"
   },
   {
    "duration": 9,
    "start_time": "2022-12-02T09:45:09.351Z"
   },
   {
    "duration": 8,
    "start_time": "2022-12-02T09:45:09.362Z"
   },
   {
    "duration": 7,
    "start_time": "2022-12-02T09:45:09.371Z"
   },
   {
    "duration": 7,
    "start_time": "2022-12-02T09:45:09.380Z"
   },
   {
    "duration": 5,
    "start_time": "2022-12-02T09:45:09.389Z"
   },
   {
    "duration": 11,
    "start_time": "2022-12-02T09:45:09.396Z"
   },
   {
    "duration": 33,
    "start_time": "2022-12-02T09:45:09.408Z"
   },
   {
    "duration": 6,
    "start_time": "2022-12-02T09:45:09.442Z"
   },
   {
    "duration": 13,
    "start_time": "2022-12-02T09:46:12.803Z"
   },
   {
    "duration": 13,
    "start_time": "2022-12-02T09:46:16.666Z"
   },
   {
    "duration": 14,
    "start_time": "2022-12-02T09:46:17.374Z"
   },
   {
    "duration": 16,
    "start_time": "2022-12-02T09:46:30.050Z"
   },
   {
    "duration": 103,
    "start_time": "2022-12-02T09:48:22.544Z"
   },
   {
    "duration": 4,
    "start_time": "2022-12-02T09:48:39.934Z"
   },
   {
    "duration": 14,
    "start_time": "2022-12-02T09:51:20.182Z"
   },
   {
    "duration": 6,
    "start_time": "2022-12-02T09:51:41.578Z"
   },
   {
    "duration": 15,
    "start_time": "2022-12-02T09:51:46.872Z"
   },
   {
    "duration": 5,
    "start_time": "2022-12-02T09:55:30.675Z"
   },
   {
    "duration": 7,
    "start_time": "2022-12-02T09:55:37.368Z"
   },
   {
    "duration": 13,
    "start_time": "2022-12-02T10:05:40.956Z"
   },
   {
    "duration": 107,
    "start_time": "2022-12-02T10:05:54.933Z"
   },
   {
    "duration": 7,
    "start_time": "2022-12-02T10:06:00.639Z"
   },
   {
    "duration": 7,
    "start_time": "2022-12-02T10:08:09.564Z"
   },
   {
    "duration": 1195,
    "start_time": "2022-12-02T10:08:29.719Z"
   },
   {
    "duration": 57,
    "start_time": "2022-12-02T10:08:30.917Z"
   },
   {
    "duration": 22,
    "start_time": "2022-12-02T10:08:30.976Z"
   },
   {
    "duration": 55,
    "start_time": "2022-12-02T10:08:31.000Z"
   },
   {
    "duration": 39,
    "start_time": "2022-12-02T10:08:31.057Z"
   },
   {
    "duration": 54,
    "start_time": "2022-12-02T10:08:31.097Z"
   },
   {
    "duration": 5,
    "start_time": "2022-12-02T10:08:31.153Z"
   },
   {
    "duration": 13,
    "start_time": "2022-12-02T10:08:31.160Z"
   },
   {
    "duration": 24,
    "start_time": "2022-12-02T10:08:31.175Z"
   },
   {
    "duration": 14,
    "start_time": "2022-12-02T10:08:31.203Z"
   },
   {
    "duration": 9,
    "start_time": "2022-12-02T10:08:31.218Z"
   },
   {
    "duration": 16,
    "start_time": "2022-12-02T10:08:31.238Z"
   },
   {
    "duration": 16,
    "start_time": "2022-12-02T10:08:31.255Z"
   },
   {
    "duration": 7,
    "start_time": "2022-12-02T10:08:31.272Z"
   },
   {
    "duration": 8,
    "start_time": "2022-12-02T10:08:31.280Z"
   },
   {
    "duration": 8,
    "start_time": "2022-12-02T10:08:31.290Z"
   },
   {
    "duration": 38,
    "start_time": "2022-12-02T10:08:31.300Z"
   },
   {
    "duration": 7,
    "start_time": "2022-12-02T10:08:31.341Z"
   },
   {
    "duration": 9,
    "start_time": "2022-12-02T10:08:31.350Z"
   },
   {
    "duration": 13,
    "start_time": "2022-12-02T10:08:31.361Z"
   },
   {
    "duration": 10,
    "start_time": "2022-12-02T10:08:31.376Z"
   },
   {
    "duration": 277,
    "start_time": "2022-12-02T10:08:31.388Z"
   },
   {
    "duration": 9,
    "start_time": "2022-12-02T10:08:31.667Z"
   },
   {
    "duration": 10,
    "start_time": "2022-12-02T10:08:31.677Z"
   },
   {
    "duration": 20,
    "start_time": "2022-12-02T10:08:31.689Z"
   },
   {
    "duration": 6,
    "start_time": "2022-12-02T10:08:31.711Z"
   },
   {
    "duration": 19,
    "start_time": "2022-12-02T10:08:31.719Z"
   },
   {
    "duration": 154,
    "start_time": "2022-12-02T10:08:31.742Z"
   },
   {
    "duration": 144,
    "start_time": "2022-12-02T10:08:31.898Z"
   },
   {
    "duration": 7,
    "start_time": "2022-12-02T10:08:32.043Z"
   },
   {
    "duration": 8,
    "start_time": "2022-12-02T10:08:32.052Z"
   },
   {
    "duration": 8,
    "start_time": "2022-12-02T10:08:32.062Z"
   },
   {
    "duration": 7,
    "start_time": "2022-12-02T10:08:32.072Z"
   },
   {
    "duration": 7,
    "start_time": "2022-12-02T10:08:32.081Z"
   },
   {
    "duration": 8,
    "start_time": "2022-12-02T10:08:32.090Z"
   },
   {
    "duration": 39,
    "start_time": "2022-12-02T10:08:32.099Z"
   },
   {
    "duration": 6,
    "start_time": "2022-12-02T10:08:32.140Z"
   },
   {
    "duration": 9,
    "start_time": "2022-12-02T10:08:32.147Z"
   },
   {
    "duration": 88,
    "start_time": "2022-12-02T10:08:32.157Z"
   },
   {
    "duration": 7,
    "start_time": "2022-12-02T10:08:32.246Z"
   },
   {
    "duration": 9,
    "start_time": "2022-12-02T10:08:32.255Z"
   },
   {
    "duration": 88,
    "start_time": "2022-12-02T10:08:32.265Z"
   },
   {
    "duration": 6,
    "start_time": "2022-12-02T10:08:32.355Z"
   },
   {
    "duration": 8,
    "start_time": "2022-12-02T10:08:32.363Z"
   },
   {
    "duration": 91,
    "start_time": "2022-12-02T10:08:32.373Z"
   },
   {
    "duration": 6,
    "start_time": "2022-12-02T10:08:32.466Z"
   },
   {
    "duration": 32,
    "start_time": "2022-12-02T10:08:32.474Z"
   },
   {
    "duration": 139,
    "start_time": "2022-12-02T10:08:32.508Z"
   },
   {
    "duration": 6,
    "start_time": "2022-12-02T10:08:32.650Z"
   },
   {
    "duration": 12,
    "start_time": "2022-12-02T10:08:32.657Z"
   },
   {
    "duration": 138,
    "start_time": "2022-12-02T10:08:32.670Z"
   },
   {
    "duration": 8,
    "start_time": "2022-12-02T10:08:32.810Z"
   },
   {
    "duration": 24,
    "start_time": "2022-12-02T10:08:32.821Z"
   },
   {
    "duration": 130,
    "start_time": "2022-12-02T10:08:32.847Z"
   },
   {
    "duration": 7,
    "start_time": "2022-12-02T10:08:32.979Z"
   },
   {
    "duration": 9,
    "start_time": "2022-12-02T10:08:32.988Z"
   },
   {
    "duration": 8,
    "start_time": "2022-12-02T10:08:32.999Z"
   },
   {
    "duration": 608,
    "start_time": "2022-12-02T10:08:33.008Z"
   },
   {
    "duration": 20,
    "start_time": "2022-12-02T10:08:33.618Z"
   },
   {
    "duration": 10,
    "start_time": "2022-12-02T10:08:33.640Z"
   },
   {
    "duration": 7,
    "start_time": "2022-12-02T10:08:33.651Z"
   },
   {
    "duration": 8,
    "start_time": "2022-12-02T10:08:33.661Z"
   },
   {
    "duration": 12,
    "start_time": "2022-12-02T10:08:33.671Z"
   },
   {
    "duration": 15,
    "start_time": "2022-12-02T10:08:33.684Z"
   },
   {
    "duration": 22,
    "start_time": "2022-12-02T10:08:33.701Z"
   },
   {
    "duration": 19,
    "start_time": "2022-12-02T10:08:33.725Z"
   },
   {
    "duration": 7,
    "start_time": "2022-12-02T10:08:39.185Z"
   },
   {
    "duration": 6,
    "start_time": "2022-12-02T10:08:43.649Z"
   },
   {
    "duration": 5,
    "start_time": "2022-12-02T10:08:51.596Z"
   },
   {
    "duration": 5,
    "start_time": "2022-12-02T10:08:57.609Z"
   },
   {
    "duration": 103,
    "start_time": "2022-12-02T10:09:15.891Z"
   },
   {
    "duration": 7,
    "start_time": "2022-12-02T10:09:39.966Z"
   },
   {
    "duration": 7,
    "start_time": "2022-12-02T10:09:51.529Z"
   },
   {
    "duration": 1262,
    "start_time": "2022-12-02T10:10:28.788Z"
   },
   {
    "duration": 7,
    "start_time": "2022-12-02T10:10:51.829Z"
   },
   {
    "duration": 7,
    "start_time": "2022-12-02T10:10:55.199Z"
   },
   {
    "duration": 1264,
    "start_time": "2022-12-02T10:12:13.752Z"
   },
   {
    "duration": 58,
    "start_time": "2022-12-02T10:12:15.018Z"
   },
   {
    "duration": 19,
    "start_time": "2022-12-02T10:12:15.078Z"
   },
   {
    "duration": 14,
    "start_time": "2022-12-02T10:12:15.099Z"
   },
   {
    "duration": 30,
    "start_time": "2022-12-02T10:12:15.115Z"
   },
   {
    "duration": 42,
    "start_time": "2022-12-02T10:12:15.147Z"
   },
   {
    "duration": 6,
    "start_time": "2022-12-02T10:12:15.192Z"
   },
   {
    "duration": 14,
    "start_time": "2022-12-02T10:12:15.201Z"
   },
   {
    "duration": 31,
    "start_time": "2022-12-02T10:12:15.238Z"
   },
   {
    "duration": 6,
    "start_time": "2022-12-02T10:12:15.271Z"
   },
   {
    "duration": 9,
    "start_time": "2022-12-02T10:12:15.279Z"
   },
   {
    "duration": 23,
    "start_time": "2022-12-02T10:12:15.290Z"
   },
   {
    "duration": 38,
    "start_time": "2022-12-02T10:12:15.315Z"
   },
   {
    "duration": 10,
    "start_time": "2022-12-02T10:12:15.357Z"
   },
   {
    "duration": 5,
    "start_time": "2022-12-02T10:12:15.370Z"
   },
   {
    "duration": 11,
    "start_time": "2022-12-02T10:12:15.377Z"
   },
   {
    "duration": 18,
    "start_time": "2022-12-02T10:12:15.391Z"
   },
   {
    "duration": 32,
    "start_time": "2022-12-02T10:12:15.411Z"
   },
   {
    "duration": 14,
    "start_time": "2022-12-02T10:12:15.445Z"
   },
   {
    "duration": 9,
    "start_time": "2022-12-02T10:12:15.461Z"
   },
   {
    "duration": 8,
    "start_time": "2022-12-02T10:12:15.473Z"
   },
   {
    "duration": 285,
    "start_time": "2022-12-02T10:12:15.483Z"
   },
   {
    "duration": 14,
    "start_time": "2022-12-02T10:12:15.770Z"
   },
   {
    "duration": 17,
    "start_time": "2022-12-02T10:12:15.786Z"
   },
   {
    "duration": 43,
    "start_time": "2022-12-02T10:12:15.805Z"
   },
   {
    "duration": 15,
    "start_time": "2022-12-02T10:12:15.851Z"
   },
   {
    "duration": 21,
    "start_time": "2022-12-02T10:12:15.868Z"
   },
   {
    "duration": 153,
    "start_time": "2022-12-02T10:12:15.891Z"
   },
   {
    "duration": 198,
    "start_time": "2022-12-02T10:12:16.046Z"
   },
   {
    "duration": 9,
    "start_time": "2022-12-02T10:12:16.246Z"
   },
   {
    "duration": 13,
    "start_time": "2022-12-02T10:12:16.257Z"
   },
   {
    "duration": 12,
    "start_time": "2022-12-02T10:12:16.272Z"
   },
   {
    "duration": 15,
    "start_time": "2022-12-02T10:12:16.286Z"
   },
   {
    "duration": 41,
    "start_time": "2022-12-02T10:12:16.303Z"
   },
   {
    "duration": 12,
    "start_time": "2022-12-02T10:12:16.346Z"
   },
   {
    "duration": 10,
    "start_time": "2022-12-02T10:12:16.360Z"
   },
   {
    "duration": 7,
    "start_time": "2022-12-02T10:12:16.372Z"
   },
   {
    "duration": 12,
    "start_time": "2022-12-02T10:12:16.382Z"
   },
   {
    "duration": 112,
    "start_time": "2022-12-02T10:12:16.396Z"
   },
   {
    "duration": 9,
    "start_time": "2022-12-02T10:12:16.511Z"
   },
   {
    "duration": 8,
    "start_time": "2022-12-02T10:12:16.540Z"
   },
   {
    "duration": 98,
    "start_time": "2022-12-02T10:12:16.551Z"
   },
   {
    "duration": 6,
    "start_time": "2022-12-02T10:12:16.651Z"
   },
   {
    "duration": 12,
    "start_time": "2022-12-02T10:12:16.659Z"
   },
   {
    "duration": 104,
    "start_time": "2022-12-02T10:12:16.674Z"
   },
   {
    "duration": 7,
    "start_time": "2022-12-02T10:12:16.780Z"
   },
   {
    "duration": 12,
    "start_time": "2022-12-02T10:12:16.789Z"
   },
   {
    "duration": 165,
    "start_time": "2022-12-02T10:12:16.803Z"
   },
   {
    "duration": 7,
    "start_time": "2022-12-02T10:12:16.970Z"
   },
   {
    "duration": 12,
    "start_time": "2022-12-02T10:12:16.978Z"
   },
   {
    "duration": 158,
    "start_time": "2022-12-02T10:12:16.993Z"
   },
   {
    "duration": 8,
    "start_time": "2022-12-02T10:12:17.153Z"
   },
   {
    "duration": 29,
    "start_time": "2022-12-02T10:12:17.164Z"
   },
   {
    "duration": 137,
    "start_time": "2022-12-02T10:12:17.195Z"
   },
   {
    "duration": 8,
    "start_time": "2022-12-02T10:12:17.337Z"
   },
   {
    "duration": 11,
    "start_time": "2022-12-02T10:12:17.348Z"
   },
   {
    "duration": 10,
    "start_time": "2022-12-02T10:12:17.361Z"
   },
   {
    "duration": 708,
    "start_time": "2022-12-02T10:12:17.374Z"
   },
   {
    "duration": 11,
    "start_time": "2022-12-02T10:12:18.083Z"
   },
   {
    "duration": 15,
    "start_time": "2022-12-02T10:12:18.095Z"
   },
   {
    "duration": 27,
    "start_time": "2022-12-02T10:12:18.111Z"
   },
   {
    "duration": 9,
    "start_time": "2022-12-02T10:12:18.140Z"
   },
   {
    "duration": 12,
    "start_time": "2022-12-02T10:12:18.151Z"
   },
   {
    "duration": 14,
    "start_time": "2022-12-02T10:12:18.165Z"
   },
   {
    "duration": 13,
    "start_time": "2022-12-02T10:12:18.181Z"
   },
   {
    "duration": 13,
    "start_time": "2022-12-02T10:12:18.195Z"
   },
   {
    "duration": 4,
    "start_time": "2022-12-02T10:17:43.011Z"
   },
   {
    "duration": 6,
    "start_time": "2022-12-02T10:18:09.279Z"
   },
   {
    "duration": 8,
    "start_time": "2022-12-02T10:18:28.462Z"
   },
   {
    "duration": 8,
    "start_time": "2022-12-02T10:19:33.989Z"
   },
   {
    "duration": 12,
    "start_time": "2022-12-02T10:19:38.330Z"
   },
   {
    "duration": 11,
    "start_time": "2022-12-02T10:21:26.491Z"
   },
   {
    "duration": 10,
    "start_time": "2022-12-02T10:21:33.298Z"
   },
   {
    "duration": 11,
    "start_time": "2022-12-02T10:21:38.217Z"
   },
   {
    "duration": 1193,
    "start_time": "2022-12-02T10:22:23.129Z"
   },
   {
    "duration": 55,
    "start_time": "2022-12-02T10:22:24.324Z"
   },
   {
    "duration": 20,
    "start_time": "2022-12-02T10:22:24.381Z"
   },
   {
    "duration": 24,
    "start_time": "2022-12-02T10:22:24.403Z"
   },
   {
    "duration": 31,
    "start_time": "2022-12-02T10:22:24.430Z"
   },
   {
    "duration": 42,
    "start_time": "2022-12-02T10:22:24.463Z"
   },
   {
    "duration": 5,
    "start_time": "2022-12-02T10:22:24.507Z"
   },
   {
    "duration": 26,
    "start_time": "2022-12-02T10:22:24.513Z"
   },
   {
    "duration": 20,
    "start_time": "2022-12-02T10:22:24.541Z"
   },
   {
    "duration": 13,
    "start_time": "2022-12-02T10:22:24.562Z"
   },
   {
    "duration": 36,
    "start_time": "2022-12-02T10:22:24.577Z"
   },
   {
    "duration": 38,
    "start_time": "2022-12-02T10:22:24.615Z"
   },
   {
    "duration": 14,
    "start_time": "2022-12-02T10:22:24.655Z"
   },
   {
    "duration": 7,
    "start_time": "2022-12-02T10:22:24.672Z"
   },
   {
    "duration": 15,
    "start_time": "2022-12-02T10:22:24.681Z"
   },
   {
    "duration": 31,
    "start_time": "2022-12-02T10:22:24.698Z"
   },
   {
    "duration": 41,
    "start_time": "2022-12-02T10:22:24.730Z"
   },
   {
    "duration": 35,
    "start_time": "2022-12-02T10:22:24.773Z"
   },
   {
    "duration": 29,
    "start_time": "2022-12-02T10:22:24.810Z"
   },
   {
    "duration": 32,
    "start_time": "2022-12-02T10:22:24.841Z"
   },
   {
    "duration": 29,
    "start_time": "2022-12-02T10:22:24.875Z"
   },
   {
    "duration": 283,
    "start_time": "2022-12-02T10:22:24.906Z"
   },
   {
    "duration": 8,
    "start_time": "2022-12-02T10:22:25.191Z"
   },
   {
    "duration": 5,
    "start_time": "2022-12-02T10:22:25.201Z"
   },
   {
    "duration": 30,
    "start_time": "2022-12-02T10:22:25.208Z"
   },
   {
    "duration": 8,
    "start_time": "2022-12-02T10:22:25.240Z"
   },
   {
    "duration": 6,
    "start_time": "2022-12-02T10:22:25.250Z"
   },
   {
    "duration": 155,
    "start_time": "2022-12-02T10:22:25.258Z"
   },
   {
    "duration": 153,
    "start_time": "2022-12-02T10:22:25.415Z"
   },
   {
    "duration": 7,
    "start_time": "2022-12-02T10:22:25.570Z"
   },
   {
    "duration": 14,
    "start_time": "2022-12-02T10:22:25.579Z"
   },
   {
    "duration": 9,
    "start_time": "2022-12-02T10:22:25.595Z"
   },
   {
    "duration": 35,
    "start_time": "2022-12-02T10:22:25.606Z"
   },
   {
    "duration": 25,
    "start_time": "2022-12-02T10:22:25.643Z"
   },
   {
    "duration": 17,
    "start_time": "2022-12-02T10:22:25.670Z"
   },
   {
    "duration": 14,
    "start_time": "2022-12-02T10:22:25.689Z"
   },
   {
    "duration": 19,
    "start_time": "2022-12-02T10:22:25.705Z"
   },
   {
    "duration": 13,
    "start_time": "2022-12-02T10:22:25.726Z"
   },
   {
    "duration": 113,
    "start_time": "2022-12-02T10:22:25.741Z"
   },
   {
    "duration": 6,
    "start_time": "2022-12-02T10:22:25.857Z"
   },
   {
    "duration": 10,
    "start_time": "2022-12-02T10:22:25.868Z"
   },
   {
    "duration": 90,
    "start_time": "2022-12-02T10:22:25.880Z"
   },
   {
    "duration": 7,
    "start_time": "2022-12-02T10:22:25.972Z"
   },
   {
    "duration": 14,
    "start_time": "2022-12-02T10:22:25.981Z"
   },
   {
    "duration": 95,
    "start_time": "2022-12-02T10:22:25.997Z"
   },
   {
    "duration": 7,
    "start_time": "2022-12-02T10:22:26.094Z"
   },
   {
    "duration": 37,
    "start_time": "2022-12-02T10:22:26.102Z"
   },
   {
    "duration": 145,
    "start_time": "2022-12-02T10:22:26.140Z"
   },
   {
    "duration": 8,
    "start_time": "2022-12-02T10:22:26.287Z"
   },
   {
    "duration": 41,
    "start_time": "2022-12-02T10:22:26.296Z"
   },
   {
    "duration": 138,
    "start_time": "2022-12-02T10:22:26.338Z"
   },
   {
    "duration": 7,
    "start_time": "2022-12-02T10:22:26.478Z"
   },
   {
    "duration": 18,
    "start_time": "2022-12-02T10:22:26.486Z"
   },
   {
    "duration": 161,
    "start_time": "2022-12-02T10:22:26.506Z"
   },
   {
    "duration": 7,
    "start_time": "2022-12-02T10:22:26.669Z"
   },
   {
    "duration": 31,
    "start_time": "2022-12-02T10:22:26.678Z"
   },
   {
    "duration": 17,
    "start_time": "2022-12-02T10:22:26.711Z"
   },
   {
    "duration": 645,
    "start_time": "2022-12-02T10:22:26.731Z"
   },
   {
    "duration": 9,
    "start_time": "2022-12-02T10:22:27.378Z"
   },
   {
    "duration": 14,
    "start_time": "2022-12-02T10:22:27.388Z"
   },
   {
    "duration": 12,
    "start_time": "2022-12-02T10:22:27.404Z"
   },
   {
    "duration": 8,
    "start_time": "2022-12-02T10:22:27.418Z"
   },
   {
    "duration": 4,
    "start_time": "2022-12-02T10:22:27.439Z"
   },
   {
    "duration": 19,
    "start_time": "2022-12-02T10:22:27.445Z"
   },
   {
    "duration": 6,
    "start_time": "2022-12-02T10:22:27.466Z"
   },
   {
    "duration": 13,
    "start_time": "2022-12-02T10:22:27.474Z"
   },
   {
    "duration": 1191,
    "start_time": "2022-12-02T10:45:54.522Z"
   },
   {
    "duration": 58,
    "start_time": "2022-12-02T10:45:55.715Z"
   },
   {
    "duration": 22,
    "start_time": "2022-12-02T10:45:55.775Z"
   },
   {
    "duration": 14,
    "start_time": "2022-12-02T10:45:55.799Z"
   },
   {
    "duration": 39,
    "start_time": "2022-12-02T10:45:55.815Z"
   },
   {
    "duration": 32,
    "start_time": "2022-12-02T10:45:55.856Z"
   },
   {
    "duration": 5,
    "start_time": "2022-12-02T10:45:55.890Z"
   },
   {
    "duration": 11,
    "start_time": "2022-12-02T10:45:55.896Z"
   },
   {
    "duration": 43,
    "start_time": "2022-12-02T10:45:55.908Z"
   },
   {
    "duration": 5,
    "start_time": "2022-12-02T10:45:55.954Z"
   },
   {
    "duration": 7,
    "start_time": "2022-12-02T10:45:55.960Z"
   },
   {
    "duration": 15,
    "start_time": "2022-12-02T10:45:55.968Z"
   },
   {
    "duration": 14,
    "start_time": "2022-12-02T10:45:55.984Z"
   },
   {
    "duration": 7,
    "start_time": "2022-12-02T10:45:56.000Z"
   },
   {
    "duration": 4,
    "start_time": "2022-12-02T10:45:56.038Z"
   },
   {
    "duration": 7,
    "start_time": "2022-12-02T10:45:56.044Z"
   },
   {
    "duration": 16,
    "start_time": "2022-12-02T10:45:56.053Z"
   },
   {
    "duration": 7,
    "start_time": "2022-12-02T10:45:56.071Z"
   },
   {
    "duration": 8,
    "start_time": "2022-12-02T10:45:56.079Z"
   },
   {
    "duration": 183,
    "start_time": "2022-12-02T10:45:56.088Z"
   },
   {
    "duration": 5,
    "start_time": "2022-12-02T10:45:56.273Z"
   },
   {
    "duration": 245,
    "start_time": "2022-12-02T10:45:56.279Z"
   },
   {
    "duration": 15,
    "start_time": "2022-12-02T10:45:56.526Z"
   },
   {
    "duration": 3,
    "start_time": "2022-12-02T10:45:56.542Z"
   },
   {
    "duration": 17,
    "start_time": "2022-12-02T10:45:56.546Z"
   },
   {
    "duration": 6,
    "start_time": "2022-12-02T10:45:56.564Z"
   },
   {
    "duration": 6,
    "start_time": "2022-12-02T10:45:56.572Z"
   },
   {
    "duration": 157,
    "start_time": "2022-12-02T10:45:56.581Z"
   },
   {
    "duration": 144,
    "start_time": "2022-12-02T10:45:56.740Z"
   },
   {
    "duration": 9,
    "start_time": "2022-12-02T10:45:56.886Z"
   },
   {
    "duration": 8,
    "start_time": "2022-12-02T10:45:56.897Z"
   },
   {
    "duration": 22,
    "start_time": "2022-12-02T10:45:56.907Z"
   },
   {
    "duration": 7,
    "start_time": "2022-12-02T10:45:56.936Z"
   },
   {
    "duration": 8,
    "start_time": "2022-12-02T10:45:56.945Z"
   },
   {
    "duration": 15,
    "start_time": "2022-12-02T10:45:56.954Z"
   },
   {
    "duration": 7,
    "start_time": "2022-12-02T10:45:56.970Z"
   },
   {
    "duration": 5,
    "start_time": "2022-12-02T10:45:56.979Z"
   },
   {
    "duration": 9,
    "start_time": "2022-12-02T10:45:56.986Z"
   },
   {
    "duration": 89,
    "start_time": "2022-12-02T10:45:56.997Z"
   },
   {
    "duration": 7,
    "start_time": "2022-12-02T10:45:57.087Z"
   },
   {
    "duration": 10,
    "start_time": "2022-12-02T10:45:57.095Z"
   },
   {
    "duration": 87,
    "start_time": "2022-12-02T10:45:57.106Z"
   },
   {
    "duration": 6,
    "start_time": "2022-12-02T10:45:57.194Z"
   },
   {
    "duration": 16,
    "start_time": "2022-12-02T10:45:57.201Z"
   },
   {
    "duration": 82,
    "start_time": "2022-12-02T10:45:57.218Z"
   },
   {
    "duration": 8,
    "start_time": "2022-12-02T10:45:57.301Z"
   },
   {
    "duration": 9,
    "start_time": "2022-12-02T10:45:57.311Z"
   },
   {
    "duration": 135,
    "start_time": "2022-12-02T10:45:57.322Z"
   },
   {
    "duration": 6,
    "start_time": "2022-12-02T10:45:57.460Z"
   },
   {
    "duration": 8,
    "start_time": "2022-12-02T10:45:57.468Z"
   },
   {
    "duration": 132,
    "start_time": "2022-12-02T10:45:57.478Z"
   },
   {
    "duration": 6,
    "start_time": "2022-12-02T10:45:57.612Z"
   },
   {
    "duration": 21,
    "start_time": "2022-12-02T10:45:57.620Z"
   },
   {
    "duration": 201,
    "start_time": "2022-12-02T10:45:57.643Z"
   },
   {
    "duration": 8,
    "start_time": "2022-12-02T10:45:57.846Z"
   },
   {
    "duration": 11,
    "start_time": "2022-12-02T10:45:57.856Z"
   },
   {
    "duration": 13,
    "start_time": "2022-12-02T10:45:57.868Z"
   },
   {
    "duration": 556,
    "start_time": "2022-12-02T10:45:57.883Z"
   },
   {
    "duration": 10,
    "start_time": "2022-12-02T10:45:58.440Z"
   },
   {
    "duration": 13,
    "start_time": "2022-12-02T10:45:58.451Z"
   },
   {
    "duration": 2,
    "start_time": "2022-12-02T10:45:58.465Z"
   },
   {
    "duration": 7,
    "start_time": "2022-12-02T10:45:58.468Z"
   },
   {
    "duration": 6,
    "start_time": "2022-12-02T10:45:58.476Z"
   },
   {
    "duration": 11,
    "start_time": "2022-12-02T10:45:58.483Z"
   },
   {
    "duration": 5,
    "start_time": "2022-12-02T10:45:58.496Z"
   },
   {
    "duration": 6,
    "start_time": "2022-12-02T10:45:58.502Z"
   },
   {
    "duration": 134,
    "start_time": "2022-12-02T10:47:02.042Z"
   },
   {
    "duration": 331,
    "start_time": "2022-12-02T10:49:05.770Z"
   },
   {
    "duration": 244,
    "start_time": "2022-12-02T10:54:45.307Z"
   },
   {
    "duration": 244,
    "start_time": "2022-12-02T10:56:11.398Z"
   },
   {
    "duration": 501,
    "start_time": "2022-12-02T10:57:03.654Z"
   },
   {
    "duration": 298,
    "start_time": "2022-12-02T11:00:13.546Z"
   },
   {
    "duration": 9,
    "start_time": "2022-12-02T11:02:02.018Z"
   },
   {
    "duration": 11,
    "start_time": "2022-12-02T11:02:09.521Z"
   },
   {
    "duration": 9,
    "start_time": "2022-12-02T11:03:02.567Z"
   },
   {
    "duration": 9,
    "start_time": "2022-12-02T11:03:24.537Z"
   },
   {
    "duration": 7,
    "start_time": "2022-12-02T11:29:52.446Z"
   },
   {
    "duration": 1162,
    "start_time": "2022-12-02T11:30:16.132Z"
   },
   {
    "duration": 53,
    "start_time": "2022-12-02T11:30:17.296Z"
   },
   {
    "duration": 19,
    "start_time": "2022-12-02T11:30:17.351Z"
   },
   {
    "duration": 17,
    "start_time": "2022-12-02T11:30:17.373Z"
   },
   {
    "duration": 17,
    "start_time": "2022-12-02T11:30:17.392Z"
   },
   {
    "duration": 49,
    "start_time": "2022-12-02T11:30:17.411Z"
   },
   {
    "duration": 5,
    "start_time": "2022-12-02T11:30:17.462Z"
   },
   {
    "duration": 17,
    "start_time": "2022-12-02T11:30:17.469Z"
   },
   {
    "duration": 21,
    "start_time": "2022-12-02T11:30:17.488Z"
   },
   {
    "duration": 5,
    "start_time": "2022-12-02T11:30:17.512Z"
   },
   {
    "duration": 20,
    "start_time": "2022-12-02T11:30:17.518Z"
   },
   {
    "duration": 16,
    "start_time": "2022-12-02T11:30:17.540Z"
   },
   {
    "duration": 14,
    "start_time": "2022-12-02T11:30:17.558Z"
   },
   {
    "duration": 16,
    "start_time": "2022-12-02T11:30:17.574Z"
   },
   {
    "duration": 4,
    "start_time": "2022-12-02T11:30:17.592Z"
   },
   {
    "duration": 8,
    "start_time": "2022-12-02T11:30:17.598Z"
   },
   {
    "duration": 40,
    "start_time": "2022-12-02T11:30:17.608Z"
   },
   {
    "duration": 7,
    "start_time": "2022-12-02T11:30:17.650Z"
   },
   {
    "duration": 10,
    "start_time": "2022-12-02T11:30:17.659Z"
   },
   {
    "duration": 358,
    "start_time": "2022-12-02T11:30:17.671Z"
   },
   {
    "duration": 10,
    "start_time": "2022-12-02T11:30:18.030Z"
   },
   {
    "duration": 236,
    "start_time": "2022-12-02T11:30:18.042Z"
   },
   {
    "duration": 306,
    "start_time": "2022-12-02T11:30:18.280Z"
   },
   {
    "duration": 2,
    "start_time": "2022-12-02T11:30:18.588Z"
   },
   {
    "duration": 10,
    "start_time": "2022-12-02T11:30:18.592Z"
   },
   {
    "duration": 3,
    "start_time": "2022-12-02T11:30:18.604Z"
   },
   {
    "duration": 131,
    "start_time": "2022-12-02T11:30:18.609Z"
   },
   {
    "duration": 0,
    "start_time": "2022-12-02T11:30:18.743Z"
   },
   {
    "duration": 0,
    "start_time": "2022-12-02T11:30:18.745Z"
   },
   {
    "duration": 0,
    "start_time": "2022-12-02T11:30:18.746Z"
   },
   {
    "duration": 0,
    "start_time": "2022-12-02T11:30:18.747Z"
   },
   {
    "duration": 0,
    "start_time": "2022-12-02T11:30:18.749Z"
   },
   {
    "duration": 0,
    "start_time": "2022-12-02T11:30:18.749Z"
   },
   {
    "duration": 0,
    "start_time": "2022-12-02T11:30:18.750Z"
   },
   {
    "duration": 0,
    "start_time": "2022-12-02T11:30:18.751Z"
   },
   {
    "duration": 0,
    "start_time": "2022-12-02T11:30:18.752Z"
   },
   {
    "duration": 0,
    "start_time": "2022-12-02T11:30:18.753Z"
   },
   {
    "duration": 0,
    "start_time": "2022-12-02T11:30:18.754Z"
   },
   {
    "duration": 0,
    "start_time": "2022-12-02T11:30:18.755Z"
   },
   {
    "duration": 0,
    "start_time": "2022-12-02T11:30:18.756Z"
   },
   {
    "duration": 0,
    "start_time": "2022-12-02T11:30:18.757Z"
   },
   {
    "duration": 0,
    "start_time": "2022-12-02T11:30:18.758Z"
   },
   {
    "duration": 0,
    "start_time": "2022-12-02T11:30:18.759Z"
   },
   {
    "duration": 0,
    "start_time": "2022-12-02T11:30:18.760Z"
   },
   {
    "duration": 0,
    "start_time": "2022-12-02T11:30:18.761Z"
   },
   {
    "duration": 0,
    "start_time": "2022-12-02T11:30:18.762Z"
   },
   {
    "duration": 0,
    "start_time": "2022-12-02T11:30:18.763Z"
   },
   {
    "duration": 0,
    "start_time": "2022-12-02T11:30:18.763Z"
   },
   {
    "duration": 0,
    "start_time": "2022-12-02T11:30:18.764Z"
   },
   {
    "duration": 0,
    "start_time": "2022-12-02T11:30:18.765Z"
   },
   {
    "duration": 0,
    "start_time": "2022-12-02T11:30:18.766Z"
   },
   {
    "duration": 0,
    "start_time": "2022-12-02T11:30:18.767Z"
   },
   {
    "duration": 0,
    "start_time": "2022-12-02T11:30:18.768Z"
   },
   {
    "duration": 0,
    "start_time": "2022-12-02T11:30:18.769Z"
   },
   {
    "duration": 0,
    "start_time": "2022-12-02T11:30:18.770Z"
   },
   {
    "duration": 0,
    "start_time": "2022-12-02T11:30:18.771Z"
   },
   {
    "duration": 0,
    "start_time": "2022-12-02T11:30:18.772Z"
   },
   {
    "duration": 0,
    "start_time": "2022-12-02T11:30:18.773Z"
   },
   {
    "duration": 0,
    "start_time": "2022-12-02T11:30:18.774Z"
   },
   {
    "duration": 0,
    "start_time": "2022-12-02T11:30:18.775Z"
   },
   {
    "duration": 0,
    "start_time": "2022-12-02T11:30:18.776Z"
   },
   {
    "duration": 0,
    "start_time": "2022-12-02T11:30:18.777Z"
   },
   {
    "duration": 0,
    "start_time": "2022-12-02T11:30:18.778Z"
   },
   {
    "duration": 0,
    "start_time": "2022-12-02T11:30:18.838Z"
   },
   {
    "duration": 0,
    "start_time": "2022-12-02T11:30:18.840Z"
   },
   {
    "duration": 0,
    "start_time": "2022-12-02T11:30:18.841Z"
   },
   {
    "duration": 1,
    "start_time": "2022-12-02T11:30:18.842Z"
   },
   {
    "duration": 0,
    "start_time": "2022-12-02T11:30:18.844Z"
   },
   {
    "duration": 10,
    "start_time": "2022-12-02T11:30:36.231Z"
   },
   {
    "duration": 11,
    "start_time": "2022-12-02T11:32:56.268Z"
   },
   {
    "duration": 14,
    "start_time": "2022-12-02T11:33:02.891Z"
   },
   {
    "duration": 9,
    "start_time": "2022-12-02T11:33:19.305Z"
   },
   {
    "duration": 10,
    "start_time": "2022-12-02T11:33:39.518Z"
   },
   {
    "duration": 1247,
    "start_time": "2022-12-02T11:33:48.731Z"
   },
   {
    "duration": 55,
    "start_time": "2022-12-02T11:33:49.980Z"
   },
   {
    "duration": 21,
    "start_time": "2022-12-02T11:33:50.037Z"
   },
   {
    "duration": 14,
    "start_time": "2022-12-02T11:33:50.061Z"
   },
   {
    "duration": 17,
    "start_time": "2022-12-02T11:33:50.076Z"
   },
   {
    "duration": 55,
    "start_time": "2022-12-02T11:33:50.096Z"
   },
   {
    "duration": 6,
    "start_time": "2022-12-02T11:33:50.153Z"
   },
   {
    "duration": 10,
    "start_time": "2022-12-02T11:33:50.161Z"
   },
   {
    "duration": 21,
    "start_time": "2022-12-02T11:33:50.173Z"
   },
   {
    "duration": 4,
    "start_time": "2022-12-02T11:33:50.197Z"
   },
   {
    "duration": 34,
    "start_time": "2022-12-02T11:33:50.203Z"
   },
   {
    "duration": 14,
    "start_time": "2022-12-02T11:33:50.240Z"
   },
   {
    "duration": 13,
    "start_time": "2022-12-02T11:33:50.256Z"
   },
   {
    "duration": 12,
    "start_time": "2022-12-02T11:33:50.271Z"
   },
   {
    "duration": 6,
    "start_time": "2022-12-02T11:33:50.285Z"
   },
   {
    "duration": 6,
    "start_time": "2022-12-02T11:33:50.293Z"
   },
   {
    "duration": 41,
    "start_time": "2022-12-02T11:33:50.301Z"
   },
   {
    "duration": 7,
    "start_time": "2022-12-02T11:33:50.344Z"
   },
   {
    "duration": 8,
    "start_time": "2022-12-02T11:33:50.353Z"
   },
   {
    "duration": 320,
    "start_time": "2022-12-02T11:33:50.363Z"
   },
   {
    "duration": 6,
    "start_time": "2022-12-02T11:33:50.685Z"
   },
   {
    "duration": 250,
    "start_time": "2022-12-02T11:33:50.692Z"
   },
   {
    "duration": 298,
    "start_time": "2022-12-02T11:33:50.944Z"
   },
   {
    "duration": 3,
    "start_time": "2022-12-02T11:33:51.244Z"
   },
   {
    "duration": 11,
    "start_time": "2022-12-02T11:33:51.249Z"
   },
   {
    "duration": 3,
    "start_time": "2022-12-02T11:33:51.262Z"
   },
   {
    "duration": 30,
    "start_time": "2022-12-02T11:33:51.266Z"
   },
   {
    "duration": 8,
    "start_time": "2022-12-02T11:33:51.301Z"
   },
   {
    "duration": 11,
    "start_time": "2022-12-02T11:33:51.310Z"
   },
   {
    "duration": 169,
    "start_time": "2022-12-02T11:33:51.338Z"
   },
   {
    "duration": 158,
    "start_time": "2022-12-02T11:33:51.508Z"
   },
   {
    "duration": 9,
    "start_time": "2022-12-02T11:33:51.668Z"
   },
   {
    "duration": 16,
    "start_time": "2022-12-02T11:33:51.679Z"
   },
   {
    "duration": 9,
    "start_time": "2022-12-02T11:33:51.697Z"
   },
   {
    "duration": 30,
    "start_time": "2022-12-02T11:33:51.709Z"
   },
   {
    "duration": 7,
    "start_time": "2022-12-02T11:33:51.741Z"
   },
   {
    "duration": 13,
    "start_time": "2022-12-02T11:33:51.750Z"
   },
   {
    "duration": 14,
    "start_time": "2022-12-02T11:33:51.766Z"
   },
   {
    "duration": 10,
    "start_time": "2022-12-02T11:33:51.782Z"
   },
   {
    "duration": 12,
    "start_time": "2022-12-02T11:33:51.793Z"
   },
   {
    "duration": 97,
    "start_time": "2022-12-02T11:33:51.807Z"
   },
   {
    "duration": 7,
    "start_time": "2022-12-02T11:33:51.905Z"
   },
   {
    "duration": 25,
    "start_time": "2022-12-02T11:33:51.914Z"
   },
   {
    "duration": 82,
    "start_time": "2022-12-02T11:33:51.941Z"
   },
   {
    "duration": 15,
    "start_time": "2022-12-02T11:33:52.024Z"
   },
   {
    "duration": 19,
    "start_time": "2022-12-02T11:33:52.040Z"
   },
   {
    "duration": 94,
    "start_time": "2022-12-02T11:33:52.061Z"
   },
   {
    "duration": 9,
    "start_time": "2022-12-02T11:33:52.157Z"
   },
   {
    "duration": 18,
    "start_time": "2022-12-02T11:33:52.168Z"
   },
   {
    "duration": 226,
    "start_time": "2022-12-02T11:33:52.188Z"
   },
   {
    "duration": 7,
    "start_time": "2022-12-02T11:33:52.416Z"
   },
   {
    "duration": 17,
    "start_time": "2022-12-02T11:33:52.424Z"
   },
   {
    "duration": 137,
    "start_time": "2022-12-02T11:33:52.443Z"
   },
   {
    "duration": 7,
    "start_time": "2022-12-02T11:33:52.581Z"
   },
   {
    "duration": 10,
    "start_time": "2022-12-02T11:33:52.589Z"
   },
   {
    "duration": 150,
    "start_time": "2022-12-02T11:33:52.601Z"
   },
   {
    "duration": 8,
    "start_time": "2022-12-02T11:33:52.752Z"
   },
   {
    "duration": 33,
    "start_time": "2022-12-02T11:33:52.762Z"
   },
   {
    "duration": 18,
    "start_time": "2022-12-02T11:33:52.796Z"
   },
   {
    "duration": 567,
    "start_time": "2022-12-02T11:33:52.816Z"
   },
   {
    "duration": 10,
    "start_time": "2022-12-02T11:33:53.385Z"
   },
   {
    "duration": 14,
    "start_time": "2022-12-02T11:33:53.396Z"
   },
   {
    "duration": 3,
    "start_time": "2022-12-02T11:33:53.412Z"
   },
   {
    "duration": 6,
    "start_time": "2022-12-02T11:33:53.437Z"
   },
   {
    "duration": 6,
    "start_time": "2022-12-02T11:33:53.444Z"
   },
   {
    "duration": 13,
    "start_time": "2022-12-02T11:33:53.452Z"
   },
   {
    "duration": 6,
    "start_time": "2022-12-02T11:33:53.466Z"
   },
   {
    "duration": 4,
    "start_time": "2022-12-02T11:33:53.474Z"
   },
   {
    "duration": 9,
    "start_time": "2022-12-02T11:34:11.475Z"
   },
   {
    "duration": 1180,
    "start_time": "2022-12-02T11:34:49.474Z"
   },
   {
    "duration": 59,
    "start_time": "2022-12-02T11:34:50.655Z"
   },
   {
    "duration": 22,
    "start_time": "2022-12-02T11:34:50.716Z"
   },
   {
    "duration": 13,
    "start_time": "2022-12-02T11:34:50.741Z"
   },
   {
    "duration": 28,
    "start_time": "2022-12-02T11:34:50.756Z"
   },
   {
    "duration": 37,
    "start_time": "2022-12-02T11:34:50.787Z"
   },
   {
    "duration": 11,
    "start_time": "2022-12-02T11:34:50.826Z"
   },
   {
    "duration": 12,
    "start_time": "2022-12-02T11:34:50.839Z"
   },
   {
    "duration": 30,
    "start_time": "2022-12-02T11:34:50.852Z"
   },
   {
    "duration": 6,
    "start_time": "2022-12-02T11:34:50.885Z"
   },
   {
    "duration": 13,
    "start_time": "2022-12-02T11:34:50.893Z"
   },
   {
    "duration": 32,
    "start_time": "2022-12-02T11:34:50.908Z"
   },
   {
    "duration": 16,
    "start_time": "2022-12-02T11:34:50.942Z"
   },
   {
    "duration": 8,
    "start_time": "2022-12-02T11:34:50.960Z"
   },
   {
    "duration": 13,
    "start_time": "2022-12-02T11:34:50.970Z"
   },
   {
    "duration": 15,
    "start_time": "2022-12-02T11:34:50.985Z"
   },
   {
    "duration": 24,
    "start_time": "2022-12-02T11:34:51.002Z"
   },
   {
    "duration": 8,
    "start_time": "2022-12-02T11:34:51.038Z"
   },
   {
    "duration": 21,
    "start_time": "2022-12-02T11:34:51.048Z"
   },
   {
    "duration": 335,
    "start_time": "2022-12-02T11:34:51.070Z"
   },
   {
    "duration": 6,
    "start_time": "2022-12-02T11:34:51.407Z"
   },
   {
    "duration": 268,
    "start_time": "2022-12-02T11:34:51.415Z"
   },
   {
    "duration": 328,
    "start_time": "2022-12-02T11:34:51.685Z"
   },
   {
    "duration": 3,
    "start_time": "2022-12-02T11:34:52.015Z"
   },
   {
    "duration": 21,
    "start_time": "2022-12-02T11:34:52.020Z"
   },
   {
    "duration": 12,
    "start_time": "2022-12-02T11:34:52.043Z"
   },
   {
    "duration": 28,
    "start_time": "2022-12-02T11:34:52.057Z"
   },
   {
    "duration": 8,
    "start_time": "2022-12-02T11:34:52.092Z"
   },
   {
    "duration": 14,
    "start_time": "2022-12-02T11:34:52.102Z"
   },
   {
    "duration": 169,
    "start_time": "2022-12-02T11:34:52.118Z"
   },
   {
    "duration": 133,
    "start_time": "2022-12-02T11:34:52.289Z"
   },
   {
    "duration": 14,
    "start_time": "2022-12-02T11:34:52.424Z"
   },
   {
    "duration": 7,
    "start_time": "2022-12-02T11:34:52.440Z"
   },
   {
    "duration": 14,
    "start_time": "2022-12-02T11:34:52.448Z"
   },
   {
    "duration": 11,
    "start_time": "2022-12-02T11:34:52.464Z"
   },
   {
    "duration": 9,
    "start_time": "2022-12-02T11:34:52.477Z"
   },
   {
    "duration": 12,
    "start_time": "2022-12-02T11:34:52.488Z"
   },
   {
    "duration": 8,
    "start_time": "2022-12-02T11:34:52.502Z"
   },
   {
    "duration": 29,
    "start_time": "2022-12-02T11:34:52.512Z"
   },
   {
    "duration": 9,
    "start_time": "2022-12-02T11:34:52.544Z"
   },
   {
    "duration": 97,
    "start_time": "2022-12-02T11:34:52.555Z"
   },
   {
    "duration": 8,
    "start_time": "2022-12-02T11:34:52.655Z"
   },
   {
    "duration": 12,
    "start_time": "2022-12-02T11:34:52.665Z"
   },
   {
    "duration": 98,
    "start_time": "2022-12-02T11:34:52.679Z"
   },
   {
    "duration": 8,
    "start_time": "2022-12-02T11:34:52.779Z"
   },
   {
    "duration": 9,
    "start_time": "2022-12-02T11:34:52.789Z"
   },
   {
    "duration": 103,
    "start_time": "2022-12-02T11:34:52.799Z"
   },
   {
    "duration": 7,
    "start_time": "2022-12-02T11:34:52.904Z"
   },
   {
    "duration": 12,
    "start_time": "2022-12-02T11:34:52.912Z"
   },
   {
    "duration": 230,
    "start_time": "2022-12-02T11:34:52.938Z"
   },
   {
    "duration": 7,
    "start_time": "2022-12-02T11:34:53.170Z"
   },
   {
    "duration": 22,
    "start_time": "2022-12-02T11:34:53.178Z"
   },
   {
    "duration": 156,
    "start_time": "2022-12-02T11:34:53.202Z"
   },
   {
    "duration": 7,
    "start_time": "2022-12-02T11:34:53.360Z"
   },
   {
    "duration": 12,
    "start_time": "2022-12-02T11:34:53.369Z"
   },
   {
    "duration": 157,
    "start_time": "2022-12-02T11:34:53.383Z"
   },
   {
    "duration": 8,
    "start_time": "2022-12-02T11:34:53.543Z"
   },
   {
    "duration": 19,
    "start_time": "2022-12-02T11:34:53.553Z"
   },
   {
    "duration": 31,
    "start_time": "2022-12-02T11:34:53.574Z"
   },
   {
    "duration": 574,
    "start_time": "2022-12-02T11:34:53.607Z"
   },
   {
    "duration": 10,
    "start_time": "2022-12-02T11:34:54.183Z"
   },
   {
    "duration": 22,
    "start_time": "2022-12-02T11:34:54.195Z"
   },
   {
    "duration": 30,
    "start_time": "2022-12-02T11:34:54.219Z"
   },
   {
    "duration": 25,
    "start_time": "2022-12-02T11:34:54.251Z"
   },
   {
    "duration": 37,
    "start_time": "2022-12-02T11:34:54.278Z"
   },
   {
    "duration": 50,
    "start_time": "2022-12-02T11:34:54.317Z"
   },
   {
    "duration": 35,
    "start_time": "2022-12-02T11:34:54.369Z"
   },
   {
    "duration": 20,
    "start_time": "2022-12-02T11:34:54.407Z"
   },
   {
    "duration": 139,
    "start_time": "2022-12-02T11:36:01.659Z"
   },
   {
    "duration": 140,
    "start_time": "2022-12-02T11:36:08.308Z"
   },
   {
    "duration": 61,
    "start_time": "2022-12-02T11:40:00.382Z"
   },
   {
    "duration": 111,
    "start_time": "2022-12-02T11:40:05.439Z"
   },
   {
    "duration": 15,
    "start_time": "2022-12-02T11:40:18.467Z"
   },
   {
    "duration": 189,
    "start_time": "2022-12-02T11:40:21.321Z"
   },
   {
    "duration": 627,
    "start_time": "2022-12-02T11:41:51.873Z"
   },
   {
    "duration": 76,
    "start_time": "2022-12-02T11:45:16.814Z"
   },
   {
    "duration": 72,
    "start_time": "2022-12-02T11:49:54.551Z"
   },
   {
    "duration": 191,
    "start_time": "2022-12-02T11:49:58.483Z"
   },
   {
    "duration": 154,
    "start_time": "2022-12-02T12:12:56.004Z"
   },
   {
    "duration": 149,
    "start_time": "2022-12-02T12:13:51.361Z"
   },
   {
    "duration": 150,
    "start_time": "2022-12-02T12:14:09.160Z"
   },
   {
    "duration": 161,
    "start_time": "2022-12-02T12:14:31.615Z"
   },
   {
    "duration": 137,
    "start_time": "2022-12-02T12:14:58.184Z"
   },
   {
    "duration": 151,
    "start_time": "2022-12-02T12:16:42.031Z"
   },
   {
    "duration": 7,
    "start_time": "2022-12-02T12:18:35.472Z"
   },
   {
    "duration": 158,
    "start_time": "2022-12-02T12:19:06.240Z"
   },
   {
    "duration": 256,
    "start_time": "2022-12-02T12:19:16.696Z"
   },
   {
    "duration": 9,
    "start_time": "2022-12-02T12:19:21.562Z"
   },
   {
    "duration": 7,
    "start_time": "2022-12-02T12:19:30.250Z"
   },
   {
    "duration": 8,
    "start_time": "2022-12-02T12:19:33.472Z"
   },
   {
    "duration": 7,
    "start_time": "2022-12-02T12:20:08.744Z"
   },
   {
    "duration": 7,
    "start_time": "2022-12-02T12:20:13.961Z"
   },
   {
    "duration": 8,
    "start_time": "2022-12-02T12:20:28.565Z"
   },
   {
    "duration": 7,
    "start_time": "2022-12-02T12:21:10.162Z"
   },
   {
    "duration": 8,
    "start_time": "2022-12-02T12:21:32.239Z"
   },
   {
    "duration": 57,
    "start_time": "2022-12-02T16:37:46.871Z"
   },
   {
    "duration": 1315,
    "start_time": "2022-12-02T16:37:53.403Z"
   },
   {
    "duration": 120,
    "start_time": "2022-12-02T16:37:54.721Z"
   },
   {
    "duration": 22,
    "start_time": "2022-12-02T16:37:54.844Z"
   },
   {
    "duration": 21,
    "start_time": "2022-12-02T16:37:54.869Z"
   },
   {
    "duration": 35,
    "start_time": "2022-12-02T16:37:54.892Z"
   },
   {
    "duration": 48,
    "start_time": "2022-12-02T16:37:54.929Z"
   },
   {
    "duration": 5,
    "start_time": "2022-12-02T16:37:54.979Z"
   },
   {
    "duration": 31,
    "start_time": "2022-12-02T16:37:54.986Z"
   },
   {
    "duration": 32,
    "start_time": "2022-12-02T16:37:55.018Z"
   },
   {
    "duration": 6,
    "start_time": "2022-12-02T16:37:55.054Z"
   },
   {
    "duration": 15,
    "start_time": "2022-12-02T16:37:55.061Z"
   },
   {
    "duration": 36,
    "start_time": "2022-12-02T16:37:55.078Z"
   },
   {
    "duration": 14,
    "start_time": "2022-12-02T16:37:55.116Z"
   },
   {
    "duration": 14,
    "start_time": "2022-12-02T16:37:55.131Z"
   },
   {
    "duration": 6,
    "start_time": "2022-12-02T16:37:55.146Z"
   },
   {
    "duration": 9,
    "start_time": "2022-12-02T16:37:55.153Z"
   },
   {
    "duration": 15,
    "start_time": "2022-12-02T16:37:55.163Z"
   },
   {
    "duration": 5,
    "start_time": "2022-12-02T16:37:55.180Z"
   },
   {
    "duration": 13,
    "start_time": "2022-12-02T16:37:55.186Z"
   },
   {
    "duration": 273,
    "start_time": "2022-12-02T16:37:55.201Z"
   },
   {
    "duration": 5,
    "start_time": "2022-12-02T16:37:55.476Z"
   },
   {
    "duration": 232,
    "start_time": "2022-12-02T16:37:55.483Z"
   },
   {
    "duration": 273,
    "start_time": "2022-12-02T16:37:55.716Z"
   },
   {
    "duration": 7,
    "start_time": "2022-12-02T16:37:55.991Z"
   },
   {
    "duration": 20,
    "start_time": "2022-12-02T16:37:56.000Z"
   },
   {
    "duration": 10,
    "start_time": "2022-12-02T16:37:56.021Z"
   },
   {
    "duration": 19,
    "start_time": "2022-12-02T16:37:56.033Z"
   },
   {
    "duration": 7,
    "start_time": "2022-12-02T16:37:56.056Z"
   },
   {
    "duration": 10,
    "start_time": "2022-12-02T16:37:56.065Z"
   },
   {
    "duration": 196,
    "start_time": "2022-12-02T16:37:56.077Z"
   },
   {
    "duration": 175,
    "start_time": "2022-12-02T16:37:56.274Z"
   },
   {
    "duration": 128,
    "start_time": "2022-12-02T16:37:56.451Z"
   },
   {
    "duration": 126,
    "start_time": "2022-12-02T16:37:56.581Z"
   },
   {
    "duration": 7,
    "start_time": "2022-12-02T16:37:56.709Z"
   },
   {
    "duration": 10,
    "start_time": "2022-12-02T16:37:56.717Z"
   },
   {
    "duration": 28,
    "start_time": "2022-12-02T16:37:56.728Z"
   },
   {
    "duration": 12,
    "start_time": "2022-12-02T16:37:56.757Z"
   },
   {
    "duration": 9,
    "start_time": "2022-12-02T16:37:56.771Z"
   },
   {
    "duration": 7,
    "start_time": "2022-12-02T16:37:56.781Z"
   },
   {
    "duration": 9,
    "start_time": "2022-12-02T16:37:56.789Z"
   },
   {
    "duration": 7,
    "start_time": "2022-12-02T16:37:56.800Z"
   },
   {
    "duration": 7,
    "start_time": "2022-12-02T16:37:56.808Z"
   },
   {
    "duration": 6,
    "start_time": "2022-12-02T16:37:56.816Z"
   },
   {
    "duration": 83,
    "start_time": "2022-12-02T16:37:56.823Z"
   },
   {
    "duration": 6,
    "start_time": "2022-12-02T16:37:56.908Z"
   },
   {
    "duration": 11,
    "start_time": "2022-12-02T16:37:56.915Z"
   },
   {
    "duration": 149,
    "start_time": "2022-12-02T16:37:56.928Z"
   },
   {
    "duration": 6,
    "start_time": "2022-12-02T16:37:57.078Z"
   },
   {
    "duration": 16,
    "start_time": "2022-12-02T16:37:57.085Z"
   },
   {
    "duration": 71,
    "start_time": "2022-12-02T16:37:57.102Z"
   },
   {
    "duration": 22,
    "start_time": "2022-12-02T16:37:57.175Z"
   },
   {
    "duration": 7,
    "start_time": "2022-12-02T16:37:57.198Z"
   },
   {
    "duration": 111,
    "start_time": "2022-12-02T16:37:57.206Z"
   },
   {
    "duration": 5,
    "start_time": "2022-12-02T16:37:57.319Z"
   },
   {
    "duration": 8,
    "start_time": "2022-12-02T16:37:57.326Z"
   },
   {
    "duration": 123,
    "start_time": "2022-12-02T16:37:57.336Z"
   },
   {
    "duration": 6,
    "start_time": "2022-12-02T16:37:57.460Z"
   },
   {
    "duration": 8,
    "start_time": "2022-12-02T16:37:57.468Z"
   },
   {
    "duration": 122,
    "start_time": "2022-12-02T16:37:57.478Z"
   },
   {
    "duration": 6,
    "start_time": "2022-12-02T16:37:57.602Z"
   },
   {
    "duration": 9,
    "start_time": "2022-12-02T16:37:57.610Z"
   },
   {
    "duration": 10,
    "start_time": "2022-12-02T16:37:57.620Z"
   },
   {
    "duration": 499,
    "start_time": "2022-12-02T16:37:57.631Z"
   },
   {
    "duration": 9,
    "start_time": "2022-12-02T16:37:58.132Z"
   },
   {
    "duration": 11,
    "start_time": "2022-12-02T16:37:58.142Z"
   },
   {
    "duration": 5,
    "start_time": "2022-12-02T16:37:58.154Z"
   },
   {
    "duration": 13,
    "start_time": "2022-12-02T16:37:58.161Z"
   },
   {
    "duration": 23,
    "start_time": "2022-12-02T16:37:58.176Z"
   },
   {
    "duration": 10,
    "start_time": "2022-12-02T16:37:58.200Z"
   },
   {
    "duration": 14,
    "start_time": "2022-12-02T16:37:58.212Z"
   },
   {
    "duration": 8,
    "start_time": "2022-12-02T16:37:58.227Z"
   },
   {
    "duration": 6,
    "start_time": "2022-12-02T16:38:57.697Z"
   },
   {
    "duration": 7,
    "start_time": "2022-12-02T16:39:49.587Z"
   },
   {
    "duration": 7,
    "start_time": "2022-12-02T16:39:53.190Z"
   },
   {
    "duration": 96,
    "start_time": "2022-12-02T16:39:56.706Z"
   },
   {
    "duration": 7,
    "start_time": "2022-12-02T16:40:00.685Z"
   },
   {
    "duration": 6,
    "start_time": "2022-12-02T16:41:58.038Z"
   },
   {
    "duration": 6,
    "start_time": "2022-12-02T16:42:59.028Z"
   },
   {
    "duration": 7,
    "start_time": "2022-12-02T16:43:00.581Z"
   },
   {
    "duration": 65,
    "start_time": "2022-12-02T16:43:04.397Z"
   },
   {
    "duration": 7,
    "start_time": "2022-12-02T16:44:18.955Z"
   },
   {
    "duration": 7,
    "start_time": "2022-12-02T16:44:19.864Z"
   },
   {
    "duration": 66,
    "start_time": "2022-12-02T16:44:21.071Z"
   },
   {
    "duration": 8,
    "start_time": "2022-12-02T16:44:54.809Z"
   },
   {
    "duration": 9,
    "start_time": "2022-12-02T16:44:55.322Z"
   },
   {
    "duration": 80,
    "start_time": "2022-12-02T16:44:57.503Z"
   },
   {
    "duration": 1334,
    "start_time": "2022-12-02T16:51:52.104Z"
   },
   {
    "duration": 582,
    "start_time": "2022-12-02T16:52:23.892Z"
   },
   {
    "duration": 482,
    "start_time": "2022-12-02T16:53:06.029Z"
   },
   {
    "duration": 7,
    "start_time": "2022-12-02T16:57:01.025Z"
   },
   {
    "duration": 984,
    "start_time": "2022-12-02T16:58:35.442Z"
   },
   {
    "duration": 914,
    "start_time": "2022-12-02T16:58:59.061Z"
   },
   {
    "duration": 936,
    "start_time": "2022-12-02T16:59:02.464Z"
   },
   {
    "duration": 995,
    "start_time": "2022-12-02T16:59:26.602Z"
   },
   {
    "duration": 947,
    "start_time": "2022-12-02T16:59:30.316Z"
   },
   {
    "duration": 7,
    "start_time": "2022-12-02T17:01:44.392Z"
   },
   {
    "duration": 7,
    "start_time": "2022-12-02T17:01:46.555Z"
   },
   {
    "duration": 920,
    "start_time": "2022-12-02T17:02:02.407Z"
   },
   {
    "duration": 457,
    "start_time": "2022-12-02T17:02:07.015Z"
   },
   {
    "duration": 8,
    "start_time": "2022-12-02T17:08:26.863Z"
   },
   {
    "duration": 9,
    "start_time": "2022-12-02T17:08:27.997Z"
   },
   {
    "duration": 2,
    "start_time": "2022-12-02T17:08:29.127Z"
   },
   {
    "duration": 5,
    "start_time": "2022-12-02T17:08:30.055Z"
   },
   {
    "duration": 4,
    "start_time": "2022-12-02T17:08:30.841Z"
   },
   {
    "duration": 8,
    "start_time": "2022-12-02T17:11:58.397Z"
   },
   {
    "duration": 6,
    "start_time": "2022-12-02T17:11:58.953Z"
   },
   {
    "duration": 2,
    "start_time": "2022-12-02T17:12:00.411Z"
   },
   {
    "duration": 4,
    "start_time": "2022-12-02T17:12:03.372Z"
   },
   {
    "duration": 3,
    "start_time": "2022-12-02T17:12:04.136Z"
   },
   {
    "duration": 7,
    "start_time": "2022-12-02T17:13:23.159Z"
   },
   {
    "duration": 5,
    "start_time": "2022-12-02T17:13:24.065Z"
   },
   {
    "duration": 3,
    "start_time": "2022-12-02T17:13:24.744Z"
   },
   {
    "duration": 3,
    "start_time": "2022-12-02T17:13:32.124Z"
   },
   {
    "duration": 1404,
    "start_time": "2022-12-06T16:50:02.637Z"
   },
   {
    "duration": 208,
    "start_time": "2022-12-06T16:50:04.043Z"
   },
   {
    "duration": 21,
    "start_time": "2022-12-06T16:50:04.252Z"
   },
   {
    "duration": 13,
    "start_time": "2022-12-06T16:50:04.275Z"
   },
   {
    "duration": 18,
    "start_time": "2022-12-06T16:50:04.290Z"
   },
   {
    "duration": 61,
    "start_time": "2022-12-06T16:50:04.310Z"
   },
   {
    "duration": 6,
    "start_time": "2022-12-06T16:50:04.373Z"
   },
   {
    "duration": 18,
    "start_time": "2022-12-06T16:50:04.381Z"
   },
   {
    "duration": 24,
    "start_time": "2022-12-06T16:50:04.401Z"
   },
   {
    "duration": 26,
    "start_time": "2022-12-06T16:50:04.428Z"
   },
   {
    "duration": 8,
    "start_time": "2022-12-06T16:50:04.457Z"
   },
   {
    "duration": 23,
    "start_time": "2022-12-06T16:50:04.467Z"
   },
   {
    "duration": 13,
    "start_time": "2022-12-06T16:50:04.492Z"
   },
   {
    "duration": 9,
    "start_time": "2022-12-06T16:50:04.507Z"
   },
   {
    "duration": 35,
    "start_time": "2022-12-06T16:50:04.518Z"
   },
   {
    "duration": 8,
    "start_time": "2022-12-06T16:50:04.554Z"
   },
   {
    "duration": 21,
    "start_time": "2022-12-06T16:50:04.564Z"
   },
   {
    "duration": 8,
    "start_time": "2022-12-06T16:50:04.587Z"
   },
   {
    "duration": 13,
    "start_time": "2022-12-06T16:50:04.597Z"
   },
   {
    "duration": 351,
    "start_time": "2022-12-06T16:50:04.611Z"
   },
   {
    "duration": 7,
    "start_time": "2022-12-06T16:50:04.964Z"
   },
   {
    "duration": 271,
    "start_time": "2022-12-06T16:50:04.973Z"
   },
   {
    "duration": 313,
    "start_time": "2022-12-06T16:50:05.246Z"
   },
   {
    "duration": 2,
    "start_time": "2022-12-06T16:50:05.561Z"
   },
   {
    "duration": 13,
    "start_time": "2022-12-06T16:50:05.565Z"
   },
   {
    "duration": 6,
    "start_time": "2022-12-06T16:50:05.580Z"
   },
   {
    "duration": 20,
    "start_time": "2022-12-06T16:50:05.588Z"
   },
   {
    "duration": 7,
    "start_time": "2022-12-06T16:50:05.611Z"
   },
   {
    "duration": 34,
    "start_time": "2022-12-06T16:50:05.620Z"
   },
   {
    "duration": 204,
    "start_time": "2022-12-06T16:50:05.656Z"
   },
   {
    "duration": 209,
    "start_time": "2022-12-06T16:50:05.861Z"
   },
   {
    "duration": 173,
    "start_time": "2022-12-06T16:50:06.072Z"
   },
   {
    "duration": 156,
    "start_time": "2022-12-06T16:50:06.250Z"
   },
   {
    "duration": 9,
    "start_time": "2022-12-06T16:50:06.408Z"
   },
   {
    "duration": 15,
    "start_time": "2022-12-06T16:50:06.419Z"
   },
   {
    "duration": 11,
    "start_time": "2022-12-06T16:50:06.454Z"
   },
   {
    "duration": 10,
    "start_time": "2022-12-06T16:50:06.466Z"
   },
   {
    "duration": 10,
    "start_time": "2022-12-06T16:50:06.477Z"
   },
   {
    "duration": 9,
    "start_time": "2022-12-06T16:50:06.489Z"
   },
   {
    "duration": 14,
    "start_time": "2022-12-06T16:50:06.500Z"
   },
   {
    "duration": 9,
    "start_time": "2022-12-06T16:50:06.516Z"
   },
   {
    "duration": 6,
    "start_time": "2022-12-06T16:50:06.552Z"
   },
   {
    "duration": 9,
    "start_time": "2022-12-06T16:50:06.560Z"
   },
   {
    "duration": 10,
    "start_time": "2022-12-06T16:50:06.570Z"
   },
   {
    "duration": 10,
    "start_time": "2022-12-06T16:50:06.581Z"
   },
   {
    "duration": 706,
    "start_time": "2022-12-06T16:50:06.593Z"
   },
   {
    "duration": 10,
    "start_time": "2022-12-06T16:50:07.301Z"
   },
   {
    "duration": 15,
    "start_time": "2022-12-06T16:50:07.313Z"
   },
   {
    "duration": 30,
    "start_time": "2022-12-06T16:50:07.330Z"
   },
   {
    "duration": 1153,
    "start_time": "2022-12-06T16:50:07.362Z"
   },
   {
    "duration": 10,
    "start_time": "2022-12-06T16:50:08.517Z"
   },
   {
    "duration": 14,
    "start_time": "2022-12-06T16:50:08.529Z"
   },
   {
    "duration": 9,
    "start_time": "2022-12-06T16:50:08.545Z"
   },
   {
    "duration": 558,
    "start_time": "2022-12-06T16:50:08.556Z"
   },
   {
    "duration": 9,
    "start_time": "2022-12-06T16:50:09.116Z"
   },
   {
    "duration": 26,
    "start_time": "2022-12-06T16:50:09.126Z"
   },
   {
    "duration": 14,
    "start_time": "2022-12-06T16:50:09.154Z"
   },
   {
    "duration": 9,
    "start_time": "2022-12-06T16:50:09.170Z"
   },
   {
    "duration": 18,
    "start_time": "2022-12-06T16:50:09.181Z"
   },
   {
    "duration": 18,
    "start_time": "2022-12-06T16:50:09.201Z"
   },
   {
    "duration": 9,
    "start_time": "2022-12-06T16:50:09.220Z"
   },
   {
    "duration": 7,
    "start_time": "2022-12-06T16:50:09.231Z"
   },
   {
    "duration": 72,
    "start_time": "2022-12-06T16:54:22.254Z"
   },
   {
    "duration": 5,
    "start_time": "2022-12-06T16:55:13.862Z"
   },
   {
    "duration": 2474,
    "start_time": "2022-12-06T16:56:22.450Z"
   },
   {
    "duration": 55,
    "start_time": "2022-12-06T16:56:24.926Z"
   },
   {
    "duration": 24,
    "start_time": "2022-12-06T16:56:24.983Z"
   },
   {
    "duration": 15,
    "start_time": "2022-12-06T16:56:25.010Z"
   },
   {
    "duration": 34,
    "start_time": "2022-12-06T16:56:25.026Z"
   },
   {
    "duration": 30,
    "start_time": "2022-12-06T16:56:25.062Z"
   },
   {
    "duration": 5,
    "start_time": "2022-12-06T16:56:25.093Z"
   },
   {
    "duration": 18,
    "start_time": "2022-12-06T16:56:25.099Z"
   },
   {
    "duration": 38,
    "start_time": "2022-12-06T16:56:25.119Z"
   },
   {
    "duration": 5,
    "start_time": "2022-12-06T16:56:25.159Z"
   },
   {
    "duration": 19,
    "start_time": "2022-12-06T16:56:25.166Z"
   },
   {
    "duration": 30,
    "start_time": "2022-12-06T16:56:25.187Z"
   },
   {
    "duration": 14,
    "start_time": "2022-12-06T16:56:25.219Z"
   },
   {
    "duration": 13,
    "start_time": "2022-12-06T16:56:25.235Z"
   },
   {
    "duration": 7,
    "start_time": "2022-12-06T16:56:25.250Z"
   },
   {
    "duration": 12,
    "start_time": "2022-12-06T16:56:25.259Z"
   },
   {
    "duration": 24,
    "start_time": "2022-12-06T16:56:25.272Z"
   },
   {
    "duration": 7,
    "start_time": "2022-12-06T16:56:25.297Z"
   },
   {
    "duration": 15,
    "start_time": "2022-12-06T16:56:25.307Z"
   },
   {
    "duration": 329,
    "start_time": "2022-12-06T16:56:25.324Z"
   },
   {
    "duration": 6,
    "start_time": "2022-12-06T16:56:25.654Z"
   },
   {
    "duration": 259,
    "start_time": "2022-12-06T16:56:25.662Z"
   },
   {
    "duration": 314,
    "start_time": "2022-12-06T16:56:25.923Z"
   },
   {
    "duration": 2,
    "start_time": "2022-12-06T16:56:26.239Z"
   },
   {
    "duration": 23,
    "start_time": "2022-12-06T16:56:26.250Z"
   },
   {
    "duration": 18,
    "start_time": "2022-12-06T16:56:26.275Z"
   },
   {
    "duration": 31,
    "start_time": "2022-12-06T16:56:26.295Z"
   },
   {
    "duration": 19,
    "start_time": "2022-12-06T16:56:26.330Z"
   },
   {
    "duration": 20,
    "start_time": "2022-12-06T16:56:26.351Z"
   },
   {
    "duration": 216,
    "start_time": "2022-12-06T16:56:26.373Z"
   },
   {
    "duration": 211,
    "start_time": "2022-12-06T16:56:26.591Z"
   },
   {
    "duration": 160,
    "start_time": "2022-12-06T16:56:26.804Z"
   },
   {
    "duration": 169,
    "start_time": "2022-12-06T16:56:26.966Z"
   },
   {
    "duration": 16,
    "start_time": "2022-12-06T16:56:27.137Z"
   },
   {
    "duration": 23,
    "start_time": "2022-12-06T16:56:27.156Z"
   },
   {
    "duration": 19,
    "start_time": "2022-12-06T16:56:27.181Z"
   },
   {
    "duration": 42,
    "start_time": "2022-12-06T16:56:27.202Z"
   },
   {
    "duration": 18,
    "start_time": "2022-12-06T16:56:27.246Z"
   },
   {
    "duration": 31,
    "start_time": "2022-12-06T16:56:27.266Z"
   },
   {
    "duration": 28,
    "start_time": "2022-12-06T16:56:27.299Z"
   },
   {
    "duration": 14,
    "start_time": "2022-12-06T16:56:27.329Z"
   },
   {
    "duration": 7,
    "start_time": "2022-12-06T16:56:27.345Z"
   },
   {
    "duration": 6,
    "start_time": "2022-12-06T16:56:27.354Z"
   },
   {
    "duration": 8,
    "start_time": "2022-12-06T16:56:27.362Z"
   },
   {
    "duration": 7,
    "start_time": "2022-12-06T16:56:27.372Z"
   },
   {
    "duration": 696,
    "start_time": "2022-12-06T16:56:27.381Z"
   },
   {
    "duration": 9,
    "start_time": "2022-12-06T16:56:28.079Z"
   },
   {
    "duration": 28,
    "start_time": "2022-12-06T16:56:28.090Z"
   },
   {
    "duration": 17,
    "start_time": "2022-12-06T16:56:28.120Z"
   },
   {
    "duration": 1177,
    "start_time": "2022-12-06T16:56:28.139Z"
   },
   {
    "duration": 6,
    "start_time": "2022-12-06T16:56:29.318Z"
   },
   {
    "duration": 12,
    "start_time": "2022-12-06T16:56:29.326Z"
   },
   {
    "duration": 15,
    "start_time": "2022-12-06T16:56:29.340Z"
   },
   {
    "duration": 13,
    "start_time": "2022-12-06T16:56:29.358Z"
   },
   {
    "duration": 627,
    "start_time": "2022-12-06T16:56:29.372Z"
   },
   {
    "duration": 10,
    "start_time": "2022-12-06T16:56:30.001Z"
   },
   {
    "duration": 28,
    "start_time": "2022-12-06T16:56:30.013Z"
   },
   {
    "duration": 26,
    "start_time": "2022-12-06T16:56:30.043Z"
   },
   {
    "duration": 24,
    "start_time": "2022-12-06T16:56:30.071Z"
   },
   {
    "duration": 36,
    "start_time": "2022-12-06T16:56:30.097Z"
   },
   {
    "duration": 32,
    "start_time": "2022-12-06T16:56:30.135Z"
   },
   {
    "duration": 31,
    "start_time": "2022-12-06T16:56:30.168Z"
   },
   {
    "duration": 49,
    "start_time": "2022-12-06T16:56:30.201Z"
   },
   {
    "duration": 9,
    "start_time": "2022-12-06T16:56:52.958Z"
   },
   {
    "duration": 5,
    "start_time": "2022-12-06T16:57:02.614Z"
   },
   {
    "duration": 8,
    "start_time": "2022-12-06T16:57:32.780Z"
   },
   {
    "duration": 7,
    "start_time": "2022-12-06T16:57:33.342Z"
   },
   {
    "duration": 8,
    "start_time": "2022-12-06T16:57:36.094Z"
   },
   {
    "duration": 569,
    "start_time": "2022-12-06T16:57:37.341Z"
   },
   {
    "duration": 73,
    "start_time": "2022-12-06T17:18:50.004Z"
   },
   {
    "duration": 86,
    "start_time": "2022-12-06T17:21:04.551Z"
   },
   {
    "duration": 1221,
    "start_time": "2022-12-06T17:34:53.220Z"
   },
   {
    "duration": 54,
    "start_time": "2022-12-06T17:34:54.444Z"
   },
   {
    "duration": 20,
    "start_time": "2022-12-06T17:34:54.500Z"
   },
   {
    "duration": 19,
    "start_time": "2022-12-06T17:34:54.522Z"
   },
   {
    "duration": 25,
    "start_time": "2022-12-06T17:34:54.543Z"
   },
   {
    "duration": 32,
    "start_time": "2022-12-06T17:34:54.570Z"
   },
   {
    "duration": 5,
    "start_time": "2022-12-06T17:34:54.604Z"
   },
   {
    "duration": 17,
    "start_time": "2022-12-06T17:34:54.611Z"
   },
   {
    "duration": 31,
    "start_time": "2022-12-06T17:34:54.630Z"
   },
   {
    "duration": 6,
    "start_time": "2022-12-06T17:34:54.665Z"
   },
   {
    "duration": 14,
    "start_time": "2022-12-06T17:34:54.673Z"
   },
   {
    "duration": 17,
    "start_time": "2022-12-06T17:34:54.689Z"
   },
   {
    "duration": 19,
    "start_time": "2022-12-06T17:34:54.708Z"
   },
   {
    "duration": 26,
    "start_time": "2022-12-06T17:34:54.729Z"
   },
   {
    "duration": 19,
    "start_time": "2022-12-06T17:34:54.757Z"
   },
   {
    "duration": 12,
    "start_time": "2022-12-06T17:34:54.778Z"
   },
   {
    "duration": 18,
    "start_time": "2022-12-06T17:34:54.792Z"
   },
   {
    "duration": 7,
    "start_time": "2022-12-06T17:34:54.811Z"
   },
   {
    "duration": 9,
    "start_time": "2022-12-06T17:34:54.820Z"
   },
   {
    "duration": 372,
    "start_time": "2022-12-06T17:34:54.831Z"
   },
   {
    "duration": 6,
    "start_time": "2022-12-06T17:34:55.205Z"
   },
   {
    "duration": 272,
    "start_time": "2022-12-06T17:34:55.212Z"
   },
   {
    "duration": 313,
    "start_time": "2022-12-06T17:34:55.486Z"
   },
   {
    "duration": 2,
    "start_time": "2022-12-06T17:34:55.801Z"
   },
   {
    "duration": 14,
    "start_time": "2022-12-06T17:34:55.805Z"
   },
   {
    "duration": 3,
    "start_time": "2022-12-06T17:34:55.821Z"
   },
   {
    "duration": 36,
    "start_time": "2022-12-06T17:34:55.826Z"
   },
   {
    "duration": 9,
    "start_time": "2022-12-06T17:34:55.867Z"
   },
   {
    "duration": 9,
    "start_time": "2022-12-06T17:34:55.878Z"
   },
   {
    "duration": 223,
    "start_time": "2022-12-06T17:34:55.889Z"
   },
   {
    "duration": 237,
    "start_time": "2022-12-06T17:34:56.114Z"
   },
   {
    "duration": 156,
    "start_time": "2022-12-06T17:34:56.352Z"
   },
   {
    "duration": 169,
    "start_time": "2022-12-06T17:34:56.510Z"
   },
   {
    "duration": 8,
    "start_time": "2022-12-06T17:34:56.680Z"
   },
   {
    "duration": 15,
    "start_time": "2022-12-06T17:34:56.690Z"
   },
   {
    "duration": 24,
    "start_time": "2022-12-06T17:34:56.707Z"
   },
   {
    "duration": 12,
    "start_time": "2022-12-06T17:34:56.733Z"
   },
   {
    "duration": 15,
    "start_time": "2022-12-06T17:34:56.750Z"
   },
   {
    "duration": 23,
    "start_time": "2022-12-06T17:34:56.766Z"
   },
   {
    "duration": 38,
    "start_time": "2022-12-06T17:34:56.791Z"
   },
   {
    "duration": 12,
    "start_time": "2022-12-06T17:34:56.830Z"
   },
   {
    "duration": 11,
    "start_time": "2022-12-06T17:34:56.844Z"
   },
   {
    "duration": 16,
    "start_time": "2022-12-06T17:34:56.856Z"
   },
   {
    "duration": 18,
    "start_time": "2022-12-06T17:34:56.874Z"
   },
   {
    "duration": 18,
    "start_time": "2022-12-06T17:34:56.894Z"
   },
   {
    "duration": 682,
    "start_time": "2022-12-06T17:34:56.914Z"
   },
   {
    "duration": 7,
    "start_time": "2022-12-06T17:34:57.598Z"
   },
   {
    "duration": 9,
    "start_time": "2022-12-06T17:34:57.607Z"
   },
   {
    "duration": 7,
    "start_time": "2022-12-06T17:34:57.618Z"
   },
   {
    "duration": 1145,
    "start_time": "2022-12-06T17:34:57.627Z"
   },
   {
    "duration": 6,
    "start_time": "2022-12-06T17:34:58.774Z"
   },
   {
    "duration": 14,
    "start_time": "2022-12-06T17:34:58.781Z"
   },
   {
    "duration": 10,
    "start_time": "2022-12-06T17:34:58.797Z"
   },
   {
    "duration": 11,
    "start_time": "2022-12-06T17:34:58.809Z"
   },
   {
    "duration": 617,
    "start_time": "2022-12-06T17:34:58.821Z"
   },
   {
    "duration": 14,
    "start_time": "2022-12-06T17:34:59.439Z"
   },
   {
    "duration": 8,
    "start_time": "2022-12-06T17:34:59.455Z"
   },
   {
    "duration": 8,
    "start_time": "2022-12-06T17:34:59.464Z"
   },
   {
    "duration": 7,
    "start_time": "2022-12-06T17:34:59.474Z"
   },
   {
    "duration": 6,
    "start_time": "2022-12-06T17:34:59.483Z"
   },
   {
    "duration": 10,
    "start_time": "2022-12-06T17:34:59.491Z"
   },
   {
    "duration": 8,
    "start_time": "2022-12-06T17:34:59.503Z"
   },
   {
    "duration": 6,
    "start_time": "2022-12-06T17:34:59.513Z"
   }
  ],
  "kernelspec": {
   "display_name": "Python 3 (ipykernel)",
   "language": "python",
   "name": "python3"
  },
  "language_info": {
   "codemirror_mode": {
    "name": "ipython",
    "version": 3
   },
   "file_extension": ".py",
   "mimetype": "text/x-python",
   "name": "python",
   "nbconvert_exporter": "python",
   "pygments_lexer": "ipython3",
   "version": "3.9.12"
  },
  "toc": {
   "base_numbering": 1,
   "nav_menu": {},
   "number_sections": true,
   "sideBar": true,
   "skip_h1_title": true,
   "title_cell": "Table of Contents",
   "title_sidebar": "Contents",
   "toc_cell": false,
   "toc_position": {},
   "toc_section_display": true,
   "toc_window_display": false
  }
 },
 "nbformat": 4,
 "nbformat_minor": 2
}
