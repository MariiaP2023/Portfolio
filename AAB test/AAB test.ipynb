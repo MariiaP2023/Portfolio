{
 "cells": [
  {
   "cell_type": "markdown",
   "metadata": {},
   "source": [
    "# Иссладование результатов А/А/В теста"
   ]
  },
  {
   "cell_type": "markdown",
   "metadata": {},
   "source": [
    "##  Описание поекта"
   ]
  },
  {
   "cell_type": "markdown",
   "metadata": {},
   "source": [
    "В проекте осуществляется работа с данными стартапа, который продаёт продукты питания. Изучено, как ведут себя пользователи мобильного приложения. \\\n",
    "Исследованы результаты A/A/B-эксперимента. Пользователей разбили на 3 группы: 2 контрольные со старыми шрифтами и одну экспериментальную — с новыми."
   ]
  },
  {
   "cell_type": "markdown",
   "metadata": {},
   "source": [
    "## Описание данных"
   ]
  },
  {
   "cell_type": "markdown",
   "metadata": {},
   "source": [
    "Каждая запись в логе — это действие пользователя, или событие. \n",
    "- EventName — название события;\n",
    "- DeviceIDHash — уникальный идентификатор пользователя;\n",
    "- EventTimestamp — время события;\n",
    "- ExpId — номер эксперимента: 246 и 247 — контрольные группы, а 248 — экспериментальная."
   ]
  },
  {
   "cell_type": "markdown",
   "metadata": {},
   "source": [
    "## Предобработка данных"
   ]
  },
  {
   "cell_type": "code",
   "execution_count": 1,
   "metadata": {},
   "outputs": [],
   "source": [
    "# импорт библиотек\n",
    "import pandas as pd\n",
    "import datetime as dt\n",
    "import matplotlib.pyplot as plt\n",
    "from scipy import stats as st\n",
    "from statsmodels.stats.proportion import proportions_ztest\n",
    "import numpy as np\n",
    "import math as mth\n",
    "import plotly.express as px\n",
    "from plotly import graph_objects as go"
   ]
  },
  {
   "cell_type": "code",
   "execution_count": 4,
   "metadata": {},
   "outputs": [
    {
     "data": {
      "text/html": [
       "<div>\n",
       "<style scoped>\n",
       "    .dataframe tbody tr th:only-of-type {\n",
       "        vertical-align: middle;\n",
       "    }\n",
       "\n",
       "    .dataframe tbody tr th {\n",
       "        vertical-align: top;\n",
       "    }\n",
       "\n",
       "    .dataframe thead th {\n",
       "        text-align: right;\n",
       "    }\n",
       "</style>\n",
       "<table border=\"1\" class=\"dataframe\">\n",
       "  <thead>\n",
       "    <tr style=\"text-align: right;\">\n",
       "      <th></th>\n",
       "      <th>EventName</th>\n",
       "      <th>DeviceIDHash</th>\n",
       "      <th>EventTimestamp</th>\n",
       "      <th>ExpId</th>\n",
       "    </tr>\n",
       "  </thead>\n",
       "  <tbody>\n",
       "    <tr>\n",
       "      <th>0</th>\n",
       "      <td>MainScreenAppear</td>\n",
       "      <td>4575588528974610257</td>\n",
       "      <td>1564029816</td>\n",
       "      <td>246</td>\n",
       "    </tr>\n",
       "    <tr>\n",
       "      <th>1</th>\n",
       "      <td>MainScreenAppear</td>\n",
       "      <td>7416695313311560658</td>\n",
       "      <td>1564053102</td>\n",
       "      <td>246</td>\n",
       "    </tr>\n",
       "    <tr>\n",
       "      <th>2</th>\n",
       "      <td>PaymentScreenSuccessful</td>\n",
       "      <td>3518123091307005509</td>\n",
       "      <td>1564054127</td>\n",
       "      <td>248</td>\n",
       "    </tr>\n",
       "    <tr>\n",
       "      <th>3</th>\n",
       "      <td>CartScreenAppear</td>\n",
       "      <td>3518123091307005509</td>\n",
       "      <td>1564054127</td>\n",
       "      <td>248</td>\n",
       "    </tr>\n",
       "    <tr>\n",
       "      <th>4</th>\n",
       "      <td>PaymentScreenSuccessful</td>\n",
       "      <td>6217807653094995999</td>\n",
       "      <td>1564055322</td>\n",
       "      <td>248</td>\n",
       "    </tr>\n",
       "  </tbody>\n",
       "</table>\n",
       "</div>"
      ],
      "text/plain": [
       "                 EventName         DeviceIDHash  EventTimestamp  ExpId\n",
       "0         MainScreenAppear  4575588528974610257      1564029816    246\n",
       "1         MainScreenAppear  7416695313311560658      1564053102    246\n",
       "2  PaymentScreenSuccessful  3518123091307005509      1564054127    248\n",
       "3         CartScreenAppear  3518123091307005509      1564054127    248\n",
       "4  PaymentScreenSuccessful  6217807653094995999      1564055322    248"
      ]
     },
     "execution_count": 4,
     "metadata": {},
     "output_type": "execute_result"
    }
   ],
   "source": [
    "logs = pd.read_csv('/Users/mariiapolnikova/Desktop/data analysis/logs_exp.csv', sep='\\t')\n",
    "logs.head()"
   ]
  },
  {
   "cell_type": "code",
   "execution_count": 5,
   "metadata": {},
   "outputs": [],
   "source": [
    "# назовем столбцы так, чтобы было понятно, какие данные в них находятся\n",
    "logs.columns = ['event_name', 'user_id', 'timestamp', 'group']"
   ]
  },
  {
   "cell_type": "code",
   "execution_count": 6,
   "metadata": {},
   "outputs": [],
   "source": [
    "# приведем столбец с датой и временем к нужному формату и добавим стобец с датой события\n",
    "logs['timestamp'] = pd.to_datetime(logs['timestamp'], unit='s')\n",
    "logs['event_dt'] = pd.to_datetime(logs['timestamp']).dt.date"
   ]
  },
  {
   "cell_type": "code",
   "execution_count": 7,
   "metadata": {},
   "outputs": [
    {
     "name": "stdout",
     "output_type": "stream",
     "text": [
      "<class 'pandas.core.frame.DataFrame'>\n",
      "RangeIndex: 244126 entries, 0 to 244125\n",
      "Data columns (total 5 columns):\n",
      " #   Column      Non-Null Count   Dtype         \n",
      "---  ------      --------------   -----         \n",
      " 0   event_name  244126 non-null  object        \n",
      " 1   user_id     244126 non-null  int64         \n",
      " 2   timestamp   244126 non-null  datetime64[ns]\n",
      " 3   group       244126 non-null  int64         \n",
      " 4   event_dt    244126 non-null  object        \n",
      "dtypes: datetime64[ns](1), int64(2), object(2)\n",
      "memory usage: 9.3+ MB\n"
     ]
    }
   ],
   "source": [
    "# проверим пропуски и типы данных и откорректируем, если нужно\n",
    "logs.info()"
   ]
  },
  {
   "cell_type": "code",
   "execution_count": 8,
   "metadata": {},
   "outputs": [
    {
     "data": {
      "text/plain": [
       "413"
      ]
     },
     "execution_count": 8,
     "metadata": {},
     "output_type": "execute_result"
    }
   ],
   "source": [
    "# с типами данных все ок, проверим данные на дубликаты\n",
    "logs.duplicated().sum()"
   ]
  },
  {
   "cell_type": "code",
   "execution_count": 9,
   "metadata": {},
   "outputs": [],
   "source": [
    "# удалим дубликаты\n",
    "logs = logs.drop_duplicates().reset_index()"
   ]
  },
  {
   "cell_type": "code",
   "execution_count": 12,
   "metadata": {},
   "outputs": [
    {
     "data": {
      "text/html": [
       "<div>\n",
       "<style scoped>\n",
       "    .dataframe tbody tr th:only-of-type {\n",
       "        vertical-align: middle;\n",
       "    }\n",
       "\n",
       "    .dataframe tbody tr th {\n",
       "        vertical-align: top;\n",
       "    }\n",
       "\n",
       "    .dataframe thead th {\n",
       "        text-align: right;\n",
       "    }\n",
       "</style>\n",
       "<table border=\"1\" class=\"dataframe\">\n",
       "  <thead>\n",
       "    <tr style=\"text-align: right;\">\n",
       "      <th></th>\n",
       "      <th>user_id</th>\n",
       "      <th>group</th>\n",
       "    </tr>\n",
       "  </thead>\n",
       "  <tbody>\n",
       "  </tbody>\n",
       "</table>\n",
       "</div>"
      ],
      "text/plain": [
       "Empty DataFrame\n",
       "Columns: [user_id, group]\n",
       "Index: []"
      ]
     },
     "execution_count": 12,
     "metadata": {},
     "output_type": "execute_result"
    }
   ],
   "source": [
    "# проверим, есь ли пользователи, которые попали в несколько рассматриваемых экспериментов\n",
    "logs.groupby('user_id', as_index=False)['group'].nunique()[logs.groupby('user_id', as_index=False)['group']\n",
    "                                                           .nunique()['group'] > 1]"
   ]
  },
  {
   "cell_type": "code",
   "execution_count": 13,
   "metadata": {},
   "outputs": [
    {
     "data": {
      "text/html": [
       "<div>\n",
       "<style scoped>\n",
       "    .dataframe tbody tr th:only-of-type {\n",
       "        vertical-align: middle;\n",
       "    }\n",
       "\n",
       "    .dataframe tbody tr th {\n",
       "        vertical-align: top;\n",
       "    }\n",
       "\n",
       "    .dataframe thead th {\n",
       "        text-align: right;\n",
       "    }\n",
       "</style>\n",
       "<table border=\"1\" class=\"dataframe\">\n",
       "  <thead>\n",
       "    <tr style=\"text-align: right;\">\n",
       "      <th></th>\n",
       "      <th>index</th>\n",
       "      <th>event_name</th>\n",
       "      <th>user_id</th>\n",
       "      <th>timestamp</th>\n",
       "      <th>group</th>\n",
       "      <th>event_dt</th>\n",
       "    </tr>\n",
       "  </thead>\n",
       "  <tbody>\n",
       "    <tr>\n",
       "      <th>0</th>\n",
       "      <td>0</td>\n",
       "      <td>MainScreenAppear</td>\n",
       "      <td>4575588528974610257</td>\n",
       "      <td>2019-07-25 04:43:36</td>\n",
       "      <td>246</td>\n",
       "      <td>2019-07-25</td>\n",
       "    </tr>\n",
       "    <tr>\n",
       "      <th>1</th>\n",
       "      <td>1</td>\n",
       "      <td>MainScreenAppear</td>\n",
       "      <td>7416695313311560658</td>\n",
       "      <td>2019-07-25 11:11:42</td>\n",
       "      <td>246</td>\n",
       "      <td>2019-07-25</td>\n",
       "    </tr>\n",
       "    <tr>\n",
       "      <th>2</th>\n",
       "      <td>2</td>\n",
       "      <td>PaymentScreenSuccessful</td>\n",
       "      <td>3518123091307005509</td>\n",
       "      <td>2019-07-25 11:28:47</td>\n",
       "      <td>248</td>\n",
       "      <td>2019-07-25</td>\n",
       "    </tr>\n",
       "    <tr>\n",
       "      <th>3</th>\n",
       "      <td>3</td>\n",
       "      <td>CartScreenAppear</td>\n",
       "      <td>3518123091307005509</td>\n",
       "      <td>2019-07-25 11:28:47</td>\n",
       "      <td>248</td>\n",
       "      <td>2019-07-25</td>\n",
       "    </tr>\n",
       "    <tr>\n",
       "      <th>4</th>\n",
       "      <td>4</td>\n",
       "      <td>PaymentScreenSuccessful</td>\n",
       "      <td>6217807653094995999</td>\n",
       "      <td>2019-07-25 11:48:42</td>\n",
       "      <td>248</td>\n",
       "      <td>2019-07-25</td>\n",
       "    </tr>\n",
       "  </tbody>\n",
       "</table>\n",
       "</div>"
      ],
      "text/plain": [
       "   index               event_name              user_id           timestamp  \\\n",
       "0      0         MainScreenAppear  4575588528974610257 2019-07-25 04:43:36   \n",
       "1      1         MainScreenAppear  7416695313311560658 2019-07-25 11:11:42   \n",
       "2      2  PaymentScreenSuccessful  3518123091307005509 2019-07-25 11:28:47   \n",
       "3      3         CartScreenAppear  3518123091307005509 2019-07-25 11:28:47   \n",
       "4      4  PaymentScreenSuccessful  6217807653094995999 2019-07-25 11:48:42   \n",
       "\n",
       "   group    event_dt  \n",
       "0    246  2019-07-25  \n",
       "1    246  2019-07-25  \n",
       "2    248  2019-07-25  \n",
       "3    248  2019-07-25  \n",
       "4    248  2019-07-25  "
      ]
     },
     "execution_count": 13,
     "metadata": {},
     "output_type": "execute_result"
    }
   ],
   "source": [
    "# таких пользоватаелей нет.Теперь данные готовы к анализу\n",
    "logs.head()"
   ]
  },
  {
   "cell_type": "code",
   "execution_count": 14,
   "metadata": {},
   "outputs": [
    {
     "name": "stdout",
     "output_type": "stream",
     "text": [
      "<class 'pandas.core.frame.DataFrame'>\n",
      "RangeIndex: 243713 entries, 0 to 243712\n",
      "Data columns (total 6 columns):\n",
      " #   Column      Non-Null Count   Dtype         \n",
      "---  ------      --------------   -----         \n",
      " 0   index       243713 non-null  int64         \n",
      " 1   event_name  243713 non-null  object        \n",
      " 2   user_id     243713 non-null  int64         \n",
      " 3   timestamp   243713 non-null  datetime64[ns]\n",
      " 4   group       243713 non-null  int64         \n",
      " 5   event_dt    243713 non-null  object        \n",
      "dtypes: datetime64[ns](1), int64(3), object(2)\n",
      "memory usage: 11.2+ MB\n"
     ]
    }
   ],
   "source": [
    "logs.info()"
   ]
  },
  {
   "cell_type": "markdown",
   "metadata": {},
   "source": [
    "В подготовленных данных нет пропусков, нет дубликатов. Названия столбцов приведены к удобному для использования виду. Столбцы с датой и временем приведены к типу datetime."
   ]
  },
  {
   "cell_type": "markdown",
   "metadata": {},
   "source": [
    "## Знакомство с данными"
   ]
  },
  {
   "cell_type": "markdown",
   "metadata": {},
   "source": [
    "Сколько всего событий в логе? Проверим какие есть события."
   ]
  },
  {
   "cell_type": "code",
   "execution_count": 15,
   "metadata": {},
   "outputs": [
    {
     "data": {
      "text/plain": [
       "array(['MainScreenAppear', 'PaymentScreenSuccessful', 'CartScreenAppear',\n",
       "       'OffersScreenAppear', 'Tutorial'], dtype=object)"
      ]
     },
     "execution_count": 15,
     "metadata": {},
     "output_type": "execute_result"
    }
   ],
   "source": [
    "logs['event_name'].unique()"
   ]
  },
  {
   "cell_type": "code",
   "execution_count": 16,
   "metadata": {},
   "outputs": [
    {
     "data": {
      "text/plain": [
       "5"
      ]
     },
     "execution_count": 16,
     "metadata": {},
     "output_type": "execute_result"
    }
   ],
   "source": [
    "logs['event_name'].nunique()"
   ]
  },
  {
   "cell_type": "markdown",
   "metadata": {},
   "source": [
    "Всего в логах 5 событий. Это переход на главный экран, переход на страницу с предложениями, переход в корзину, обучение и переход на страницу с успешной оплатой."
   ]
  },
  {
   "cell_type": "markdown",
   "metadata": {},
   "source": [
    "Проверим,сколько всего пользователей в логе"
   ]
  },
  {
   "cell_type": "code",
   "execution_count": 17,
   "metadata": {},
   "outputs": [
    {
     "data": {
      "text/plain": [
       "7551"
      ]
     },
     "execution_count": 17,
     "metadata": {},
     "output_type": "execute_result"
    }
   ],
   "source": [
    "logs['user_id'].nunique()"
   ]
  },
  {
   "cell_type": "markdown",
   "metadata": {},
   "source": [
    "В данных изучим логи 7551 пользователей. Сколько в среднем событий приходится на пользователя?"
   ]
  },
  {
   "cell_type": "code",
   "execution_count": 18,
   "metadata": {},
   "outputs": [
    {
     "data": {
      "text/plain": [
       "32.27559263673685"
      ]
     },
     "execution_count": 18,
     "metadata": {},
     "output_type": "execute_result"
    }
   ],
   "source": [
    "logs.groupby('user_id')['event_name'].count().mean()"
   ]
  },
  {
   "cell_type": "markdown",
   "metadata": {},
   "source": [
    "В среднем на пользователя приходится 32 события. Посмотрим на распределение количества событий по пользователям"
   ]
  },
  {
   "cell_type": "code",
   "execution_count": 19,
   "metadata": {},
   "outputs": [
    {
     "data": {
      "image/png": "[encoded data removed]",
      "text/plain": [
       "<Figure size 432x288 with 1 Axes>"
      ]
     },
     "metadata": {
      "needs_background": "light"
     },
     "output_type": "display_data"
    }
   ],
   "source": [
    "logs.groupby('user_id')['event_name'].count().hist(bins=80)\n",
    "plt.title('Гистограмма по количеству событий')\n",
    "plt.axis([0, 400, 0,6000])\n",
    "plt.show()"
   ]
  },
  {
   "cell_type": "markdown",
   "metadata": {},
   "source": [
    "Большинство пользоватлей совершают не более 50 событий. Тем не менее есть пользователи, количество событий кторых доходит до двухсот."
   ]
  },
  {
   "cell_type": "markdown",
   "metadata": {},
   "source": [
    "Проверим, данными за какой период мы располагаем.Найдем максимальную и минимальную дату."
   ]
  },
  {
   "cell_type": "code",
   "execution_count": 20,
   "metadata": {},
   "outputs": [
    {
     "data": {
      "text/plain": [
       "datetime.date(2019, 7, 25)"
      ]
     },
     "execution_count": 20,
     "metadata": {},
     "output_type": "execute_result"
    }
   ],
   "source": [
    "logs['event_dt'].min()"
   ]
  },
  {
   "cell_type": "code",
   "execution_count": 21,
   "metadata": {},
   "outputs": [
    {
     "data": {
      "text/plain": [
       "datetime.date(2019, 8, 7)"
      ]
     },
     "execution_count": 21,
     "metadata": {},
     "output_type": "execute_result"
    }
   ],
   "source": [
    "logs['event_dt'].max()"
   ]
  },
  {
   "cell_type": "markdown",
   "metadata": {},
   "source": [
    "У нас есть данные с 25-07-2019 по 07-08-2019. Теперь построим гистограмму по дате и времени."
   ]
  },
  {
   "cell_type": "code",
   "execution_count": 22,
   "metadata": {},
   "outputs": [
    {
     "data": {
      "image/png": "[encoded data removed]",
      "text/plain": [
       "<Figure size 432x288 with 1 Axes>"
      ]
     },
     "metadata": {
      "needs_background": "light"
     },
     "output_type": "display_data"
    }
   ],
   "source": [
    "logs['timestamp'].hist(bins=14*24)\n",
    "plt.title('Гистограмма по дате и времени')\n",
    "plt.xticks(rotation=50)\n",
    "plt.show()"
   ]
  },
  {
   "cell_type": "markdown",
   "metadata": {},
   "source": [
    "Исходя из гистограммы можно увидеть, что у нас не одинаково полные данные за весь период. Полные данные предоставлены с 01-08-2018 , отбросим более старые данные. Получается, что на самом деле мы будем рассматривать данные за первую неделю августа 2019 года."
   ]
  },
  {
   "cell_type": "code",
   "execution_count": 23,
   "metadata": {},
   "outputs": [],
   "source": [
    "filtered_logs = logs.query('timestamp >= \"2019-08-01 00:00\"')"
   ]
  },
  {
   "cell_type": "markdown",
   "metadata": {},
   "source": [
    "Проверим, много ли событий и пользователей мы потеряли, отбросив старые данные."
   ]
  },
  {
   "cell_type": "code",
   "execution_count": 24,
   "metadata": {},
   "outputs": [
    {
     "data": {
      "text/plain": [
       "17"
      ]
     },
     "execution_count": 24,
     "metadata": {},
     "output_type": "execute_result"
    }
   ],
   "source": [
    "# проверим количество потерянных пользователей\n",
    "logs['user_id'].nunique()-filtered_logs['user_id'].nunique()"
   ]
  },
  {
   "cell_type": "code",
   "execution_count": 25,
   "metadata": {},
   "outputs": [
    {
     "data": {
      "text/plain": [
       "0.23"
      ]
     },
     "execution_count": 25,
     "metadata": {},
     "output_type": "execute_result"
    }
   ],
   "source": [
    "round((1-filtered_logs['user_id'].nunique()/logs['user_id'].nunique())*100,2)"
   ]
  },
  {
   "cell_type": "code",
   "execution_count": 26,
   "metadata": {},
   "outputs": [
    {
     "data": {
      "text/plain": [
       "2826"
      ]
     },
     "execution_count": 26,
     "metadata": {},
     "output_type": "execute_result"
    }
   ],
   "source": [
    "# проверим количество потерянных событий\n",
    "logs['user_id'].count()-filtered_logs['user_id'].count()"
   ]
  },
  {
   "cell_type": "code",
   "execution_count": 27,
   "metadata": {},
   "outputs": [
    {
     "data": {
      "text/plain": [
       "1.16"
      ]
     },
     "execution_count": 27,
     "metadata": {},
     "output_type": "execute_result"
    }
   ],
   "source": [
    "round((1-filtered_logs['user_id'].count()/logs['user_id'].count())*100,2)"
   ]
  },
  {
   "cell_type": "markdown",
   "metadata": {},
   "source": [
    "Отбросив данные мы потеряли 17 пользователя, что составляет 0,23%, также было потеряно 2826 событие, что составляет 1,16% от общего числа.Потери незначительны."
   ]
  },
  {
   "cell_type": "markdown",
   "metadata": {},
   "source": [
    "Проверим количество пользователей из всех экспериментальных групп."
   ]
  },
  {
   "cell_type": "code",
   "execution_count": 28,
   "metadata": {},
   "outputs": [
    {
     "data": {
      "text/plain": [
       "group\n",
       "246    2489\n",
       "247    2520\n",
       "248    2542\n",
       "Name: user_id, dtype: int64"
      ]
     },
     "execution_count": 28,
     "metadata": {},
     "output_type": "execute_result"
    }
   ],
   "source": [
    "logs.groupby('group')['user_id'].nunique()"
   ]
  },
  {
   "cell_type": "markdown",
   "metadata": {},
   "source": [
    "Пользователи есть во всех трех изучаемых группах. Теперь можем перейти к анализу."
   ]
  },
  {
   "cell_type": "markdown",
   "metadata": {},
   "source": [
    "## Воронка событий"
   ]
  },
  {
   "cell_type": "markdown",
   "metadata": {},
   "source": [
    "Посмотрим, как часто встречаются разного вида события в логах. Отсортируем события по частоте."
   ]
  },
  {
   "cell_type": "code",
   "execution_count": 29,
   "metadata": {},
   "outputs": [
    {
     "data": {
      "text/plain": [
       "event_name\n",
       "MainScreenAppear           117328\n",
       "OffersScreenAppear          46333\n",
       "CartScreenAppear            42303\n",
       "PaymentScreenSuccessful     33918\n",
       "Tutorial                     1005\n",
       "Name: user_id, dtype: int64"
      ]
     },
     "execution_count": 29,
     "metadata": {},
     "output_type": "execute_result"
    }
   ],
   "source": [
    "filtered_logs.groupby('event_name')['user_id'].count().sort_values(ascending=False)"
   ]
  },
  {
   "cell_type": "markdown",
   "metadata": {},
   "source": [
    "Больше всего событий перехода на главных экран, что логично,так как с него нчинается взаимодействие с приложением. После него по часттоте идет страница с предложениями, после чего страница корзины и потом страница с успешной покупкой. Интересно,что событие с обучением появляется всего 1005 раз. Возможно это связано с тем, что приложение и так простое в использовании, поэтому обучение пользователям не нужно. \\\n",
    "Удалим данные о событиях , связанных с туториалом, так как эта информация нам не пригодится.Она не вписывается в воронку."
   ]
  },
  {
   "cell_type": "code",
   "execution_count": 30,
   "metadata": {},
   "outputs": [],
   "source": [
    "filtered_logs = filtered_logs[filtered_logs['event_name'] != 'Tutorial' ]"
   ]
  },
  {
   "cell_type": "markdown",
   "metadata": {},
   "source": [
    "Посчитаем, сколько пользователей совершали каждое из этих событий. Отсортируем события по числу пользователей. "
   ]
  },
  {
   "cell_type": "code",
   "execution_count": 31,
   "metadata": {},
   "outputs": [
    {
     "data": {
      "text/html": [
       "<div>\n",
       "<style scoped>\n",
       "    .dataframe tbody tr th:only-of-type {\n",
       "        vertical-align: middle;\n",
       "    }\n",
       "\n",
       "    .dataframe tbody tr th {\n",
       "        vertical-align: top;\n",
       "    }\n",
       "\n",
       "    .dataframe thead th {\n",
       "        text-align: right;\n",
       "    }\n",
       "</style>\n",
       "<table border=\"1\" class=\"dataframe\">\n",
       "  <thead>\n",
       "    <tr style=\"text-align: right;\">\n",
       "      <th></th>\n",
       "      <th>event_name</th>\n",
       "      <th>unique_users</th>\n",
       "      <th>share, %</th>\n",
       "    </tr>\n",
       "  </thead>\n",
       "  <tbody>\n",
       "    <tr>\n",
       "      <th>1</th>\n",
       "      <td>MainScreenAppear</td>\n",
       "      <td>7419</td>\n",
       "      <td>98.53</td>\n",
       "    </tr>\n",
       "    <tr>\n",
       "      <th>2</th>\n",
       "      <td>OffersScreenAppear</td>\n",
       "      <td>4593</td>\n",
       "      <td>61.00</td>\n",
       "    </tr>\n",
       "    <tr>\n",
       "      <th>0</th>\n",
       "      <td>CartScreenAppear</td>\n",
       "      <td>3734</td>\n",
       "      <td>49.59</td>\n",
       "    </tr>\n",
       "    <tr>\n",
       "      <th>3</th>\n",
       "      <td>PaymentScreenSuccessful</td>\n",
       "      <td>3539</td>\n",
       "      <td>47.00</td>\n",
       "    </tr>\n",
       "  </tbody>\n",
       "</table>\n",
       "</div>"
      ],
      "text/plain": [
       "                event_name  unique_users  share, %\n",
       "1         MainScreenAppear          7419     98.53\n",
       "2       OffersScreenAppear          4593     61.00\n",
       "0         CartScreenAppear          3734     49.59\n",
       "3  PaymentScreenSuccessful          3539     47.00"
      ]
     },
     "execution_count": 31,
     "metadata": {},
     "output_type": "execute_result"
    }
   ],
   "source": [
    "unique_users = filtered_logs.groupby('event_name', as_index=False)['user_id'].nunique().sort_values(by='user_id',ascending=False)\n",
    "unique_users.columns=['event_name', 'unique_users']\n",
    "unique_users['share, %'] = round(unique_users['unique_users']/filtered_logs['user_id'].nunique()*100,2)\n",
    "unique_users"
   ]
  },
  {
   "cell_type": "markdown",
   "metadata": {},
   "source": [
    "По результатам видно, что с окна главного меню на окно выбора продуктов переходят не все. Только 61% юзеров от общего количества переходят к просмотру товара, нужно отследить, почему на этом этапе такой большой отток. В целом, 47% всех пользоваталей доходят до успешного совершения покупки в магазине."
   ]
  },
  {
   "cell_type": "markdown",
   "metadata": {},
   "source": [
    "По воронке событий посчитаем, какая доля пользователей проходит на следующий шаг воронки (от числа пользователей на предыдущем)."
   ]
  },
  {
   "cell_type": "code",
   "execution_count": 33,
   "metadata": {},
   "outputs": [
    {
     "data": {
      "text/html": [
       "<div>\n",
       "<style scoped>\n",
       "    .dataframe tbody tr th:only-of-type {\n",
       "        vertical-align: middle;\n",
       "    }\n",
       "\n",
       "    .dataframe tbody tr th {\n",
       "        vertical-align: top;\n",
       "    }\n",
       "\n",
       "    .dataframe thead th {\n",
       "        text-align: right;\n",
       "    }\n",
       "</style>\n",
       "<table border=\"1\" class=\"dataframe\">\n",
       "  <thead>\n",
       "    <tr style=\"text-align: right;\">\n",
       "      <th></th>\n",
       "      <th>event_name</th>\n",
       "      <th>unique_users</th>\n",
       "      <th>share, %</th>\n",
       "      <th>cumulative_share</th>\n",
       "    </tr>\n",
       "  </thead>\n",
       "  <tbody>\n",
       "    <tr>\n",
       "      <th>1</th>\n",
       "      <td>MainScreenAppear</td>\n",
       "      <td>7419</td>\n",
       "      <td>98.53</td>\n",
       "      <td>98.53</td>\n",
       "    </tr>\n",
       "    <tr>\n",
       "      <th>2</th>\n",
       "      <td>OffersScreenAppear</td>\n",
       "      <td>4593</td>\n",
       "      <td>61.00</td>\n",
       "      <td>61.91</td>\n",
       "    </tr>\n",
       "    <tr>\n",
       "      <th>0</th>\n",
       "      <td>CartScreenAppear</td>\n",
       "      <td>3734</td>\n",
       "      <td>49.59</td>\n",
       "      <td>81.30</td>\n",
       "    </tr>\n",
       "    <tr>\n",
       "      <th>3</th>\n",
       "      <td>PaymentScreenSuccessful</td>\n",
       "      <td>3539</td>\n",
       "      <td>47.00</td>\n",
       "      <td>94.78</td>\n",
       "    </tr>\n",
       "  </tbody>\n",
       "</table>\n",
       "</div>"
      ],
      "text/plain": [
       "                event_name  unique_users  share, %  cumulative_share\n",
       "1         MainScreenAppear          7419     98.53             98.53\n",
       "2       OffersScreenAppear          4593     61.00             61.91\n",
       "0         CartScreenAppear          3734     49.59             81.30\n",
       "3  PaymentScreenSuccessful          3539     47.00             94.78"
      ]
     },
     "execution_count": 33,
     "metadata": {},
     "output_type": "execute_result"
    }
   ],
   "source": [
    "unique_users['cumulative_share'] = round(unique_users['unique_users']/unique_users['unique_users']\n",
    "                                         .shift(1,fill_value=filtered_logs['user_id'].nunique())*100,2)\n",
    "unique_users"
   ]
  },
  {
   "cell_type": "markdown",
   "metadata": {},
   "source": [
    "По доле пользователей, которые переходят на следующий шаг, мы опять видим то, что с главной страницы лишь 62 процента переходят на страницу с товарами. А вот из тех, кто все-таки перешел, в корзину переходит 81%, это хороший показатель."
   ]
  },
  {
   "cell_type": "markdown",
   "metadata": {},
   "source": [
    "Посчитаем, какая доля пользователей доходит от первого события до оплаты."
   ]
  },
  {
   "cell_type": "code",
   "execution_count": 34,
   "metadata": {},
   "outputs": [
    {
     "data": {
      "text/plain": [
       "1     inf\n",
       "2     inf\n",
       "0     inf\n",
       "3    47.7\n",
       "Name: unique_users, dtype: float64"
      ]
     },
     "execution_count": 34,
     "metadata": {},
     "output_type": "execute_result"
    }
   ],
   "source": [
    "round(unique_users['unique_users']/unique_users['unique_users'].shift(3,fill_value=0)*100, 2)"
   ]
  },
  {
   "cell_type": "markdown",
   "metadata": {},
   "source": [
    "Всего 48 процентов пользователей доходят до окна оплаты при пользовании приложением. Визуализируем воронку:"
   ]
  },
  {
   "cell_type": "code",
   "execution_count": 37,
   "metadata": {},
   "outputs": [
    {
     "data": {
      "application/vnd.plotly.v1+json": {
       "config": {
        "plotlyServerURL": "https://plot.ly"
       },
       "data": [
        {
         "textinfo": "value+percent initial+percent previous",
         "type": "funnel",
         "x": [
          7419,
          4593,
          3734,
          3539
         ],
         "y": [
          "MainScreenAppear",
          "OffersScreenAppear",
          "CartScreenAppear",
          "PaymentScreenSuccessful"
         ]
        }
       ],
       "layout": {
        "template": {
         "data": {
          "bar": [
           {
            "error_x": {
             "color": "#2a3f5f"
            },
            "error_y": {
             "color": "#2a3f5f"
            },
            "marker": {
             "line": {
              "color": "#E5ECF6",
              "width": 0.5
             },
             "pattern": {
              "fillmode": "overlay",
              "size": 10,
              "solidity": 0.2
             }
            },
            "type": "bar"
           }
          ],
          "barpolar": [
           {
            "marker": {
             "line": {
              "color": "#E5ECF6",
              "width": 0.5
             },
             "pattern": {
              "fillmode": "overlay",
              "size": 10,
              "solidity": 0.2
             }
            },
            "type": "barpolar"
           }
          ],
          "carpet": [
           {
            "aaxis": {
             "endlinecolor": "#2a3f5f",
             "gridcolor": "white",
             "linecolor": "white",
             "minorgridcolor": "white",
             "startlinecolor": "#2a3f5f"
            },
            "baxis": {
             "endlinecolor": "#2a3f5f",
             "gridcolor": "white",
             "linecolor": "white",
             "minorgridcolor": "white",
             "startlinecolor": "#2a3f5f"
            },
            "type": "carpet"
           }
          ],
          "choropleth": [
           {
            "colorbar": {
             "outlinewidth": 0,
             "ticks": ""
            },
            "type": "choropleth"
           }
          ],
          "contour": [
           {
            "colorbar": {
             "outlinewidth": 0,
             "ticks": ""
            },
            "colorscale": [
             [
              0,
              "#0d0887"
             ],
             [
              0.1111111111111111,
              "#46039f"
             ],
             [
              0.2222222222222222,
              "#7201a8"
             ],
             [
              0.3333333333333333,
              "#9c179e"
             ],
             [
              0.4444444444444444,
              "#bd3786"
             ],
             [
              0.5555555555555556,
              "#d8576b"
             ],
             [
              0.6666666666666666,
              "#ed7953"
             ],
             [
              0.7777777777777778,
              "#fb9f3a"
             ],
             [
              0.8888888888888888,
              "#fdca26"
             ],
             [
              1,
              "#f0f921"
             ]
            ],
            "type": "contour"
           }
          ],
          "contourcarpet": [
           {
            "colorbar": {
             "outlinewidth": 0,
             "ticks": ""
            },
            "type": "contourcarpet"
           }
          ],
          "heatmap": [
           {
            "colorbar": {
             "outlinewidth": 0,
             "ticks": ""
            },
            "colorscale": [
             [
              0,
              "#0d0887"
             ],
             [
              0.1111111111111111,
              "#46039f"
             ],
             [
              0.2222222222222222,
              "#7201a8"
             ],
             [
              0.3333333333333333,
              "#9c179e"
             ],
             [
              0.4444444444444444,
              "#bd3786"
             ],
             [
              0.5555555555555556,
              "#d8576b"
             ],
             [
              0.6666666666666666,
              "#ed7953"
             ],
             [
              0.7777777777777778,
              "#fb9f3a"
             ],
             [
              0.8888888888888888,
              "#fdca26"
             ],
             [
              1,
              "#f0f921"
             ]
            ],
            "type": "heatmap"
           }
          ],
          "heatmapgl": [
           {
            "colorbar": {
             "outlinewidth": 0,
             "ticks": ""
            },
            "colorscale": [
             [
              0,
              "#0d0887"
             ],
             [
              0.1111111111111111,
              "#46039f"
             ],
             [
              0.2222222222222222,
              "#7201a8"
             ],
             [
              0.3333333333333333,
              "#9c179e"
             ],
             [
              0.4444444444444444,
              "#bd3786"
             ],
             [
              0.5555555555555556,
              "#d8576b"
             ],
             [
              0.6666666666666666,
              "#ed7953"
             ],
             [
              0.7777777777777778,
              "#fb9f3a"
             ],
             [
              0.8888888888888888,
              "#fdca26"
             ],
             [
              1,
              "#f0f921"
             ]
            ],
            "type": "heatmapgl"
           }
          ],
          "histogram": [
           {
            "marker": {
             "pattern": {
              "fillmode": "overlay",
              "size": 10,
              "solidity": 0.2
             }
            },
            "type": "histogram"
           }
          ],
          "histogram2d": [
           {
            "colorbar": {
             "outlinewidth": 0,
             "ticks": ""
            },
            "colorscale": [
             [
              0,
              "#0d0887"
             ],
             [
              0.1111111111111111,
              "#46039f"
             ],
             [
              0.2222222222222222,
              "#7201a8"
             ],
             [
              0.3333333333333333,
              "#9c179e"
             ],
             [
              0.4444444444444444,
              "#bd3786"
             ],
             [
              0.5555555555555556,
              "#d8576b"
             ],
             [
              0.6666666666666666,
              "#ed7953"
             ],
             [
              0.7777777777777778,
              "#fb9f3a"
             ],
             [
              0.8888888888888888,
              "#fdca26"
             ],
             [
              1,
              "#f0f921"
             ]
            ],
            "type": "histogram2d"
           }
          ],
          "histogram2dcontour": [
           {
            "colorbar": {
             "outlinewidth": 0,
             "ticks": ""
            },
            "colorscale": [
             [
              0,
              "#0d0887"
             ],
             [
              0.1111111111111111,
              "#46039f"
             ],
             [
              0.2222222222222222,
              "#7201a8"
             ],
             [
              0.3333333333333333,
              "#9c179e"
             ],
             [
              0.4444444444444444,
              "#bd3786"
             ],
             [
              0.5555555555555556,
              "#d8576b"
             ],
             [
              0.6666666666666666,
              "#ed7953"
             ],
             [
              0.7777777777777778,
              "#fb9f3a"
             ],
             [
              0.8888888888888888,
              "#fdca26"
             ],
             [
              1,
              "#f0f921"
             ]
            ],
            "type": "histogram2dcontour"
           }
          ],
          "mesh3d": [
           {
            "colorbar": {
             "outlinewidth": 0,
             "ticks": ""
            },
            "type": "mesh3d"
           }
          ],
          "parcoords": [
           {
            "line": {
             "colorbar": {
              "outlinewidth": 0,
              "ticks": ""
             }
            },
            "type": "parcoords"
           }
          ],
          "pie": [
           {
            "automargin": true,
            "type": "pie"
           }
          ],
          "scatter": [
           {
            "marker": {
             "colorbar": {
              "outlinewidth": 0,
              "ticks": ""
             }
            },
            "type": "scatter"
           }
          ],
          "scatter3d": [
           {
            "line": {
             "colorbar": {
              "outlinewidth": 0,
              "ticks": ""
             }
            },
            "marker": {
             "colorbar": {
              "outlinewidth": 0,
              "ticks": ""
             }
            },
            "type": "scatter3d"
           }
          ],
          "scattercarpet": [
           {
            "marker": {
             "colorbar": {
              "outlinewidth": 0,
              "ticks": ""
             }
            },
            "type": "scattercarpet"
           }
          ],
          "scattergeo": [
           {
            "marker": {
             "colorbar": {
              "outlinewidth": 0,
              "ticks": ""
             }
            },
            "type": "scattergeo"
           }
          ],
          "scattergl": [
           {
            "marker": {
             "colorbar": {
              "outlinewidth": 0,
              "ticks": ""
             }
            },
            "type": "scattergl"
           }
          ],
          "scattermapbox": [
           {
            "marker": {
             "colorbar": {
              "outlinewidth": 0,
              "ticks": ""
             }
            },
            "type": "scattermapbox"
           }
          ],
          "scatterpolar": [
           {
            "marker": {
             "colorbar": {
              "outlinewidth": 0,
              "ticks": ""
             }
            },
            "type": "scatterpolar"
           }
          ],
          "scatterpolargl": [
           {
            "marker": {
             "colorbar": {
              "outlinewidth": 0,
              "ticks": ""
             }
            },
            "type": "scatterpolargl"
           }
          ],
          "scatterternary": [
           {
            "marker": {
             "colorbar": {
              "outlinewidth": 0,
              "ticks": ""
             }
            },
            "type": "scatterternary"
           }
          ],
          "surface": [
           {
            "colorbar": {
             "outlinewidth": 0,
             "ticks": ""
            },
            "colorscale": [
             [
              0,
              "#0d0887"
             ],
             [
              0.1111111111111111,
              "#46039f"
             ],
             [
              0.2222222222222222,
              "#7201a8"
             ],
             [
              0.3333333333333333,
              "#9c179e"
             ],
             [
              0.4444444444444444,
              "#bd3786"
             ],
             [
              0.5555555555555556,
              "#d8576b"
             ],
             [
              0.6666666666666666,
              "#ed7953"
             ],
             [
              0.7777777777777778,
              "#fb9f3a"
             ],
             [
              0.8888888888888888,
              "#fdca26"
             ],
             [
              1,
              "#f0f921"
             ]
            ],
            "type": "surface"
           }
          ],
          "table": [
           {
            "cells": {
             "fill": {
              "color": "#EBF0F8"
             },
             "line": {
              "color": "white"
             }
            },
            "header": {
             "fill": {
              "color": "#C8D4E3"
             },
             "line": {
              "color": "white"
             }
            },
            "type": "table"
           }
          ]
         },
         "layout": {
          "annotationdefaults": {
           "arrowcolor": "#2a3f5f",
           "arrowhead": 0,
           "arrowwidth": 1
          },
          "autotypenumbers": "strict",
          "coloraxis": {
           "colorbar": {
            "outlinewidth": 0,
            "ticks": ""
           }
          },
          "colorscale": {
           "diverging": [
            [
             0,
             "#8e0152"
            ],
            [
             0.1,
             "#c51b7d"
            ],
            [
             0.2,
             "#de77ae"
            ],
            [
             0.3,
             "#f1b6da"
            ],
            [
             0.4,
             "#fde0ef"
            ],
            [
             0.5,
             "#f7f7f7"
            ],
            [
             0.6,
             "#e6f5d0"
            ],
            [
             0.7,
             "#b8e186"
            ],
            [
             0.8,
             "#7fbc41"
            ],
            [
             0.9,
             "#4d9221"
            ],
            [
             1,
             "#276419"
            ]
           ],
           "sequential": [
            [
             0,
             "#0d0887"
            ],
            [
             0.1111111111111111,
             "#46039f"
            ],
            [
             0.2222222222222222,
             "#7201a8"
            ],
            [
             0.3333333333333333,
             "#9c179e"
            ],
            [
             0.4444444444444444,
             "#bd3786"
            ],
            [
             0.5555555555555556,
             "#d8576b"
            ],
            [
             0.6666666666666666,
             "#ed7953"
            ],
            [
             0.7777777777777778,
             "#fb9f3a"
            ],
            [
             0.8888888888888888,
             "#fdca26"
            ],
            [
             1,
             "#f0f921"
            ]
           ],
           "sequentialminus": [
            [
             0,
             "#0d0887"
            ],
            [
             0.1111111111111111,
             "#46039f"
            ],
            [
             0.2222222222222222,
             "#7201a8"
            ],
            [
             0.3333333333333333,
             "#9c179e"
            ],
            [
             0.4444444444444444,
             "#bd3786"
            ],
            [
             0.5555555555555556,
             "#d8576b"
            ],
            [
             0.6666666666666666,
             "#ed7953"
            ],
            [
             0.7777777777777778,
             "#fb9f3a"
            ],
            [
             0.8888888888888888,
             "#fdca26"
            ],
            [
             1,
             "#f0f921"
            ]
           ]
          },
          "colorway": [
           "#636efa",
           "#EF553B",
           "#00cc96",
           "#ab63fa",
           "#FFA15A",
           "#19d3f3",
           "#FF6692",
           "#B6E880",
           "#FF97FF",
           "#FECB52"
          ],
          "font": {
           "color": "#2a3f5f"
          },
          "geo": {
           "bgcolor": "white",
           "lakecolor": "white",
           "landcolor": "#E5ECF6",
           "showlakes": true,
           "showland": true,
           "subunitcolor": "white"
          },
          "hoverlabel": {
           "align": "left"
          },
          "hovermode": "closest",
          "mapbox": {
           "style": "light"
          },
          "paper_bgcolor": "white",
          "plot_bgcolor": "#E5ECF6",
          "polar": {
           "angularaxis": {
            "gridcolor": "white",
            "linecolor": "white",
            "ticks": ""
           },
           "bgcolor": "#E5ECF6",
           "radialaxis": {
            "gridcolor": "white",
            "linecolor": "white",
            "ticks": ""
           }
          },
          "scene": {
           "xaxis": {
            "backgroundcolor": "#E5ECF6",
            "gridcolor": "white",
            "gridwidth": 2,
            "linecolor": "white",
            "showbackground": true,
            "ticks": "",
            "zerolinecolor": "white"
           },
           "yaxis": {
            "backgroundcolor": "#E5ECF6",
            "gridcolor": "white",
            "gridwidth": 2,
            "linecolor": "white",
            "showbackground": true,
            "ticks": "",
            "zerolinecolor": "white"
           },
           "zaxis": {
            "backgroundcolor": "#E5ECF6",
            "gridcolor": "white",
            "gridwidth": 2,
            "linecolor": "white",
            "showbackground": true,
            "ticks": "",
            "zerolinecolor": "white"
           }
          },
          "shapedefaults": {
           "line": {
            "color": "#2a3f5f"
           }
          },
          "ternary": {
           "aaxis": {
            "gridcolor": "white",
            "linecolor": "white",
            "ticks": ""
           },
           "baxis": {
            "gridcolor": "white",
            "linecolor": "white",
            "ticks": ""
           },
           "bgcolor": "#E5ECF6",
           "caxis": {
            "gridcolor": "white",
            "linecolor": "white",
            "ticks": ""
           }
          },
          "title": {
           "x": 0.05
          },
          "xaxis": {
           "automargin": true,
           "gridcolor": "white",
           "linecolor": "white",
           "ticks": "",
           "title": {
            "standoff": 15
           },
           "zerolinecolor": "white",
           "zerolinewidth": 2
          },
          "yaxis": {
           "automargin": true,
           "gridcolor": "white",
           "linecolor": "white",
           "ticks": "",
           "title": {
            "standoff": 15
           },
           "zerolinecolor": "white",
           "zerolinewidth": 2
          }
         }
        },
        "title": {
         "text": "Воронка событий"
        }
       }
      },
      "text/html": [
       "<div>                            <div id=\"8631093e-6990-4e7f-9375-c07b9c5e6d02\" class=\"plotly-graph-div\" style=\"height:525px; width:100%;\"></div>            <script type=\"text/javascript\">                require([\"plotly\"], function(Plotly) {                    window.PLOTLYENV=window.PLOTLYENV || {};                                    if (document.getElementById(\"8631093e-6990-4e7f-9375-c07b9c5e6d02\")) {                    Plotly.newPlot(                        \"8631093e-6990-4e7f-9375-c07b9c5e6d02\",                        [{\"textinfo\":\"value+percent initial+percent previous\",\"x\":[7419,4593,3734,3539],\"y\":[\"MainScreenAppear\",\"OffersScreenAppear\",\"CartScreenAppear\",\"PaymentScreenSuccessful\"],\"type\":\"funnel\"}],                        {\"template\":{\"data\":{\"bar\":[{\"error_x\":{\"color\":\"#2a3f5f\"},\"error_y\":{\"color\":\"#2a3f5f\"},\"marker\":{\"line\":{\"color\":\"#E5ECF6\",\"width\":0.5},\"pattern\":{\"fillmode\":\"overlay\",\"size\":10,\"solidity\":0.2}},\"type\":\"bar\"}],\"barpolar\":[{\"marker\":{\"line\":{\"color\":\"#E5ECF6\",\"width\":0.5},\"pattern\":{\"fillmode\":\"overlay\",\"size\":10,\"solidity\":0.2}},\"type\":\"barpolar\"}],\"carpet\":[{\"aaxis\":{\"endlinecolor\":\"#2a3f5f\",\"gridcolor\":\"white\",\"linecolor\":\"white\",\"minorgridcolor\":\"white\",\"startlinecolor\":\"#2a3f5f\"},\"baxis\":{\"endlinecolor\":\"#2a3f5f\",\"gridcolor\":\"white\",\"linecolor\":\"white\",\"minorgridcolor\":\"white\",\"startlinecolor\":\"#2a3f5f\"},\"type\":\"carpet\"}],\"choropleth\":[{\"colorbar\":{\"outlinewidth\":0,\"ticks\":\"\"},\"type\":\"choropleth\"}],\"contour\":[{\"colorbar\":{\"outlinewidth\":0,\"ticks\":\"\"},\"colorscale\":[[0.0,\"#0d0887\"],[0.1111111111111111,\"#46039f\"],[0.2222222222222222,\"#7201a8\"],[0.3333333333333333,\"#9c179e\"],[0.4444444444444444,\"#bd3786\"],[0.5555555555555556,\"#d8576b\"],[0.6666666666666666,\"#ed7953\"],[0.7777777777777778,\"#fb9f3a\"],[0.8888888888888888,\"#fdca26\"],[1.0,\"#f0f921\"]],\"type\":\"contour\"}],\"contourcarpet\":[{\"colorbar\":{\"outlinewidth\":0,\"ticks\":\"\"},\"type\":\"contourcarpet\"}],\"heatmap\":[{\"colorbar\":{\"outlinewidth\":0,\"ticks\":\"\"},\"colorscale\":[[0.0,\"#0d0887\"],[0.1111111111111111,\"#46039f\"],[0.2222222222222222,\"#7201a8\"],[0.3333333333333333,\"#9c179e\"],[0.4444444444444444,\"#bd3786\"],[0.5555555555555556,\"#d8576b\"],[0.6666666666666666,\"#ed7953\"],[0.7777777777777778,\"#fb9f3a\"],[0.8888888888888888,\"#fdca26\"],[1.0,\"#f0f921\"]],\"type\":\"heatmap\"}],\"heatmapgl\":[{\"colorbar\":{\"outlinewidth\":0,\"ticks\":\"\"},\"colorscale\":[[0.0,\"#0d0887\"],[0.1111111111111111,\"#46039f\"],[0.2222222222222222,\"#7201a8\"],[0.3333333333333333,\"#9c179e\"],[0.4444444444444444,\"#bd3786\"],[0.5555555555555556,\"#d8576b\"],[0.6666666666666666,\"#ed7953\"],[0.7777777777777778,\"#fb9f3a\"],[0.8888888888888888,\"#fdca26\"],[1.0,\"#f0f921\"]],\"type\":\"heatmapgl\"}],\"histogram\":[{\"marker\":{\"pattern\":{\"fillmode\":\"overlay\",\"size\":10,\"solidity\":0.2}},\"type\":\"histogram\"}],\"histogram2d\":[{\"colorbar\":{\"outlinewidth\":0,\"ticks\":\"\"},\"colorscale\":[[0.0,\"#0d0887\"],[0.1111111111111111,\"#46039f\"],[0.2222222222222222,\"#7201a8\"],[0.3333333333333333,\"#9c179e\"],[0.4444444444444444,\"#bd3786\"],[0.5555555555555556,\"#d8576b\"],[0.6666666666666666,\"#ed7953\"],[0.7777777777777778,\"#fb9f3a\"],[0.8888888888888888,\"#fdca26\"],[1.0,\"#f0f921\"]],\"type\":\"histogram2d\"}],\"histogram2dcontour\":[{\"colorbar\":{\"outlinewidth\":0,\"ticks\":\"\"},\"colorscale\":[[0.0,\"#0d0887\"],[0.1111111111111111,\"#46039f\"],[0.2222222222222222,\"#7201a8\"],[0.3333333333333333,\"#9c179e\"],[0.4444444444444444,\"#bd3786\"],[0.5555555555555556,\"#d8576b\"],[0.6666666666666666,\"#ed7953\"],[0.7777777777777778,\"#fb9f3a\"],[0.8888888888888888,\"#fdca26\"],[1.0,\"#f0f921\"]],\"type\":\"histogram2dcontour\"}],\"mesh3d\":[{\"colorbar\":{\"outlinewidth\":0,\"ticks\":\"\"},\"type\":\"mesh3d\"}],\"parcoords\":[{\"line\":{\"colorbar\":{\"outlinewidth\":0,\"ticks\":\"\"}},\"type\":\"parcoords\"}],\"pie\":[{\"automargin\":true,\"type\":\"pie\"}],\"scatter\":[{\"marker\":{\"colorbar\":{\"outlinewidth\":0,\"ticks\":\"\"}},\"type\":\"scatter\"}],\"scatter3d\":[{\"line\":{\"colorbar\":{\"outlinewidth\":0,\"ticks\":\"\"}},\"marker\":{\"colorbar\":{\"outlinewidth\":0,\"ticks\":\"\"}},\"type\":\"scatter3d\"}],\"scattercarpet\":[{\"marker\":{\"colorbar\":{\"outlinewidth\":0,\"ticks\":\"\"}},\"type\":\"scattercarpet\"}],\"scattergeo\":[{\"marker\":{\"colorbar\":{\"outlinewidth\":0,\"ticks\":\"\"}},\"type\":\"scattergeo\"}],\"scattergl\":[{\"marker\":{\"colorbar\":{\"outlinewidth\":0,\"ticks\":\"\"}},\"type\":\"scattergl\"}],\"scattermapbox\":[{\"marker\":{\"colorbar\":{\"outlinewidth\":0,\"ticks\":\"\"}},\"type\":\"scattermapbox\"}],\"scatterpolar\":[{\"marker\":{\"colorbar\":{\"outlinewidth\":0,\"ticks\":\"\"}},\"type\":\"scatterpolar\"}],\"scatterpolargl\":[{\"marker\":{\"colorbar\":{\"outlinewidth\":0,\"ticks\":\"\"}},\"type\":\"scatterpolargl\"}],\"scatterternary\":[{\"marker\":{\"colorbar\":{\"outlinewidth\":0,\"ticks\":\"\"}},\"type\":\"scatterternary\"}],\"surface\":[{\"colorbar\":{\"outlinewidth\":0,\"ticks\":\"\"},\"colorscale\":[[0.0,\"#0d0887\"],[0.1111111111111111,\"#46039f\"],[0.2222222222222222,\"#7201a8\"],[0.3333333333333333,\"#9c179e\"],[0.4444444444444444,\"#bd3786\"],[0.5555555555555556,\"#d8576b\"],[0.6666666666666666,\"#ed7953\"],[0.7777777777777778,\"#fb9f3a\"],[0.8888888888888888,\"#fdca26\"],[1.0,\"#f0f921\"]],\"type\":\"surface\"}],\"table\":[{\"cells\":{\"fill\":{\"color\":\"#EBF0F8\"},\"line\":{\"color\":\"white\"}},\"header\":{\"fill\":{\"color\":\"#C8D4E3\"},\"line\":{\"color\":\"white\"}},\"type\":\"table\"}]},\"layout\":{\"annotationdefaults\":{\"arrowcolor\":\"#2a3f5f\",\"arrowhead\":0,\"arrowwidth\":1},\"autotypenumbers\":\"strict\",\"coloraxis\":{\"colorbar\":{\"outlinewidth\":0,\"ticks\":\"\"}},\"colorscale\":{\"diverging\":[[0,\"#8e0152\"],[0.1,\"#c51b7d\"],[0.2,\"#de77ae\"],[0.3,\"#f1b6da\"],[0.4,\"#fde0ef\"],[0.5,\"#f7f7f7\"],[0.6,\"#e6f5d0\"],[0.7,\"#b8e186\"],[0.8,\"#7fbc41\"],[0.9,\"#4d9221\"],[1,\"#276419\"]],\"sequential\":[[0.0,\"#0d0887\"],[0.1111111111111111,\"#46039f\"],[0.2222222222222222,\"#7201a8\"],[0.3333333333333333,\"#9c179e\"],[0.4444444444444444,\"#bd3786\"],[0.5555555555555556,\"#d8576b\"],[0.6666666666666666,\"#ed7953\"],[0.7777777777777778,\"#fb9f3a\"],[0.8888888888888888,\"#fdca26\"],[1.0,\"#f0f921\"]],\"sequentialminus\":[[0.0,\"#0d0887\"],[0.1111111111111111,\"#46039f\"],[0.2222222222222222,\"#7201a8\"],[0.3333333333333333,\"#9c179e\"],[0.4444444444444444,\"#bd3786\"],[0.5555555555555556,\"#d8576b\"],[0.6666666666666666,\"#ed7953\"],[0.7777777777777778,\"#fb9f3a\"],[0.8888888888888888,\"#fdca26\"],[1.0,\"#f0f921\"]]},\"colorway\":[\"#636efa\",\"#EF553B\",\"#00cc96\",\"#ab63fa\",\"#FFA15A\",\"#19d3f3\",\"#FF6692\",\"#B6E880\",\"#FF97FF\",\"#FECB52\"],\"font\":{\"color\":\"#2a3f5f\"},\"geo\":{\"bgcolor\":\"white\",\"lakecolor\":\"white\",\"landcolor\":\"#E5ECF6\",\"showlakes\":true,\"showland\":true,\"subunitcolor\":\"white\"},\"hoverlabel\":{\"align\":\"left\"},\"hovermode\":\"closest\",\"mapbox\":{\"style\":\"light\"},\"paper_bgcolor\":\"white\",\"plot_bgcolor\":\"#E5ECF6\",\"polar\":{\"angularaxis\":{\"gridcolor\":\"white\",\"linecolor\":\"white\",\"ticks\":\"\"},\"bgcolor\":\"#E5ECF6\",\"radialaxis\":{\"gridcolor\":\"white\",\"linecolor\":\"white\",\"ticks\":\"\"}},\"scene\":{\"xaxis\":{\"backgroundcolor\":\"#E5ECF6\",\"gridcolor\":\"white\",\"gridwidth\":2,\"linecolor\":\"white\",\"showbackground\":true,\"ticks\":\"\",\"zerolinecolor\":\"white\"},\"yaxis\":{\"backgroundcolor\":\"#E5ECF6\",\"gridcolor\":\"white\",\"gridwidth\":2,\"linecolor\":\"white\",\"showbackground\":true,\"ticks\":\"\",\"zerolinecolor\":\"white\"},\"zaxis\":{\"backgroundcolor\":\"#E5ECF6\",\"gridcolor\":\"white\",\"gridwidth\":2,\"linecolor\":\"white\",\"showbackground\":true,\"ticks\":\"\",\"zerolinecolor\":\"white\"}},\"shapedefaults\":{\"line\":{\"color\":\"#2a3f5f\"}},\"ternary\":{\"aaxis\":{\"gridcolor\":\"white\",\"linecolor\":\"white\",\"ticks\":\"\"},\"baxis\":{\"gridcolor\":\"white\",\"linecolor\":\"white\",\"ticks\":\"\"},\"bgcolor\":\"#E5ECF6\",\"caxis\":{\"gridcolor\":\"white\",\"linecolor\":\"white\",\"ticks\":\"\"}},\"title\":{\"x\":0.05},\"xaxis\":{\"automargin\":true,\"gridcolor\":\"white\",\"linecolor\":\"white\",\"ticks\":\"\",\"title\":{\"standoff\":15},\"zerolinecolor\":\"white\",\"zerolinewidth\":2},\"yaxis\":{\"automargin\":true,\"gridcolor\":\"white\",\"linecolor\":\"white\",\"ticks\":\"\",\"title\":{\"standoff\":15},\"zerolinecolor\":\"white\",\"zerolinewidth\":2}}},\"title\":{\"text\":\"\\u0412\\u043e\\u0440\\u043e\\u043d\\u043a\\u0430 \\u0441\\u043e\\u0431\\u044b\\u0442\\u0438\\u0439\"}},                        {\"responsive\": true}                    ).then(function(){\n",
       "                            \n",
       "var gd = document.getElementById('8631093e-6990-4e7f-9375-c07b9c5e6d02');\n",
       "var x = new MutationObserver(function (mutations, observer) {{\n",
       "        var display = window.getComputedStyle(gd).display;\n",
       "        if (!display || display === 'none') {{\n",
       "            console.log([gd, 'removed!']);\n",
       "            Plotly.purge(gd);\n",
       "            observer.disconnect();\n",
       "        }}\n",
       "}});\n",
       "\n",
       "// Listen for the removal of the full notebook cells\n",
       "var notebookContainer = gd.closest('#notebook-container');\n",
       "if (notebookContainer) {{\n",
       "    x.observe(notebookContainer, {childList: true});\n",
       "}}\n",
       "\n",
       "// Listen for the clearing of the current output cell\n",
       "var outputEl = gd.closest('.output');\n",
       "if (outputEl) {{\n",
       "    x.observe(outputEl, {childList: true});\n",
       "}}\n",
       "\n",
       "                        })                };                });            </script>        </div>"
      ]
     },
     "metadata": {},
     "output_type": "display_data"
    }
   ],
   "source": [
    "fig = go.Figure(go.Funnel( x=unique_users['unique_users'], y=unique_users['event_name'],\n",
    "                          textinfo = \"value+percent initial+percent previous\"))\n",
    "fig.update_layout(title='Воронка событий')\n",
    "fig.show()"
   ]
  },
  {
   "cell_type": "markdown",
   "metadata": {},
   "source": [
    "## А/А/В эксперимент"
   ]
  },
  {
   "cell_type": "markdown",
   "metadata": {},
   "source": [
    "У нас есть 2 контрольные группы для А/А-эксперимента, чтобы проверить корректность всех механизмов и расчётов. Проверим, находят ли статистические критерии разницу между выборками 246 и 247. Для этого используем Z-тест"
   ]
  },
  {
   "cell_type": "markdown",
   "metadata": {},
   "source": [
    "Сформулируем гиптезы и применим Z тест: \\\n",
    "Н0: доли уникальных посетителей, побывавших на этапе воронки, одинаковы. \\\n",
    "Н1: между долями уникальных посетителей, побывавших на этапе воронки, есть значимая разница."
   ]
  },
  {
   "cell_type": "markdown",
   "metadata": {},
   "source": [
    "Выберем самое популярное событие. В нашем случае это событие перехода на главную страницу \"MainScreenAppear\". Посчитаем число пользователей, совершивших это событие в каждой из контрольных групп. Посчитаем долю пользователей, совершивших это событие. Проверим, будет ли отличие между группами статистически достоверным."
   ]
  },
  {
   "cell_type": "code",
   "execution_count": 38,
   "metadata": {},
   "outputs": [
    {
     "data": {
      "text/html": [
       "<div>\n",
       "<style scoped>\n",
       "    .dataframe tbody tr th:only-of-type {\n",
       "        vertical-align: middle;\n",
       "    }\n",
       "\n",
       "    .dataframe tbody tr th {\n",
       "        vertical-align: top;\n",
       "    }\n",
       "\n",
       "    .dataframe thead th {\n",
       "        text-align: right;\n",
       "    }\n",
       "</style>\n",
       "<table border=\"1\" class=\"dataframe\">\n",
       "  <thead>\n",
       "    <tr style=\"text-align: right;\">\n",
       "      <th>group</th>\n",
       "      <th>246</th>\n",
       "      <th>247</th>\n",
       "      <th>248</th>\n",
       "      <th>All</th>\n",
       "      <th>totalA</th>\n",
       "      <th>246_%</th>\n",
       "      <th>247_%</th>\n",
       "    </tr>\n",
       "    <tr>\n",
       "      <th>event_name</th>\n",
       "      <th></th>\n",
       "      <th></th>\n",
       "      <th></th>\n",
       "      <th></th>\n",
       "      <th></th>\n",
       "      <th></th>\n",
       "      <th></th>\n",
       "    </tr>\n",
       "  </thead>\n",
       "  <tbody>\n",
       "    <tr>\n",
       "      <th>All</th>\n",
       "      <td>2483</td>\n",
       "      <td>2512</td>\n",
       "      <td>2535</td>\n",
       "      <td>7530</td>\n",
       "      <td>4995</td>\n",
       "      <td>32.97</td>\n",
       "      <td>33.36</td>\n",
       "    </tr>\n",
       "    <tr>\n",
       "      <th>MainScreenAppear</th>\n",
       "      <td>2450</td>\n",
       "      <td>2476</td>\n",
       "      <td>2493</td>\n",
       "      <td>7419</td>\n",
       "      <td>4926</td>\n",
       "      <td>32.54</td>\n",
       "      <td>32.88</td>\n",
       "    </tr>\n",
       "    <tr>\n",
       "      <th>OffersScreenAppear</th>\n",
       "      <td>1542</td>\n",
       "      <td>1520</td>\n",
       "      <td>1531</td>\n",
       "      <td>4593</td>\n",
       "      <td>3062</td>\n",
       "      <td>20.48</td>\n",
       "      <td>20.19</td>\n",
       "    </tr>\n",
       "    <tr>\n",
       "      <th>CartScreenAppear</th>\n",
       "      <td>1266</td>\n",
       "      <td>1238</td>\n",
       "      <td>1230</td>\n",
       "      <td>3734</td>\n",
       "      <td>2504</td>\n",
       "      <td>16.81</td>\n",
       "      <td>16.44</td>\n",
       "    </tr>\n",
       "    <tr>\n",
       "      <th>PaymentScreenSuccessful</th>\n",
       "      <td>1200</td>\n",
       "      <td>1158</td>\n",
       "      <td>1181</td>\n",
       "      <td>3539</td>\n",
       "      <td>2358</td>\n",
       "      <td>15.94</td>\n",
       "      <td>15.38</td>\n",
       "    </tr>\n",
       "  </tbody>\n",
       "</table>\n",
       "</div>"
      ],
      "text/plain": [
       "group                     246   247   248   All  totalA  246_%  247_%\n",
       "event_name                                                           \n",
       "All                      2483  2512  2535  7530    4995  32.97  33.36\n",
       "MainScreenAppear         2450  2476  2493  7419    4926  32.54  32.88\n",
       "OffersScreenAppear       1542  1520  1531  4593    3062  20.48  20.19\n",
       "CartScreenAppear         1266  1238  1230  3734    2504  16.81  16.44\n",
       "PaymentScreenSuccessful  1200  1158  1181  3539    2358  15.94  15.38"
      ]
     },
     "execution_count": 38,
     "metadata": {},
     "output_type": "execute_result"
    }
   ],
   "source": [
    "users_groups = filtered_logs.pivot_table(\n",
    "    index='event_name', columns='group', values='user_id', aggfunc='nunique', margins=True\n",
    "    ).sort_values(by='All', ascending=False)\n",
    "users_groups['totalA'] = users_groups[246]+users_groups[247]\n",
    "users_groups['246_%'] = round(users_groups[246]/filtered_logs['user_id'].nunique()*100,2)\n",
    "users_groups['247_%'] = round(users_groups[247]/filtered_logs['user_id'].nunique()*100,2)\n",
    "users_groups"
   ]
  },
  {
   "cell_type": "markdown",
   "metadata": {},
   "source": [
    "По долям контрольных групп можем увидеть, что различие в количестве пользователей небольшое. Проверим это спомощью zтеста."
   ]
  },
  {
   "cell_type": "markdown",
   "metadata": {},
   "source": [
    "Н0: нет отличий между долями групп А1 и А2, совершивших событие MainScreenAppear \\\n",
    "Н1: есть отличия между долями контрольных групп"
   ]
  },
  {
   "cell_type": "code",
   "execution_count": 39,
   "metadata": {},
   "outputs": [
    {
     "name": "stdout",
     "output_type": "stream",
     "text": [
      "p-value = 0.753\n",
      "Не получилось отвергнуть нулевую гипотезу, нет оснований считать выборки разными\n"
     ]
    }
   ],
   "source": [
    "alpha = .05 # критический уровень статистической значимости\n",
    "\n",
    "# кол-во пользователей группах А\n",
    "visits = np.array([users_groups[246]['All'], users_groups[247]['All']])\n",
    "\n",
    "# кол-во пользователей, посетивших главную страницу в группах А\n",
    "users = np.array([users_groups[246]['MainScreenAppear'], users_groups[247]['MainScreenAppear']])\n",
    "\n",
    "stat, p_value = proportions_ztest(users, visits, alternative='two-sided')\n",
    "\n",
    "print('p-value = {:.3f}'.format(p_value))\n",
    "if p_value < alpha:\n",
    "    print('Отвергаем нулевую гипотезу: между выборками есть значимая разница')\n",
    "else:\n",
    "    print(\n",
    "        'Не получилось отвергнуть нулевую гипотезу, нет оснований считать выборки разными'\n",
    "    ) "
   ]
  },
  {
   "cell_type": "markdown",
   "metadata": {},
   "source": [
    "Проделаем то же самое для всех других событий."
   ]
  },
  {
   "cell_type": "code",
   "execution_count": 40,
   "metadata": {},
   "outputs": [],
   "source": [
    "def ztest (group1, group2, event, alpha=.05):\n",
    "    users = np.array([users_groups[group1]['All'], users_groups[group2]['All']])\n",
    "    buyers = np.array([users_groups[group1][event], users_groups[group2][event]])\n",
    "    stat, p_value = proportions_ztest(buyers, users, alternative='two-sided')\n",
    "    print('p-value = {:.3f}'.format(p_value))\n",
    "    if p_value < alpha:\n",
    "        print('Отвергаем нулевую гипотезу: между выборками есть значимая разница')\n",
    "    else:\n",
    "        print(\n",
    "            'Не получилось отвергнуть нулевую гипотезу, нет оснований считать выборки разными'\n",
    "        ) "
   ]
  },
  {
   "cell_type": "code",
   "execution_count": 41,
   "metadata": {},
   "outputs": [
    {
     "name": "stdout",
     "output_type": "stream",
     "text": [
      "Для контрольных групп и события  MainScreenAppear\n",
      "p-value = 0.753\n",
      "Не получилось отвергнуть нулевую гипотезу, нет оснований считать выборки разными\n",
      "Для контрольных групп и события  OffersScreenAppear\n",
      "p-value = 0.248\n",
      "Не получилось отвергнуть нулевую гипотезу, нет оснований считать выборки разными\n",
      "Для контрольных групп и события  CartScreenAppear\n",
      "p-value = 0.229\n",
      "Не получилось отвергнуть нулевую гипотезу, нет оснований считать выборки разными\n",
      "Для контрольных групп и события  PaymentScreenSuccessful\n",
      "p-value = 0.114\n",
      "Не получилось отвергнуть нулевую гипотезу, нет оснований считать выборки разными\n"
     ]
    }
   ],
   "source": [
    "for i in filtered_logs['event_name'].unique():\n",
    "    print('Для контрольных групп и события ', i)\n",
    "    ztest(246,247, i, alpha/4) # уровень значимости делим \n",
    "    # на количество гипотез по методу Бонферрони"
   ]
  },
  {
   "cell_type": "markdown",
   "metadata": {},
   "source": [
    "Исходя из результатов теста, можем сделать вывод, что разбиение на группы работает корректно"
   ]
  },
  {
   "cell_type": "markdown",
   "metadata": {},
   "source": [
    "Аналогично поступим с группой с изменённым шрифтом. Сравним результаты с каждой из контрольных групп в отдельности по каждому событию. Сравним результаты с объединённой контрольной группой. Уровень значимости 0.5 поделим на количество гипотез по методу Бонферрони"
   ]
  },
  {
   "cell_type": "code",
   "execution_count": 42,
   "metadata": {},
   "outputs": [
    {
     "name": "stdout",
     "output_type": "stream",
     "text": [
      "Для групп 248 и 246 и события  MainScreenAppear\n",
      "p-value = 0.339\n",
      "Не получилось отвергнуть нулевую гипотезу, нет оснований считать выборки разными\n",
      "Для групп 248 и 247 и события  MainScreenAppear\n",
      "p-value = 0.519\n",
      "Не получилось отвергнуть нулевую гипотезу, нет оснований считать выборки разными\n",
      "Для групп 248 и totalA и события  MainScreenAppear\n",
      "p-value = 0.349\n",
      "Не получилось отвергнуть нулевую гипотезу, нет оснований считать выборки разными\n",
      "Для групп 248 и 246 и события  OffersScreenAppear\n",
      "p-value = 0.214\n",
      "Не получилось отвергнуть нулевую гипотезу, нет оснований считать выборки разными\n",
      "Для групп 248 и 247 и события  OffersScreenAppear\n",
      "p-value = 0.933\n",
      "Не получилось отвергнуть нулевую гипотезу, нет оснований считать выборки разными\n",
      "Для групп 248 и totalA и события  OffersScreenAppear\n",
      "p-value = 0.446\n",
      "Не получилось отвергнуть нулевую гипотезу, нет оснований считать выборки разными\n",
      "Для групп 248 и 246 и события  CartScreenAppear\n",
      "p-value = 0.081\n",
      "Не получилось отвергнуть нулевую гипотезу, нет оснований считать выборки разными\n",
      "Для групп 248 и 247 и события  CartScreenAppear\n",
      "p-value = 0.588\n",
      "Не получилось отвергнуть нулевую гипотезу, нет оснований считать выборки разными\n",
      "Для групп 248 и totalA и события  CartScreenAppear\n",
      "p-value = 0.187\n",
      "Не получилось отвергнуть нулевую гипотезу, нет оснований считать выборки разными\n",
      "Для групп 248 и 246 и события  PaymentScreenSuccessful\n",
      "p-value = 0.217\n",
      "Не получилось отвергнуть нулевую гипотезу, нет оснований считать выборки разными\n",
      "Для групп 248 и 247 и события  PaymentScreenSuccessful\n",
      "p-value = 0.728\n",
      "Не получилось отвергнуть нулевую гипотезу, нет оснований считать выборки разными\n",
      "Для групп 248 и totalA и события  PaymentScreenSuccessful\n",
      "p-value = 0.611\n",
      "Не получилось отвергнуть нулевую гипотезу, нет оснований считать выборки разными\n"
     ]
    }
   ],
   "source": [
    "for i in filtered_logs['event_name'].unique():\n",
    "    for j in [246, 247, 'totalA']:\n",
    "        print('Для групп 248 и', j, 'и события ', i )\n",
    "        ztest(j, 248, i, alpha/16) # уровень значимости делим \n",
    "        # на количество гипотез по методу Бонферрони"
   ]
  },
  {
   "cell_type": "markdown",
   "metadata": {},
   "source": [
    "Из данного эксперимента мы можем сделать вывод, что статистической разницы между группами А/А/В нет."
   ]
  },
  {
   "cell_type": "markdown",
   "metadata": {},
   "source": [
    "## Выводы"
   ]
  },
  {
   "cell_type": "markdown",
   "metadata": {},
   "source": [
    "В данном проекте мы провели А/А/В тест и выяснили, стоит ли дизайнерам поменять шрифты во всём приложении и повлияет ли это на количество покупателей товаров. Договорились принять решение по результатам A/A/B-теста. Пользователей разбили на 3 группы: 2 контрольные со старыми шрифтами и одну экспериментальную — с новыми."
   ]
  },
  {
   "cell_type": "markdown",
   "metadata": {},
   "source": [
    "В первом разделе мы предобработали данные, приведя данные к нужному типу и удалив дубликаты."
   ]
  },
  {
   "cell_type": "markdown",
   "metadata": {},
   "source": [
    "Далее мы изучили данные и выяснили, что у нас не одинаково полные данные за весь период. Полные данные предоставлены с 01-08-2018. Получается, что на самом деле мы будем рассматривать данные за первую неделю августа 2019 года. Также мы проверили, что во всех группах (двух контрольных и одной экспериментальной) есть данные о пользователях."
   ]
  },
  {
   "cell_type": "markdown",
   "metadata": {},
   "source": [
    "Далее мы изучили воронку событий. Было выяснено, что всего мы рассматривем 4 главных события. Это переход на главную страницу приложения, переход к просмотру товаров, переход в корзину, переход на страницу с успешной покупкой."
   ]
  },
  {
   "cell_type": "markdown",
   "metadata": {},
   "source": [
    "Далее мы проверили корректность всех механизмов и расчётов. С помощью Z-тест мы доказали, что статистически значимой разницы между контрольными группами 246 и 247 нет."
   ]
  },
  {
   "cell_type": "markdown",
   "metadata": {},
   "source": [
    "После этого мы выбрали самое популярное событие. В нашем случае это событие перехода на главную страницу \"MainScreenAppear\". И проверили, будет ли отличие между группами статистически достоверным. \\\n",
    "Н0: нет отличий между долями групп А1 и А2, совершивших событие MainScreenAppear \\\n",
    "Н1: есть отличия между долями контрольных групп"
   ]
  },
  {
   "cell_type": "markdown",
   "metadata": {},
   "source": [
    "p-value оказался равен 0.753, что меньше уровня значимости.\n",
    "Не получилось отвергнуть нулевую гипотезу, нет оснований считать выборки разными"
   ]
  },
  {
   "cell_type": "markdown",
   "metadata": {},
   "source": [
    "Далее мы проделали то же самое для всех событий воронки и не смогли отвергнуть нулевую гипотезу ни для одного из событий."
   ]
  },
  {
   "cell_type": "markdown",
   "metadata": {},
   "source": [
    "Аналогично поступили с группой с изменённым шрифтом. Сравнили результаты с каждой из контрольных групп в отдельности по каждому событию. Сравнили результаты с объединённой контрольной группой."
   ]
  },
  {
   "cell_type": "markdown",
   "metadata": {},
   "source": [
    "Важно заметить, что для данных тестов мы использовали метод Бонферони, разделили уровень значимости на число гипотез."
   ]
  },
  {
   "cell_type": "markdown",
   "metadata": {},
   "source": [
    "Из результатов проведенных тестов можно сделать вывод, что группа В не имеет статистически значимых различий ни с одной из групп А ни в одном из событий. Это значит, что при изменении шрифта приложения ничего не изменится и пользователи не изменят своего поведения.\n",
    "Тест можно считать завершенным. А/А/В тест оказался неудачным."
   ]
  }
 ],
 "metadata": {
  "ExecuteTimeLog": [
   {
    "duration": 431,
    "start_time": "2023-03-31T07:51:53.108Z"
   },
   {
    "duration": 1297,
    "start_time": "2023-03-31T07:53:43.556Z"
   },
   {
    "duration": 107,
    "start_time": "2023-03-31T07:53:53.713Z"
   },
   {
    "duration": 86,
    "start_time": "2023-03-31T07:53:57.106Z"
   },
   {
    "duration": 93,
    "start_time": "2023-03-31T07:54:17.753Z"
   },
   {
    "duration": 137,
    "start_time": "2023-03-31T07:54:23.289Z"
   },
   {
    "duration": 101,
    "start_time": "2023-03-31T07:54:35.732Z"
   },
   {
    "duration": 335,
    "start_time": "2023-03-31T07:54:42.172Z"
   },
   {
    "duration": 262,
    "start_time": "2023-03-31T07:54:55.641Z"
   },
   {
    "duration": 314,
    "start_time": "2023-03-31T07:55:06.926Z"
   },
   {
    "duration": 318,
    "start_time": "2023-03-31T07:55:44.641Z"
   },
   {
    "duration": 165,
    "start_time": "2023-03-31T07:55:49.890Z"
   },
   {
    "duration": 3,
    "start_time": "2023-03-31T07:57:33.486Z"
   },
   {
    "duration": 3564,
    "start_time": "2023-03-31T07:58:07.501Z"
   },
   {
    "duration": 187,
    "start_time": "2023-03-31T07:58:28.436Z"
   },
   {
    "duration": 1587,
    "start_time": "2023-03-31T08:13:46.601Z"
   },
   {
    "duration": 5,
    "start_time": "2023-03-31T08:13:54.051Z"
   },
   {
    "duration": 11,
    "start_time": "2023-03-31T08:13:55.199Z"
   },
   {
    "duration": 21,
    "start_time": "2023-03-31T08:14:04.014Z"
   },
   {
    "duration": 9,
    "start_time": "2023-03-31T08:14:18.609Z"
   },
   {
    "duration": 1496,
    "start_time": "2023-03-31T08:15:32.830Z"
   },
   {
    "duration": 4,
    "start_time": "2023-03-31T08:15:39.559Z"
   },
   {
    "duration": 62,
    "start_time": "2023-03-31T08:15:39.944Z"
   },
   {
    "duration": 74,
    "start_time": "2023-03-31T08:15:40.799Z"
   },
   {
    "duration": 88,
    "start_time": "2023-03-31T08:23:28.016Z"
   },
   {
    "duration": 91,
    "start_time": "2023-03-31T08:23:32.669Z"
   },
   {
    "duration": 112,
    "start_time": "2023-03-31T08:24:38.406Z"
   },
   {
    "duration": 406,
    "start_time": "2023-03-31T08:24:46.682Z"
   },
   {
    "duration": 188,
    "start_time": "2023-03-31T08:24:47.091Z"
   },
   {
    "duration": 4,
    "start_time": "2023-03-31T08:24:47.300Z"
   },
   {
    "duration": 101,
    "start_time": "2023-03-31T08:24:47.306Z"
   },
   {
    "duration": 27,
    "start_time": "2023-03-31T08:25:44.735Z"
   },
   {
    "duration": 45,
    "start_time": "2023-03-31T08:33:11.051Z"
   },
   {
    "duration": 77,
    "start_time": "2023-03-31T08:33:36.766Z"
   },
   {
    "duration": 91,
    "start_time": "2023-03-31T08:33:40.902Z"
   },
   {
    "duration": 95,
    "start_time": "2023-03-31T08:33:48.708Z"
   },
   {
    "duration": 72,
    "start_time": "2023-03-31T08:34:13.101Z"
   },
   {
    "duration": 146,
    "start_time": "2023-03-31T08:34:39.473Z"
   },
   {
    "duration": 34,
    "start_time": "2023-03-31T08:34:43.949Z"
   },
   {
    "duration": 377,
    "start_time": "2023-03-31T08:35:02.726Z"
   },
   {
    "duration": 176,
    "start_time": "2023-03-31T08:35:03.105Z"
   },
   {
    "duration": 11,
    "start_time": "2023-03-31T08:35:03.289Z"
   },
   {
    "duration": 106,
    "start_time": "2023-03-31T08:35:03.303Z"
   },
   {
    "duration": 27,
    "start_time": "2023-03-31T08:35:03.411Z"
   },
   {
    "duration": 101,
    "start_time": "2023-03-31T08:35:03.440Z"
   },
   {
    "duration": 117,
    "start_time": "2023-03-31T08:35:03.543Z"
   },
   {
    "duration": 92,
    "start_time": "2023-03-31T08:35:26.571Z"
   },
   {
    "duration": 437,
    "start_time": "2023-03-31T08:35:33.401Z"
   },
   {
    "duration": 186,
    "start_time": "2023-03-31T08:35:33.840Z"
   },
   {
    "duration": 5,
    "start_time": "2023-03-31T08:35:34.028Z"
   },
   {
    "duration": 126,
    "start_time": "2023-03-31T08:35:34.036Z"
   },
   {
    "duration": 47,
    "start_time": "2023-03-31T08:35:34.165Z"
   },
   {
    "duration": 107,
    "start_time": "2023-03-31T08:35:34.215Z"
   },
   {
    "duration": 144,
    "start_time": "2023-03-31T08:35:34.324Z"
   },
   {
    "duration": 9,
    "start_time": "2023-03-31T08:36:19.909Z"
   },
   {
    "duration": 96,
    "start_time": "2023-03-31T08:38:39.416Z"
   },
   {
    "duration": 40,
    "start_time": "2023-03-31T08:38:44.168Z"
   },
   {
    "duration": 28,
    "start_time": "2023-03-31T08:38:56.902Z"
   },
   {
    "duration": 43,
    "start_time": "2023-03-31T08:41:13.904Z"
   },
   {
    "duration": 14,
    "start_time": "2023-03-31T08:41:16.973Z"
   },
   {
    "duration": 128,
    "start_time": "2023-03-31T08:41:47.913Z"
   },
   {
    "duration": 19,
    "start_time": "2023-03-31T08:43:19.432Z"
   },
   {
    "duration": 26,
    "start_time": "2023-03-31T08:43:31.987Z"
   },
   {
    "duration": 12,
    "start_time": "2023-03-31T09:07:41.426Z"
   },
   {
    "duration": 16,
    "start_time": "2023-03-31T09:07:51.049Z"
   },
   {
    "duration": 41,
    "start_time": "2023-03-31T09:07:53.533Z"
   },
   {
    "duration": 67,
    "start_time": "2023-03-31T09:08:12.367Z"
   },
   {
    "duration": 43,
    "start_time": "2023-03-31T09:08:19.225Z"
   },
   {
    "duration": 9,
    "start_time": "2023-03-31T09:09:16.915Z"
   },
   {
    "duration": 15,
    "start_time": "2023-03-31T09:09:21.069Z"
   },
   {
    "duration": 47,
    "start_time": "2023-03-31T09:10:47.013Z"
   },
   {
    "duration": 48,
    "start_time": "2023-03-31T09:10:56.737Z"
   },
   {
    "duration": 94,
    "start_time": "2023-03-31T09:11:13.500Z"
   },
   {
    "duration": 72,
    "start_time": "2023-03-31T09:11:59.000Z"
   },
   {
    "duration": 16,
    "start_time": "2023-03-31T09:16:10.702Z"
   },
   {
    "duration": 21,
    "start_time": "2023-03-31T09:16:18.246Z"
   },
   {
    "duration": 961,
    "start_time": "2023-03-31T09:18:38.547Z"
   },
   {
    "duration": 47,
    "start_time": "2023-03-31T09:19:07.637Z"
   },
   {
    "duration": 2,
    "start_time": "2023-03-31T09:20:27.153Z"
   },
   {
    "duration": 293,
    "start_time": "2023-03-31T09:20:45.106Z"
   },
   {
    "duration": 203,
    "start_time": "2023-03-31T09:21:57.812Z"
   },
   {
    "duration": 249,
    "start_time": "2023-03-31T09:22:24.339Z"
   },
   {
    "duration": 261,
    "start_time": "2023-03-31T09:22:43.009Z"
   },
   {
    "duration": 421,
    "start_time": "2023-03-31T09:46:10.541Z"
   },
   {
    "duration": 422,
    "start_time": "2023-03-31T09:49:05.394Z"
   },
   {
    "duration": 462,
    "start_time": "2023-03-31T09:49:18.357Z"
   },
   {
    "duration": 112,
    "start_time": "2023-03-31T09:50:03.338Z"
   },
   {
    "duration": 135,
    "start_time": "2023-03-31T09:50:07.971Z"
   },
   {
    "duration": 480,
    "start_time": "2023-03-31T09:50:42.727Z"
   },
   {
    "duration": 20,
    "start_time": "2023-03-31T09:51:12.436Z"
   },
   {
    "duration": 15,
    "start_time": "2023-03-31T09:51:17.561Z"
   },
   {
    "duration": 34,
    "start_time": "2023-03-31T09:51:24.799Z"
   },
   {
    "duration": 12,
    "start_time": "2023-03-31T09:52:52.257Z"
   },
   {
    "duration": 5,
    "start_time": "2023-03-31T09:53:50.835Z"
   },
   {
    "duration": 758,
    "start_time": "2023-03-31T09:54:31.808Z"
   },
   {
    "duration": 237,
    "start_time": "2023-03-31T09:54:32.569Z"
   },
   {
    "duration": 4,
    "start_time": "2023-03-31T09:54:32.813Z"
   },
   {
    "duration": 117,
    "start_time": "2023-03-31T09:54:32.819Z"
   },
   {
    "duration": 27,
    "start_time": "2023-03-31T09:54:32.939Z"
   },
   {
    "duration": 129,
    "start_time": "2023-03-31T09:54:32.968Z"
   },
   {
    "duration": 123,
    "start_time": "2023-03-31T09:54:33.099Z"
   },
   {
    "duration": 98,
    "start_time": "2023-03-31T09:54:33.224Z"
   },
   {
    "duration": 9,
    "start_time": "2023-03-31T09:54:33.324Z"
   },
   {
    "duration": 35,
    "start_time": "2023-03-31T09:54:33.335Z"
   },
   {
    "duration": 43,
    "start_time": "2023-03-31T09:54:33.371Z"
   },
   {
    "duration": 30,
    "start_time": "2023-03-31T09:54:33.416Z"
   },
   {
    "duration": 10,
    "start_time": "2023-03-31T09:54:33.449Z"
   },
   {
    "duration": 40,
    "start_time": "2023-03-31T09:54:33.461Z"
   },
   {
    "duration": 19,
    "start_time": "2023-03-31T09:54:33.502Z"
   },
   {
    "duration": 18,
    "start_time": "2023-03-31T09:54:33.522Z"
   },
   {
    "duration": 480,
    "start_time": "2023-03-31T09:54:33.541Z"
   },
   {
    "duration": 16,
    "start_time": "2023-03-31T09:54:34.022Z"
   },
   {
    "duration": 8,
    "start_time": "2023-03-31T09:54:34.040Z"
   },
   {
    "duration": 4,
    "start_time": "2023-03-31T09:54:34.050Z"
   },
   {
    "duration": 37,
    "start_time": "2023-03-31T09:56:53.326Z"
   },
   {
    "duration": 13,
    "start_time": "2023-03-31T09:57:10.343Z"
   },
   {
    "duration": 31,
    "start_time": "2023-03-31T09:57:17.078Z"
   },
   {
    "duration": 13,
    "start_time": "2023-03-31T09:57:21.749Z"
   },
   {
    "duration": 27,
    "start_time": "2023-03-31T10:05:31.208Z"
   },
   {
    "duration": 106,
    "start_time": "2023-03-31T10:06:04.702Z"
   },
   {
    "duration": 36,
    "start_time": "2023-03-31T10:06:11.289Z"
   },
   {
    "duration": 68,
    "start_time": "2023-03-31T10:21:07.347Z"
   },
   {
    "duration": 23,
    "start_time": "2023-03-31T11:04:49.049Z"
   },
   {
    "duration": 55,
    "start_time": "2023-03-31T11:04:52.002Z"
   },
   {
    "duration": 24,
    "start_time": "2023-03-31T11:04:57.627Z"
   },
   {
    "duration": 70,
    "start_time": "2023-03-31T11:04:58.341Z"
   },
   {
    "duration": 155,
    "start_time": "2023-03-31T11:10:16.837Z"
   },
   {
    "duration": 9,
    "start_time": "2023-03-31T11:10:31.637Z"
   },
   {
    "duration": 63,
    "start_time": "2023-03-31T11:10:41.809Z"
   },
   {
    "duration": 60,
    "start_time": "2023-03-31T11:10:54.920Z"
   },
   {
    "duration": 64,
    "start_time": "2023-03-31T11:10:59.799Z"
   },
   {
    "duration": 97,
    "start_time": "2023-03-31T11:11:05.002Z"
   },
   {
    "duration": 69,
    "start_time": "2023-03-31T11:12:16.490Z"
   },
   {
    "duration": 62,
    "start_time": "2023-03-31T11:17:59.604Z"
   },
   {
    "duration": 75,
    "start_time": "2023-03-31T11:18:09.435Z"
   },
   {
    "duration": 81,
    "start_time": "2023-03-31T11:24:52.974Z"
   },
   {
    "duration": 4,
    "start_time": "2023-03-31T11:29:43.668Z"
   },
   {
    "duration": 4,
    "start_time": "2023-03-31T11:29:49.730Z"
   },
   {
    "duration": 11,
    "start_time": "2023-03-31T11:30:01.043Z"
   },
   {
    "duration": 13,
    "start_time": "2023-03-31T11:30:25.007Z"
   },
   {
    "duration": 33,
    "start_time": "2023-03-31T11:31:06.465Z"
   },
   {
    "duration": 13,
    "start_time": "2023-03-31T11:31:30.913Z"
   },
   {
    "duration": 14,
    "start_time": "2023-03-31T11:31:38.612Z"
   },
   {
    "duration": 19,
    "start_time": "2023-03-31T11:31:50.106Z"
   },
   {
    "duration": 46,
    "start_time": "2023-04-03T07:10:16.353Z"
   },
   {
    "duration": 796,
    "start_time": "2023-04-03T07:10:22.860Z"
   },
   {
    "duration": 716,
    "start_time": "2023-04-03T07:10:23.658Z"
   },
   {
    "duration": 3,
    "start_time": "2023-04-03T07:10:24.376Z"
   },
   {
    "duration": 97,
    "start_time": "2023-04-03T07:10:24.381Z"
   },
   {
    "duration": 29,
    "start_time": "2023-04-03T07:10:24.480Z"
   },
   {
    "duration": 92,
    "start_time": "2023-04-03T07:10:24.511Z"
   },
   {
    "duration": 98,
    "start_time": "2023-04-03T07:10:24.605Z"
   },
   {
    "duration": 82,
    "start_time": "2023-04-03T07:10:24.705Z"
   },
   {
    "duration": 9,
    "start_time": "2023-04-03T07:10:24.789Z"
   },
   {
    "duration": 29,
    "start_time": "2023-04-03T07:10:24.799Z"
   },
   {
    "duration": 17,
    "start_time": "2023-04-03T07:10:24.829Z"
   },
   {
    "duration": 52,
    "start_time": "2023-04-03T07:10:24.848Z"
   },
   {
    "duration": 8,
    "start_time": "2023-04-03T07:10:24.901Z"
   },
   {
    "duration": 16,
    "start_time": "2023-04-03T07:10:24.912Z"
   },
   {
    "duration": 14,
    "start_time": "2023-04-03T07:10:24.930Z"
   },
   {
    "duration": 39,
    "start_time": "2023-04-03T07:10:24.945Z"
   },
   {
    "duration": 375,
    "start_time": "2023-04-03T07:10:24.986Z"
   },
   {
    "duration": 18,
    "start_time": "2023-04-03T07:10:25.363Z"
   },
   {
    "duration": 9,
    "start_time": "2023-04-03T07:10:25.383Z"
   },
   {
    "duration": 5,
    "start_time": "2023-04-03T07:10:25.395Z"
   },
   {
    "duration": 13,
    "start_time": "2023-04-03T07:10:25.402Z"
   },
   {
    "duration": 12,
    "start_time": "2023-04-03T07:10:25.417Z"
   },
   {
    "duration": 51,
    "start_time": "2023-04-03T07:10:25.430Z"
   },
   {
    "duration": 23,
    "start_time": "2023-04-03T07:10:25.482Z"
   },
   {
    "duration": 26,
    "start_time": "2023-04-03T07:10:25.507Z"
   },
   {
    "duration": 130,
    "start_time": "2023-04-03T07:10:25.536Z"
   },
   {
    "duration": 13,
    "start_time": "2023-04-03T07:10:25.675Z"
   },
   {
    "duration": 7,
    "start_time": "2023-04-03T07:10:25.690Z"
   },
   {
    "duration": 6,
    "start_time": "2023-04-03T07:11:05.077Z"
   },
   {
    "duration": 7,
    "start_time": "2023-04-03T07:11:11.422Z"
   },
   {
    "duration": 10,
    "start_time": "2023-04-03T07:12:31.152Z"
   },
   {
    "duration": 7,
    "start_time": "2023-04-03T07:18:34.915Z"
   },
   {
    "duration": 90,
    "start_time": "2023-04-03T07:18:45.398Z"
   },
   {
    "duration": 7,
    "start_time": "2023-04-03T07:18:48.617Z"
   },
   {
    "duration": 72,
    "start_time": "2023-04-03T07:19:01.657Z"
   },
   {
    "duration": 8,
    "start_time": "2023-04-03T07:19:08.738Z"
   },
   {
    "duration": 5,
    "start_time": "2023-04-03T07:20:54.156Z"
   },
   {
    "duration": 5,
    "start_time": "2023-04-03T07:21:24.090Z"
   },
   {
    "duration": 90,
    "start_time": "2023-04-03T07:21:52.108Z"
   },
   {
    "duration": 84,
    "start_time": "2023-04-03T07:24:26.403Z"
   },
   {
    "duration": 9,
    "start_time": "2023-04-03T07:24:49.031Z"
   },
   {
    "duration": 5,
    "start_time": "2023-04-03T07:25:03.576Z"
   },
   {
    "duration": 6,
    "start_time": "2023-04-03T07:25:42.067Z"
   },
   {
    "duration": 6,
    "start_time": "2023-04-03T07:25:49.056Z"
   },
   {
    "duration": 105,
    "start_time": "2023-04-03T07:25:54.124Z"
   },
   {
    "duration": 6,
    "start_time": "2023-04-03T07:25:58.763Z"
   },
   {
    "duration": 90,
    "start_time": "2023-04-03T07:26:34.069Z"
   },
   {
    "duration": 8,
    "start_time": "2023-04-03T07:26:44.062Z"
   },
   {
    "duration": 429,
    "start_time": "2023-04-03T07:40:41.655Z"
   },
   {
    "duration": 14,
    "start_time": "2023-04-03T07:49:32.431Z"
   },
   {
    "duration": 72,
    "start_time": "2023-04-03T07:50:55.347Z"
   },
   {
    "duration": 24,
    "start_time": "2023-04-03T07:51:24.803Z"
   },
   {
    "duration": 32,
    "start_time": "2023-04-03T07:53:34.368Z"
   },
   {
    "duration": 33,
    "start_time": "2023-04-03T07:53:40.907Z"
   },
   {
    "duration": 27,
    "start_time": "2023-04-03T08:03:55.702Z"
   },
   {
    "duration": 20,
    "start_time": "2023-04-03T08:35:08.988Z"
   },
   {
    "duration": 38,
    "start_time": "2023-04-03T08:58:12.823Z"
   },
   {
    "duration": 23,
    "start_time": "2023-04-03T08:58:15.959Z"
   },
   {
    "duration": 21,
    "start_time": "2023-04-03T09:04:12.239Z"
   },
   {
    "duration": 31,
    "start_time": "2023-04-03T09:05:15.374Z"
   },
   {
    "duration": 21,
    "start_time": "2023-04-03T09:05:22.141Z"
   },
   {
    "duration": 24,
    "start_time": "2023-04-03T09:05:38.985Z"
   },
   {
    "duration": 21,
    "start_time": "2023-04-03T09:06:14.861Z"
   },
   {
    "duration": 24,
    "start_time": "2023-04-03T09:06:28.456Z"
   },
   {
    "duration": 23,
    "start_time": "2023-04-03T09:06:51.354Z"
   },
   {
    "duration": 20,
    "start_time": "2023-04-03T09:07:07.909Z"
   },
   {
    "duration": 6,
    "start_time": "2023-04-03T09:07:18.750Z"
   },
   {
    "duration": 23,
    "start_time": "2023-04-03T09:14:31.740Z"
   },
   {
    "duration": 44,
    "start_time": "2023-04-03T09:20:15.042Z"
   },
   {
    "duration": 22,
    "start_time": "2023-04-03T09:22:31.179Z"
   },
   {
    "duration": 21,
    "start_time": "2023-04-03T09:22:51.006Z"
   },
   {
    "duration": 23,
    "start_time": "2023-04-03T09:23:16.859Z"
   },
   {
    "duration": 20,
    "start_time": "2023-04-03T09:23:17.460Z"
   },
   {
    "duration": 21,
    "start_time": "2023-04-03T09:23:28.068Z"
   },
   {
    "duration": 21,
    "start_time": "2023-04-03T09:24:54.684Z"
   },
   {
    "duration": 19,
    "start_time": "2023-04-03T09:25:29.143Z"
   },
   {
    "duration": 22,
    "start_time": "2023-04-03T09:27:59.860Z"
   },
   {
    "duration": 17,
    "start_time": "2023-04-03T09:38:40.510Z"
   },
   {
    "duration": 10,
    "start_time": "2023-04-03T09:38:54.625Z"
   },
   {
    "duration": 10,
    "start_time": "2023-04-03T09:39:02.840Z"
   },
   {
    "duration": 10,
    "start_time": "2023-04-03T09:44:46.446Z"
   },
   {
    "duration": 11,
    "start_time": "2023-04-03T09:45:06.726Z"
   },
   {
    "duration": 12,
    "start_time": "2023-04-03T09:45:24.103Z"
   },
   {
    "duration": 18,
    "start_time": "2023-04-03T09:45:42.145Z"
   },
   {
    "duration": 24,
    "start_time": "2023-04-03T09:46:29.173Z"
   },
   {
    "duration": 25,
    "start_time": "2023-04-03T09:48:05.079Z"
   },
   {
    "duration": 108,
    "start_time": "2023-04-03T09:48:44.857Z"
   },
   {
    "duration": 28,
    "start_time": "2023-04-03T09:52:17.117Z"
   },
   {
    "duration": 79,
    "start_time": "2023-04-03T09:54:43.101Z"
   },
   {
    "duration": 24,
    "start_time": "2023-04-03T09:54:59.327Z"
   },
   {
    "duration": 25,
    "start_time": "2023-04-03T09:56:05.189Z"
   },
   {
    "duration": 12,
    "start_time": "2023-04-03T09:58:36.852Z"
   },
   {
    "duration": 11,
    "start_time": "2023-04-03T09:59:08.414Z"
   },
   {
    "duration": 1227,
    "start_time": "2023-04-03T10:04:34.075Z"
   },
   {
    "duration": 167,
    "start_time": "2023-04-03T10:04:35.304Z"
   },
   {
    "duration": 3,
    "start_time": "2023-04-03T10:04:35.475Z"
   },
   {
    "duration": 149,
    "start_time": "2023-04-03T10:04:35.480Z"
   },
   {
    "duration": 28,
    "start_time": "2023-04-03T10:04:35.630Z"
   },
   {
    "duration": 114,
    "start_time": "2023-04-03T10:04:35.660Z"
   },
   {
    "duration": 117,
    "start_time": "2023-04-03T10:04:35.776Z"
   },
   {
    "duration": 89,
    "start_time": "2023-04-03T10:04:35.895Z"
   },
   {
    "duration": 9,
    "start_time": "2023-04-03T10:04:35.986Z"
   },
   {
    "duration": 51,
    "start_time": "2023-04-03T10:04:35.997Z"
   },
   {
    "duration": 19,
    "start_time": "2023-04-03T10:04:36.050Z"
   },
   {
    "duration": 28,
    "start_time": "2023-04-03T10:04:36.076Z"
   },
   {
    "duration": 12,
    "start_time": "2023-04-03T10:04:36.105Z"
   },
   {
    "duration": 35,
    "start_time": "2023-04-03T10:04:36.119Z"
   },
   {
    "duration": 42,
    "start_time": "2023-04-03T10:04:36.157Z"
   },
   {
    "duration": 24,
    "start_time": "2023-04-03T10:04:36.202Z"
   },
   {
    "duration": 453,
    "start_time": "2023-04-03T10:04:36.228Z"
   },
   {
    "duration": 15,
    "start_time": "2023-04-03T10:04:36.683Z"
   },
   {
    "duration": 12,
    "start_time": "2023-04-03T10:04:36.700Z"
   },
   {
    "duration": 5,
    "start_time": "2023-04-03T10:04:36.714Z"
   },
   {
    "duration": 21,
    "start_time": "2023-04-03T10:04:36.721Z"
   },
   {
    "duration": 39,
    "start_time": "2023-04-03T10:04:36.744Z"
   },
   {
    "duration": 15,
    "start_time": "2023-04-03T10:04:36.785Z"
   },
   {
    "duration": 32,
    "start_time": "2023-04-03T10:04:36.802Z"
   },
   {
    "duration": 40,
    "start_time": "2023-04-03T10:04:36.836Z"
   },
   {
    "duration": 66,
    "start_time": "2023-04-03T10:04:36.878Z"
   },
   {
    "duration": 34,
    "start_time": "2023-04-03T10:04:36.946Z"
   },
   {
    "duration": 6,
    "start_time": "2023-04-03T10:04:36.985Z"
   },
   {
    "duration": 21,
    "start_time": "2023-04-03T10:04:36.993Z"
   },
   {
    "duration": 11,
    "start_time": "2023-04-03T10:04:37.016Z"
   },
   {
    "duration": 61,
    "start_time": "2023-04-03T10:04:37.029Z"
   },
   {
    "duration": 23,
    "start_time": "2023-04-03T10:04:37.092Z"
   },
   {
    "duration": 84,
    "start_time": "2023-04-03T10:04:53.859Z"
   },
   {
    "duration": 89,
    "start_time": "2023-04-03T10:07:20.193Z"
   },
   {
    "duration": 90,
    "start_time": "2023-04-03T10:07:28.213Z"
   },
   {
    "duration": 109,
    "start_time": "2023-04-03T10:07:33.893Z"
   },
   {
    "duration": 87,
    "start_time": "2023-04-03T10:30:23.061Z"
   },
   {
    "duration": 110,
    "start_time": "2023-04-03T10:30:38.209Z"
   },
   {
    "duration": 11,
    "start_time": "2023-04-03T10:30:48.212Z"
   },
   {
    "duration": 10,
    "start_time": "2023-04-03T11:09:41.132Z"
   },
   {
    "duration": 221,
    "start_time": "2023-04-03T11:09:48.110Z"
   },
   {
    "duration": 218,
    "start_time": "2023-04-03T11:09:56.039Z"
   },
   {
    "duration": 212,
    "start_time": "2023-04-03T11:10:28.941Z"
   },
   {
    "duration": 3384,
    "start_time": "2023-04-03T11:11:17.537Z"
   },
   {
    "duration": 216,
    "start_time": "2023-04-03T11:12:15.397Z"
   },
   {
    "duration": 214,
    "start_time": "2023-04-03T11:13:58.534Z"
   },
   {
    "duration": 241,
    "start_time": "2023-04-03T11:14:05.284Z"
   },
   {
    "duration": 213,
    "start_time": "2023-04-03T11:14:23.180Z"
   },
   {
    "duration": 1145,
    "start_time": "2023-04-03T11:15:47.419Z"
   },
   {
    "duration": 162,
    "start_time": "2023-04-03T11:15:48.566Z"
   },
   {
    "duration": 3,
    "start_time": "2023-04-03T11:15:48.730Z"
   },
   {
    "duration": 108,
    "start_time": "2023-04-03T11:15:48.736Z"
   },
   {
    "duration": 35,
    "start_time": "2023-04-03T11:15:48.846Z"
   },
   {
    "duration": 99,
    "start_time": "2023-04-03T11:15:48.882Z"
   },
   {
    "duration": 117,
    "start_time": "2023-04-03T11:15:48.983Z"
   },
   {
    "duration": 90,
    "start_time": "2023-04-03T11:15:49.102Z"
   },
   {
    "duration": 9,
    "start_time": "2023-04-03T11:15:49.193Z"
   },
   {
    "duration": 33,
    "start_time": "2023-04-03T11:15:49.205Z"
   },
   {
    "duration": 36,
    "start_time": "2023-04-03T11:15:49.240Z"
   },
   {
    "duration": 28,
    "start_time": "2023-04-03T11:15:49.278Z"
   },
   {
    "duration": 16,
    "start_time": "2023-04-03T11:15:49.308Z"
   },
   {
    "duration": 25,
    "start_time": "2023-04-03T11:15:49.326Z"
   },
   {
    "duration": 28,
    "start_time": "2023-04-03T11:15:49.352Z"
   },
   {
    "duration": 50,
    "start_time": "2023-04-03T11:15:49.382Z"
   },
   {
    "duration": 385,
    "start_time": "2023-04-03T11:15:49.434Z"
   },
   {
    "duration": 16,
    "start_time": "2023-04-03T11:15:49.820Z"
   },
   {
    "duration": 24,
    "start_time": "2023-04-03T11:15:49.838Z"
   },
   {
    "duration": 5,
    "start_time": "2023-04-03T11:15:49.864Z"
   },
   {
    "duration": 12,
    "start_time": "2023-04-03T11:15:49.875Z"
   },
   {
    "duration": 15,
    "start_time": "2023-04-03T11:15:49.889Z"
   },
   {
    "duration": 32,
    "start_time": "2023-04-03T11:15:49.906Z"
   },
   {
    "duration": 40,
    "start_time": "2023-04-03T11:15:49.940Z"
   },
   {
    "duration": 25,
    "start_time": "2023-04-03T11:15:49.982Z"
   },
   {
    "duration": 76,
    "start_time": "2023-04-03T11:15:50.009Z"
   },
   {
    "duration": 13,
    "start_time": "2023-04-03T11:15:50.087Z"
   },
   {
    "duration": 6,
    "start_time": "2023-04-03T11:15:50.103Z"
   },
   {
    "duration": 21,
    "start_time": "2023-04-03T11:15:50.110Z"
   },
   {
    "duration": 10,
    "start_time": "2023-04-03T11:15:50.132Z"
   },
   {
    "duration": 256,
    "start_time": "2023-04-03T11:15:50.144Z"
   },
   {
    "duration": 32,
    "start_time": "2023-04-03T11:15:50.402Z"
   },
   {
    "duration": 103,
    "start_time": "2023-04-03T11:15:50.436Z"
   },
   {
    "duration": 5,
    "start_time": "2023-04-03T11:21:45.045Z"
   },
   {
    "duration": 4,
    "start_time": "2023-04-03T11:22:04.700Z"
   },
   {
    "duration": 4,
    "start_time": "2023-04-03T11:22:21.151Z"
   },
   {
    "duration": 104,
    "start_time": "2023-04-03T11:22:24.833Z"
   },
   {
    "duration": 12,
    "start_time": "2023-04-03T11:22:58.667Z"
   },
   {
    "duration": 5,
    "start_time": "2023-04-03T11:23:10.058Z"
   },
   {
    "duration": 233,
    "start_time": "2023-04-03T11:23:25.216Z"
   },
   {
    "duration": 6,
    "start_time": "2023-04-03T11:23:32.549Z"
   },
   {
    "duration": 1645,
    "start_time": "2023-04-03T11:24:35.580Z"
   },
   {
    "duration": 22,
    "start_time": "2023-04-03T11:24:51.421Z"
   },
   {
    "duration": 90,
    "start_time": "2023-04-03T11:29:39.854Z"
   },
   {
    "duration": 32,
    "start_time": "2023-04-03T11:29:43.830Z"
   },
   {
    "duration": 30,
    "start_time": "2023-04-03T11:30:33.591Z"
   },
   {
    "duration": 97,
    "start_time": "2023-04-03T11:32:30.239Z"
   },
   {
    "duration": 385,
    "start_time": "2023-04-03T11:32:33.267Z"
   },
   {
    "duration": 100,
    "start_time": "2023-04-03T11:32:38.086Z"
   },
   {
    "duration": 74,
    "start_time": "2023-04-03T11:32:44.612Z"
   },
   {
    "duration": 110,
    "start_time": "2023-04-03T11:32:47.416Z"
   },
   {
    "duration": 29,
    "start_time": "2023-04-03T11:32:50.229Z"
   },
   {
    "duration": 10,
    "start_time": "2023-04-03T11:46:31.069Z"
   },
   {
    "duration": 10,
    "start_time": "2023-04-03T11:47:26.982Z"
   },
   {
    "duration": 12,
    "start_time": "2023-04-03T11:47:35.486Z"
   },
   {
    "duration": 1193,
    "start_time": "2023-04-03T11:58:11.957Z"
   },
   {
    "duration": 160,
    "start_time": "2023-04-03T11:58:13.152Z"
   },
   {
    "duration": 3,
    "start_time": "2023-04-03T11:58:13.314Z"
   },
   {
    "duration": 109,
    "start_time": "2023-04-03T11:58:13.319Z"
   },
   {
    "duration": 27,
    "start_time": "2023-04-03T11:58:13.430Z"
   },
   {
    "duration": 96,
    "start_time": "2023-04-03T11:58:13.459Z"
   },
   {
    "duration": 108,
    "start_time": "2023-04-03T11:58:13.556Z"
   },
   {
    "duration": 88,
    "start_time": "2023-04-03T11:58:13.665Z"
   },
   {
    "duration": 21,
    "start_time": "2023-04-03T11:58:13.755Z"
   },
   {
    "duration": 31,
    "start_time": "2023-04-03T11:58:13.779Z"
   },
   {
    "duration": 20,
    "start_time": "2023-04-03T11:58:13.812Z"
   },
   {
    "duration": 58,
    "start_time": "2023-04-03T11:58:13.834Z"
   },
   {
    "duration": 8,
    "start_time": "2023-04-03T11:58:13.894Z"
   },
   {
    "duration": 18,
    "start_time": "2023-04-03T11:58:13.903Z"
   },
   {
    "duration": 16,
    "start_time": "2023-04-03T11:58:13.923Z"
   },
   {
    "duration": 44,
    "start_time": "2023-04-03T11:58:13.941Z"
   },
   {
    "duration": 455,
    "start_time": "2023-04-03T11:58:13.987Z"
   },
   {
    "duration": 14,
    "start_time": "2023-04-03T11:58:14.444Z"
   },
   {
    "duration": 21,
    "start_time": "2023-04-03T11:58:14.459Z"
   },
   {
    "duration": 4,
    "start_time": "2023-04-03T11:58:14.482Z"
   },
   {
    "duration": 33,
    "start_time": "2023-04-03T11:58:14.488Z"
   },
   {
    "duration": 18,
    "start_time": "2023-04-03T11:58:14.523Z"
   },
   {
    "duration": 12,
    "start_time": "2023-04-03T11:58:14.543Z"
   },
   {
    "duration": 29,
    "start_time": "2023-04-03T11:58:14.557Z"
   },
   {
    "duration": 28,
    "start_time": "2023-04-03T11:58:14.587Z"
   },
   {
    "duration": 69,
    "start_time": "2023-04-03T11:58:14.617Z"
   },
   {
    "duration": 13,
    "start_time": "2023-04-03T11:58:14.687Z"
   },
   {
    "duration": 7,
    "start_time": "2023-04-03T11:58:14.703Z"
   },
   {
    "duration": 52,
    "start_time": "2023-04-03T11:58:14.711Z"
   },
   {
    "duration": 10,
    "start_time": "2023-04-03T11:58:14.765Z"
   },
   {
    "duration": 225,
    "start_time": "2023-04-03T11:58:14.777Z"
   },
   {
    "duration": 6,
    "start_time": "2023-04-03T11:58:15.003Z"
   },
   {
    "duration": 47,
    "start_time": "2023-04-03T11:58:15.011Z"
   },
   {
    "duration": 33,
    "start_time": "2023-04-03T11:58:15.060Z"
   },
   {
    "duration": 1260,
    "start_time": "2023-04-03T13:33:28.847Z"
   },
   {
    "duration": 718,
    "start_time": "2023-04-03T13:33:30.109Z"
   },
   {
    "duration": 3,
    "start_time": "2023-04-03T13:33:30.828Z"
   },
   {
    "duration": 122,
    "start_time": "2023-04-03T13:33:30.832Z"
   },
   {
    "duration": 24,
    "start_time": "2023-04-03T13:33:30.956Z"
   },
   {
    "duration": 106,
    "start_time": "2023-04-03T13:33:30.982Z"
   },
   {
    "duration": 87,
    "start_time": "2023-04-03T13:33:31.090Z"
   },
   {
    "duration": 66,
    "start_time": "2023-04-03T13:33:31.179Z"
   },
   {
    "duration": 8,
    "start_time": "2023-04-03T13:33:31.246Z"
   },
   {
    "duration": 35,
    "start_time": "2023-04-03T13:33:31.256Z"
   },
   {
    "duration": 21,
    "start_time": "2023-04-03T13:33:31.293Z"
   },
   {
    "duration": 49,
    "start_time": "2023-04-03T13:33:31.315Z"
   },
   {
    "duration": 25,
    "start_time": "2023-04-03T13:33:31.366Z"
   },
   {
    "duration": 35,
    "start_time": "2023-04-03T13:33:31.393Z"
   },
   {
    "duration": 23,
    "start_time": "2023-04-03T13:33:31.429Z"
   },
   {
    "duration": 25,
    "start_time": "2023-04-03T13:33:31.453Z"
   },
   {
    "duration": 370,
    "start_time": "2023-04-03T13:33:31.479Z"
   },
   {
    "duration": 20,
    "start_time": "2023-04-03T13:33:31.851Z"
   },
   {
    "duration": 38,
    "start_time": "2023-04-03T13:33:31.873Z"
   },
   {
    "duration": 18,
    "start_time": "2023-04-03T13:33:31.912Z"
   },
   {
    "duration": 31,
    "start_time": "2023-04-03T13:33:31.932Z"
   },
   {
    "duration": 31,
    "start_time": "2023-04-03T13:33:31.964Z"
   },
   {
    "duration": 10,
    "start_time": "2023-04-03T13:33:31.997Z"
   },
   {
    "duration": 26,
    "start_time": "2023-04-03T13:33:32.008Z"
   },
   {
    "duration": 21,
    "start_time": "2023-04-03T13:33:32.036Z"
   },
   {
    "duration": 59,
    "start_time": "2023-04-03T13:33:32.059Z"
   },
   {
    "duration": 11,
    "start_time": "2023-04-03T13:33:32.120Z"
   },
   {
    "duration": 6,
    "start_time": "2023-04-03T13:33:32.132Z"
   },
   {
    "duration": 29,
    "start_time": "2023-04-03T13:33:32.139Z"
   },
   {
    "duration": 10,
    "start_time": "2023-04-03T13:33:32.170Z"
   },
   {
    "duration": 215,
    "start_time": "2023-04-03T13:33:32.182Z"
   },
   {
    "duration": 5,
    "start_time": "2023-04-03T13:33:32.399Z"
   },
   {
    "duration": 21,
    "start_time": "2023-04-03T13:33:32.406Z"
   },
   {
    "duration": 44,
    "start_time": "2023-04-03T13:33:32.429Z"
   },
   {
    "duration": 11,
    "start_time": "2023-04-03T13:38:33.723Z"
   },
   {
    "duration": 10,
    "start_time": "2023-04-03T13:38:54.374Z"
   },
   {
    "duration": 82,
    "start_time": "2023-04-03T15:44:25.203Z"
   },
   {
    "duration": 192,
    "start_time": "2023-04-03T15:45:36.841Z"
   },
   {
    "duration": 973,
    "start_time": "2023-04-03T15:45:46.950Z"
   },
   {
    "duration": 1056,
    "start_time": "2023-04-03T15:46:09.289Z"
   },
   {
    "duration": 173,
    "start_time": "2023-04-03T15:46:10.348Z"
   },
   {
    "duration": 3,
    "start_time": "2023-04-03T15:46:10.524Z"
   },
   {
    "duration": 98,
    "start_time": "2023-04-03T15:46:10.529Z"
   },
   {
    "duration": 27,
    "start_time": "2023-04-03T15:46:10.629Z"
   },
   {
    "duration": 96,
    "start_time": "2023-04-03T15:46:10.657Z"
   },
   {
    "duration": 130,
    "start_time": "2023-04-03T15:46:10.755Z"
   },
   {
    "duration": 77,
    "start_time": "2023-04-03T15:46:10.886Z"
   },
   {
    "duration": 8,
    "start_time": "2023-04-03T15:46:10.974Z"
   },
   {
    "duration": 26,
    "start_time": "2023-04-03T15:46:10.984Z"
   },
   {
    "duration": 17,
    "start_time": "2023-04-03T15:46:11.012Z"
   },
   {
    "duration": 50,
    "start_time": "2023-04-03T15:46:11.031Z"
   },
   {
    "duration": 7,
    "start_time": "2023-04-03T15:46:11.083Z"
   },
   {
    "duration": 21,
    "start_time": "2023-04-03T15:46:11.092Z"
   },
   {
    "duration": 14,
    "start_time": "2023-04-03T15:46:11.115Z"
   },
   {
    "duration": 23,
    "start_time": "2023-04-03T15:46:11.131Z"
   },
   {
    "duration": 694,
    "start_time": "2023-04-03T15:46:11.155Z"
   },
   {
    "duration": 25,
    "start_time": "2023-04-03T15:46:11.850Z"
   },
   {
    "duration": 8,
    "start_time": "2023-04-03T15:46:11.876Z"
   },
   {
    "duration": 11,
    "start_time": "2023-04-03T15:46:11.885Z"
   },
   {
    "duration": 13,
    "start_time": "2023-04-03T15:46:11.898Z"
   },
   {
    "duration": 13,
    "start_time": "2023-04-03T15:46:11.912Z"
   },
   {
    "duration": 13,
    "start_time": "2023-04-03T15:46:11.927Z"
   },
   {
    "duration": 51,
    "start_time": "2023-04-03T15:46:11.941Z"
   },
   {
    "duration": 26,
    "start_time": "2023-04-03T15:46:11.993Z"
   },
   {
    "duration": 75,
    "start_time": "2023-04-03T15:46:12.021Z"
   },
   {
    "duration": 12,
    "start_time": "2023-04-03T15:46:12.100Z"
   },
   {
    "duration": 6,
    "start_time": "2023-04-03T15:46:12.114Z"
   },
   {
    "duration": 21,
    "start_time": "2023-04-03T15:46:12.121Z"
   },
   {
    "duration": 34,
    "start_time": "2023-04-03T15:46:12.144Z"
   },
   {
    "duration": 232,
    "start_time": "2023-04-03T15:46:12.180Z"
   },
   {
    "duration": 6,
    "start_time": "2023-04-03T15:46:12.414Z"
   },
   {
    "duration": 28,
    "start_time": "2023-04-03T15:46:12.421Z"
   },
   {
    "duration": 46,
    "start_time": "2023-04-03T15:46:12.451Z"
   },
   {
    "duration": 671,
    "start_time": "2023-04-03T15:49:39.477Z"
   },
   {
    "duration": 151,
    "start_time": "2023-04-03T15:49:49.134Z"
   },
   {
    "duration": 292,
    "start_time": "2023-04-03T15:49:57.017Z"
   },
   {
    "duration": 190,
    "start_time": "2023-04-03T15:50:03.489Z"
   },
   {
    "duration": 300,
    "start_time": "2023-04-03T15:50:37.972Z"
   },
   {
    "duration": 214,
    "start_time": "2023-04-03T15:51:05.717Z"
   },
   {
    "duration": 194,
    "start_time": "2023-04-03T15:51:19.488Z"
   },
   {
    "duration": 188,
    "start_time": "2023-04-03T15:52:18.941Z"
   },
   {
    "duration": 192,
    "start_time": "2023-04-03T15:52:28.267Z"
   },
   {
    "duration": 337,
    "start_time": "2023-04-03T15:52:38.153Z"
   },
   {
    "duration": 270,
    "start_time": "2023-04-03T15:53:17.198Z"
   },
   {
    "duration": 1464,
    "start_time": "2023-04-03T15:53:28.257Z"
   },
   {
    "duration": 1570,
    "start_time": "2023-04-03T15:53:40.816Z"
   },
   {
    "duration": 268,
    "start_time": "2023-04-03T15:53:46.470Z"
   },
   {
    "duration": 328,
    "start_time": "2023-04-03T15:53:56.019Z"
   },
   {
    "duration": 228,
    "start_time": "2023-04-03T15:54:00.140Z"
   },
   {
    "duration": 247,
    "start_time": "2023-04-03T15:54:09.052Z"
   },
   {
    "duration": 421,
    "start_time": "2023-04-03T15:54:12.737Z"
   },
   {
    "duration": 3,
    "start_time": "2023-04-03T15:54:17.856Z"
   },
   {
    "duration": 227,
    "start_time": "2023-04-03T15:54:22.760Z"
   },
   {
    "duration": 235,
    "start_time": "2023-04-03T15:54:33.588Z"
   },
   {
    "duration": 165,
    "start_time": "2023-04-03T15:57:05.188Z"
   },
   {
    "duration": 41,
    "start_time": "2023-04-03T15:57:14.211Z"
   },
   {
    "duration": 1123,
    "start_time": "2023-04-03T16:03:15.417Z"
   },
   {
    "duration": 163,
    "start_time": "2023-04-03T16:03:16.542Z"
   },
   {
    "duration": 3,
    "start_time": "2023-04-03T16:03:16.708Z"
   },
   {
    "duration": 101,
    "start_time": "2023-04-03T16:03:16.714Z"
   },
   {
    "duration": 28,
    "start_time": "2023-04-03T16:03:16.817Z"
   },
   {
    "duration": 102,
    "start_time": "2023-04-03T16:03:16.847Z"
   },
   {
    "duration": 135,
    "start_time": "2023-04-03T16:03:16.951Z"
   },
   {
    "duration": 92,
    "start_time": "2023-04-03T16:03:17.088Z"
   },
   {
    "duration": 10,
    "start_time": "2023-04-03T16:03:17.182Z"
   },
   {
    "duration": 34,
    "start_time": "2023-04-03T16:03:17.196Z"
   },
   {
    "duration": 20,
    "start_time": "2023-04-03T16:03:17.232Z"
   },
   {
    "duration": 49,
    "start_time": "2023-04-03T16:03:17.253Z"
   },
   {
    "duration": 8,
    "start_time": "2023-04-03T16:03:17.304Z"
   },
   {
    "duration": 26,
    "start_time": "2023-04-03T16:03:17.313Z"
   },
   {
    "duration": 273,
    "start_time": "2023-04-03T16:03:17.341Z"
   },
   {
    "duration": 18,
    "start_time": "2023-04-03T16:03:17.616Z"
   },
   {
    "duration": 22,
    "start_time": "2023-04-03T16:03:17.636Z"
   },
   {
    "duration": 716,
    "start_time": "2023-04-03T16:03:17.661Z"
   },
   {
    "duration": 16,
    "start_time": "2023-04-03T16:03:18.380Z"
   },
   {
    "duration": 10,
    "start_time": "2023-04-03T16:03:18.398Z"
   },
   {
    "duration": 5,
    "start_time": "2023-04-03T16:03:18.410Z"
   },
   {
    "duration": 70,
    "start_time": "2023-04-03T16:03:18.417Z"
   },
   {
    "duration": 23,
    "start_time": "2023-04-03T16:03:18.489Z"
   },
   {
    "duration": 26,
    "start_time": "2023-04-03T16:03:18.513Z"
   },
   {
    "duration": 89,
    "start_time": "2023-04-03T16:03:18.541Z"
   },
   {
    "duration": 14,
    "start_time": "2023-04-03T16:03:18.631Z"
   },
   {
    "duration": 6,
    "start_time": "2023-04-03T16:03:18.646Z"
   },
   {
    "duration": 21,
    "start_time": "2023-04-03T16:03:18.674Z"
   },
   {
    "duration": 15,
    "start_time": "2023-04-03T16:03:18.696Z"
   },
   {
    "duration": 324,
    "start_time": "2023-04-03T16:03:18.713Z"
   },
   {
    "duration": 0,
    "start_time": "2023-04-03T16:03:19.038Z"
   },
   {
    "duration": 0,
    "start_time": "2023-04-03T16:03:19.039Z"
   },
   {
    "duration": 0,
    "start_time": "2023-04-03T16:03:19.040Z"
   },
   {
    "duration": 7,
    "start_time": "2023-04-03T16:07:09.902Z"
   },
   {
    "duration": 15,
    "start_time": "2023-04-03T16:07:39.051Z"
   },
   {
    "duration": 11,
    "start_time": "2023-04-03T16:07:54.280Z"
   },
   {
    "duration": 11,
    "start_time": "2023-04-03T16:08:08.465Z"
   },
   {
    "duration": 11,
    "start_time": "2023-04-03T16:08:28.010Z"
   },
   {
    "duration": 11,
    "start_time": "2023-04-03T16:08:31.323Z"
   },
   {
    "duration": 11,
    "start_time": "2023-04-03T16:08:41.566Z"
   },
   {
    "duration": 12,
    "start_time": "2023-04-03T16:08:46.010Z"
   },
   {
    "duration": 12,
    "start_time": "2023-04-03T16:08:52.484Z"
   },
   {
    "duration": 11,
    "start_time": "2023-04-03T16:09:00.798Z"
   },
   {
    "duration": 12,
    "start_time": "2023-04-03T16:10:07.790Z"
   },
   {
    "duration": 11,
    "start_time": "2023-04-03T16:10:11.253Z"
   },
   {
    "duration": 5,
    "start_time": "2023-04-03T16:10:39.028Z"
   },
   {
    "duration": 5,
    "start_time": "2023-04-03T16:10:54.758Z"
   },
   {
    "duration": 5,
    "start_time": "2023-04-03T16:11:12.357Z"
   },
   {
    "duration": 81,
    "start_time": "2023-04-03T16:12:08.643Z"
   },
   {
    "duration": 6,
    "start_time": "2023-04-03T16:12:42.016Z"
   },
   {
    "duration": 6,
    "start_time": "2023-04-03T16:12:42.343Z"
   },
   {
    "duration": 83,
    "start_time": "2023-04-03T16:15:02.151Z"
   },
   {
    "duration": 98,
    "start_time": "2023-04-03T16:16:00.549Z"
   },
   {
    "duration": 400,
    "start_time": "2023-04-03T16:16:21.467Z"
   },
   {
    "duration": 66,
    "start_time": "2023-04-03T16:22:43.298Z"
   },
   {
    "duration": 94,
    "start_time": "2023-04-03T16:23:16.478Z"
   },
   {
    "duration": 21,
    "start_time": "2023-04-03T16:23:20.324Z"
   },
   {
    "duration": 17,
    "start_time": "2023-04-03T16:23:41.324Z"
   },
   {
    "duration": 50,
    "start_time": "2023-04-03T16:23:50.119Z"
   },
   {
    "duration": 4,
    "start_time": "2023-04-03T16:24:24.101Z"
   },
   {
    "duration": 100,
    "start_time": "2023-04-03T16:25:18.870Z"
   },
   {
    "duration": 13,
    "start_time": "2023-04-03T16:25:33.488Z"
   },
   {
    "duration": 10,
    "start_time": "2023-04-03T16:26:17.459Z"
   },
   {
    "duration": 9,
    "start_time": "2023-04-03T16:26:35.174Z"
   },
   {
    "duration": 222,
    "start_time": "2023-04-03T16:30:25.560Z"
   },
   {
    "duration": 1315,
    "start_time": "2023-04-04T13:14:53.350Z"
   },
   {
    "duration": 551,
    "start_time": "2023-04-04T13:14:54.667Z"
   },
   {
    "duration": 3,
    "start_time": "2023-04-04T13:14:55.220Z"
   },
   {
    "duration": 103,
    "start_time": "2023-04-04T13:14:55.224Z"
   },
   {
    "duration": 27,
    "start_time": "2023-04-04T13:14:55.330Z"
   },
   {
    "duration": 110,
    "start_time": "2023-04-04T13:14:55.359Z"
   },
   {
    "duration": 113,
    "start_time": "2023-04-04T13:14:55.471Z"
   },
   {
    "duration": 83,
    "start_time": "2023-04-04T13:14:55.586Z"
   },
   {
    "duration": 8,
    "start_time": "2023-04-04T13:14:55.671Z"
   },
   {
    "duration": 33,
    "start_time": "2023-04-04T13:14:55.680Z"
   },
   {
    "duration": 28,
    "start_time": "2023-04-04T13:14:55.715Z"
   },
   {
    "duration": 28,
    "start_time": "2023-04-04T13:14:55.744Z"
   },
   {
    "duration": 7,
    "start_time": "2023-04-04T13:14:55.773Z"
   },
   {
    "duration": 21,
    "start_time": "2023-04-04T13:14:55.782Z"
   },
   {
    "duration": 256,
    "start_time": "2023-04-04T13:14:55.804Z"
   },
   {
    "duration": 16,
    "start_time": "2023-04-04T13:14:56.061Z"
   },
   {
    "duration": 20,
    "start_time": "2023-04-04T13:14:56.078Z"
   },
   {
    "duration": 621,
    "start_time": "2023-04-04T13:14:56.099Z"
   },
   {
    "duration": 22,
    "start_time": "2023-04-04T13:14:56.721Z"
   },
   {
    "duration": 14,
    "start_time": "2023-04-04T13:14:56.745Z"
   },
   {
    "duration": 9,
    "start_time": "2023-04-04T13:14:56.761Z"
   },
   {
    "duration": 4,
    "start_time": "2023-04-04T13:14:56.771Z"
   },
   {
    "duration": 5,
    "start_time": "2023-04-04T13:14:56.777Z"
   },
   {
    "duration": 64,
    "start_time": "2023-04-04T13:14:56.783Z"
   },
   {
    "duration": 19,
    "start_time": "2023-04-04T13:14:56.849Z"
   },
   {
    "duration": 23,
    "start_time": "2023-04-04T13:14:56.869Z"
   },
   {
    "duration": 171,
    "start_time": "2023-04-04T13:14:56.894Z"
   },
   {
    "duration": 12,
    "start_time": "2023-04-04T13:14:57.066Z"
   },
   {
    "duration": 15,
    "start_time": "2023-04-04T13:14:57.079Z"
   },
   {
    "duration": 359,
    "start_time": "2023-04-04T13:14:57.096Z"
   },
   {
    "duration": 272,
    "start_time": "2023-04-04T13:14:57.456Z"
   },
   {
    "duration": 6,
    "start_time": "2023-04-04T13:14:57.730Z"
   },
   {
    "duration": 30,
    "start_time": "2023-04-04T13:14:57.737Z"
   },
   {
    "duration": 25,
    "start_time": "2023-04-04T13:14:57.769Z"
   },
   {
    "duration": 29,
    "start_time": "2023-04-04T13:14:57.796Z"
   }
  ],
  "kernelspec": {
   "display_name": "Python 3 (ipykernel)",
   "language": "python",
   "name": "python3"
  },
  "language_info": {
   "codemirror_mode": {
    "name": "ipython",
    "version": 3
   },
   "file_extension": ".py",
   "mimetype": "text/x-python",
   "name": "python",
   "nbconvert_exporter": "python",
   "pygments_lexer": "ipython3",
   "version": "3.9.12"
  },
  "toc": {
   "base_numbering": 1,
   "nav_menu": {},
   "number_sections": false,
   "sideBar": true,
   "skip_h1_title": false,
   "title_cell": "Table of Contents",
   "title_sidebar": "Contents",
   "toc_cell": false,
   "toc_position": {
    "height": "calc(100% - 180px)",
    "left": "10px",
    "top": "150px",
    "width": "165px"
   },
   "toc_section_display": true,
   "toc_window_display": true
  }
 },
 "nbformat": 4,
 "nbformat_minor": 2
}
